{
 "cells": [
  {
   "cell_type": "markdown",
   "metadata": {},
   "source": [
    "### Selenium vs. BeautifulSoup\n",
    "- 둘 다 웹 스크래핑을 위한 파이썬 라이브러리입니다. 그러나 이들은 목적과 사용 방법이 다릅니다.\n",
    "- BeautifulSoup: 웹 페이지의 HTML 코드를 파싱하고 분석하여 원하는 데이터를 추출하는 데 사용됩니다. HTML 코드를 처리하는데 최적화되어 있으며, 정적인 웹 페이지에서 사용됩니다.\n",
    "- Selenium: 웹 브라우저를 자동화하고 웹 페이지 상호작용을 자동화하는 데 사용됩니다. JavaScript와 같은 동적 웹 페이지에서 데이터를 추출하고 자동화된 테스트를 실행하는 데 적합합니다.\n",
    "-  웹 페이지가 정적이라면 BeautifulSoup을 사용하여 HTML 코드에서 데이터를 추출하는 것이 좋고, 웹 페이지가 동적이라면 Selenium을 사용하여 웹 페이지를 자동으로 제어하고 데이터를 추출하는 것이 좋습니다. \n",
    "- 또한 두 라이브러리는 서로 보완적으로 사용될 수 있습니다. 예를 들어 Selenium으로 웹 페이지를 열고, BeautifulSoup으로 데이터를 추출할 수 있습니다."
   ]
  },
  {
   "cell_type": "markdown",
   "metadata": {},
   "source": [
    "### Selenium\n",
    "Selenium의 다양한 함수와 기능을 이용하여 웹 브라우저를 자동화하고 웹 페이지 상호작용을 자동화할 수 있습니다. 예를 들어, webdriver 모듈로 웹 드라이버를 생성한 후, get() 메서드로 웹 페이지를 로드하고, find_element(By.*,\"\") 함수로 HTML 요소를 찾아 click() 메서드로 클릭 이벤트를 발생시키거나, send_keys() 메서드로 입력 이벤트를 발생시키는 등의 작업을 수행할 수 있습니다.\n",
    "\n",
    "selenium 모듈\n",
    "- 웹 어플리케이션 테스트를 위한 프레임워크 : 홈페이지 테스트용으로 사용\n",
    "- 사용자가 아닌 프로그램이 웹 브라우저를 제어할 수 있도록 지원\n",
    "- 웹 브라우저마다 클라이언트 프로그램(Web Driver)이 별도로 필요(웹 브라우저 <-> 프로그램간 통신 목적)\n",
    "- 크롤링 보다는 웹을 제어하는 목적이 더 큼\n",
    "- pip install selenium\n",
    "- web driver 설치(크롬 버전 확인) : https://chromedriver.chromium.org/downloads\n",
    "- 압축 해제한 후 chromedriver.exe를 적당한 경로로 이동\n",
    "- selenium 모듈 호출 후 설치한 web driver 경로를 지정\n",
    "\n",
    "이벤트로 제어하기 : 브라우저를 직접 제어하기 때문에 직접 컨트롤하여 마우스 클릭, 키보드 입력, 자바 스크립트 이벤트 처리 가능\n",
    "- 마우스 클릭 : click()\n",
    "- 키보드 입력 : send_keys()\n",
    "- 자바스크립트 코드 실행 : execute_script()\n",
    "- 다양한 창 및 프레임을 제어 : switch_to\n",
    "- 입력 양식 전송 : submit()\n",
    "- 스크린샷 : screenshot(파일이름)\n",
    "- 글자 지움 : clear()\n",
    "- 뒤로 가기 : back()\n",
    "- 앞으로 가기 : forward()"
   ]
  },
  {
   "cell_type": "markdown",
   "metadata": {},
   "source": [
    "셀레니움 함수\n",
    "\n",
    "\n",
    "- find_element_by_id: id 속성을 사용하여 접근\n",
    "- find_element(s)_by_class_name: 클래스를 사용하여 접근\n",
    "- find_element(s)_by_name: name 속성을 사용하여 접근\n",
    "- find_element(s)_by_xpath: xpath 속성을 사용하여 접근\n",
    "- find_element(s)_by_link_text: 앵커태그(a 태그)에 사용되는 텍스트로 접근 \n",
    "- find_element(s)_by_partial_link_text: 앵커태그(a 태그)에 사용되는 일부 텍스트로 접근\n",
    "- find_element(s)_by_tag_name: 태그를 사용하여 접근\n",
    "- find_element(s)_by_css_selector: CSS 선택자를 사용하여 접근<br><br>\n",
    "셀레니움 사용법 : https://greeksharifa.github.io/references/2020/10/30/python-selenium-usage/ "
   ]
  },
  {
   "cell_type": "markdown",
   "metadata": {},
   "source": [
    "#### 셀레니움 변경 - 버전4 메서드\n",
    "\n",
    "- https://goodthings4me.tistory.com/696\n",
    "\n",
    "- from selenium.webdriver.common.by import By : By 모듈은 요소를 찾을 때 사용되는 방법을 정의\n",
    "- driver.find_element(By.CLASS_NAME, \" \") : class 속성이 \" \"인 요소를 찾음\n",
    "- driver.find_element(By.ID, \" \")\n",
    "- driver.find_element(By.CSS_SELECTOR, \" \")\n",
    "- driver.find_element(By.LINK_TEXT, \" \")\n",
    "- driver.find_element(By.NAME, \" \")\n",
    "- driver.find_element(By.PARTIAL_LINK_TEXT, \" \")\n",
    "- driver.find_element(By.TAG_NAME, \" \")\n",
    "- driver.find_element(By.XPATH, \" \")\n",
    "- driver.find_elements(By.CLASS_NAME, \" \")\n",
    "- driver.find_elements(By.ID, \" \")\n",
    "- driver.find_elements(By.CSS_SELECTOR, \" \")\n",
    "- driver.find_elements(By.LINK_TEXT, \" \")\n",
    "- driver.find_elements(By.NAME, \" \")\n",
    "- driver.find_elements(By.PARTIAL_LINK_TEXT, \" \")\n",
    "- driver.find_elements(By.TAG_NAME, \" \")\n",
    "- driver.find_elements(By.XPATH, \" \")"
   ]
  },
  {
   "cell_type": "code",
   "execution_count": 6,
   "metadata": {},
   "outputs": [
    {
     "name": "stdout",
     "output_type": "stream",
     "text": [
      "Collecting selenium==4.3.0\n",
      "  Downloading selenium-4.3.0-py3-none-any.whl (981 kB)\n",
      "Requirement already satisfied: trio-websocket~=0.9 in c:\\users\\h\\anaconda3\\lib\\site-packages (from selenium==4.3.0) (0.10.2)\n",
      "Requirement already satisfied: urllib3[secure,socks]~=1.26 in c:\\users\\h\\anaconda3\\lib\\site-packages (from selenium==4.3.0) (1.26.15)\n",
      "Requirement already satisfied: trio~=0.17 in c:\\users\\h\\anaconda3\\lib\\site-packages (from selenium==4.3.0) (0.22.0)\n",
      "Requirement already satisfied: exceptiongroup in c:\\users\\h\\anaconda3\\lib\\site-packages (from trio-websocket~=0.9->selenium==4.3.0) (1.1.1)\n",
      "Requirement already satisfied: wsproto>=0.14 in c:\\users\\h\\anaconda3\\lib\\site-packages (from trio-websocket~=0.9->selenium==4.3.0) (1.2.0)\n",
      "Collecting urllib3-secure-extra; extra == \"secure\"\n",
      "  Downloading urllib3_secure_extra-0.1.0-py2.py3-none-any.whl (1.4 kB)\n",
      "Requirement already satisfied: pyOpenSSL>=0.14; extra == \"secure\" in c:\\users\\h\\anaconda3\\lib\\site-packages (from urllib3[secure,socks]~=1.26->selenium==4.3.0) (19.1.0)\n",
      "Requirement already satisfied: cryptography>=1.3.4; extra == \"secure\" in c:\\users\\h\\anaconda3\\lib\\site-packages (from urllib3[secure,socks]~=1.26->selenium==4.3.0) (2.9.2)\n",
      "Requirement already satisfied: idna>=2.0.0; extra == \"secure\" in c:\\users\\h\\anaconda3\\lib\\site-packages (from urllib3[secure,socks]~=1.26->selenium==4.3.0) (2.10)\n",
      "Requirement already satisfied: certifi; extra == \"secure\" in c:\\users\\h\\anaconda3\\lib\\site-packages (from urllib3[secure,socks]~=1.26->selenium==4.3.0) (2022.12.7)\n",
      "Requirement already satisfied: PySocks!=1.5.7,<2.0,>=1.5.6; extra == \"socks\" in c:\\users\\h\\anaconda3\\lib\\site-packages (from urllib3[secure,socks]~=1.26->selenium==4.3.0) (1.7.1)\n",
      "Requirement already satisfied: attrs>=19.2.0 in c:\\users\\h\\anaconda3\\lib\\site-packages (from trio~=0.17->selenium==4.3.0) (19.3.0)\n",
      "Requirement already satisfied: outcome in c:\\users\\h\\anaconda3\\lib\\site-packages (from trio~=0.17->selenium==4.3.0) (1.2.0)\n",
      "Requirement already satisfied: cffi>=1.14; os_name == \"nt\" and implementation_name != \"pypy\" in c:\\users\\h\\anaconda3\\lib\\site-packages (from trio~=0.17->selenium==4.3.0) (1.14.0)\n",
      "Requirement already satisfied: sniffio in c:\\users\\h\\anaconda3\\lib\\site-packages (from trio~=0.17->selenium==4.3.0) (1.3.0)\n",
      "Requirement already satisfied: sortedcontainers in c:\\users\\h\\anaconda3\\lib\\site-packages (from trio~=0.17->selenium==4.3.0) (2.2.2)\n",
      "Requirement already satisfied: async-generator>=1.9 in c:\\users\\h\\anaconda3\\lib\\site-packages (from trio~=0.17->selenium==4.3.0) (1.10)\n",
      "Requirement already satisfied: h11<1,>=0.9.0 in c:\\users\\h\\anaconda3\\lib\\site-packages (from wsproto>=0.14->trio-websocket~=0.9->selenium==4.3.0) (0.14.0)\n",
      "Requirement already satisfied: six>=1.5.2 in c:\\users\\h\\anaconda3\\lib\\site-packages (from pyOpenSSL>=0.14; extra == \"secure\"->urllib3[secure,socks]~=1.26->selenium==4.3.0) (1.15.0)\n",
      "Requirement already satisfied: pycparser in c:\\users\\h\\anaconda3\\lib\\site-packages (from cffi>=1.14; os_name == \"nt\" and implementation_name != \"pypy\"->trio~=0.17->selenium==4.3.0) (2.20)\n",
      "Installing collected packages: selenium, urllib3-secure-extra\n",
      "  Attempting uninstall: selenium\n",
      "    Found existing installation: selenium 4.9.0\n",
      "    Uninstalling selenium-4.9.0:\n",
      "      Successfully uninstalled selenium-4.9.0\n",
      "Successfully installed selenium-4.3.0 urllib3-secure-extra-0.1.0\n"
     ]
    }
   ],
   "source": [
    "!pip install selenium==4.3.0"
   ]
  },
  {
   "cell_type": "code",
   "execution_count": 7,
   "metadata": {},
   "outputs": [],
   "source": [
    "import selenium"
   ]
  },
  {
   "cell_type": "code",
   "execution_count": 12,
   "metadata": {},
   "outputs": [
    {
     "name": "stderr",
     "output_type": "stream",
     "text": [
      "<ipython-input-12-b9e2ff825fd0>:8: DeprecationWarning: executable_path has been deprecated, please pass in a Service object\n",
      "  driver = webdriver.Chrome(path)\n"
     ]
    }
   ],
   "source": [
    "# 네이버 사이트 불러오기\n",
    "import warnings\n",
    "warnings.filterwarnings('ignore')\n",
    "import selenium\n",
    "from selenium import webdriver\n",
    "from selenium.webdriver.common.keys import Keys\n",
    "from time import sleep\n",
    "url = 'https://naver.com'\n",
    "path = 'C:/tool/chromedriver.exe'\n",
    "driver = webdriver.Chrome(path)\n",
    "driver.get(url)\n",
    "sleep(3)\n",
    "driver.maximize_window()"
   ]
  },
  {
   "cell_type": "code",
   "execution_count": 13,
   "metadata": {},
   "outputs": [
    {
     "name": "stdout",
     "output_type": "stream",
     "text": [
      "https://www.naver.com/\n"
     ]
    }
   ],
   "source": [
    "print(driver.current_url)"
   ]
  },
  {
   "cell_type": "code",
   "execution_count": 14,
   "metadata": {},
   "outputs": [],
   "source": [
    "driver.close()"
   ]
  },
  {
   "cell_type": "code",
   "execution_count": 16,
   "metadata": {},
   "outputs": [
    {
     "name": "stdout",
     "output_type": "stream",
     "text": [
      "https://www.google.com/\n"
     ]
    }
   ],
   "source": [
    "import warnings\n",
    "warnings.filterwarnings('ignore')\n",
    "# 브라우저 창을 띄우지 않고 수행\n",
    "options = webdriver.ChromeOptions()\n",
    "# options.add_argument('start-maximized')\n",
    "options.add_argument('headless')\n",
    "driver = webdriver.Chrome('C:/tool/chromedriver.exe',options=options)\n",
    "driver.get('https://google.com')\n",
    "print(driver.current_url)\n",
    "driver.close()"
   ]
  },
  {
   "cell_type": "code",
   "execution_count": 17,
   "metadata": {},
   "outputs": [],
   "source": [
    "# 브라우저 최소화/최대화\n",
    "from selenium import webdriver\n",
    "\n",
    "driver = webdriver.Chrome('C:/tool/chromedriver.exe')\n",
    "driver.get('https://www.google.com')\n",
    "driver.minimize_window()\n",
    "driver.maximize_window()"
   ]
  },
  {
   "cell_type": "markdown",
   "metadata": {},
   "source": [
    "- driver.close() : 단일 창 또는 탭을 닫을 때 사용\n",
    "- driver.quit() : WebDriver 세션을 종료할 때 사용\n",
    "- 다른 세션을 시작하기 위해서는 quit을 호출해야 함"
   ]
  },
  {
   "cell_type": "code",
   "execution_count": 21,
   "metadata": {},
   "outputs": [],
   "source": [
    "# Implicit Waits(암묵적 대기) : 찾으려는 element가 로드될 때까지 지정한 시간만큼 대기할 수 있도록 설정\n",
    "from selenium.webdriver.common.by import By\n",
    "from selenium.webdriver.support.ui import WebDriverWait\n",
    "from selenium.webdriver.support import expected_conditions as EC\n",
    "\n",
    "driver = webdriver.Chrome('C:/tool/chromedriver.exe')\n",
    "driver.get(url='https://www.google.com/')\n",
    "try:\n",
    "    element = WebDriverWait(driver, 5).until(\n",
    "        EC.presence_of_element_located((By.CLASS_NAME , 'gLFyf'))\n",
    "    )\n",
    "finally:\n",
    "    driver.quit()"
   ]
  },
  {
   "cell_type": "code",
   "execution_count": 23,
   "metadata": {},
   "outputs": [],
   "source": [
    "from time import sleep\n",
    "import selenium\n",
    "from selenium import webdriver\n",
    "from selenium.webdriver.common.keys import Keys\n",
    "\n",
    "options = webdriver.ChromeOptions()\n",
    "options.add_argument('window_size=1920,1080')\n",
    "\n",
    "driver = webdriver.Chrome('C:/tool/chromedriver.exe',options=options)\n",
    "driver.maximize_window()\n",
    "driver.implicitly_wait(time_to_wait=5)\n",
    "\n",
    "driver.get(url='https://google.com/')\n",
    "driver.quit()"
   ]
  },
  {
   "cell_type": "markdown",
   "metadata": {},
   "source": [
    "파이썬으로 Selenium 웹 자동화 라이브러리를 이용하여 크롬 브라우저를 조작하고, 구글에서 \"빅데이터\"라는 검색어로 검색"
   ]
  },
  {
   "cell_type": "code",
   "execution_count": 27,
   "metadata": {},
   "outputs": [],
   "source": [
    "# By.NAME\n",
    "from selenium import webdriver\n",
    "from selenium.webdriver.common.keys import Keys\n",
    "from selenium.webdriver.common.by import By\n",
    "\n",
    "# 크롬 드라이버를 로드합니다.\n",
    "driver = webdriver.Chrome('C:/tool/chromedriver.exe')\n",
    "\n",
    "# 구글 검색창으로 이동합니다.\n",
    "driver.get('https://www.google.com/')\n",
    "\n",
    "# 검색어 입력 요소를 찾아서 검색어를 입력합니다.\n",
    "search_box = driver.find_element(By.NAME, 'q') \n",
    "\n",
    "# 검색창에 '빅데이터'라는 검색어를 입력\n",
    "search_box.send_keys('인공지능')\n",
    "\n",
    "# 검색어 입력 요소에서 Enter 키를 입력합니다.\n",
    "search_box.send_keys(Keys.ENTER)\n",
    "# # 브라우저 세션을 종료합니다.\n",
    "# driver.quit()\n"
   ]
  },
  {
   "cell_type": "code",
   "execution_count": 42,
   "metadata": {},
   "outputs": [],
   "source": [
    "# Q. 다음 사이트에서 인공지능을 검색하는 것을 셀레니움으로 수행하세요.\n",
    "driver = webdriver.Chrome('C:/tool/chromedriver.exe')\n",
    "\n",
    "# 구글 검색창으로 이동합니다.\n",
    "driver.get('https://www.daum.net')"
   ]
  },
  {
   "cell_type": "code",
   "execution_count": 39,
   "metadata": {},
   "outputs": [],
   "source": [
    "with open('test1.txt','w') as f:\n",
    "    f.write('test1')"
   ]
  },
  {
   "cell_type": "code",
   "execution_count": 43,
   "metadata": {},
   "outputs": [
    {
     "name": "stdout",
     "output_type": "stream",
     "text": [
      "빅데이터(big data)란 복잡하고 다양한 대규모 데이터세트 자체는 물론 이 데이터세트로부터 정보를 추출하고 결과를 분석하여 더 큰 가치를 창출하는 기술을 뜻한다. 수치 데이터 등 기존의 정형화된 정보뿐 아니라 텍스트 ・ 이미지 ・ 오디오 ・ 로그기...\n",
      "거기에 더해 단순한 문자 데이터에서 벗어나 녹음, 사진, 동영상 등 데이터의 종류가 다양해지고 데이터의 용량 자체도 큰 폭으로 늘어났다. 이런 빅 데이터는 기존의 기술이나 도구로는 원활한 수집과 처리가 불가능할 정도로 성질이 달라졌으므로 빅 데이터에서 유용한 정보를 추합하거나 가치를 뽑아내기 위해서 고안...\n"
     ]
    }
   ],
   "source": [
    "from time import sleep\n",
    "\n",
    "# 검색어 입력 요소를 찾아서 검색어를 입력합니다.\n",
    "search_box = driver.find_element(By.NAME, 'q') \n",
    "\n",
    "# 검색창에 '빅데이터'라는 검색어를 입력\n",
    "search_box.send_keys('빅데이터')\n",
    "\n",
    "# 검색어 입력 요소에서 Enter 키를 입력합니다.\n",
    "search_box.send_keys(Keys.ENTER)\n",
    "\n",
    "elements = driver.find_elements(By.XPATH, '//*[@id=\"twaColl\"]/div/c-container/c-card/div/c-doc-web/div/div/c-contents-desc/p/a')\n",
    "\n",
    "for element in elements:\n",
    "    print(element.text)\n",
    "    print(element.text, file=open('test1.txt', 'a', encoding='utf-8'))\n",
    "    \n",
    "sleep(3)\n",
    "driver.close()"
   ]
  },
  {
   "cell_type": "code",
   "execution_count": 28,
   "metadata": {},
   "outputs": [],
   "source": [
    "# By.ID\n",
    "from selenium import webdriver\n",
    "from selenium.webdriver.common.keys import Keys\n",
    "from selenium.webdriver.common.by import By\n",
    "from time import sleep\n",
    "\n",
    "# 크롬 드라이버를 로드합니다.\n",
    "driver = webdriver.Chrome('C:/tool/chromedriver.exe')\n",
    "\n",
    "# 네이버 검색 페이지로 이동합니다.\n",
    "driver.get('https://www.naver.com/')\n",
    "\n",
    "# 검색창을 찾아서 검색어를 입력합니다.\n",
    "search_box = driver.find_element(By.ID, 'query')\n",
    "search_box.send_keys('빅데이터')\n",
    "\n",
    "# 검색어를 입력하고 검색을 실행합니다.\n",
    "search_box.send_keys(Keys.RETURN)\n",
    "\n",
    "# 검색 결과 페이지가 로드될 때까지 3초간 대기합니다.\n",
    "driver.implicitly_wait(3)\n",
    "\n",
    "# 웹 드라이버를 종료합니다.\n",
    "# driver.quit()\n"
   ]
  },
  {
   "cell_type": "markdown",
   "metadata": {},
   "source": [
    "#### 과제2_0502.\n",
    "- 구글에서 \"빅데이터\"라는 검색어로 검색한 후 검색 결과를 가져와서 출력하고 파일로 저장\n",
    "- 네이버 홈페이지에서 원하는 내용을 조회해서 그 결과물을 출력하고 파일에 저장"
   ]
  },
  {
   "cell_type": "code",
   "execution_count": 57,
   "metadata": {},
   "outputs": [
    {
     "name": "stdout",
     "output_type": "stream",
     "text": [
      "빅 데이터란 무엇인가 - Oracle\n",
      "빅데이터(Big Data) – 빅데이터, 정의, 특징, 활용 사례\n",
      "빅데이터(Big Data)란? | 알테어\n",
      "빅데이터분석기사 - 데이터자격시험\n",
      "빅데이터(big data) 상세 정보: 정의, 분석, 기술, 특징, 사례 연구 ...\n"
     ]
    }
   ],
   "source": [
    "# 빅데이터 검색 및 저장 //*[@id=\"APjFqb\"]\n",
    "from time import sleep\n",
    "from selenium.webdriver.common.by import By  # Selenium 라이브러리에서 HTML element를 찾는 데 사용되는 모듈\n",
    "from selenium import webdriver\n",
    "from selenium.webdriver.common.keys import Keys # Selenium 라이브러리에서 키보드 입력을 조작하는 데 사용되는 모듈\n",
    "\n",
    "# 크롬 드라이버를 로드합니다.\n",
    "driver = webdriver.Chrome('C:/tool/chromedriver.exe')\n",
    "\n",
    "# 구글 검색창으로 이동합니다.\n",
    "driver.get('https://www.google.com/')\n",
    "\n",
    "# 검색어 입력 요소를 찾아서 검색어를 입력합니다.\n",
    "search_box = driver.find_element(By.NAME, 'q') \n",
    "\n",
    "# 검색창에 '빅데이터'라는 검색어를 입력\n",
    "search_box.send_keys('빅데이터')\n",
    "\n",
    "# 검색어 입력 요소에서 Enter 키를 입력합니다.\n",
    "search_box.send_keys(Keys.ENTER)\n",
    "\n",
    "# 검색 결과 페이지에서 검색 결과에 해당하는 elements를 찾습니다. \n",
    "elements = driver.find_elements(By.XPATH, '//*[@id=\"rso\"]/div/div/div/div/div/a/h3')\n",
    "\n",
    "for element in elements:\n",
    "    print(element.text)\n",
    "    print(element.text, file=open('dataset/test_sel.txt','a',encoding='utf-8')) # 검색 결과를 파일로 저장\n",
    "\n",
    "sleep(3)\n",
    "driver.close()"
   ]
  },
  {
   "cell_type": "code",
   "execution_count": 41,
   "metadata": {},
   "outputs": [],
   "source": [
    "# 네이버 사이트 불러오기\n",
    "from selenium import webdriver\n",
    "from selenium.webdriver.common.keys import Keys\n",
    "from selenium.webdriver.common.by import By\n",
    "from time import sleep\n",
    "\n",
    "url = 'https://naver.com'\n",
    "path = 'C:/tool/chromedriver.exe'\n",
    "driver = webdriver.Chrome(path)\n",
    "driver.get(url)\n",
    "driver.maximize_window()"
   ]
  },
  {
   "cell_type": "code",
   "execution_count": 43,
   "metadata": {},
   "outputs": [],
   "source": [
    "# 검색어 입력\n",
    "elem = driver.find_element(By.ID, \"query\")\n",
    "elem.send_keys('빅데이터')\n",
    "\n",
    "# 검색 실행\n",
    "elem.send_keys(Keys.ENTER)\n",
    "time.sleep(3)\n",
    "\n",
    "driver.quit()"
   ]
  },
  {
   "cell_type": "markdown",
   "metadata": {},
   "source": [
    "#### 도전과제1_0502.\n",
    "네이버 로그인 화면으로 이동해서 ID와 PW를 입력하고 로그인을 실행하세요."
   ]
  },
  {
   "cell_type": "code",
   "execution_count": 44,
   "metadata": {},
   "outputs": [],
   "source": [
    "# 크롬 드라이버를 로드합니다.\n",
    "driver = webdriver.Chrome('C:/tool/chromedriver.exe')\n",
    "\n",
    "# 네이버 로그인 페이지로 이동합니다.\n",
    "driver.get('http://naver.com')"
   ]
  },
  {
   "cell_type": "code",
   "execution_count": 51,
   "metadata": {},
   "outputs": [],
   "source": [
    "# 네이버 자동 로그인 이슈\n",
    "from selenium import webdriver\n",
    "\n",
    "# 크롬 드라이버를 로드합니다.\n",
    "driver = webdriver.Chrome('C:/tool/chromedriver.exe')\n",
    "\n",
    "# 네이버 로그인 페이지로 이동합니다.\n",
    "driver.get('http://naver.com')\n",
    "\n",
    "# 로그인 버튼 클릭\n",
    "elem = driver.find_element(By.CLASS_NAME,'link_login')\n",
    "elem.click()\n",
    "\n",
    "# 아이디와 비밀번호를 입력하고 로그인 버튼을 클릭합니다.\n",
    "id_box = driver.find_element(By.ID,'id')\n",
    "pw_box = driver.find_element(By.ID,'pw')\n",
    "id_box.send_keys('')  # 여기에 자신의 네이버 아이디를 입력하세요.\n",
    "pw_box.send_keys('')  # 여기에 자신의 네이버 비밀번호를 입력하세요.\n",
    "login_button = driver.find_element(By.CSS_SELECTOR, '#log\\.login')\n",
    "login_button.click()\n",
    "\n",
    "# 로그인이 완료될 때까지 대기합니다.\n",
    "driver.implicitly_wait(5)\n",
    "\n",
    "# 로그인 이후 동작을 수행합니다.\n",
    "# ...\n",
    "\n",
    "# 웹 드라이버를 종료합니다.\n",
    "# driver.quit()\n"
   ]
  },
  {
   "cell_type": "markdown",
   "metadata": {},
   "source": [
    "#### 과제3_0502.\n",
    "URL = 'https://news.naver.com/main/main.naver?mode=LSD&mid=shm&sid1=102' 사이트에 업로드되는 실시간 뉴스 제목을 가져와서 출력하세요. 단 사이트에 있는 뉴스와 일치해야 함."
   ]
  },
  {
   "cell_type": "markdown",
   "metadata": {},
   "source": [
    "#### 과제4_0502.\n",
    "'https://www.naver.com/'에서 뉴스 > 사회 카테고리 클릭하고 뉴스 제목을 출력하세요."
   ]
  },
  {
   "cell_type": "markdown",
   "metadata": {},
   "source": [
    "#### 과제5_0502.\n",
    "한빛출판네트워크 사이트에 로그인 해서 마일리지 점수를 가져와서 출력하세요."
   ]
  }
 ],
 "metadata": {
  "kernelspec": {
   "display_name": "Python 3",
   "language": "python",
   "name": "python3"
  },
  "language_info": {
   "codemirror_mode": {
    "name": "ipython",
    "version": 3
   },
   "file_extension": ".py",
   "mimetype": "text/x-python",
   "name": "python",
   "nbconvert_exporter": "python",
   "pygments_lexer": "ipython3",
   "version": "3.8.3"
  }
 },
 "nbformat": 4,
 "nbformat_minor": 5
}

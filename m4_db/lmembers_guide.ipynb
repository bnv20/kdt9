{
 "cells": [
  {
   "cell_type": "code",
   "execution_count": null,
   "metadata": {},
   "outputs": [],
   "source": [
    "!pip install cx_Oracle"
   ]
  },
  {
   "cell_type": "code",
   "execution_count": 3,
   "metadata": {},
   "outputs": [
    {
     "data": {
      "text/html": [
       "<div>\n",
       "<style scoped>\n",
       "    .dataframe tbody tr th:only-of-type {\n",
       "        vertical-align: middle;\n",
       "    }\n",
       "\n",
       "    .dataframe tbody tr th {\n",
       "        vertical-align: top;\n",
       "    }\n",
       "\n",
       "    .dataframe thead th {\n",
       "        text-align: right;\n",
       "    }\n",
       "</style>\n",
       "<table border=\"1\" class=\"dataframe\">\n",
       "  <thead>\n",
       "    <tr style=\"text-align: right;\">\n",
       "      <th></th>\n",
       "      <th>고객번호</th>\n",
       "      <th>성별</th>\n",
       "      <th>연령대</th>\n",
       "      <th>거주지역</th>\n",
       "    </tr>\n",
       "  </thead>\n",
       "  <tbody>\n",
       "    <tr>\n",
       "      <th>0</th>\n",
       "      <td>00751</td>\n",
       "      <td>M</td>\n",
       "      <td>60세이상</td>\n",
       "      <td>100</td>\n",
       "    </tr>\n",
       "    <tr>\n",
       "      <th>1</th>\n",
       "      <td>00752</td>\n",
       "      <td>M</td>\n",
       "      <td>60세이상</td>\n",
       "      <td>440</td>\n",
       "    </tr>\n",
       "    <tr>\n",
       "      <th>2</th>\n",
       "      <td>00753</td>\n",
       "      <td>F</td>\n",
       "      <td>60세이상</td>\n",
       "      <td>060</td>\n",
       "    </tr>\n",
       "    <tr>\n",
       "      <th>3</th>\n",
       "      <td>00754</td>\n",
       "      <td>F</td>\n",
       "      <td>60세이상</td>\n",
       "      <td>055</td>\n",
       "    </tr>\n",
       "    <tr>\n",
       "      <th>4</th>\n",
       "      <td>00755</td>\n",
       "      <td>F</td>\n",
       "      <td>60세이상</td>\n",
       "      <td>100</td>\n",
       "    </tr>\n",
       "  </tbody>\n",
       "</table>\n",
       "</div>"
      ],
      "text/plain": [
       "    고객번호 성별    연령대 거주지역\n",
       "0  00751  M  60세이상  100\n",
       "1  00752  M  60세이상  440\n",
       "2  00753  F  60세이상  060\n",
       "3  00754  F  60세이상  055\n",
       "4  00755  F  60세이상  100"
      ]
     },
     "execution_count": 3,
     "metadata": {},
     "output_type": "execute_result"
    }
   ],
   "source": [
    "import cx_Oracle\n",
    "import pandas as pd\n",
    "\n",
    "db = cx_Oracle.connect(\"c##lm\", \"lm\", 'localhost:1521/xe')\n",
    "cursor =db.cursor()\n",
    "cursor.execute(\"select * from DEMO\")\n",
    "x = cursor.fetchall()\n",
    "df = pd.DataFrame(x)\n",
    "cursor.execute(\"select column_name from user_tab_columns where table_name='DEMO'\")\n",
    "col = cursor.fetchall()\n",
    "list1 = []\n",
    "for i in col:\n",
    "    for j in i:\n",
    "        list1.append(j)\n",
    "df.columns = list1\n",
    "df.head()"
   ]
  },
  {
   "cell_type": "code",
   "execution_count": 5,
   "metadata": {},
   "outputs": [
    {
     "data": {
      "text/plain": [
       "[('고객번호',), ('성별',), ('연령대',), ('거주지역',)]"
      ]
     },
     "execution_count": 5,
     "metadata": {},
     "output_type": "execute_result"
    }
   ],
   "source": [
    "col"
   ]
  },
  {
   "cell_type": "markdown",
   "metadata": {},
   "source": [
    "과제2_0512. 과제1에서 작성한 테이블을 주피터로 불러오세요."
   ]
  },
  {
   "cell_type": "code",
   "execution_count": 7,
   "metadata": {},
   "outputs": [
    {
     "data": {
      "text/html": [
       "<div>\n",
       "<style scoped>\n",
       "    .dataframe tbody tr th:only-of-type {\n",
       "        vertical-align: middle;\n",
       "    }\n",
       "\n",
       "    .dataframe tbody tr th {\n",
       "        vertical-align: top;\n",
       "    }\n",
       "\n",
       "    .dataframe thead th {\n",
       "        text-align: right;\n",
       "    }\n",
       "</style>\n",
       "<table border=\"1\" class=\"dataframe\">\n",
       "  <thead>\n",
       "    <tr style=\"text-align: right;\">\n",
       "      <th></th>\n",
       "      <th>고객번호</th>\n",
       "      <th>H1</th>\n",
       "      <th>H2</th>\n",
       "      <th>H3</th>\n",
       "      <th>H4</th>\n",
       "      <th>성별</th>\n",
       "      <th>연령대</th>\n",
       "      <th>거주지역</th>\n",
       "    </tr>\n",
       "  </thead>\n",
       "  <tbody>\n",
       "    <tr>\n",
       "      <th>0</th>\n",
       "      <td>1</td>\n",
       "      <td>19925355</td>\n",
       "      <td>34116312</td>\n",
       "      <td>17898365</td>\n",
       "      <td>13102518</td>\n",
       "      <td>M</td>\n",
       "      <td>60세이상</td>\n",
       "      <td>60.0</td>\n",
       "    </tr>\n",
       "    <tr>\n",
       "      <th>1</th>\n",
       "      <td>2</td>\n",
       "      <td>24323230</td>\n",
       "      <td>21922100</td>\n",
       "      <td>27791610</td>\n",
       "      <td>25843820</td>\n",
       "      <td>M</td>\n",
       "      <td>60세이상</td>\n",
       "      <td>100.0</td>\n",
       "    </tr>\n",
       "    <tr>\n",
       "      <th>2</th>\n",
       "      <td>3</td>\n",
       "      <td>851215</td>\n",
       "      <td>1042554</td>\n",
       "      <td>592280</td>\n",
       "      <td>679118</td>\n",
       "      <td>M</td>\n",
       "      <td>60세이상</td>\n",
       "      <td>33.0</td>\n",
       "    </tr>\n",
       "    <tr>\n",
       "      <th>3</th>\n",
       "      <td>4</td>\n",
       "      <td>5042106</td>\n",
       "      <td>4257510</td>\n",
       "      <td>3656937</td>\n",
       "      <td>3737257</td>\n",
       "      <td>F</td>\n",
       "      <td>60세이상</td>\n",
       "      <td>16.0</td>\n",
       "    </tr>\n",
       "    <tr>\n",
       "      <th>4</th>\n",
       "      <td>5</td>\n",
       "      <td>5460150</td>\n",
       "      <td>2225730</td>\n",
       "      <td>2934930</td>\n",
       "      <td>2616260</td>\n",
       "      <td>M</td>\n",
       "      <td>60세이상</td>\n",
       "      <td>100.0</td>\n",
       "    </tr>\n",
       "  </tbody>\n",
       "</table>\n",
       "</div>"
      ],
      "text/plain": [
       "   고객번호        H1        H2        H3        H4 성별    연령대   거주지역\n",
       "0     1  19925355  34116312  17898365  13102518  M  60세이상   60.0\n",
       "1     2  24323230  21922100  27791610  25843820  M  60세이상  100.0\n",
       "2     3    851215   1042554    592280    679118  M  60세이상   33.0\n",
       "3     4   5042106   4257510   3656937   3737257  F  60세이상   16.0\n",
       "4     5   5460150   2225730   2934930   2616260  M  60세이상  100.0"
      ]
     },
     "execution_count": 7,
     "metadata": {},
     "output_type": "execute_result"
    }
   ],
   "source": [
    "df_lm = pd.read_csv('df_lm.csv',index_col=0)\n",
    "df_lm.head()"
   ]
  },
  {
   "cell_type": "code",
   "execution_count": 8,
   "metadata": {},
   "outputs": [
    {
     "data": {
      "text/plain": [
       "0.4273332301501316"
      ]
     },
     "execution_count": 8,
     "metadata": {},
     "output_type": "execute_result"
    }
   ],
   "source": [
    "# Q H1 대비 H4간의 구매감소 고객의 비중을 구하세요.\n",
    "len(df_lm[df_lm.H4 < df_lm.H1])/len(df_lm)"
   ]
  },
  {
   "cell_type": "code",
   "execution_count": 9,
   "metadata": {},
   "outputs": [
    {
     "data": {
      "text/html": [
       "<div>\n",
       "<style scoped>\n",
       "    .dataframe tbody tr th:only-of-type {\n",
       "        vertical-align: middle;\n",
       "    }\n",
       "\n",
       "    .dataframe tbody tr th {\n",
       "        vertical-align: top;\n",
       "    }\n",
       "\n",
       "    .dataframe thead th {\n",
       "        text-align: right;\n",
       "    }\n",
       "</style>\n",
       "<table border=\"1\" class=\"dataframe\">\n",
       "  <thead>\n",
       "    <tr style=\"text-align: right;\">\n",
       "      <th></th>\n",
       "      <th>고객번호</th>\n",
       "      <th>H1</th>\n",
       "      <th>H2</th>\n",
       "      <th>H3</th>\n",
       "      <th>H4</th>\n",
       "      <th>성별</th>\n",
       "      <th>연령대</th>\n",
       "      <th>거주지역</th>\n",
       "      <th>성장률</th>\n",
       "    </tr>\n",
       "  </thead>\n",
       "  <tbody>\n",
       "    <tr>\n",
       "      <th>0</th>\n",
       "      <td>1</td>\n",
       "      <td>19925355</td>\n",
       "      <td>34116312</td>\n",
       "      <td>17898365</td>\n",
       "      <td>13102518</td>\n",
       "      <td>M</td>\n",
       "      <td>60세이상</td>\n",
       "      <td>60.0</td>\n",
       "      <td>-0.342420</td>\n",
       "    </tr>\n",
       "    <tr>\n",
       "      <th>1</th>\n",
       "      <td>2</td>\n",
       "      <td>24323230</td>\n",
       "      <td>21922100</td>\n",
       "      <td>27791610</td>\n",
       "      <td>25843820</td>\n",
       "      <td>M</td>\n",
       "      <td>60세이상</td>\n",
       "      <td>100.0</td>\n",
       "      <td>0.062516</td>\n",
       "    </tr>\n",
       "    <tr>\n",
       "      <th>2</th>\n",
       "      <td>3</td>\n",
       "      <td>851215</td>\n",
       "      <td>1042554</td>\n",
       "      <td>592280</td>\n",
       "      <td>679118</td>\n",
       "      <td>M</td>\n",
       "      <td>60세이상</td>\n",
       "      <td>33.0</td>\n",
       "      <td>-0.202178</td>\n",
       "    </tr>\n",
       "    <tr>\n",
       "      <th>3</th>\n",
       "      <td>4</td>\n",
       "      <td>5042106</td>\n",
       "      <td>4257510</td>\n",
       "      <td>3656937</td>\n",
       "      <td>3737257</td>\n",
       "      <td>F</td>\n",
       "      <td>60세이상</td>\n",
       "      <td>16.0</td>\n",
       "      <td>-0.258790</td>\n",
       "    </tr>\n",
       "    <tr>\n",
       "      <th>4</th>\n",
       "      <td>5</td>\n",
       "      <td>5460150</td>\n",
       "      <td>2225730</td>\n",
       "      <td>2934930</td>\n",
       "      <td>2616260</td>\n",
       "      <td>M</td>\n",
       "      <td>60세이상</td>\n",
       "      <td>100.0</td>\n",
       "      <td>-0.520845</td>\n",
       "    </tr>\n",
       "  </tbody>\n",
       "</table>\n",
       "</div>"
      ],
      "text/plain": [
       "   고객번호        H1        H2        H3        H4 성별    연령대   거주지역       성장률\n",
       "0     1  19925355  34116312  17898365  13102518  M  60세이상   60.0 -0.342420\n",
       "1     2  24323230  21922100  27791610  25843820  M  60세이상  100.0  0.062516\n",
       "2     3    851215   1042554    592280    679118  M  60세이상   33.0 -0.202178\n",
       "3     4   5042106   4257510   3656937   3737257  F  60세이상   16.0 -0.258790\n",
       "4     5   5460150   2225730   2934930   2616260  M  60세이상  100.0 -0.520845"
      ]
     },
     "execution_count": 9,
     "metadata": {},
     "output_type": "execute_result"
    }
   ],
   "source": [
    "# H1 대비 H4간 고객별 성장율 컬럼을 추가하세요.\n",
    "df_lm['성장률']=(df_lm.H4-df_lm.H1)/df_lm.H1\n",
    "df_lm.head()"
   ]
  },
  {
   "cell_type": "markdown",
   "metadata": {},
   "source": [
    "CAGR(Compound Annual Growth Rate)\n",
    "- 연복리 성장률을 나타내는 지표\n",
    "- 주어진 기간 동안의 성장률을 하나의 수치로 요약하여 비교 및 분석에 용이\n",
    "- 장점은 단순 평균 수익률보다 정확한 성장률을 제공하고, 시간에 따른 변동성을 고려하여 성장률을 측정\n",
    "- 한계는 특정기간 동안의 평균 성장률을 알려주지만, 성장률의 변동성이나 시계열 데이터의 패턴은 미 반영\n",
    "- 변동성이나 패턴을 반영하는 지표는 표준편차, 변동계수, 이동평균, 지수 이동평균, 상대강도지수 등이 있음\n",
    "- CAGR = (최종 가치 / 초기 가치) ^ (1 / 기간) - 1"
   ]
  },
  {
   "cell_type": "code",
   "execution_count": 10,
   "metadata": {},
   "outputs": [
    {
     "data": {
      "text/html": [
       "<div>\n",
       "<style scoped>\n",
       "    .dataframe tbody tr th:only-of-type {\n",
       "        vertical-align: middle;\n",
       "    }\n",
       "\n",
       "    .dataframe tbody tr th {\n",
       "        vertical-align: top;\n",
       "    }\n",
       "\n",
       "    .dataframe thead th {\n",
       "        text-align: right;\n",
       "    }\n",
       "</style>\n",
       "<table border=\"1\" class=\"dataframe\">\n",
       "  <thead>\n",
       "    <tr style=\"text-align: right;\">\n",
       "      <th></th>\n",
       "      <th>고객번호</th>\n",
       "      <th>H1</th>\n",
       "      <th>H2</th>\n",
       "      <th>H3</th>\n",
       "      <th>H4</th>\n",
       "      <th>성별</th>\n",
       "      <th>연령대</th>\n",
       "      <th>거주지역</th>\n",
       "      <th>성장률</th>\n",
       "      <th>cagr</th>\n",
       "    </tr>\n",
       "  </thead>\n",
       "  <tbody>\n",
       "    <tr>\n",
       "      <th>0</th>\n",
       "      <td>1</td>\n",
       "      <td>19925355</td>\n",
       "      <td>34116312</td>\n",
       "      <td>17898365</td>\n",
       "      <td>13102518</td>\n",
       "      <td>M</td>\n",
       "      <td>60세이상</td>\n",
       "      <td>60.0</td>\n",
       "      <td>-0.342420</td>\n",
       "      <td>-0.099493</td>\n",
       "    </tr>\n",
       "    <tr>\n",
       "      <th>1</th>\n",
       "      <td>2</td>\n",
       "      <td>24323230</td>\n",
       "      <td>21922100</td>\n",
       "      <td>27791610</td>\n",
       "      <td>25843820</td>\n",
       "      <td>M</td>\n",
       "      <td>60세이상</td>\n",
       "      <td>100.0</td>\n",
       "      <td>0.062516</td>\n",
       "      <td>0.015275</td>\n",
       "    </tr>\n",
       "    <tr>\n",
       "      <th>2</th>\n",
       "      <td>3</td>\n",
       "      <td>851215</td>\n",
       "      <td>1042554</td>\n",
       "      <td>592280</td>\n",
       "      <td>679118</td>\n",
       "      <td>M</td>\n",
       "      <td>60세이상</td>\n",
       "      <td>33.0</td>\n",
       "      <td>-0.202178</td>\n",
       "      <td>-0.054903</td>\n",
       "    </tr>\n",
       "    <tr>\n",
       "      <th>3</th>\n",
       "      <td>4</td>\n",
       "      <td>5042106</td>\n",
       "      <td>4257510</td>\n",
       "      <td>3656937</td>\n",
       "      <td>3737257</td>\n",
       "      <td>F</td>\n",
       "      <td>60세이상</td>\n",
       "      <td>16.0</td>\n",
       "      <td>-0.258790</td>\n",
       "      <td>-0.072134</td>\n",
       "    </tr>\n",
       "    <tr>\n",
       "      <th>4</th>\n",
       "      <td>5</td>\n",
       "      <td>5460150</td>\n",
       "      <td>2225730</td>\n",
       "      <td>2934930</td>\n",
       "      <td>2616260</td>\n",
       "      <td>M</td>\n",
       "      <td>60세이상</td>\n",
       "      <td>100.0</td>\n",
       "      <td>-0.520845</td>\n",
       "      <td>-0.168008</td>\n",
       "    </tr>\n",
       "  </tbody>\n",
       "</table>\n",
       "</div>"
      ],
      "text/plain": [
       "   고객번호        H1        H2        H3        H4 성별    연령대   거주지역       성장률  \\\n",
       "0     1  19925355  34116312  17898365  13102518  M  60세이상   60.0 -0.342420   \n",
       "1     2  24323230  21922100  27791610  25843820  M  60세이상  100.0  0.062516   \n",
       "2     3    851215   1042554    592280    679118  M  60세이상   33.0 -0.202178   \n",
       "3     4   5042106   4257510   3656937   3737257  F  60세이상   16.0 -0.258790   \n",
       "4     5   5460150   2225730   2934930   2616260  M  60세이상  100.0 -0.520845   \n",
       "\n",
       "       cagr  \n",
       "0 -0.099493  \n",
       "1  0.015275  \n",
       "2 -0.054903  \n",
       "3 -0.072134  \n",
       "4 -0.168008  "
      ]
     },
     "execution_count": 10,
     "metadata": {},
     "output_type": "execute_result"
    }
   ],
   "source": [
    "# cagr 칼럼을 추가하세요.\n",
    "df_lm['cagr'] = (df_lm.H4/ df_lm.H1)**(1/4)-1\n",
    "df_lm.head()"
   ]
  },
  {
   "cell_type": "code",
   "execution_count": 12,
   "metadata": {},
   "outputs": [
    {
     "data": {
      "text/plain": [
       "0.4273332301501316"
      ]
     },
     "execution_count": 12,
     "metadata": {},
     "output_type": "execute_result"
    }
   ],
   "source": [
    "# Q H1 대비 H4간의 cagr 기준으로 구매감소 고객의 비중을 구하세요.\n",
    "len(df_lm[df_lm.cagr<0])/len(df_lm)"
   ]
  },
  {
   "cell_type": "code",
   "execution_count": 14,
   "metadata": {},
   "outputs": [
    {
     "data": {
      "text/plain": [
       "count    1.938300e+04\n",
       "mean     1.026025e+06\n",
       "std      2.116641e+07\n",
       "min     -1.387164e+09\n",
       "25%     -9.668465e+05\n",
       "50%      2.954460e+05\n",
       "75%      1.875210e+06\n",
       "max      1.007656e+09\n",
       "Name: 증감, dtype: float64"
      ]
     },
     "execution_count": 14,
     "metadata": {},
     "output_type": "execute_result"
    }
   ],
   "source": [
    "df_lm['증감'] = df_lm.H4 - df_lm.H1\n",
    "df_lm.증감.describe()"
   ]
  },
  {
   "cell_type": "code",
   "execution_count": 15,
   "metadata": {},
   "outputs": [
    {
     "data": {
      "text/html": [
       "<div>\n",
       "<style scoped>\n",
       "    .dataframe tbody tr th:only-of-type {\n",
       "        vertical-align: middle;\n",
       "    }\n",
       "\n",
       "    .dataframe tbody tr th {\n",
       "        vertical-align: top;\n",
       "    }\n",
       "\n",
       "    .dataframe thead th {\n",
       "        text-align: right;\n",
       "    }\n",
       "</style>\n",
       "<table border=\"1\" class=\"dataframe\">\n",
       "  <thead>\n",
       "    <tr style=\"text-align: right;\">\n",
       "      <th></th>\n",
       "      <th>고객번호</th>\n",
       "      <th>H1</th>\n",
       "      <th>H2</th>\n",
       "      <th>H3</th>\n",
       "      <th>H4</th>\n",
       "      <th>성별</th>\n",
       "      <th>연령대</th>\n",
       "      <th>거주지역</th>\n",
       "      <th>성장률</th>\n",
       "      <th>cagr</th>\n",
       "      <th>증감</th>\n",
       "    </tr>\n",
       "  </thead>\n",
       "  <tbody>\n",
       "    <tr>\n",
       "      <th>0</th>\n",
       "      <td>1</td>\n",
       "      <td>19925355</td>\n",
       "      <td>34116312</td>\n",
       "      <td>17898365</td>\n",
       "      <td>13102518</td>\n",
       "      <td>M</td>\n",
       "      <td>60세이상</td>\n",
       "      <td>60.0</td>\n",
       "      <td>-0.342420</td>\n",
       "      <td>-0.099493</td>\n",
       "      <td>-6822837</td>\n",
       "    </tr>\n",
       "    <tr>\n",
       "      <th>1</th>\n",
       "      <td>2</td>\n",
       "      <td>24323230</td>\n",
       "      <td>21922100</td>\n",
       "      <td>27791610</td>\n",
       "      <td>25843820</td>\n",
       "      <td>M</td>\n",
       "      <td>60세이상</td>\n",
       "      <td>100.0</td>\n",
       "      <td>0.062516</td>\n",
       "      <td>0.015275</td>\n",
       "      <td>1520590</td>\n",
       "    </tr>\n",
       "    <tr>\n",
       "      <th>2</th>\n",
       "      <td>3</td>\n",
       "      <td>851215</td>\n",
       "      <td>1042554</td>\n",
       "      <td>592280</td>\n",
       "      <td>679118</td>\n",
       "      <td>M</td>\n",
       "      <td>60세이상</td>\n",
       "      <td>33.0</td>\n",
       "      <td>-0.202178</td>\n",
       "      <td>-0.054903</td>\n",
       "      <td>-172097</td>\n",
       "    </tr>\n",
       "    <tr>\n",
       "      <th>3</th>\n",
       "      <td>4</td>\n",
       "      <td>5042106</td>\n",
       "      <td>4257510</td>\n",
       "      <td>3656937</td>\n",
       "      <td>3737257</td>\n",
       "      <td>F</td>\n",
       "      <td>60세이상</td>\n",
       "      <td>16.0</td>\n",
       "      <td>-0.258790</td>\n",
       "      <td>-0.072134</td>\n",
       "      <td>-1304849</td>\n",
       "    </tr>\n",
       "    <tr>\n",
       "      <th>4</th>\n",
       "      <td>5</td>\n",
       "      <td>5460150</td>\n",
       "      <td>2225730</td>\n",
       "      <td>2934930</td>\n",
       "      <td>2616260</td>\n",
       "      <td>M</td>\n",
       "      <td>60세이상</td>\n",
       "      <td>100.0</td>\n",
       "      <td>-0.520845</td>\n",
       "      <td>-0.168008</td>\n",
       "      <td>-2843890</td>\n",
       "    </tr>\n",
       "  </tbody>\n",
       "</table>\n",
       "</div>"
      ],
      "text/plain": [
       "   고객번호        H1        H2        H3        H4 성별    연령대   거주지역       성장률  \\\n",
       "0     1  19925355  34116312  17898365  13102518  M  60세이상   60.0 -0.342420   \n",
       "1     2  24323230  21922100  27791610  25843820  M  60세이상  100.0  0.062516   \n",
       "2     3    851215   1042554    592280    679118  M  60세이상   33.0 -0.202178   \n",
       "3     4   5042106   4257510   3656937   3737257  F  60세이상   16.0 -0.258790   \n",
       "4     5   5460150   2225730   2934930   2616260  M  60세이상  100.0 -0.520845   \n",
       "\n",
       "       cagr       증감  \n",
       "0 -0.099493 -6822837  \n",
       "1  0.015275  1520590  \n",
       "2 -0.054903  -172097  \n",
       "3 -0.072134 -1304849  \n",
       "4 -0.168008 -2843890  "
      ]
     },
     "execution_count": 15,
     "metadata": {},
     "output_type": "execute_result"
    }
   ],
   "source": [
    "df_lm.head()"
   ]
  },
  {
   "cell_type": "markdown",
   "metadata": {},
   "source": [
    "과제3_0512. employees 테이블을 불러와서 다음사항을 수행하세요.\n",
    "\n",
    "- 컬럼명을 포함하여 employees 테이블을 데이터프레임으로 출력\n",
    "- department_id별 평균 연봉을 출력\n",
    "- 부서별 평균 연봉을 수평 그래프로 시각화"
   ]
  },
  {
   "cell_type": "code",
   "execution_count": null,
   "metadata": {},
   "outputs": [],
   "source": [
    "import cx_Oracle\n",
    "import pandas as pd\n",
    "db = cx_Oracle.connect(\"c##hmkd1\",\"hmkd1\",\"localhost:1521/xe\")\n",
    "cursor = db.cursor()\n",
    "cursor.execute('select * from employees')\n",
    "x = cursor.fetchall()\n",
    "df = pd.DataFrame(x)\n",
    "cursor.execute(\"\"\"select column_name from user_tab_columns where table_name='EMPLOYEES'\"\"\")\n",
    "col = cursor.fetchall()\n",
    "col_list = []\n",
    "for i in col:\n",
    "    for j in i:\n",
    "        col_list.append(j)\n",
    "        \n",
    "df.columns = col_list\n",
    "df.head()"
   ]
  },
  {
   "cell_type": "code",
   "execution_count": null,
   "metadata": {},
   "outputs": [],
   "source": [
    "sales_avg = df.groupby('DEPARTMENT_ID').mean().reset_index()\n",
    "s1 = sales_avg[['DEPARTMENT_ID','SALARY']]\n",
    "s1.head()"
   ]
  },
  {
   "cell_type": "code",
   "execution_count": 4,
   "metadata": {},
   "outputs": [
    {
     "data": {
      "text/plain": [
       "<matplotlib.axes._subplots.AxesSubplot at 0x2eb40c9cdc0>"
      ]
     },
     "execution_count": 4,
     "metadata": {},
     "output_type": "execute_result"
    },
    {
     "data": {
      "image/png": "[encoded data removed]",
      "text/plain": [
       "<Figure size 720x432 with 1 Axes>"
      ]
     },
     "metadata": {
      "needs_background": "light"
     },
     "output_type": "display_data"
    }
   ],
   "source": [
    "import matplotlib.pyplot as plt\n",
    "import seaborn as sns\n",
    "plt.figure(figsize=(10,6))\n",
    "sns.barplot(x='SALARY', y='DEPARTMENT_ID', data=s1, orient='h')"
   ]
  },
  {
   "cell_type": "markdown",
   "metadata": {},
   "source": [
    "과제4_0512. 과제2에서 불러온 데이터프레임을 통계적 시각적으로 탐색하여 인사이트를 도출하세요."
   ]
  }
 ],
 "metadata": {
  "kernelspec": {
   "display_name": "Python 3",
   "language": "python",
   "name": "python3"
  },
  "language_info": {
   "codemirror_mode": {
    "name": "ipython",
    "version": 3
   },
   "file_extension": ".py",
   "mimetype": "text/x-python",
   "name": "python",
   "nbconvert_exporter": "python",
   "pygments_lexer": "ipython3",
   "version": "3.8.3"
  }
 },
 "nbformat": 4,
 "nbformat_minor": 4
}

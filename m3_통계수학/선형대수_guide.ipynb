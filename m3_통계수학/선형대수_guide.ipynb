{
 "cells": [
  {
   "cell_type": "markdown",
   "metadata": {},
   "source": [
    "## 데이터와 행렬\n",
    "- 스칼라 : 숫자 하나만으로 이루어진 데이터\n",
    "- 벡터 : 여러 숫자가 특정한 순서대로 모여 있는 것을 의미. 하나의 벡터를 이루는 데이터 수가 n기이면 n-차원 벡터라고 함\n",
    "- 열벡터는 열의 수가 1인 행렬\n",
    "- 하나의 데이터 레코드를 단독으로 벡터로 나타낼 때는 하나의 열로 나타내고 복수의 데이터 레코드 집합을 행렬로 나타낼 때는 하나의 데이터 레코드가 하나의 행으로 표기하는 것은 데이터 분석에서 일반적인 관례\n",
    "- 스칼라와 벡터도 수학적으로는 행렬에 속한다.\n",
    "- 스칼라는 열과 행의 수가 각각 1인 행렬이고 벡터는 열의 수가 1인 행렬이다."
   ]
  },
  {
   "cell_type": "code",
   "execution_count": 2,
   "metadata": {},
   "outputs": [
    {
     "name": "stdout",
     "output_type": "stream",
     "text": [
      "5.1\n",
      "[5.1 3.5 1.4 0.2]\n",
      "[5.1 4.9 4.7 4.6 5. ]\n"
     ]
    }
   ],
   "source": [
    "from sklearn.datasets import load_iris\n",
    "iris = load_iris()\n",
    "x0 = iris.data[0,0]\n",
    "x1 = iris.data[0,:]\n",
    "x2 = iris.data[:,0]\n",
    "print(x0) # 스칼라\n",
    "print(x1) # 행벡터\n",
    "print(x2[:5]) # 열벡터"
   ]
  },
  {
   "cell_type": "code",
   "execution_count": 3,
   "metadata": {},
   "outputs": [
    {
     "data": {
      "text/plain": [
       "dict_keys(['data', 'target', 'frame', 'target_names', 'DESCR', 'feature_names', 'filename'])"
      ]
     },
     "execution_count": 3,
     "metadata": {},
     "output_type": "execute_result"
    }
   ],
   "source": [
    "iris.keys()"
   ]
  },
  {
   "cell_type": "code",
   "execution_count": 4,
   "metadata": {},
   "outputs": [
    {
     "data": {
      "text/plain": [
       "['sepal length (cm)',\n",
       " 'sepal width (cm)',\n",
       " 'petal length (cm)',\n",
       " 'petal width (cm)']"
      ]
     },
     "execution_count": 4,
     "metadata": {},
     "output_type": "execute_result"
    }
   ],
   "source": [
    "iris.feature_names"
   ]
  },
  {
   "cell_type": "code",
   "execution_count": 5,
   "metadata": {},
   "outputs": [
    {
     "data": {
      "text/plain": [
       "array(['setosa', 'versicolor', 'virginica'], dtype='<U10')"
      ]
     },
     "execution_count": 5,
     "metadata": {},
     "output_type": "execute_result"
    }
   ],
   "source": [
    "iris.target_names"
   ]
  },
  {
   "cell_type": "code",
   "execution_count": 8,
   "metadata": {},
   "outputs": [
    {
     "data": {
      "text/html": [
       "<div>\n",
       "<style scoped>\n",
       "    .dataframe tbody tr th:only-of-type {\n",
       "        vertical-align: middle;\n",
       "    }\n",
       "\n",
       "    .dataframe tbody tr th {\n",
       "        vertical-align: top;\n",
       "    }\n",
       "\n",
       "    .dataframe thead th {\n",
       "        text-align: right;\n",
       "    }\n",
       "</style>\n",
       "<table border=\"1\" class=\"dataframe\">\n",
       "  <thead>\n",
       "    <tr style=\"text-align: right;\">\n",
       "      <th></th>\n",
       "      <th>sepal length (cm)</th>\n",
       "      <th>sepal width (cm)</th>\n",
       "      <th>petal length (cm)</th>\n",
       "      <th>petal width (cm)</th>\n",
       "      <th>target</th>\n",
       "    </tr>\n",
       "  </thead>\n",
       "  <tbody>\n",
       "    <tr>\n",
       "      <th>0</th>\n",
       "      <td>5.1</td>\n",
       "      <td>3.5</td>\n",
       "      <td>1.4</td>\n",
       "      <td>0.2</td>\n",
       "      <td>0</td>\n",
       "    </tr>\n",
       "    <tr>\n",
       "      <th>1</th>\n",
       "      <td>4.9</td>\n",
       "      <td>3.0</td>\n",
       "      <td>1.4</td>\n",
       "      <td>0.2</td>\n",
       "      <td>0</td>\n",
       "    </tr>\n",
       "    <tr>\n",
       "      <th>2</th>\n",
       "      <td>4.7</td>\n",
       "      <td>3.2</td>\n",
       "      <td>1.3</td>\n",
       "      <td>0.2</td>\n",
       "      <td>0</td>\n",
       "    </tr>\n",
       "    <tr>\n",
       "      <th>3</th>\n",
       "      <td>4.6</td>\n",
       "      <td>3.1</td>\n",
       "      <td>1.5</td>\n",
       "      <td>0.2</td>\n",
       "      <td>0</td>\n",
       "    </tr>\n",
       "    <tr>\n",
       "      <th>4</th>\n",
       "      <td>5.0</td>\n",
       "      <td>3.6</td>\n",
       "      <td>1.4</td>\n",
       "      <td>0.2</td>\n",
       "      <td>0</td>\n",
       "    </tr>\n",
       "  </tbody>\n",
       "</table>\n",
       "</div>"
      ],
      "text/plain": [
       "   sepal length (cm)  sepal width (cm)  petal length (cm)  petal width (cm)  \\\n",
       "0                5.1               3.5                1.4               0.2   \n",
       "1                4.9               3.0                1.4               0.2   \n",
       "2                4.7               3.2                1.3               0.2   \n",
       "3                4.6               3.1                1.5               0.2   \n",
       "4                5.0               3.6                1.4               0.2   \n",
       "\n",
       "   target  \n",
       "0       0  \n",
       "1       0  \n",
       "2       0  \n",
       "3       0  \n",
       "4       0  "
      ]
     },
     "execution_count": 8,
     "metadata": {},
     "output_type": "execute_result"
    }
   ],
   "source": [
    "import pandas as pd\n",
    "df = pd.DataFrame(iris.data, columns=iris.feature_names)\n",
    "df['target'] = iris.target\n",
    "df.head()"
   ]
  },
  {
   "cell_type": "code",
   "execution_count": 11,
   "metadata": {},
   "outputs": [
    {
     "data": {
      "text/plain": [
       "2    50\n",
       "1    50\n",
       "0    50\n",
       "Name: target, dtype: int64"
      ]
     },
     "execution_count": 11,
     "metadata": {},
     "output_type": "execute_result"
    }
   ],
   "source": [
    "df.target.value_counts()"
   ]
  },
  {
   "cell_type": "code",
   "execution_count": 13,
   "metadata": {},
   "outputs": [
    {
     "data": {
      "text/plain": [
       "'.. _iris_dataset:\\n\\nIris plants dataset\\n--------------------\\n\\n**Data Set Characteristics:**\\n\\n    :Number of Instances: 150 (50 in each of three classes)\\n    :Number of Attributes: 4 numeric, predictive attributes and the class\\n    :Attribute Information:\\n        - sepal length in cm\\n        - sepal width in cm\\n        - petal length in cm\\n        - petal width in cm\\n        - class:\\n                - Iris-Setosa\\n                - Iris-Versicolour\\n                - Iris-Virginica\\n                \\n    :Summary Statistics:\\n\\n    ============== ==== ==== ======= ===== ====================\\n                    Min  Max   Mean    SD   Class Correlation\\n    ============== ==== ==== ======= ===== ====================\\n    sepal length:   4.3  7.9   5.84   0.83    0.7826\\n    sepal width:    2.0  4.4   3.05   0.43   -0.4194\\n    petal length:   1.0  6.9   3.76   1.76    0.9490  (high!)\\n    petal width:    0.1  2.5   1.20   0.76    0.9565  (high!)\\n    ============== ==== ==== ======= ===== ====================\\n\\n    :Missing Attribute Values: None\\n    :Class Distribution: 33.3% for each of 3 classes.\\n    :Creator: R.A. Fisher\\n    :Donor: Michael Marshall (MARSHALL%PLU@io.arc.nasa.gov)\\n    :Date: July, 1988\\n\\nThe famous Iris database, first used by Sir R.A. Fisher. The dataset is taken\\nfrom Fisher\\'s paper. Note that it\\'s the same as in R, but not as in the UCI\\nMachine Learning Repository, which has two wrong data points.\\n\\nThis is perhaps the best known database to be found in the\\npattern recognition literature.  Fisher\\'s paper is a classic in the field and\\nis referenced frequently to this day.  (See Duda & Hart, for example.)  The\\ndata set contains 3 classes of 50 instances each, where each class refers to a\\ntype of iris plant.  One class is linearly separable from the other 2; the\\nlatter are NOT linearly separable from each other.\\n\\n.. topic:: References\\n\\n   - Fisher, R.A. \"The use of multiple measurements in taxonomic problems\"\\n     Annual Eugenics, 7, Part II, 179-188 (1936); also in \"Contributions to\\n     Mathematical Statistics\" (John Wiley, NY, 1950).\\n   - Duda, R.O., & Hart, P.E. (1973) Pattern Classification and Scene Analysis.\\n     (Q327.D83) John Wiley & Sons.  ISBN 0-471-22361-1.  See page 218.\\n   - Dasarathy, B.V. (1980) \"Nosing Around the Neighborhood: A New System\\n     Structure and Classification Rule for Recognition in Partially Exposed\\n     Environments\".  IEEE Transactions on Pattern Analysis and Machine\\n     Intelligence, Vol. PAMI-2, No. 1, 67-71.\\n   - Gates, G.W. (1972) \"The Reduced Nearest Neighbor Rule\".  IEEE Transactions\\n     on Information Theory, May 1972, 431-433.\\n   - See also: 1988 MLC Proceedings, 54-64.  Cheeseman et al\"s AUTOCLASS II\\n     conceptual clustering system finds 3 classes in the data.\\n   - Many, many more ...'"
      ]
     },
     "execution_count": 13,
     "metadata": {},
     "output_type": "execute_result"
    }
   ],
   "source": [
    "iris.DESCR"
   ]
  },
  {
   "cell_type": "code",
   "execution_count": 11,
   "metadata": {},
   "outputs": [
    {
     "data": {
      "text/plain": [
       "array([[5.1],\n",
       "       [3.5],\n",
       "       [1.4],\n",
       "       [0.2]])"
      ]
     },
     "execution_count": 11,
     "metadata": {},
     "output_type": "execute_result"
    }
   ],
   "source": [
    "# 넘파이를 사용한 벡터 표현 : 벡터를 열 개수가 하나인 2차원 배열로 표헌. \n",
    "# 4차원 벡터, 2차원 배열 : 배열의 차원은 벡터의 차원가 다른 의미\n",
    "import numpy as np\n",
    "x1 = np.array([[5.1],\n",
    "             [3.5],\n",
    "             [1.4],\n",
    "             [0.2]])\n",
    "x1"
   ]
  },
  {
   "cell_type": "code",
   "execution_count": 12,
   "metadata": {},
   "outputs": [
    {
     "data": {
      "text/plain": [
       "array([5.1, 3.5, 1.4, 0.2])"
      ]
     },
     "execution_count": 12,
     "metadata": {},
     "output_type": "execute_result"
    }
   ],
   "source": [
    "# 넘파이는 1차원 배열 객체도 벡터로 인정\n",
    "x1 = np.array([5.1, 3.5, 1.4, 0.2])\n",
    "x1"
   ]
  },
  {
   "cell_type": "markdown",
   "metadata": {},
   "source": [
    "- 행렬 : 복수의 차원을 가지는 데이터 레코드가 다시 여러 개 있는 경우의 데이터를 합쳐서 표기한 것\n",
    "- 붓꽃 예에서 붓꽃 6 송이에 대해 꽃잎과 꽃받침 크기를 측정했다면 4차원 붓꽃 데이터가 6개. 4 x 6 = 24개의 실수 숫자가 있은 것이며 이 숫자 집합을 행렬로 나타낼 수 있다.\n",
    "- 벡터는 열의 수가 1인 행렬이라고 볼 수 있으므로 열벡터라고도 한다.\n",
    "- 데이터를 행렬로 묶어서 표시할 때는 붓꽃 하나에 대한 데이터 레코드, 즉 하나의 벡터가 열이 아닌 행으로 표시한다.\n",
    "- 하나의 데이터 레코드를 단독으로 벡터로 나타낼 때는 하나의 열로 나타내고 복수의 데이터 레코드 집합을 행렬로 나타낼 때는 하나의 데이터 레코드가 하나의 행으로 표기하는 것은 일관성이 없어 보이지만 다른 연산 시 필요하여 데이터 분석에서 쓰는 일반적인 관례임을 유의해야 함"
   ]
  },
  {
   "cell_type": "code",
   "execution_count": 13,
   "metadata": {},
   "outputs": [
    {
     "data": {
      "text/html": [
       "<div>\n",
       "<style scoped>\n",
       "    .dataframe tbody tr th:only-of-type {\n",
       "        vertical-align: middle;\n",
       "    }\n",
       "\n",
       "    .dataframe tbody tr th {\n",
       "        vertical-align: top;\n",
       "    }\n",
       "\n",
       "    .dataframe thead th {\n",
       "        text-align: right;\n",
       "    }\n",
       "</style>\n",
       "<table border=\"1\" class=\"dataframe\">\n",
       "  <thead>\n",
       "    <tr style=\"text-align: right;\">\n",
       "      <th></th>\n",
       "      <th>sepal length (cm)</th>\n",
       "      <th>sepal width (cm)</th>\n",
       "      <th>petal length (cm)</th>\n",
       "      <th>petal width (cm)</th>\n",
       "    </tr>\n",
       "  </thead>\n",
       "  <tbody>\n",
       "    <tr>\n",
       "      <th>0</th>\n",
       "      <td>5.1</td>\n",
       "      <td>3.5</td>\n",
       "      <td>1.4</td>\n",
       "      <td>0.2</td>\n",
       "    </tr>\n",
       "    <tr>\n",
       "      <th>1</th>\n",
       "      <td>4.9</td>\n",
       "      <td>3.0</td>\n",
       "      <td>1.4</td>\n",
       "      <td>0.2</td>\n",
       "    </tr>\n",
       "    <tr>\n",
       "      <th>2</th>\n",
       "      <td>4.7</td>\n",
       "      <td>3.2</td>\n",
       "      <td>1.3</td>\n",
       "      <td>0.2</td>\n",
       "    </tr>\n",
       "    <tr>\n",
       "      <th>3</th>\n",
       "      <td>4.6</td>\n",
       "      <td>3.1</td>\n",
       "      <td>1.5</td>\n",
       "      <td>0.2</td>\n",
       "    </tr>\n",
       "    <tr>\n",
       "      <th>4</th>\n",
       "      <td>5.0</td>\n",
       "      <td>3.6</td>\n",
       "      <td>1.4</td>\n",
       "      <td>0.2</td>\n",
       "    </tr>\n",
       "    <tr>\n",
       "      <th>5</th>\n",
       "      <td>5.4</td>\n",
       "      <td>3.9</td>\n",
       "      <td>1.7</td>\n",
       "      <td>0.4</td>\n",
       "    </tr>\n",
       "  </tbody>\n",
       "</table>\n",
       "</div>"
      ],
      "text/plain": [
       "   sepal length (cm)  sepal width (cm)  petal length (cm)  petal width (cm)\n",
       "0                5.1               3.5                1.4               0.2\n",
       "1                4.9               3.0                1.4               0.2\n",
       "2                4.7               3.2                1.3               0.2\n",
       "3                4.6               3.1                1.5               0.2\n",
       "4                5.0               3.6                1.4               0.2\n",
       "5                5.4               3.9                1.7               0.4"
      ]
     },
     "execution_count": 13,
     "metadata": {},
     "output_type": "execute_result"
    }
   ],
   "source": [
    "df.head(6)"
   ]
  },
  {
   "cell_type": "code",
   "execution_count": 15,
   "metadata": {},
   "outputs": [
    {
     "data": {
      "text/plain": [
       "sepal length (cm)    5.1\n",
       "sepal width (cm)     3.5\n",
       "petal length (cm)    1.4\n",
       "petal width (cm)     0.2\n",
       "Name: 0, dtype: float64"
      ]
     },
     "execution_count": 15,
     "metadata": {},
     "output_type": "execute_result"
    }
   ],
   "source": [
    "df.iloc[0,:]"
   ]
  },
  {
   "cell_type": "code",
   "execution_count": 16,
   "metadata": {},
   "outputs": [
    {
     "data": {
      "text/plain": [
       "array([[11, 12, 13],\n",
       "       [21, 22, 23]])"
      ]
     },
     "execution_count": 16,
     "metadata": {},
     "output_type": "execute_result"
    }
   ],
   "source": [
    "# 전치 연산\n",
    "\n",
    "a = np.array([[11,12,13],[21,22,23]])\n",
    "a"
   ]
  },
  {
   "cell_type": "code",
   "execution_count": 17,
   "metadata": {},
   "outputs": [
    {
     "data": {
      "text/plain": [
       "array([[11, 21],\n",
       "       [12, 22],\n",
       "       [13, 23]])"
      ]
     },
     "execution_count": 17,
     "metadata": {},
     "output_type": "execute_result"
    }
   ],
   "source": [
    "a.T"
   ]
  },
  {
   "cell_type": "code",
   "execution_count": 19,
   "metadata": {},
   "outputs": [
    {
     "data": {
      "text/plain": [
       "array([[0.],\n",
       "       [0.],\n",
       "       [0.]])"
      ]
     },
     "execution_count": 19,
     "metadata": {},
     "output_type": "execute_result"
    }
   ],
   "source": [
    "# 영벡터\n",
    "np.zeros((3,1))"
   ]
  },
  {
   "cell_type": "code",
   "execution_count": 20,
   "metadata": {},
   "outputs": [
    {
     "data": {
      "text/plain": [
       "array([[1.],\n",
       "       [1.],\n",
       "       [1.]])"
      ]
     },
     "execution_count": 20,
     "metadata": {},
     "output_type": "execute_result"
    }
   ],
   "source": [
    "# 일벡터\n",
    "np.ones((3,1))"
   ]
  },
  {
   "cell_type": "code",
   "execution_count": 22,
   "metadata": {},
   "outputs": [
    {
     "data": {
      "text/plain": [
       "array([[0, 1, 2],\n",
       "       [3, 4, 5],\n",
       "       [6, 7, 8]])"
      ]
     },
     "execution_count": 22,
     "metadata": {},
     "output_type": "execute_result"
    }
   ],
   "source": [
    "# 정방 행렬(3x3)\n",
    "np.full((3,3),1)\n",
    "np.arange(9).reshape(3,3)"
   ]
  },
  {
   "cell_type": "code",
   "execution_count": 23,
   "metadata": {},
   "outputs": [
    {
     "data": {
      "text/plain": [
       "array([[1, 0, 0],\n",
       "       [0, 2, 0],\n",
       "       [0, 0, 3]])"
      ]
     },
     "execution_count": 23,
     "metadata": {},
     "output_type": "execute_result"
    }
   ],
   "source": [
    "# 대각 정방행렬 - 주대각선 1,2,3\n",
    "np.diag([1,2,3])"
   ]
  },
  {
   "cell_type": "code",
   "execution_count": 24,
   "metadata": {},
   "outputs": [
    {
     "data": {
      "text/plain": [
       "array([[1., 0., 0., 0.],\n",
       "       [0., 1., 0., 0.],\n",
       "       [0., 0., 1., 0.],\n",
       "       [0., 0., 0., 1.]])"
      ]
     },
     "execution_count": 24,
     "metadata": {},
     "output_type": "execute_result"
    }
   ],
   "source": [
    "# 항등행렬\n",
    "np.eye(4)"
   ]
  },
  {
   "cell_type": "code",
   "execution_count": 25,
   "metadata": {},
   "outputs": [],
   "source": [
    "# 벡터와 벡터의 곱셈, 내적\n",
    "from PIL import Image\n",
    "image = Image.open('내적.jpg')\n",
    "image.show()"
   ]
  },
  {
   "cell_type": "markdown",
   "metadata": {},
   "source": [
    "<img src = '행렬곱.jpg' STYLE='width 300px;'>"
   ]
  },
  {
   "cell_type": "markdown",
   "metadata": {},
   "source": [
    "<img src = '내적.jpg' STYLE='width 800px;'>"
   ]
  },
  {
   "cell_type": "code",
   "execution_count": 3,
   "metadata": {},
   "outputs": [
    {
     "name": "stdout",
     "output_type": "stream",
     "text": [
      "[10 12 14 16 18]\n",
      "[10 10 10 10 10]\n"
     ]
    }
   ],
   "source": [
    "import numpy as np\n",
    "x = np.array([10,11,12,13,14])\n",
    "y = np.array([0,1,2,3,4])\n",
    "\n",
    "print(x+y)\n",
    "print(x-y)"
   ]
  },
  {
   "cell_type": "code",
   "execution_count": 5,
   "metadata": {},
   "outputs": [
    {
     "data": {
      "text/plain": [
       "array([[57, 40],\n",
       "       [43, 46]])"
      ]
     },
     "execution_count": 5,
     "metadata": {},
     "output_type": "execute_result"
    }
   ],
   "source": [
    "x1 = np.random.randint(30,50,size=(2,2))\n",
    "x2 = np.random.randint(20,30,size=(2,2))\n",
    "x3 = np.random.randint(10,20,size=(2,2))\n",
    "x1+x2-x3"
   ]
  },
  {
   "cell_type": "code",
   "execution_count": 6,
   "metadata": {},
   "outputs": [
    {
     "data": {
      "text/plain": [
       "array([0, 1, 2])"
      ]
     },
     "execution_count": 6,
     "metadata": {},
     "output_type": "execute_result"
    }
   ],
   "source": [
    "# 브로드캐스팅\n",
    "x1 = np.array([10,11,12])\n",
    "x1 - 10"
   ]
  },
  {
   "cell_type": "code",
   "execution_count": 7,
   "metadata": {},
   "outputs": [
    {
     "data": {
      "text/plain": [
       "array([30, 33, 36])"
      ]
     },
     "execution_count": 7,
     "metadata": {},
     "output_type": "execute_result"
    }
   ],
   "source": [
    "np.dot(3,x1)"
   ]
  },
  {
   "cell_type": "code",
   "execution_count": 8,
   "metadata": {},
   "outputs": [
    {
     "name": "stdout",
     "output_type": "stream",
     "text": [
      "[[1]\n",
      " [2]\n",
      " [3]]\n",
      "[[4]\n",
      " [5]\n",
      " [6]]\n"
     ]
    }
   ],
   "source": [
    "# 넘파이에서 벡터와 행렬의 내적은 dot(), 또는 @ 연산자로 계산\n",
    "x = np.array([[1],[2],[3]])\n",
    "y = np.array([[4],[5],[6]])\n",
    "print(x)\n",
    "print(y)"
   ]
  },
  {
   "cell_type": "code",
   "execution_count": 14,
   "metadata": {},
   "outputs": [
    {
     "name": "stdout",
     "output_type": "stream",
     "text": [
      "[[1 2 3]]\n",
      "[[4]\n",
      " [5]\n",
      " [6]]\n",
      "[[32]]\n",
      "[[32]]\n"
     ]
    }
   ],
   "source": [
    "print(x.T)\n",
    "print(y)\n",
    "print(x.T@y)\n",
    "print(np.dot(x.T,y))"
   ]
  },
  {
   "cell_type": "code",
   "execution_count": 17,
   "metadata": {},
   "outputs": [
    {
     "name": "stdout",
     "output_type": "stream",
     "text": [
      "[[1 2 3]\n",
      " [4 5 6]]\n",
      "[[ 6 23]\n",
      " [-1  7]\n",
      " [ 8  9]]\n"
     ]
    },
    {
     "data": {
      "text/plain": [
       "array([[ 28,  64],\n",
       "       [ 67, 181]])"
      ]
     },
     "execution_count": 17,
     "metadata": {},
     "output_type": "execute_result"
    }
   ],
   "source": [
    "x = np.arange(1,7).reshape(2,3)\n",
    "y = np.array([[6,23],[-1,7],[8,9]])\n",
    "print(x)\n",
    "print(y)\n",
    "# 2x3 3x2\n",
    "np.dot(x,y)\n",
    "x.dot(y)"
   ]
  },
  {
   "cell_type": "markdown",
   "metadata": {},
   "source": [
    "#### 행렬곱\n",
    "- 앞 행렬의 열의 수가 뒤 행렬의 행의 수와 일치해야 한다.\n",
    "- 교환 법칙이 성립하지 않음 : (A @ B) vs (B @ A) \n",
    "- 분배법칙은 성립함 : A @ (B + C) vs A @ B + A @ C\n",
    "- 전치 연산도 덧셈, 뺄셈에 대한 분배 법칙 성립 : (A + B).T vs A.T + B.T\n",
    "- 전치 연산과 곱셈의 경우 전치 연산이 분배되면서 곱셈의 순서가 바뀜 : (A @ B).T  vs B.T @ A.T"
   ]
  },
  {
   "cell_type": "markdown",
   "metadata": {},
   "source": [
    "#### 과제1_0420.\n",
    "앞에 언급한 사항들의 사례를 작성해서 의미를 확인하고 설명하세요."
   ]
  },
  {
   "cell_type": "code",
   "execution_count": 15,
   "metadata": {},
   "outputs": [
    {
     "name": "stdout",
     "output_type": "stream",
     "text": [
      "[[ 58  64]\n",
      " [139 154]]\n"
     ]
    }
   ],
   "source": [
    "import numpy as np\n",
    "\n",
    "# 2x3 행렬과 3x2 행렬을 곱하기\n",
    "A = np.array([[1, 2, 3], [4, 5, 6]])\n",
    "B = np.array([[7, 8], [9, 10], [11, 12]])\n",
    "C = np.dot(A, B)\n",
    "\n",
    "print(C)"
   ]
  },
  {
   "cell_type": "code",
   "execution_count": 16,
   "metadata": {},
   "outputs": [],
   "source": [
    "A = np.array([[1, 2], [3, 4]])\n",
    "B = np.array([[5, 6], [7, 8]])\n",
    "C = np.array([[9, 8], [7, 6]])"
   ]
  },
  {
   "cell_type": "code",
   "execution_count": 17,
   "metadata": {},
   "outputs": [
    {
     "name": "stdout",
     "output_type": "stream",
     "text": [
      "[[19 22]\n",
      " [43 50]]\n",
      "[[23 34]\n",
      " [31 46]]\n"
     ]
    }
   ],
   "source": [
    "# 교환 법칙이 성립하지 않음\n",
    "print(A @ B)\n",
    "print(B @ A)"
   ]
  },
  {
   "cell_type": "code",
   "execution_count": 18,
   "metadata": {},
   "outputs": [
    {
     "name": "stdout",
     "output_type": "stream",
     "text": [
      "[[42 42]\n",
      " [98 98]]\n",
      "[[42 42]\n",
      " [98 98]]\n"
     ]
    }
   ],
   "source": [
    "# 분배법칙은 성립함\n",
    "print(A @ (B + C))\n",
    "print(A @ B + A @ C)"
   ]
  },
  {
   "cell_type": "code",
   "execution_count": 19,
   "metadata": {},
   "outputs": [
    {
     "name": "stdout",
     "output_type": "stream",
     "text": [
      "[[ 6 10]\n",
      " [ 8 12]]\n",
      "[[ 6 10]\n",
      " [ 8 12]]\n"
     ]
    }
   ],
   "source": [
    "# 전치 연산도 덧셈, 뺄셈에 대한 분배 법칙이 성립함\n",
    "print((A + B).T)\n",
    "print(A.T + B.T)"
   ]
  },
  {
   "cell_type": "code",
   "execution_count": 21,
   "metadata": {},
   "outputs": [
    {
     "name": "stdout",
     "output_type": "stream",
     "text": [
      "[[19 43]\n",
      " [22 50]]\n",
      "[[19 43]\n",
      " [22 50]]\n",
      "[[23 31]\n",
      " [34 46]]\n"
     ]
    }
   ],
   "source": [
    "# 전치 연산과 곱셈의 경우에는 분배 법칙이 성립하지만 전치 연산이 분배되면서 곱셈의 순서가 바뀜\n",
    "print((A @ B).T)\n",
    "print(B.T @ A.T)\n",
    "print(A.T @ B.T)"
   ]
  },
  {
   "cell_type": "code",
   "execution_count": 20,
   "metadata": {},
   "outputs": [
    {
     "name": "stdout",
     "output_type": "stream",
     "text": [
      "[[1 2]\n",
      " [3 4]]\n",
      "[[1. 0.]\n",
      " [0. 1.]]\n",
      "[[1. 2.]\n",
      " [3. 4.]]\n",
      "[[1. 2.]\n",
      " [3. 4.]]\n"
     ]
    }
   ],
   "source": [
    "# 항등행렬의 곱셈\n",
    "a = np.array([[1,2],[3,4]])\n",
    "i = np.eye(2)\n",
    "print(a)\n",
    "print(i)\n",
    "print(a @ i)\n",
    "print(i @ a)"
   ]
  },
  {
   "cell_type": "code",
   "execution_count": 22,
   "metadata": {},
   "outputs": [
    {
     "name": "stdout",
     "output_type": "stream",
     "text": [
      "[[0.3305785  0.30578512 0.3305785  ... 0.3966942  0.37190083 0.28512397]\n",
      " [0.32231405 0.32231405 0.29752067 ... 0.41322315 0.338843   0.2603306 ]\n",
      " [0.3264463  0.30991736 0.30578512 ... 0.40495867 0.36363637 0.27272728]\n",
      " ...\n",
      " [0.16115703 0.16528925 0.1570248  ... 0.14049587 0.1570248  0.16115703]\n",
      " [0.1570248  0.17768595 0.16115703 ... 0.14049587 0.1570248  0.1570248 ]\n",
      " [0.17768595 0.1694215  0.16528925 ... 0.1446281  0.15289256 0.15289256]] \n",
      "\n"
     ]
    },
    {
     "data": {
      "text/plain": [
       "Text(0.5, 1.0, 'image 1: $x_1$')"
      ]
     },
     "execution_count": 22,
     "metadata": {},
     "output_type": "execute_result"
    },
    {
     "data": {
      "image/png": "[encoded data removed]",
      "text/plain": [
       "<Figure size 432x288 with 1 Axes>"
      ]
     },
     "metadata": {},
     "output_type": "display_data"
    }
   ],
   "source": [
    "from sklearn.datasets import fetch_olivetti_faces\n",
    "import matplotlib.pyplot as plt\n",
    "faces = fetch_olivetti_faces()\n",
    "print(faces.images[6],'\\n')\n",
    "f,ax = plt.subplots(1,1)\n",
    "ax.imshow(faces.images[6],cmap=plt.cm.bone)\n",
    "ax.grid(False)\n",
    "ax.set_xticks([])\n",
    "ax.set_yticks([])\n",
    "ax.set_title(\"image 1: $x_1$\")"
   ]
  },
  {
   "cell_type": "code",
   "execution_count": 23,
   "metadata": {},
   "outputs": [
    {
     "name": "stdout",
     "output_type": "stream",
     "text": [
      "[[0.5413223  0.58677685 0.6404959  ... 0.54545456 0.553719   0.55785125]\n",
      " [0.553719   0.61570245 0.6570248  ... 0.57438016 0.58264464 0.5785124 ]\n",
      " [0.5785124  0.6528926  0.677686   ... 0.57024795 0.60330576 0.59917355]\n",
      " ...\n",
      " [0.12809917 0.13636364 0.13636364 ... 0.09090909 0.11570248 0.10743801]\n",
      " [0.1322314  0.13636364 0.1322314  ... 0.09504132 0.11157025 0.10743801]\n",
      " [0.13636364 0.1322314  0.13636364 ... 0.09504132 0.11157025 0.11157025]] \n",
      "\n"
     ]
    },
    {
     "data": {
      "text/plain": [
       "Text(0.5, 1.0, 'image 1: $x_1$')"
      ]
     },
     "execution_count": 23,
     "metadata": {},
     "output_type": "execute_result"
    },
    {
     "data": {
      "image/png": "[encoded data removed]",
      "text/plain": [
       "<Figure size 432x288 with 1 Axes>"
      ]
     },
     "metadata": {},
     "output_type": "display_data"
    }
   ],
   "source": [
    "from sklearn.datasets import fetch_olivetti_faces\n",
    "import matplotlib.pyplot as plt\n",
    "faces = fetch_olivetti_faces()\n",
    "print(faces.images[10],'\\n')\n",
    "f,ax = plt.subplots(1,1)\n",
    "ax.imshow(faces.images[10],cmap=plt.cm.bone)\n",
    "ax.grid(False)\n",
    "ax.set_xticks([])\n",
    "ax.set_yticks([])\n",
    "ax.set_title(\"image 1: $x_1$\")"
   ]
  },
  {
   "cell_type": "code",
   "execution_count": 29,
   "metadata": {},
   "outputs": [
    {
     "data": {
      "image/png": "[encoded data removed]",
      "text/plain": [
       "<Figure size 432x288 with 3 Axes>"
      ]
     },
     "metadata": {},
     "output_type": "display_data"
    }
   ],
   "source": [
    "faces = fetch_olivetti_faces()\n",
    "\n",
    "f,ax = plt.subplots(1,3)\n",
    "ax[0].imshow(faces.images[6],cmap=plt.cm.bone)\n",
    "ax[0].grid(False)\n",
    "ax[0].set_xticks([])\n",
    "ax[0].set_yticks([])\n",
    "ax[0].set_title(\"image 1: $x_1$\")\n",
    "\n",
    "ax[1].imshow(faces.images[10],cmap=plt.cm.bone)\n",
    "ax[1].grid(False)\n",
    "ax[1].set_xticks([])\n",
    "ax[1].set_yticks([])\n",
    "ax[1].set_title(\"image 2: $x_2$\")\n",
    "\n",
    "new_face = 0.7 * faces.images[6] + 0.3 * faces.images[10]\n",
    "ax[2].imshow(new_face, cmap=plt.cm.bone)\n",
    "ax[2].grid(False)\n",
    "ax[2].set_xticks([])\n",
    "ax[2].set_yticks([])\n",
    "ax[2].set_title(\"image 3: $0.7x_1 + 0.3x_2$\")\n",
    "plt.show()"
   ]
  },
  {
   "cell_type": "markdown",
   "metadata": {},
   "source": [
    "#### 벡터의 norm이란 \n",
    "- 벡터의 크기를 측정하는 방법 중 하나입니다. 벡터의 norm은 일반적으로 벡터의 길이 또는 크기를 의미합니다. 벡터의 norm은 벡터의 요소에 대한 제곱 합의 제곱근으로 계산됩니다.\n",
    "\n",
    "만약, 벡터 $x = (x_1, x_2, ..., x_n)$ 이 있다면, $x$의 norm은 다음과 같이 정의됩니다.\n",
    "\n",
    "$$||x|| = \\sqrt{x_1^2 + x_2^2 + \\cdots + x_n^2}$$\n",
    "\n",
    "여기서 $||x||$는 벡터 $x$의 norm을 나타냅니다.\n",
    "\n",
    "- 벡터의 norm은 다음과 같은 성질을 가지고 있습니다.\n",
    "\n",
    "  - $||x|| \\geq 0$ (벡터의 norm은 항상 0 이상입니다.)\n",
    "  - $||x|| = 0$ if and only if $x = \\mathbf{0}$ (벡터의 norm이 0일 경우, 해당 벡터는 영 벡터입니다.)\n",
    "  - $||ax|| = |a| \\cdot ||x||$ (스칼라 $a$에 대해 벡터 $x$의 norm은 $a$의 절댓값과 $x$의 norm의 곱과 같습니다.)\n",
    "  - $||x+y|| \\leq ||x|| + ||y||$ (두 벡터의 합의 norm은 각 벡터의 norm의 합보다 작거나 같습니다. 이를 삼각 부등식이라고 합니다.)\n",
    "  - 벡터의 norm은 선형 대수학에서 매우 중요한 개념이며, 벡터 공간에서 거리와 관련된 개념을 다룰 때 자주 사용됩니다.\n",
    "\n",
    "- 위 4가지 성질을 만족하기만 하면 놈이라고 할 수 있는데, 많이 사용되는 놈은 다음 세 가지이다. 놈을 구별하기 위하여 아래 첨자를 사용하고, $||x||_1을 1-놈, ||x||_2 를 2-놈, ||x||_\\infty를 3-놈$이라고 한다.\n",
    "- 1-놈은 벡터 x의 성분의 절대값을 모두 더한 것으로, 2-놈은 벡터의 기하학적 길이로, $\\infty-놈$은 벡터 성분 중에서 크기가 제일 큰 값으로 정의한다.\n",
    "- p = 2인 경우가 가장 많이 쓰이므로 p값 표기가 없는 경우 p=2인 프로베니우스 놈을 사용한다.\n",
    "\n",
    "https://bskyvision.com/825  \n",
    "https://pasus.tistory.com/34"
   ]
  },
  {
   "cell_type": "code",
   "execution_count": 11,
   "metadata": {},
   "outputs": [
    {
     "data": {
      "text/plain": [
       "array([[-4, -3, -2],\n",
       "       [-1,  0,  1],\n",
       "       [ 2,  3,  4]])"
      ]
     },
     "execution_count": 11,
     "metadata": {},
     "output_type": "execute_result"
    }
   ],
   "source": [
    "a = (np.arange(9) - 4).reshape((3,3))\n",
    "a"
   ]
  },
  {
   "cell_type": "code",
   "execution_count": 13,
   "metadata": {},
   "outputs": [
    {
     "data": {
      "text/plain": [
       "7.745966692414834"
      ]
     },
     "execution_count": 13,
     "metadata": {},
     "output_type": "execute_result"
    }
   ],
   "source": [
    "# Linera algebra(선형 대수학)\n",
    "np.linalg.norm(a)"
   ]
  },
  {
   "cell_type": "code",
   "execution_count": 34,
   "metadata": {},
   "outputs": [
    {
     "data": {
      "text/plain": [
       "5.0"
      ]
     },
     "execution_count": 34,
     "metadata": {},
     "output_type": "execute_result"
    }
   ],
   "source": [
    "# L1 norm은 벡터의 모든 성분의 절대값을 더함\n",
    "x = [2,3]\n",
    "np.linalg.norm(x,1)"
   ]
  },
  {
   "cell_type": "code",
   "execution_count": 35,
   "metadata": {},
   "outputs": [
    {
     "data": {
      "text/plain": [
       "3.605551275463989"
      ]
     },
     "execution_count": 35,
     "metadata": {},
     "output_type": "execute_result"
    }
   ],
   "source": [
    "# L2 norm은 출발점에서 도착점까지의 거리를 직선 거리로 측정\n",
    "np.linalg.norm(x,2)"
   ]
  },
  {
   "cell_type": "code",
   "execution_count": 36,
   "metadata": {},
   "outputs": [
    {
     "data": {
      "text/plain": [
       "3.605551275463989"
      ]
     },
     "execution_count": 36,
     "metadata": {},
     "output_type": "execute_result"
    }
   ],
   "source": [
    "np.sqrt(13)"
   ]
  },
  {
   "cell_type": "code",
   "execution_count": 37,
   "metadata": {},
   "outputs": [
    {
     "data": {
      "text/plain": [
       "3.0"
      ]
     },
     "execution_count": 37,
     "metadata": {},
     "output_type": "execute_result"
    }
   ],
   "source": [
    "# L inf norm은 벡터 성분들의 절대값 중에서 가장 큰 값으로 계산\n",
    "np.linalg.norm(x,np.inf)"
   ]
  },
  {
   "cell_type": "markdown",
   "metadata": {},
   "source": [
    "#### 행렬식(determinant)은\n",
    "행렬식은 정방행렬에 대해서만 정의되는 값으로, 행렬의 성질을 나타내는 중요한 값 중 하나입니다. \n",
    "\n",
    "- 행렬식은 행렬의 크기에 상관없이 항상 하나의 스칼라값으로 계산됩니다.\n",
    "행렬 A의 행렬식은 $|A|$ 또는 det(A)로 표기합니다. 2x2 행렬의 경우, 다음과 같이 행렬식을 계산할 수 있습니다.$$det(A) = a11*a22 - a12*a21$$\n",
    "- 행렬식이 0이면, 해당 행렬은 역행렬을 가지지 않습니다. 반대로, 행렬식이 0이 아니면, 해당 행렬은 역행렬을 가지며, 선형 변환의 크기와 방향을 보존하는 역행렬을 사용하여 역변환을 수행할 수 있습니다.\n",
    "- 행렬식의 절댓값이 1인 행렬은 크기를 보존하는 선형 변환을 나타내며, 이러한 행렬은 회전 또는 반사와 같은 변환이 될 수 있습니다. 반면에, 행렬식의 절댓값이 1보다 작은 행렬은 크기를 축소하는 선형 변환이며, 이러한 행렬은 변환 중심을 기준으로 축소가 됩니다. 마지막으로, 행렬식의 절댓값이 1보다 큰 행렬은 크기를 확대하는 선형 변환을 나타내며, 이러한 행렬은 변환 중심을 기준으로 확대됩니다.\n",
    "- 행렬식은 선형 방정식의 해를 구하는 데에도 사용됩니다 $Ax = b$에서 A는 n x n 행렬이며, x와 b는 n 차원 벡터입니다. 만약 A의 행렬식이 0이 아니면, 이 방정식은 유일한 해를 가집니다. 그러나, A의 행렬식이 0이면, 이 방정식은 무수히 많은 해를 가질 수 있습니다.\n",
    "- 행렬식은 행렬식이 0이 아닌 행렬에 대한 Cramer의 법칙을 사용하여 역행렬을 구하는 데에도 사용됩니다. 역행렬은 선형 방정식의 해를 구하는 데 사용될 수 있으며, 행렬식이 0이 아닌 경우에만 존재합니다.\n"
   ]
  },
  {
   "cell_type": "markdown",
   "metadata": {},
   "source": [
    "#### 역행렬\n",
    "Ax = b : 계수행렬, 미지수벡터, 상수벡터\n",
    "- A, x, b가 스칼라 실수인 경우 : x = b/A \n",
    "- 행렬에서는  나눗셈 대신 역행렬 사용 : x = $A^{-1}$b"
   ]
  },
  {
   "cell_type": "code",
   "execution_count": 2,
   "metadata": {},
   "outputs": [
    {
     "name": "stdout",
     "output_type": "stream",
     "text": [
      "[[-2.   1. ]\n",
      " [ 1.5 -0.5]]\n"
     ]
    }
   ],
   "source": [
    "# 역행렬은 특정한 행렬과 곱했을 때 항등행렬이 나오는 행렬\n",
    "import numpy as np\n",
    "\n",
    "A = np.array([[1, 2], [3, 4]])  # 역행렬을 구할 행렬\n",
    "A_inv = np.linalg.inv(A)  # A의 역행렬 계산\n",
    "\n",
    "print(A_inv)  # 역행렬 출력\n"
   ]
  },
  {
   "cell_type": "code",
   "execution_count": 43,
   "metadata": {},
   "outputs": [
    {
     "data": {
      "text/plain": [
       "array([[1.00000000e+00, 1.11022302e-16],\n",
       "       [0.00000000e+00, 1.00000000e+00]])"
      ]
     },
     "execution_count": 43,
     "metadata": {},
     "output_type": "execute_result"
    }
   ],
   "source": [
    "A @ A_inv"
   ]
  },
  {
   "cell_type": "code",
   "execution_count": 8,
   "metadata": {},
   "outputs": [
    {
     "name": "stdout",
     "output_type": "stream",
     "text": [
      "[[1 2 1]\n",
      " [2 2 3]\n",
      " [1 3 1]] \n",
      "\n",
      "[[ 7. -1. -4.]\n",
      " [-1.  0.  1.]\n",
      " [-4.  1.  2.]] \n",
      "\n"
     ]
    },
    {
     "data": {
      "text/plain": [
       "array([[1., 0., 0.],\n",
       "       [0., 1., 0.],\n",
       "       [0., 0., 1.]])"
      ]
     },
     "execution_count": 8,
     "metadata": {},
     "output_type": "execute_result"
    }
   ],
   "source": [
    "# 역행렬 확인\n",
    "np.random.seed(0)\n",
    "mt1 = np.random.randint(1,4,size=(3,3))\n",
    "print(mt1,'\\n')\n",
    "mt2 = np.linalg.inv(mt1)\n",
    "print(mt2,'\\n')\n",
    "mt1 @ mt2"
   ]
  },
  {
   "cell_type": "code",
   "execution_count": 15,
   "metadata": {},
   "outputs": [
    {
     "name": "stdout",
     "output_type": "stream",
     "text": [
      "-1.0\n"
     ]
    }
   ],
   "source": [
    "# 역행렬이 존재하는 경우는 행렬식 값이 0이 아님\n",
    "mt3 = np.linalg.det(mt1)\n",
    "print(mt3)"
   ]
  },
  {
   "cell_type": "code",
   "execution_count": 14,
   "metadata": {},
   "outputs": [
    {
     "name": "stdout",
     "output_type": "stream",
     "text": [
      "[[1 2]\n",
      " [2 4]]\n",
      "0.0\n"
     ]
    }
   ],
   "source": [
    "# 역행렬이 존재하지 않는 경우는  행렬식 값이 0이 출력\n",
    "nt1 = np.array([[1, 2], [2, 4]])\n",
    "print(nt1)\n",
    "nt2 = np.linalg.det(nt1)\n",
    "print(nt2)"
   ]
  },
  {
   "cell_type": "markdown",
   "metadata": {},
   "source": [
    "<img src = '행렬식계산.png' STYLE='width 800px;'>"
   ]
  },
  {
   "cell_type": "code",
   "execution_count": 17,
   "metadata": {},
   "outputs": [
    {
     "name": "stdout",
     "output_type": "stream",
     "text": [
      "[[1 2 3]\n",
      " [4 5 6]\n",
      " [7 8 9]]\n"
     ]
    }
   ],
   "source": [
    "import numpy as np\n",
    "\n",
    "a = np.array([[1,2,3],[4,5,6],[7,8,9]])\n",
    "print(a)"
   ]
  },
  {
   "cell_type": "code",
   "execution_count": 19,
   "metadata": {},
   "outputs": [
    {
     "data": {
      "text/plain": [
       "0"
      ]
     },
     "execution_count": 19,
     "metadata": {},
     "output_type": "execute_result"
    }
   ],
   "source": [
    "# 1 2 3을 기준\n",
    "1*(45-48) -2*(36-42)+3*(32-35)"
   ]
  },
  {
   "cell_type": "code",
   "execution_count": 20,
   "metadata": {},
   "outputs": [
    {
     "data": {
      "text/plain": [
       "0"
      ]
     },
     "execution_count": 20,
     "metadata": {},
     "output_type": "execute_result"
    }
   ],
   "source": [
    "# 1 4 7을 기준\n",
    "1*(45-48) -4*(18-24) + 7*(12-15)"
   ]
  },
  {
   "cell_type": "code",
   "execution_count": 21,
   "metadata": {},
   "outputs": [
    {
     "data": {
      "text/plain": [
       "0"
      ]
     },
     "execution_count": 21,
     "metadata": {},
     "output_type": "execute_result"
    }
   ],
   "source": [
    "# 7 8 9를 기준\n",
    "7*(12-15) -8*(6-12) +9*(5-8)"
   ]
  },
  {
   "cell_type": "code",
   "execution_count": 29,
   "metadata": {},
   "outputs": [
    {
     "data": {
      "text/plain": [
       "-9.51619735392994e-16"
      ]
     },
     "execution_count": 29,
     "metadata": {},
     "output_type": "execute_result"
    }
   ],
   "source": [
    "det_a = np.linalg.det(a)\n",
    "det_a"
   ]
  },
  {
   "cell_type": "markdown",
   "metadata": {},
   "source": [
    "#### 과제2_0420.\n",
    "배열 e의 행렬식을 구하면 에러가 발생됩니다. 행렬식의 의미를 감안하여 e 행렬을 수정하여 다음사항을 수행하세요.\n",
    "- 행렬식을 계산하세요.\n",
    "- 역행렬을 구하세요.\n",
    "- 역행렬이 맞는지 검증하세요."
   ]
  },
  {
   "cell_type": "code",
   "execution_count": null,
   "metadata": {},
   "outputs": [],
   "source": [
    "import numpy as np\n",
    "e = np.array([[1, 0, 0], [0, 1, 0]])\n",
    "np.linalg.det(e)"
   ]
  },
  {
   "cell_type": "code",
   "execution_count": 22,
   "metadata": {},
   "outputs": [
    {
     "data": {
      "text/plain": [
       "1.0"
      ]
     },
     "execution_count": 22,
     "metadata": {},
     "output_type": "execute_result"
    }
   ],
   "source": [
    "e = np.array([[1, 0, 0], [0, 1, 0],[0,0,1]])\n",
    "np.linalg.det(e)"
   ]
  },
  {
   "cell_type": "code",
   "execution_count": 23,
   "metadata": {},
   "outputs": [
    {
     "name": "stdout",
     "output_type": "stream",
     "text": [
      "[[1. 0. 0.]\n",
      " [0. 1. 0.]\n",
      " [0. 0. 1.]] \n",
      "\n"
     ]
    },
    {
     "data": {
      "text/plain": [
       "array([[1., 0., 0.],\n",
       "       [0., 1., 0.],\n",
       "       [0., 0., 1.]])"
      ]
     },
     "execution_count": 23,
     "metadata": {},
     "output_type": "execute_result"
    }
   ],
   "source": [
    "import numpy as np\n",
    "e1 = np.linalg.inv(e)\n",
    "print(e1,'\\n')\n",
    "np.dot(e,e1)"
   ]
  },
  {
   "cell_type": "markdown",
   "metadata": {},
   "source": [
    "#### 과제3_0420.\n",
    "아래 두 행렬을 생성해서 각각 a1, b1으로 저장하고 행렬 내적을 계산한 결과를 출력하세요.\n",
    "\n",
    "[[1 2 3]\n",
    "[4 5 6]]\n",
    "\n",
    "[[10 11]\n",
    "[12 13]\n",
    "[14 15]]\n"
   ]
  },
  {
   "cell_type": "code",
   "execution_count": 24,
   "metadata": {},
   "outputs": [
    {
     "data": {
      "text/plain": [
       "array([[ 76,  82],\n",
       "       [184, 199]])"
      ]
     },
     "execution_count": 24,
     "metadata": {},
     "output_type": "execute_result"
    }
   ],
   "source": [
    "a1 = np.array([[1, 2, 3], [4, 5, 6]])\n",
    "b1 = np.array([[10, 11], [12, 13], [14, 15]])\n",
    "np.dot(a1,b1)"
   ]
  },
  {
   "cell_type": "markdown",
   "metadata": {},
   "source": [
    "- 선형예측모형은 입력 데이터 벡터와 가중치 벡터의 내적으로 계산된 예측값이 실제 출력 데이터와 유사한 값을 출력하도록 하는 모형"
   ]
  },
  {
   "cell_type": "markdown",
   "metadata": {},
   "source": [
    "<img src = '인공신경망행렬곱.png' STYLE='width 800px;'>"
   ]
  },
  {
   "cell_type": "markdown",
   "metadata": {},
   "source": [
    "행렬식은 선형 변환의 기하학적 특성을 나타내는 중요한 개념 중 하나\n",
    "\n",
    "- 우선, 선형 변환은 벡터 공간에서 하나의 벡터를 다른 벡터로 옮기는 함수입니다. 이 때, 선형 변환은 벡터 공간의 모양을 변경시키지 않습니다.\n",
    "\n",
    "- 행렬식은 이러한 선형 변환의 기하학적 특성 중 하나인 스케일링 및 회전을 나타냅니다. 스케일링은 벡터를 크기만 변경시키는 변환을 의미하며, 회전은 벡터를 방향을 변경시키는 변환을 의미합니다.\n",
    "\n",
    "- 행렬식은 선형 변환을 수행하는 행렬의 크기 변화를 나타내며, 변환 후의 공간의 부피를 결정합니다. 행렬식이 1보다 크면 공간이 확대되고, 1보다 작으면 공간이 축소됩니다. 또한, 행렬식이 0이면 선형 변환은 벡터 공간의 모양을 변경시키지 않습니다.\n",
    "\n",
    "- 2차원 평면에서 2배 확대하는 선형 변환을 수행하는 행렬의 행렬식은 2이며, 90도 회전하는 선형 변환을 수행하는 행렬의 행렬식은 -1입니다. 이러한 기하학적 의미는 컴퓨터 그래픽스, 물리학, 공학 등 다양한 분야에서 활용됩니다.\n",
    "    - 90도 회전하는 선형 변환을 수행하는 행렬의 행렬식이 -1이라는 것은, 이 변환이 공간의 부피를 음수로 변경시킨다는 의미\n",
    "    - 이러한 회전 변환이 적용되면, 양의 방향과 반대 방향으로 공간이 뒤집히게 되어 음수의 부피가 생기는 것\n",
    "    -  정사각형을 90도 회전하는 선형 변환을 적용하면, 정사각형은 기존과는 반대 방향으로 뒤집히게 됩니다. 이렇게 뒤집힌 정사각형은 양의 방향으로는 측정할 수 없는 음수의 부피를 가지게 됩니다.\n",
    "    \n",
    " 행렬식의 기하학적 의미 : https://angeloyeo.github.io/2019/08/06/determinant.html"
   ]
  },
  {
   "cell_type": "code",
   "execution_count": 25,
   "metadata": {},
   "outputs": [
    {
     "data": {
      "image/png": "[encoded data removed]",
      "text/plain": [
       "<Figure size 432x288 with 1 Axes>"
      ]
     },
     "metadata": {
      "needs_background": "light"
     },
     "output_type": "display_data"
    }
   ],
   "source": [
    "# x축 방향으로 2배 확대하는 선형 변환 행렬\n",
    "import numpy as np\n",
    "import matplotlib.pyplot as plt\n",
    "\n",
    "# 변환 전의 기준 벡터\n",
    "v = np.array([1, 0])\n",
    "\n",
    "# 선형 변환 행렬\n",
    "A = np.array([[2, 0], [0, 1]])\n",
    "\n",
    "# 변환 후의 벡터\n",
    "Av = np.dot(A, v)\n",
    "\n",
    "# 그래프 그리기\n",
    "fig, ax = plt.subplots()\n",
    "\n",
    "# 변환 전 벡터 그리기\n",
    "ax.quiver([0], [0], v[0], v[1], color='b', angles='xy', scale_units='xy', scale=1)\n",
    "\n",
    "# 변환 후 벡터 그리기\n",
    "ax.quiver([0], [0], Av[0], Av[1], color='r', angles='xy', scale_units='xy', scale=1)\n",
    "\n",
    "# 축 설정\n",
    "ax.set_xlim([-2, 2])\n",
    "ax.set_ylim([-2, 2])\n",
    "ax.set_xlabel('x')\n",
    "ax.set_ylabel('y')\n",
    "ax.grid()\n",
    "plt.show()"
   ]
  },
  {
   "cell_type": "code",
   "execution_count": 27,
   "metadata": {},
   "outputs": [
    {
     "name": "stdout",
     "output_type": "stream",
     "text": [
      "[[2 0]\n",
      " [0 1]] \n",
      "\n",
      "2.0\n"
     ]
    }
   ],
   "source": [
    "import numpy as np\n",
    "\n",
    "A = np.array([[2, 0], [0, 1]])\n",
    "\n",
    "print(A,'\\n')\n",
    "det_A = np.linalg.det(A)\n",
    "print(det_A)"
   ]
  },
  {
   "cell_type": "code",
   "execution_count": 28,
   "metadata": {},
   "outputs": [
    {
     "data": {
      "image/png": "[encoded data removed]",
      "text/plain": [
       "<Figure size 432x432 with 1 Axes>"
      ]
     },
     "metadata": {
      "needs_background": "light"
     },
     "output_type": "display_data"
    }
   ],
   "source": [
    "# 변환 전의 기준 벡터\n",
    "v = np.array([1, 1])\n",
    "# 선형 변환 행렬\n",
    "A = np.array([[2, 0], [0, 1]])\n",
    "# 변환 후의 벡터\n",
    "Av = np.dot(A, v)\n",
    "\n",
    "# 그래프 그리기\n",
    "fig, ax = plt.subplots(figsize=(6,6))\n",
    "# 변환 전 벡터 그리기\n",
    "ax.quiver([0], [0], v[0], v[1], color='b', angles='xy', scale_units='xy', scale=1)\n",
    "# 변환 후 벡터 그리기\n",
    "ax.quiver([0], [0], Av[0], Av[1], color='r', angles='xy', scale_units='xy', scale=1)\n",
    "# 축 설정\n",
    "ax.set_xlim([-2, 2])\n",
    "ax.set_ylim([-2, 2])\n",
    "ax.set_xlabel('x')\n",
    "ax.set_ylabel('y')\n",
    "ax.grid()\n",
    "plt.show()"
   ]
  },
  {
   "cell_type": "code",
   "execution_count": 30,
   "metadata": {},
   "outputs": [
    {
     "name": "stdout",
     "output_type": "stream",
     "text": [
      "[[2 0]\n",
      " [0 1]] \n",
      "\n",
      "2.0\n"
     ]
    }
   ],
   "source": [
    "import numpy as np\n",
    "\n",
    "A = np.array([[2, 0], [0, 1]])\n",
    "\n",
    "print(A,'\\n')\n",
    "det_A = np.linalg.det(A)\n",
    "print(det_A)"
   ]
  },
  {
   "cell_type": "markdown",
   "metadata": {},
   "source": [
    "np.dot과 np.matmul의 차이\n",
    "\n",
    "- np.dot() 함수는 두 개의 배열을 인수로 받아서 내적(dot product)을 반환합니다. 내적은 두 배열의 대응하는 요소끼리 곱한 값을 모두 더한 것입니다. 즉, 두 배열이 1D 배열인 경우에는 벡터의 내적을 계산하고, 두 배열이 2D 배열인 경우에는 행렬 곱셈을 계산합니다. 이때 두 배열의 차원 수가 다르면 np.dot() 함수는 인수를 전치(transpose)하여 계산\n",
    "\n",
    "- np.matmul() 함수도 두 개의 배열을 인수로 받아서 행렬 곱셈을 반환합니다. 그러나 np.matmul() 함수는 3D 이상의 배열에 대해서도 계산이 가능합니다. 이때 np.matmul() 함수는 마지막 두 차원에 대해서만 행렬 곱셈을 수행\n",
    "\n",
    "- np.matmul() 함수는 첫 번째 배열의 마지막 차원(4)과 두 번째 배열의 두 번째 차원(4)을 곱하여 (2, 3, 3) 크기의 배열을 반환합니다.\n",
    "따라서, np.dot() 함수는 두 배열이 1D 배열이거나 2D 배열인 경우에 사용하고, np.matmul() 함수는 두 배열이 2D 이상인 경우에 사용\n",
    "\n",
    "https://m.blog.naver.com/PostView.naver?isHttpsRedirect=true&blogId=cjh226&logNo=221356884894"
   ]
  },
  {
   "cell_type": "code",
   "execution_count": 32,
   "metadata": {},
   "outputs": [
    {
     "name": "stdout",
     "output_type": "stream",
     "text": [
      "[[ 58  64]\n",
      " [139 154]] \n",
      "\n",
      "[[ 58  64]\n",
      " [139 154]]\n"
     ]
    }
   ],
   "source": [
    "a = np.array([[1,2,3],[4,5,6]])\n",
    "b = np.array([[7,8],[9,10],[11,12]])\n",
    "print(np.dot(a,b),'\\n')\n",
    "print(np.matmul(a,b))"
   ]
  },
  {
   "cell_type": "code",
   "execution_count": 34,
   "metadata": {},
   "outputs": [
    {
     "name": "stdout",
     "output_type": "stream",
     "text": [
      "[[[1.46457597 1.20655263 1.52456182]\n",
      "  [0.9352102  0.83970829 1.13043589]\n",
      "  [1.21463957 0.909063   1.36335607]]\n",
      "\n",
      " [[0.83866261 0.88819232 0.80499372]\n",
      "  [1.08258975 0.62724969 0.71270137]\n",
      "  [1.89117311 1.31937031 1.28460105]]]\n"
     ]
    }
   ],
   "source": [
    "# 첫 번째 배열의 마지막 차원(4)과 두 번째 배열의 두 번째 차원(4)을 곱하여 \n",
    "# (2, 3, 3) 크기의 배열을 반환\n",
    "a = np.random.rand(2,3,4)\n",
    "b = np.random.rand(2,4,3)\n",
    "# print(np.dot(a,b),'\\n')\n",
    "print(np.matmul(a,b))"
   ]
  },
  {
   "cell_type": "markdown",
   "metadata": {},
   "source": [
    "#### 과제1_0421.\n",
    "5차원 배열 2개를 생성하여 행렬곱을 계산하세요."
   ]
  },
  {
   "cell_type": "code",
   "execution_count": null,
   "metadata": {},
   "outputs": [],
   "source": []
  },
  {
   "cell_type": "code",
   "execution_count": null,
   "metadata": {},
   "outputs": [],
   "source": []
  },
  {
   "cell_type": "code",
   "execution_count": null,
   "metadata": {},
   "outputs": [],
   "source": []
  },
  {
   "cell_type": "code",
   "execution_count": null,
   "metadata": {},
   "outputs": [],
   "source": []
  },
  {
   "cell_type": "code",
   "execution_count": 35,
   "metadata": {},
   "outputs": [
    {
     "data": {
      "text/plain": [
       "array([[[[-0.3835677 , -0.82479922,  2.78769787],\n",
       "         [ 0.06150587,  1.21847322, -3.22555428],\n",
       "         [ 2.07310422,  0.04205172,  0.34768151],\n",
       "         [-1.33004005, -0.82157988, -1.9738053 ]],\n",
       "\n",
       "        [[ 0.75586625, -0.55246327,  1.96001168],\n",
       "         [-5.69967783, -8.12322289, -5.15597395],\n",
       "         [-1.96063297, -1.51997858, -2.49534947],\n",
       "         [-2.5347566 ,  0.61536747, -1.74444713]],\n",
       "\n",
       "        [[ 2.68844113, -2.1933517 , -2.93732884],\n",
       "         [-0.00941831,  3.59096193,  3.14795365],\n",
       "         [-1.4207904 , -3.68295647, -2.00246209],\n",
       "         [ 1.69784405,  2.67109392,  1.03006545]]],\n",
       "\n",
       "\n",
       "       [[[ 1.43756218, -3.1231848 ,  0.10052581],\n",
       "         [ 0.68588638,  0.5212409 ,  0.90452116],\n",
       "         [ 1.23932687,  4.01374674, -2.73755438],\n",
       "         [-0.52999461,  4.85630821, -0.81719429]],\n",
       "\n",
       "        [[-0.60725156,  2.39075785, -0.24500318],\n",
       "         [ 4.51706754,  4.30594295, -3.30729588],\n",
       "         [ 3.09120952,  2.71960842, -2.65576177],\n",
       "         [ 2.96038298,  0.10715198, -0.43943652]],\n",
       "\n",
       "        [[ 3.28920479,  2.53090491, -4.19248561],\n",
       "         [-3.16094496, -0.81843328,  3.12784333],\n",
       "         [-1.19401095, -0.74549563,  1.93665433],\n",
       "         [ 2.33490137,  1.71172934, -2.33883295]]]])"
      ]
     },
     "execution_count": 35,
     "metadata": {},
     "output_type": "execute_result"
    }
   ],
   "source": [
    "a = np.random.randn(2,3,4,5)\n",
    "b = np.random.randn(2,3,5,3)\n",
    "np.matmul(a,b)"
   ]
  }
 ],
 "metadata": {
  "kernelspec": {
   "display_name": "Python 3",
   "language": "python",
   "name": "python3"
  },
  "language_info": {
   "codemirror_mode": {
    "name": "ipython",
    "version": 3
   },
   "file_extension": ".py",
   "mimetype": "text/x-python",
   "name": "python",
   "nbconvert_exporter": "python",
   "pygments_lexer": "ipython3",
   "version": "3.8.3"
  }
 },
 "nbformat": 4,
 "nbformat_minor": 4
}

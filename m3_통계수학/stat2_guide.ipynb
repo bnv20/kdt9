{
 "cells": [
  {
   "cell_type": "markdown",
   "metadata": {},
   "source": [
    "## 추측통계"
   ]
  },
  {
   "cell_type": "code",
   "execution_count": 4,
   "metadata": {},
   "outputs": [
    {
     "data": {
      "text/plain": [
       "array([76, 55, 80, 80, 74, 61, 81, 76, 23, 80], dtype=int64)"
      ]
     },
     "execution_count": 4,
     "metadata": {},
     "output_type": "execute_result"
    }
   ],
   "source": [
    "# 모집단과 표본\n",
    "# 표본의 추출방법\n",
    "\n",
    "import numpy as np\n",
    "import pandas as pd\n",
    "import matplotlib.pyplot as plt\n",
    "\n",
    "df = pd.read_csv('./data/ch4_scores400.csv')\n",
    "df.shape\n",
    "scores = np.array(df.score)\n",
    "scores[:10]"
   ]
  },
  {
   "cell_type": "code",
   "execution_count": 19,
   "metadata": {},
   "outputs": [
    {
     "data": {
      "text/plain": [
       "array([2, 1, 3])"
      ]
     },
     "execution_count": 19,
     "metadata": {},
     "output_type": "execute_result"
    }
   ],
   "source": [
    "np.random.choice([1,2,3],3, replace=False) # 중복 방지"
   ]
  },
  {
   "cell_type": "code",
   "execution_count": 57,
   "metadata": {},
   "outputs": [
    {
     "name": "stdout",
     "output_type": "stream",
     "text": [
      "[3 2 3 5 3 3 3 2 3 3]\n"
     ]
    }
   ],
   "source": [
    "data = np.array([1,2,3,4,5])\n",
    "p = [0.1,0.2,0.4,0.2,0.1]\n",
    "sample = np.random.choice(data,size=10,replace=True,p=p) # p는 선택될 확률을 지정\n",
    "print(sample)"
   ]
  },
  {
   "cell_type": "code",
   "execution_count": 30,
   "metadata": {},
   "outputs": [
    {
     "data": {
      "text/plain": [
       "array([49, 60, 72, 86, 52, 61, 77, 91, 80, 56, 69, 67, 90, 56, 75, 79, 60,\n",
       "       79, 68, 81], dtype=int64)"
      ]
     },
     "execution_count": 30,
     "metadata": {},
     "output_type": "execute_result"
    }
   ],
   "source": [
    "np.random.seed(0)\n",
    "sample = np.random.choice(scores, 20)\n",
    "sample"
   ]
  },
  {
   "cell_type": "code",
   "execution_count": 31,
   "metadata": {},
   "outputs": [
    {
     "data": {
      "text/plain": [
       "70.4"
      ]
     },
     "execution_count": 31,
     "metadata": {},
     "output_type": "execute_result"
    }
   ],
   "source": [
    "sample.mean()"
   ]
  },
  {
   "cell_type": "code",
   "execution_count": 32,
   "metadata": {},
   "outputs": [
    {
     "data": {
      "text/plain": [
       "69.53"
      ]
     },
     "execution_count": 32,
     "metadata": {},
     "output_type": "execute_result"
    }
   ],
   "source": [
    "scores.mean()"
   ]
  },
  {
   "cell_type": "code",
   "execution_count": 33,
   "metadata": {},
   "outputs": [
    {
     "name": "stdout",
     "output_type": "stream",
     "text": [
      "[56 55 79 91 86 79 83 55 85 76 81 57 77 99 61 57 81 73 59 59]\n",
      "1번째 무작위 추출로 얻은 표본평균 72.45 \n",
      "\n",
      "[80 50 85 86 85 59 72 58 31 60 56 64 49 88 66 63 63 47 67 45]\n",
      "2번째 무작위 추출로 얻은 표본평균 63.7 \n",
      "\n",
      "[31 55 77 61 54 57 72 46 52 76 92 63 63 80 94 70 76 61 80 61]\n",
      "3번째 무작위 추출로 얻은 표본평균 66.05 \n",
      "\n",
      "[47 60 65 86 65 74 76 60 85 78 73 70 68 86 58 74 67 67 83 92]\n",
      "4번째 무작위 추출로 얻은 표본평균 71.7 \n",
      "\n",
      "[54 73 92 81 87 56 96 57 93 67 90 54 90 75 46 80 63 57 78 94]\n",
      "5번째 무작위 추출로 얻은 표본평균 74.15 \n",
      "\n"
     ]
    }
   ],
   "source": [
    "for i in range(5):\n",
    "    sample = np.random.choice(scores,20)\n",
    "    print(sample)\n",
    "    print(f'{i+1}번째 무작위 추출로 얻은 표본평균', sample.mean(),'\\n')"
   ]
  },
  {
   "cell_type": "code",
   "execution_count": 58,
   "metadata": {},
   "outputs": [
    {
     "data": {
      "text/plain": [
       "array([4, 6, 1, 4, 3, 2, 3, 4, 4, 5, 4, 5, 3, 6, 1, 5, 4, 5, 2, 3, 6, 6,\n",
       "       4, 5, 6, 6, 2, 1, 3, 6, 2, 4, 6, 5, 5, 4, 5, 6, 1, 6, 6, 6, 3, 6,\n",
       "       2, 4, 6, 4, 4, 2, 1, 5, 3, 3, 5, 2, 5, 3, 5, 5, 2, 4, 5, 4, 2, 5,\n",
       "       5, 5, 6, 5, 6, 2, 2, 6, 4, 3, 6, 4, 6, 6, 6, 5, 6, 4, 3, 6, 4, 6,\n",
       "       5, 5, 2, 6, 4, 5, 4, 3, 6, 5, 1, 5])"
      ]
     },
     "execution_count": 58,
     "metadata": {},
     "output_type": "execute_result"
    }
   ],
   "source": [
    "dice = [1,2,3,4,5,6]\n",
    "prob = [1/21,2/21,3/21,4/21,5/21,6/21]\n",
    "\n",
    "np.random.seed(1)\n",
    "num_trial = 100\n",
    "sample = np.random.choice(dice ,num_trial, p=prob)\n",
    "sample"
   ]
  },
  {
   "cell_type": "code",
   "execution_count": 60,
   "metadata": {},
   "outputs": [
    {
     "name": "stdout",
     "output_type": "stream",
     "text": [
      "[ 6 12 12 20 24 26] \n",
      "\n"
     ]
    },
    {
     "data": {
      "text/html": [
       "<div>\n",
       "<style scoped>\n",
       "    .dataframe tbody tr th:only-of-type {\n",
       "        vertical-align: middle;\n",
       "    }\n",
       "\n",
       "    .dataframe tbody tr th {\n",
       "        vertical-align: top;\n",
       "    }\n",
       "\n",
       "    .dataframe thead th {\n",
       "        text-align: right;\n",
       "    }\n",
       "</style>\n",
       "<table border=\"1\" class=\"dataframe\">\n",
       "  <thead>\n",
       "    <tr style=\"text-align: right;\">\n",
       "      <th></th>\n",
       "      <th>frequency</th>\n",
       "      <th>relative frequency</th>\n",
       "    </tr>\n",
       "    <tr>\n",
       "      <th>dice</th>\n",
       "      <th></th>\n",
       "      <th></th>\n",
       "    </tr>\n",
       "  </thead>\n",
       "  <tbody>\n",
       "    <tr>\n",
       "      <th>1</th>\n",
       "      <td>6</td>\n",
       "      <td>0.06</td>\n",
       "    </tr>\n",
       "    <tr>\n",
       "      <th>2</th>\n",
       "      <td>12</td>\n",
       "      <td>0.12</td>\n",
       "    </tr>\n",
       "    <tr>\n",
       "      <th>3</th>\n",
       "      <td>12</td>\n",
       "      <td>0.12</td>\n",
       "    </tr>\n",
       "    <tr>\n",
       "      <th>4</th>\n",
       "      <td>20</td>\n",
       "      <td>0.20</td>\n",
       "    </tr>\n",
       "    <tr>\n",
       "      <th>5</th>\n",
       "      <td>24</td>\n",
       "      <td>0.24</td>\n",
       "    </tr>\n",
       "    <tr>\n",
       "      <th>6</th>\n",
       "      <td>26</td>\n",
       "      <td>0.26</td>\n",
       "    </tr>\n",
       "  </tbody>\n",
       "</table>\n",
       "</div>"
      ],
      "text/plain": [
       "      frequency  relative frequency\n",
       "dice                               \n",
       "1             6                0.06\n",
       "2            12                0.12\n",
       "3            12                0.12\n",
       "4            20                0.20\n",
       "5            24                0.24\n",
       "6            26                0.26"
      ]
     },
     "execution_count": 60,
     "metadata": {},
     "output_type": "execute_result"
    }
   ],
   "source": [
    "freq, _ = np.histogram(sample,bins=6,range=(1,7))\n",
    "print(freq,'\\n')\n",
    "rdf = pd.DataFrame({'frequency':freq,\n",
    "                   'relative frequency':freq/num_trial},\n",
    "                  index=pd.Index(np.arange(1,7),name='dice'))\n",
    "rdf"
   ]
  },
  {
   "cell_type": "code",
   "execution_count": 67,
   "metadata": {},
   "outputs": [
    {
     "data": {
      "image/png": "[encoded data removed]",
      "text/plain": [
       "<Figure size 576x432 with 1 Axes>"
      ]
     },
     "metadata": {
      "needs_background": "light"
     },
     "output_type": "display_data"
    }
   ],
   "source": [
    "# 100번 시행하여 얻은 눈의 상대도수로부터 추측된 확률분포와 실제 확률분포 사이에는 차이 발생\n",
    "np.linspace(1.5,6.5,6)\n",
    "np.random.seed(1)\n",
    "num_trial=100\n",
    "sample = np.random.choice(dice ,num_trial, p=prob)\n",
    "\n",
    "plt.figure(figsize=(8,6))\n",
    "plt.hist(sample, bins=6, range=(1,7), density=True, rwidth=0.8)\n",
    "plt.hlines(prob,np.arange(1,7), np.arange(2,8), colors='gray')\n",
    "plt.xticks(np.linspace(1.5,6.5,6),np.arange(1,7)) # x, x_labels\n",
    "plt.xlabel('dice')\n",
    "plt.ylabel('relative frequency')\n",
    "plt.show()"
   ]
  },
  {
   "cell_type": "code",
   "execution_count": 70,
   "metadata": {},
   "outputs": [
    {
     "data": {
      "image/png": "[encoded data removed]",
      "text/plain": [
       "<Figure size 576x432 with 1 Axes>"
      ]
     },
     "metadata": {
      "needs_background": "light"
     },
     "output_type": "display_data"
    }
   ],
   "source": [
    "# 1000000번 시행하여 얻은 눈의 상대도수로부터 추측된 확률분포는 실제 확률분포로 근접\n",
    "# 시행 횟수를 늘리면 상대도수는 확률분포로 수렴된다.\n",
    "np.linspace(1.5,6.5,6)\n",
    "np.random.seed(1)\n",
    "num_trial=1000000\n",
    "sample = np.random.choice(dice ,num_trial, p=prob)\n",
    "\n",
    "plt.figure(figsize=(8,6))\n",
    "plt.hist(sample, bins=6, range=(1,7), density=True, rwidth=0.8)\n",
    "plt.hlines(prob,np.arange(1,7), np.arange(2,8), colors='gray')\n",
    "plt.xticks(np.linspace(1.5,6.5,6),np.arange(1,7)) # x, x_labels\n",
    "plt.xlabel('dice')\n",
    "plt.ylabel('relative frequency')\n",
    "plt.show()"
   ]
  },
  {
   "cell_type": "code",
   "execution_count": 72,
   "metadata": {},
   "outputs": [
    {
     "data": {
      "image/png": "[encoded data removed]",
      "text/plain": [
       "<Figure size 432x288 with 1 Axes>"
      ]
     },
     "metadata": {
      "needs_background": "light"
     },
     "output_type": "display_data"
    }
   ],
   "source": [
    "import numpy as np\n",
    "import pandas as pd\n",
    "import seaborn as sns\n",
    "import matplotlib.pyplot as plt\n",
    "\n",
    "df = pd.read_csv('./data/ch4_scores400.csv')\n",
    "df.shape\n",
    "scores = np.array(df.score)\n",
    "sns.histplot(scores,kde=True)\n",
    "plt.show()"
   ]
  },
  {
   "cell_type": "code",
   "execution_count": 73,
   "metadata": {},
   "outputs": [
    {
     "data": {
      "text/plain": [
       "(400,)"
      ]
     },
     "execution_count": 73,
     "metadata": {},
     "output_type": "execute_result"
    }
   ],
   "source": [
    "scores.shape"
   ]
  },
  {
   "cell_type": "code",
   "execution_count": 78,
   "metadata": {},
   "outputs": [
    {
     "data": {
      "image/png": "[encoded data removed]",
      "text/plain": [
       "<Figure size 720x432 with 1 Axes>"
      ]
     },
     "metadata": {
      "needs_background": "light"
     },
     "output_type": "display_data"
    }
   ],
   "source": [
    "# 표본평균은 모평균을 중심으로 분포하는 것을 확인\n",
    "# 무작위 추출에 의한 표본평균으로 모평균을 추측할 수 있는 근거가 된다.\n",
    "sample_means = [np.random.choice(scores,20).mean() for _ in range(10000)]\n",
    "len(sample_means)\n",
    "\n",
    "fig = plt.figure(figsize=(10,6))\n",
    "plt.hist(sample_means, bins=100, range=(0,100), density=True)\n",
    "# 모평균을 세로선으로 표시\n",
    "plt.vlines(np.mean(scores),0,1,'yellow')\n",
    "plt.axis([50,90,0,0.13])\n",
    "plt.xlabel('score')\n",
    "plt.ylabel('relative frequency')\n",
    "plt.show()"
   ]
  },
  {
   "cell_type": "markdown",
   "metadata": {},
   "source": [
    "확률의 수학적 정의와 의미\n",
    "- 표본공간 과 확률표본\n",
    " * 확률표본 또는 표본은 풀고자 하는 문제에서 발생할 수 있는 하나의 현상 혹은 선택될 수 있는 하나의 경우를 말한다.\n",
    " * 표본공간은 가능한 모든 표본의 집합을 말하며 고려하는 범위에서 어떤 표본(경우, 현상)이 가능하고 어떤 표본이 가능하지 않은가를 정의하는 작업. 표본공간 = {H,T}, (표본 : H(동전의 앞면), T(동전의 뒷면))\n",
    " * 사건은 표본공간의 부분집합, 즉 전체 표본공간 중에서 관심을 가지는 일부 표본의 집합\n",
    " \n",
    "확률\n",
    "- 확률이란 사건(부분집합)을 입력하면 숫자(확률값)가 출력되는 함수\n",
    "- 모든 각각의 사건(부분집합)에 어떤 숫자를 할당하는 함수\n",
    "- 확률은 표본이 아닌 사건을 입력으로 가지는 함수\n",
    "\n",
    "확률의 의미\n",
    "- 빈도주의 관점 : 반복적으로 선택된 표본이 사건(부분집합) A의 원소가 될 경향. 동전을 던져 앞면이 나오는 사건의 확률값은 0.5\n",
    "- 베이지안 관점 : 선택된 표본이 특정한 사건(부분집합)에 속한다는 가설,명제 혹은 주장의 신뢰도로 반복이라는 개념은 사용되지 않음. 새가 날수 있는 가능성은 95%. '앞면이 나왔다'는 주장의 신뢰도가 0.5%\n",
    " * 베이지안 확률론에서 사건이 일어났다 혹은 발생했다하는 말은 그 사건의 원소 중에 정말로 선택된 표본이 있다는 사실을 알게 되었다는 것을 말한다.\n",
    " \n",
    "확률의 성질\n",
    "- 공집합의 확률 : 공집합인 사건의 합은 0이다. P(0) = 0\n",
    "- 여집합의 확률 : 어떤 사건의 여집합인 사건의 확률은 1 - 원래 사건의 확률 과 같다.\n",
    "- 포함-배제 원리 : 두 사건의 합집합의 확률은 각 사건의 확률의 합에서 두 사건의 교집합의 확률을 뺀 것과 같다.\n",
    "- 전체 확률의 법칙 : 생일이 1월인 남자라는 사건의 확률과 생일이 2월인 남자라는 사건의 확률, 이외에도 각각의 월을 생일로 가지는 남자라는 사건들의 확률을 모두 합하면 남자라는 사건의 확률이 된다. 각각의 월에 있는 남자의 생일이 서로 공통 원소가 없음\n",
    "\n",
    "확률분포함수\n",
    "- 확률이 어디에 어느 정도 분포되어 있는지를 수학적으로 명시하고 전달하는 도구\n",
    "- 만약 표본의 개수가 무한하다면 현실적으로 모든 사건을 하나 하나 기술하는 것은 불가능하며 확률분포함수를 이용하여 이 문제를 해결\n",
    " * 확률질량함수 : 유한 개의 사건이 존재하는 경우 각 단수사건에 대한 확률만 정의하는 함수\n",
    " * 누적분포함수 : 시작점을 모두 또같이 음의 무한대로 통일한 특수한 구간을 사용하는 사건의 확률분포를 묘사하는 함수\n",
    " * 확률밀도함수 : 누적분포함수를 미분하여 구한 도함수를 의미하며 특정한 구간의 확률이 다른 구간에 비해 상대적으로 얼마나 높은가를 나타내는 것이며 그 값 자체가 확률은 아니다.\n",
    "\n",
    "확률변수\n",
    " - 확률적인 숫자 값을 출력하는 변수"
   ]
  },
  {
   "cell_type": "markdown",
   "metadata": {},
   "source": [
    "#### 추측통계\n",
    "확률을 사용하여 모집단의 통계적 성질을 추측하는 기법\n",
    "\n",
    "[모집단 분포와 표본분포]  \n",
    "\n",
    "- 모집단: 어떤 통계적 실험의 대상이 되는 모든 대상물. ex. 대한민국 모든 남성의 키 데이터, 2018 수능점수 데이터\n",
    "- 모집단 분포: 모집단은 데이터 집단이므로 어떠한 분포를 이루며 이 데이터가 이루는 확률 분포가 모집단 분포\n",
    "- 모수: 모집단의 특성을 나타내는 수치로 모평균,모분산,모표준편차,모비율,모상관관계 등  \n",
    "  수능점수 전체데이터를 알고 싶은 것이 아니라 전체 수능점수 평균, 표준편차를 알고 싶어한다.\n",
    "  수능점수와 달리 일반적으로 대부분의 모집단 분포는 완전하게 알려진 것이 없으며 전수조사는 경제적, 공간적, 시간적 제약으로 인해 거의 불가능\n",
    "- 표본: 모집단의 모수(특성)을 알기 위하여 표본을 추출해서 모집단의 모수를 추정\n",
    "- 확률표본:  모집단을 구성하는 모든 구성원이 표본으로 뽑힐 확률을 동일하게 하여 추출한 표본. Random이란 무작위라는 의미로, 어떠한 의도를 가지지 않는다는 것을 의미하며, 모든 구성원이 뽑힐 확률이 동일하다는 개념. \n",
    "- 통계량: 확률표본의 특성을 설명하는 값으로 표본평균, 표본분산, 표본표준편차, 표본비율, 표본상관관계 등  \n",
    "  모수는 모집단이 변하지 않기 때문에 그 값이 변하지 않으나 통계량은 표본을 어떻게 추출하느냐에 따라서 그 값이 다르게 나타난다.\n",
    "- 확률변수: 무작위 실험을 했을 때 특정 확률로 발생하는 각각의 결과를 수치값으로 표현한 변수. 동전의 앞과 뒤\n",
    "- 확률분포: 확률변수 X의 모든 값과 그 에 대응하는 확률값들의 분포. 동전의 앞 0.5, 뒤 0.5 \n",
    "- 무작위로 표본 30개씩 반복해서 100번 추출하면 100번 추출한 표본 30개의 평균값들을 100개 구할 수 있다. 추출된 표본들의 각 평균값들에 대한 발생 분포를 그려보면 특정 확률변수에 대응하는 확률을 가진 확률 분포를 그릴 수 있다. 이것을 통계량의 확률분포라고 할 수 있고 이를 표본분포라고 부른다. \n",
    "- 통계량이 확률 변수라는 의미: 확률변수의 확률분포가 수학적으로 설명가능한 분포(예, 정규분포)를 따른다고 하면 특정 확률변수와 확률함수를 알고 있다면 특정 사건이 일어날 확률을 계산할 수 있으며 더 나아가 모수와 통계량의 관계를 알고 있다면 그것을 통해 모수에 대한 통계적인 추정을 할 수 있다. 즉 통계량의 확률 함수 또는 표본 분포를 안다고 가정하면 이를 이용해 모수를 추정할 수 있다. \n",
    "\n",
    "[표본통계량 성질]\n",
    "\n",
    "- 샘플사이즈가 크면 표본평균은 모평균에 가까워진다.\n",
    "- 샘플사이즈가 커질수록 표본평균의 표준편차가 작아짐. 샘플사이즈를 크게 하면 흩어짐이 적은 신뢰할 수 있는 표본평균을 얻을 수 있다.\n",
    "- 표준오차는이론상 표본평균의 표준편차 크기인데 샘플사이즈가 커지면 표준오차는 작아짐\n",
    "- 모분산은 0.64, 표본분산의 평균값은 0.575로 분산이 과소평가되어짐 -> 불편분산을 사용, 편향을 제거(ddof =1)\n",
    "- 샘플사이즈가 커질수록 불편분산은 모분산(0.64)에 가까워짐\n",
    "- 불편성 : 추정량의 기댓값이 진짜 모수(모집단의 파라미터)가 되는 특성. 편향이 없는 추정량\n",
    "- 일치성 : 샘플사이즈가 커지면 추정량이 진짜 모수에 가까워지는 특성\n",
    "- 표본평균과 불편분산은 둘다 불편성을 가지고 있다고 할 수 있다.\n",
    "- 샘플사이즈를 크게 하면 표본평균은 모평균에 가까워지고 불편분산은 모분산에 가까워지므로 일치성을 가짐\n",
    "- 큰수의 법칙 : 표본의 크기가 커지면 표본평균이 모평균에 가까워지는 방법을 표현한 법칙\n",
    "- 중심극한정리 : 모집단분포가 무엇이든지간에 샘플사이즈가 커지면 표본 평균들이 이루는 분포가 모집단의 평균μ, 표준편차σ/sqrt(n)인 정규분포에 가까워진다는 정리  \n",
    "  https://drhongdatanote.tistory.com/57 \n",
    "\n",
    "[표본분산이 분산을 과소평가하는 이유]\n",
    "\n",
    "- 분산은 '데이터와 평균값의 간의 거리' 이므로 모평균 간의 거리를 계산 : np.sum((fish_data - mu)**2)/N  \n",
    "호수안에 물고기가 7마리 있다. 몸길이 {1,2,3,4,5,6,7}, 모평균 4,  \n",
    "샘플링 3마리 {1,2,3} 표본평균 2  \n",
    "이때 분산은 모평균을 모르기 때문에 표본평균과의 거리를 계산하며 분산을 과소평가 하게된다.\n",
    "- 표본 분산 보다 조금 더 큰 값이 되도록 보정하기 위하여 N 대신 N-1로 나누어 불편분산을 구할 수 있다."
   ]
  },
  {
   "cell_type": "code",
   "execution_count": 81,
   "metadata": {},
   "outputs": [
    {
     "data": {
      "text/plain": [
       "array([4.63614802, 4.07561579, 4.49919044, 4.14353278, 3.46389867,\n",
       "       3.23401235, 3.95649151, 3.88575285, 5.25531286, 3.62979694])"
      ]
     },
     "execution_count": 81,
     "metadata": {},
     "output_type": "execute_result"
    }
   ],
   "source": [
    "# 평균 4, 표준편차 0.8이 정규분포에서 10개의 샘플 추출\n",
    "\n",
    "from scipy import stats\n",
    "population = stats.norm(loc=4,scale=0.8)\n",
    "population.rvs(size=10)"
   ]
  },
  {
   "cell_type": "code",
   "execution_count": 83,
   "metadata": {},
   "outputs": [
    {
     "name": "stdout",
     "output_type": "stream",
     "text": [
      "[0. 0. 0. 0. 0. 0. 0. 0. 0. 0.]\n"
     ]
    },
    {
     "data": {
      "text/plain": [
       "array([4.04301782, 3.89635135, 4.06089018, 4.49045039, 3.87502292,\n",
       "       3.45637803, 4.10411038, 3.98880096, 3.64785895, 3.72440206])"
      ]
     },
     "execution_count": 83,
     "metadata": {},
     "output_type": "execute_result"
    }
   ],
   "source": [
    "sample_mean_array = np.zeros(10000)\n",
    "print(sample_mean_array[:10])\n",
    "for i in range(10000):\n",
    "    sample_mean_array[i] = population.rvs(size=10).mean()\n",
    "sample_mean_array[:10]"
   ]
  },
  {
   "cell_type": "code",
   "execution_count": 85,
   "metadata": {},
   "outputs": [
    {
     "data": {
      "text/plain": [
       "4.0"
      ]
     },
     "execution_count": 85,
     "metadata": {},
     "output_type": "execute_result"
    }
   ],
   "source": [
    "# 표본평균의 평균\n",
    "sample_mean_array.mean().round(2)"
   ]
  },
  {
   "cell_type": "code",
   "execution_count": 89,
   "metadata": {},
   "outputs": [
    {
     "data": {
      "text/plain": [
       "0.25"
      ]
     },
     "execution_count": 89,
     "metadata": {},
     "output_type": "execute_result"
    }
   ],
   "source": [
    "# 표본평균의 표준편차\n",
    "sample_mean_array.std(ddof=1).round(2)"
   ]
  },
  {
   "cell_type": "code",
   "execution_count": 87,
   "metadata": {},
   "outputs": [
    {
     "data": {
      "text/plain": [
       "<matplotlib.axes._subplots.AxesSubplot at 0x1ca327b2be0>"
      ]
     },
     "execution_count": 87,
     "metadata": {},
     "output_type": "execute_result"
    },
    {
     "data": {
      "image/png": "[encoded data removed]",
      "text/plain": [
       "<Figure size 432x288 with 1 Axes>"
      ]
     },
     "metadata": {
      "needs_background": "light"
     },
     "output_type": "display_data"
    }
   ],
   "source": [
    "sns.histplot(sample_mean_array,kde=True)"
   ]
  },
  {
   "cell_type": "code",
   "execution_count": 94,
   "metadata": {},
   "outputs": [
    {
     "data": {
      "text/plain": [
       "array([ 10, 110, 210, 310, 410, 510, 610, 710, 810, 910])"
      ]
     },
     "execution_count": 94,
     "metadata": {},
     "output_type": "execute_result"
    }
   ],
   "source": [
    "# 샘플사이즈 변화\n",
    "size_array = np.arange(10,100100,100)\n",
    "size_array[:10]"
   ]
  },
  {
   "cell_type": "code",
   "execution_count": 92,
   "metadata": {},
   "outputs": [
    {
     "data": {
      "text/plain": [
       "1001"
      ]
     },
     "execution_count": 92,
     "metadata": {},
     "output_type": "execute_result"
    }
   ],
   "source": [
    "sample_mean_array_size = np.zeros(len(size_array))\n",
    "len(sample_mean_array_size)"
   ]
  },
  {
   "cell_type": "code",
   "execution_count": 95,
   "metadata": {},
   "outputs": [
    {
     "data": {
      "text/plain": [
       "array([3.99954467, 4.00115947, 4.00311652, 3.99975072, 3.99989178,\n",
       "       3.99777706, 3.99881193, 3.99936965, 3.99778023, 3.99851887,\n",
       "       3.99990764])"
      ]
     },
     "execution_count": 95,
     "metadata": {},
     "output_type": "execute_result"
    }
   ],
   "source": [
    "# 샘플사이즈를 변화시키면서 표본평균을 도출하는 시뮬레이션\n",
    "np.random.seed(1)\n",
    "for i in range(0,len(size_array)):\n",
    "    sample = population.rvs(size=size_array[i])\n",
    "    sample_mean_array_size[i] = np.mean(sample)\n",
    "sample_mean_array_size[990:]"
   ]
  },
  {
   "cell_type": "code",
   "execution_count": 96,
   "metadata": {},
   "outputs": [
    {
     "data": {
      "image/png": "[encoded data removed]",
      "text/plain": [
       "<Figure size 720x432 with 1 Axes>"
      ]
     },
     "metadata": {
      "needs_background": "light"
     },
     "output_type": "display_data"
    }
   ],
   "source": [
    "plt.figure(figsize=(10,6))\n",
    "plt.plot(size_array, sample_mean_array_size, color='b')\n",
    "plt.xlabel('sample size')\n",
    "plt.ylabel('sample mean')\n",
    "plt.show()"
   ]
  },
  {
   "cell_type": "code",
   "execution_count": 99,
   "metadata": {},
   "outputs": [
    {
     "data": {
      "text/plain": [
       "3.9970521353040107"
      ]
     },
     "execution_count": 99,
     "metadata": {},
     "output_type": "execute_result"
    }
   ],
   "source": [
    "# 사용자 함수(표본평균 계산) \n",
    "def cal_sample_mean(size, n_trial):\n",
    "    sample_mean_array = np.zeros(n_trial)\n",
    "    for i in range(n_trial):\n",
    "        sample_mean_array[i] = population.rvs(size=size).mean()\n",
    "    return sample_mean_array\n",
    "np.mean(cal_sample_mean(size=10,n_trial=10000))"
   ]
  },
  {
   "cell_type": "markdown",
   "metadata": {},
   "source": [
    "#### 과제2_0411.\n",
    "상기 사용자 함수를 사용하여 샘플사이즈가 10, 20, 30이고 샘플갯수가 각각 10000개인 3개의 데이터프레임을 생성 후 결합한 후 바이올린 플롯을 그려서 인사이트를 기술하세요.\n"
   ]
  }
 ],
 "metadata": {
  "kernelspec": {
   "display_name": "Python 3",
   "language": "python",
   "name": "python3"
  },
  "language_info": {
   "codemirror_mode": {
    "name": "ipython",
    "version": 3
   },
   "file_extension": ".py",
   "mimetype": "text/x-python",
   "name": "python",
   "nbconvert_exporter": "python",
   "pygments_lexer": "ipython3",
   "version": "3.8.3"
  }
 },
 "nbformat": 4,
 "nbformat_minor": 4
}

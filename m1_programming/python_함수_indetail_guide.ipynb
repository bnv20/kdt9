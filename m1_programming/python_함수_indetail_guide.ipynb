{
 "cells": [
  {
   "cell_type": "markdown",
   "metadata": {},
   "source": [
    "#### 함수\n",
    "- 특정 목적을 가진 독립된 코드 집합\n",
    "  - 두 수를 입력받아 더한 값을 계산하는 코드\n",
    "  - 더한 값을 계산하는 코드가 프로그램 여러 곳에서 사용된다고 할 때 이 부분만을 따로 구성하여 재사용하면 효율화할 수 있음\n",
    "- 사용자 함수는 def로 시작하여 정의"
   ]
  },
  {
   "cell_type": "code",
   "execution_count": 1,
   "metadata": {},
   "outputs": [
    {
     "name": "stdout",
     "output_type": "stream",
     "text": [
      "25\n",
      "45\n",
      "대한민국~만세!!\n"
     ]
    }
   ],
   "source": [
    "def add_number(n1, n2):\n",
    "   ret = n1+n2\n",
    "   return ret\n",
    "\n",
    "def add_txt(t1, t2):\n",
    "   print(t1+t2)\n",
    " \n",
    "ans1 = add_number(10, 15)\n",
    "print(ans1)                   # 25가 출력됨\n",
    "ans2 = add_number(20, 25)\n",
    "print(ans2)   \n",
    "text1 = '대한민국~'\n",
    "text2 ='만세!!'\n",
    "add_txt(text1, text2)         # ‘대한민국~만세!!’가 출력됨"
   ]
  },
  {
   "cell_type": "code",
   "execution_count": 7,
   "metadata": {},
   "outputs": [
    {
     "name": "stdout",
     "output_type": "stream",
     "text": [
      "베스트 : 파이썬\n",
      "1등 : 대한민국\n",
      "()\n",
      "(3, 5, 1, 5, 8)\n",
      "{}\n",
      "{'depth': 50, 'color': 'blue'}\n"
     ]
    }
   ],
   "source": [
    "# 함수 인자 : 기본적으로 인자 순서에 대응되는 값을 함수 코드에 대입\n",
    "def add_txt(t1, t2='파이썬'): # t2 기본값을 대입한 기본 인자는 마지막에 위치해야 함\n",
    "   print(t1+' : ' +t2)\n",
    "   \n",
    "add_txt('베스트')                   # ‘베스트 : 파이썬’이 출력됨. t1은 베스트, t2는 기본값이 대입\n",
    "add_txt(t2='대한민국', t1='1등')    # ‘1등 : 대한민국’이 출력됨. 키워드 인자에 의한 값 전달. 인자의 순서는 무시\n",
    "\n",
    "def func1(*args): # 인자의 개수가 불명확한 경우 가변 인자 사용. args는 함수 내부에서 튜플로 처리\n",
    "   print(args)\n",
    "\n",
    "def func2(width, height, **kwargs): # 키워드 인자가 불명확한 경우 **kwargs를 사용. 함수 내부에서 사전으로 처리\n",
    "   print(kwargs)\n",
    "\n",
    "func1()                          # 빈 튜플 ( ) 이 출력됨\n",
    "func1(3, 5, 1, 5, 8)                  # (3, 5, 1, 5)가 출력됨\n",
    "func2(10, 20)                          # 빈 사전 { }이 출력됨\n",
    "func2(10, 20, depth=50, color='blue')  #{‘depth’:50, ‘color’:’blue’} 이 출력됨"
   ]
  },
  {
   "cell_type": "code",
   "execution_count": 5,
   "metadata": {},
   "outputs": [
    {
     "data": {
      "text/plain": [
       "(10, 20, {'depth': 50, 'color': 'blue'})"
      ]
     },
     "execution_count": 5,
     "metadata": {},
     "output_type": "execute_result"
    }
   ],
   "source": [
    "def func2(width, height, **kwargs):\n",
    "    return width, height, kwargs\n",
    "\n",
    "# func2(10, 20) \n",
    "func2(10, 20, depth=50, color='blue') "
   ]
  },
  {
   "cell_type": "markdown",
   "metadata": {},
   "source": [
    "#### 인자와 리턴값 여부에 따른 함수 유형"
   ]
  },
  {
   "cell_type": "code",
   "execution_count": null,
   "metadata": {
    "id": "628c7e1d",
    "outputId": "53bc7973-837e-4b38-e79b-f991ebe5e385"
   },
   "outputs": [
    {
     "name": "stdout",
     "output_type": "stream",
     "text": [
      "HI\n"
     ]
    }
   ],
   "source": [
    "# 입력값이 없고 결과값만 있는 함수\n",
    "def say():\n",
    "    return 'HI'\n",
    "\n",
    "a = say()\n",
    "print(a)"
   ]
  },
  {
   "cell_type": "code",
   "execution_count": 7,
   "metadata": {
    "id": "2265b9fc",
    "outputId": "13f89e22-cbeb-4200-ca49-cce8253ff57f"
   },
   "outputs": [
    {
     "name": "stdout",
     "output_type": "stream",
     "text": [
      "3, 4의 합은 7입니다.\n",
      "None\n"
     ]
    }
   ],
   "source": [
    "# 입력값은 있고 결과값이 없는 함수\n",
    "# 결과값은 오직 return 명령어로만 돌려 받을 수 있음\n",
    "def add(a,b):\n",
    "    print('%d, %d의 합은 %d입니다.' %(a,b,a+b))\n",
    "# add(3,4)\n",
    "a = add(3,4)\n",
    "print(a)"
   ]
  },
  {
   "cell_type": "code",
   "execution_count": 8,
   "metadata": {},
   "outputs": [
    {
     "name": "stdout",
     "output_type": "stream",
     "text": [
      "7\n"
     ]
    }
   ],
   "source": [
    "def add(a,b):\n",
    "    return a+b\n",
    "a = add(3,4)\n",
    "print(a)\n",
    "# add(3,4)"
   ]
  },
  {
   "cell_type": "code",
   "execution_count": 8,
   "metadata": {
    "id": "d4178154",
    "outputId": "2f2101a2-4070-450d-9a8d-e2c9017a5715"
   },
   "outputs": [
    {
     "name": "stdout",
     "output_type": "stream",
     "text": [
      "Hi\n",
      "None\n"
     ]
    }
   ],
   "source": [
    "# 입력값도 결과값도 없는 함수\n",
    "\n",
    "def say():\n",
    "    print('Hi')\n",
    "    \n",
    "a = say()\n",
    "print(a)"
   ]
  },
  {
   "cell_type": "code",
   "execution_count": 9,
   "metadata": {
    "id": "a64e2f72",
    "outputId": "b0580642-8cd9-486f-8524-1aa65546da17"
   },
   "outputs": [
    {
     "data": {
      "text/plain": [
       "30"
      ]
     },
     "execution_count": 9,
     "metadata": {},
     "output_type": "execute_result"
    }
   ],
   "source": [
    "# 입력값, 결과값이 모두 있는 함수\n",
    "def max(a,b,c):\n",
    "    if a>b:\n",
    "        if a>c:\n",
    "            return a\n",
    "        elif a<c:\n",
    "            return c\n",
    "    if a<b:\n",
    "        if b>c:\n",
    "            return b\n",
    "        else:\n",
    "            return c\n",
    "\n",
    "# print(\"가장 큰 수는 %d입니다.\" %(max(20,1,30)))\n",
    "max(10,20,30)\n"
   ]
  },
  {
   "cell_type": "code",
   "execution_count": 10,
   "metadata": {
    "id": "ae65873e",
    "outputId": "1bb3049f-b748-43e0-e90f-596b6029bb71"
   },
   "outputs": [
    {
     "data": {
      "text/plain": [
       "5"
      ]
     },
     "execution_count": 10,
     "metadata": {},
     "output_type": "execute_result"
    }
   ],
   "source": [
    "def math(x, y, z):\n",
    "    if z == '*':\n",
    "        return x*y\n",
    "    elif z== '/':\n",
    "        return x/y\n",
    "    elif z== '+':\n",
    "        return x+y\n",
    "    elif z== '%':\n",
    "        return x%y\n",
    "    elif z== '^':\n",
    "        return x**y\n",
    "    elif z== '-':\n",
    "        return x-y\n",
    "    elif z== '//':\n",
    "        return x//y\n",
    "    else:\n",
    "        return\n",
    "\n",
    "# print(math(int(input(\"숫자1 : \")), int(input(\"숫자2 : \")), input(\"기호 : \")))\n",
    "math(10,2,'//')\n"
   ]
  },
  {
   "cell_type": "code",
   "execution_count": null,
   "metadata": {
    "id": "a2846810",
    "outputId": "dfbfd10f-93cf-43af-c742-814e735dba75"
   },
   "outputs": [
    {
     "data": {
      "text/plain": [
       "'3 equal 3'"
      ]
     },
     "execution_count": 18,
     "metadata": {},
     "output_type": "execute_result"
    }
   ],
   "source": [
    "def com(a,b):\n",
    "    if a>b:\n",
    "        return f'{a} bigger than {b}'\n",
    "    elif a<b:\n",
    "        return f'{a} smaller than {b}'\n",
    "    else:\n",
    "        return f'{a} equal {b}'\n",
    "com(3,3)\n"
   ]
  },
  {
   "cell_type": "code",
   "execution_count": 12,
   "metadata": {
    "id": "e77da357",
    "outputId": "fd808ef6-56cf-41a6-c0e0-0dc0e9279ab5"
   },
   "outputs": [
    {
     "data": {
      "text/plain": [
       "15"
      ]
     },
     "execution_count": 12,
     "metadata": {},
     "output_type": "execute_result"
    }
   ],
   "source": [
    "# 여러 개의 입력값을 받는 함수 만들기\n",
    "# *args 처럼 입력 변수명 앞에 * 를 붙이면 입력값들을 전부 모아서 튜플로 만들어 줌\n",
    "\n",
    "def add_many(*args):\n",
    "    add = 0\n",
    "    for i in args:\n",
    "        add += i\n",
    "    return add\n",
    "\n",
    "# add_many(1,2,3,4,5,6,7,8,9,10)\n",
    "add_many(1,2,3,4,5)"
   ]
  },
  {
   "cell_type": "code",
   "execution_count": null,
   "metadata": {
    "id": "c32e9f7d",
    "outputId": "9c0b1bf7-155c-42d6-bd54-47569b46df30"
   },
   "outputs": [
    {
     "name": "stdout",
     "output_type": "stream",
     "text": [
      "(7, 12)\n"
     ]
    }
   ],
   "source": [
    "# 함수의 반환 값은 언제나 하나임 - 결과 값으로 튜플 값 하나를 갖게 됨\n",
    "def add_and_mul(a,b):\n",
    "    return a+b, a*b\n",
    "\n",
    "result = add_and_mul(3,4)\n",
    "print(result)"
   ]
  },
  {
   "cell_type": "code",
   "execution_count": null,
   "metadata": {
    "id": "857888c5"
   },
   "outputs": [],
   "source": [
    "# add_mul() 함수를 정의하여 1,2,3,4,5를 입력 값으로 적용하여 덧셈,곱셈 연산을 수행하세요.\n",
    "def add_mul(choice, *args):\n",
    "    \n",
    "    \n",
    "add_mul('add', 1,2,3,4,5)"
   ]
  },
  {
   "cell_type": "code",
   "execution_count": 14,
   "metadata": {
    "id": "743d0c9c",
    "outputId": "035c5ca6-306b-4ee8-a431-82363dd92d26"
   },
   "outputs": [
    {
     "data": {
      "text/plain": [
       "15"
      ]
     },
     "execution_count": 14,
     "metadata": {},
     "output_type": "execute_result"
    }
   ],
   "source": [
    "def add_mul(choice, *args):\n",
    "    if choice == '+':\n",
    "        result = 0\n",
    "        for i in args:\n",
    "            result += i\n",
    "        return result\n",
    "    elif choice == '*':\n",
    "        result = 1\n",
    "        for i in args:\n",
    "            result *= i\n",
    "        return result\n",
    "    else :\n",
    "        print('수행할 수 없는 연산입니다.')\n",
    "\n",
    "add_mul('*',1,2,3,4,5)\n",
    "add_mul('+',1,2,3,4,5)"
   ]
  },
  {
   "cell_type": "code",
   "execution_count": null,
   "metadata": {
    "id": "2febf000"
   },
   "outputs": [],
   "source": [
    "# [과제] 뻴셈, 나눗셈 멀티 계산 함수를 작성\n",
    "# ('sub', 2,4,6,8,10)\n",
    "# ('div', 2,4,6,8,10)"
   ]
  },
  {
   "cell_type": "code",
   "execution_count": 18,
   "metadata": {
    "id": "49cbda0d",
    "outputId": "07242b81-71b2-48cd-da2c-e204f28f6512"
   },
   "outputs": [
    {
     "name": "stdout",
     "output_type": "stream",
     "text": [
      "-26\n",
      "0.001\n"
     ]
    }
   ],
   "source": [
    "def sub_div (choice, *args) :\n",
    "    if choice == \"sub\":\n",
    "        result = args[0]\n",
    "        for i in args[1:] : \n",
    "            result -= i\n",
    "        return result\n",
    "    elif choice == 'div':\n",
    "        result = args[0]\n",
    "        for i in args[1:] :\n",
    "            if i == 0:\n",
    "                return print(\"오류\")\n",
    "            result /= i\n",
    "        return round(result,4) \n",
    "\n",
    "print(sub_div('sub', 2,4,6,8,10))\n",
    "print(sub_div('div', 2,4,6,8,10))\n"
   ]
  },
  {
   "cell_type": "markdown",
   "metadata": {},
   "source": [
    "#### 지역변수와 전역변수\n",
    "- 지역변수는 함수 내부에서만 유효하고 \n",
    "- 전역변수는 코드 전반에 걸쳐 유효\n",
    "- 함수의 인자는 지역변수"
   ]
  },
  {
   "cell_type": "code",
   "execution_count": 20,
   "metadata": {},
   "outputs": [
    {
     "name": "stdout",
     "output_type": "stream",
     "text": [
      "지역변수\n"
     ]
    }
   ],
   "source": [
    "strdata = '전역변수'\n",
    "\n",
    "def func1():\n",
    "   strdata = '지역변수'\n",
    "   print(strdata)\n",
    "    \n",
    "func1()                  # ‘지역변수’가 출력됨"
   ]
  },
  {
   "cell_type": "code",
   "execution_count": 21,
   "metadata": {},
   "outputs": [
    {
     "name": "stdout",
     "output_type": "stream",
     "text": [
      "전역변수\n"
     ]
    }
   ],
   "source": [
    "print(strdata)           # ‘전역변수’가 출력됨"
   ]
  },
  {
   "cell_type": "code",
   "execution_count": 22,
   "metadata": {},
   "outputs": [
    {
     "name": "stdout",
     "output_type": "stream",
     "text": [
      "10\n"
     ]
    }
   ],
   "source": [
    "param = 10\n",
    "def func2(param):       \n",
    "   param = 1\n",
    "\n",
    "print(param)             # 전역변수 10이 출력됨"
   ]
  },
  {
   "cell_type": "code",
   "execution_count": 23,
   "metadata": {},
   "outputs": [
    {
     "name": "stdout",
     "output_type": "stream",
     "text": [
      "10\n"
     ]
    }
   ],
   "source": [
    "param = 10\n",
    "def func2(param):       \n",
    "   param = 1\n",
    "\n",
    "print(param)             # 전역변수 10이 출력됨"
   ]
  },
  {
   "cell_type": "code",
   "execution_count": 24,
   "metadata": {},
   "outputs": [
    {
     "name": "stdout",
     "output_type": "stream",
     "text": [
      "50\n"
     ]
    }
   ],
   "source": [
    "param = 10\n",
    "def func3():\n",
    "   global param         # 함수 내부에서 전역변수를 사용하려면 'global' 키워드를 이용해 전역변수를 사용한다고 명시\n",
    "   param = 50\n",
    "func3()\n",
    "print(param)             # 50이 출력됨"
   ]
  },
  {
   "cell_type": "code",
   "execution_count": 25,
   "metadata": {},
   "outputs": [
    {
     "name": "stdout",
     "output_type": "stream",
     "text": [
      "지역변수\n",
      "전역변수\n",
      "10\n",
      "10\n",
      "50\n"
     ]
    }
   ],
   "source": [
    "param = 10\n",
    "strdata = '전역변수'\n",
    "\n",
    "def func1():\n",
    "   strdata = '지역변수'\n",
    "   print(strdata)\n",
    "   \n",
    "def func2(param):\n",
    "   param = 1\n",
    "   \n",
    "def func3():\n",
    "   global param\n",
    "   param = 50\n",
    "   \n",
    "func1()                  # ‘지역변수’가 출력됨\n",
    "print(strdata)           # ‘전역변수’가 출력됨\n",
    "print(param)             # 10이 출력됨\n",
    "func2(param)\n",
    "print(param)             # 10이 출력됨\n",
    "func3()\n",
    "print(param)             # 50이 출력됨"
   ]
  },
  {
   "cell_type": "code",
   "execution_count": null,
   "metadata": {
    "id": "09e65afa",
    "outputId": "1aba6284-20cb-4175-bbb8-00f865b17981"
   },
   "outputs": [
    {
     "name": "stdout",
     "output_type": "stream",
     "text": [
      "None\n",
      "1\n"
     ]
    }
   ],
   "source": [
    "# 함수 안에서 선언된 변수의 효력 범위\n",
    "a = 1\n",
    "def vartest(a):    \n",
    "    a = a + 1\n",
    "    \n",
    "print(vartest(a))\n",
    "print(a)"
   ]
  },
  {
   "cell_type": "code",
   "execution_count": null,
   "metadata": {
    "id": "42fc130b",
    "outputId": "e15d6557-a5a7-48fe-9ecc-d1ea69635118"
   },
   "outputs": [
    {
     "name": "stdout",
     "output_type": "stream",
     "text": [
      "2\n"
     ]
    }
   ],
   "source": [
    "# 함수 안에서 함수 밖의 변수를 변경하는 방법 - return 이용\n",
    "\n",
    "a = 1\n",
    "def vartest(a):\n",
    "    a =  a+1\n",
    "    return a\n",
    "a = vartest(a)\n",
    "print(a)"
   ]
  },
  {
   "cell_type": "code",
   "execution_count": null,
   "metadata": {
    "id": "4ca65865",
    "outputId": "09be6115-7285-450a-b25e-41e17da1d6f5"
   },
   "outputs": [
    {
     "name": "stdout",
     "output_type": "stream",
     "text": [
      "2\n"
     ]
    }
   ],
   "source": [
    "# global 명령을 이용하는 방법\n",
    "a = 1\n",
    "def vartest():\n",
    "    global a\n",
    "    a = a + 1\n",
    "    \n",
    "vartest()\n",
    "print(a)"
   ]
  },
  {
   "cell_type": "markdown",
   "metadata": {},
   "source": [
    "#### 함수 리턴값 : return\n",
    "- 함수는 한 개 이상의 값을 리턴할 수 있으며 리턴값이 없을 수도 있다.\n",
    "- 리턴 값이 여러 개인 경우에는 튜플로 리턴값을 만들어 리턴"
   ]
  },
  {
   "cell_type": "code",
   "execution_count": 26,
   "metadata": {},
   "outputs": [
    {
     "name": "stdout",
     "output_type": "stream",
     "text": [
      "(3, 2, 1)\n",
      "c b a\n",
      "c\n",
      "b\n",
      "a\n"
     ]
    }
   ],
   "source": [
    "def reverse(x, y, z):\n",
    "   return z, y, x\n",
    "\n",
    "ret = reverse(1, 2, 3)\n",
    "print(ret)                       # (3, 2, 1)이 출력됨\n",
    "\n",
    "r1, r2, r3 = reverse('a', 'b', 'c')  \n",
    "print(r1,r2,r3)\n",
    "print(r1); print(r2); print(r3)      # 튜플의 요소 개수만큼 나누어서 리턴값을 개별적으로 받을 수 있음"
   ]
  },
  {
   "cell_type": "code",
   "execution_count": 27,
   "metadata": {
    "id": "6eecb2b5",
    "outputId": "65904b73-df57-4a33-b3fb-01baf8a301c0"
   },
   "outputs": [
    {
     "data": {
      "text/plain": [
       "'C:\\\\hmkd1\\\\m1_programming'"
      ]
     },
     "execution_count": 27,
     "metadata": {},
     "output_type": "execute_result"
    }
   ],
   "source": [
    "# 현재 작업 폴더\n",
    "%pwd"
   ]
  },
  {
   "cell_type": "code",
   "execution_count": 28,
   "metadata": {},
   "outputs": [
    {
     "name": "stdout",
     "output_type": "stream",
     "text": [
      " C 드라이브의 볼륨에는 이름이 없습니다.\n",
      " 볼륨 일련 번호: 1E31-6082\n",
      "\n",
      " C:\\hmkd1\\m1_programming 디렉터리\n",
      "\n",
      "2023-03-14  오후 02:20    <DIR>          .\n",
      "2023-03-14  오후 02:20    <DIR>          ..\n",
      "2023-03-14  오후 12:02    <DIR>          .ipynb_checkpoints\n",
      "2023-03-09  오후 03:38                18 foo.txt\n",
      "2023-03-09  오후 01:47            90,666 p1_기초.ipynb\n",
      "2023-03-08  오전 09:59           147,052 p1_기초_org.ipynb\n",
      "2023-03-10  오전 11:35    <DIR>          program\n",
      "2023-03-09  오후 04:27           332,935 python_codingTest.ipynb\n",
      "2023-03-13  오후 03:20           160,048 python_기초_indetail.ipynb\n",
      "2023-03-14  오전 10:33           155,646 python_기초_indetail_guide.ipynb\n",
      "2023-03-09  오후 04:52            10,063 python_날짜.ipynb\n",
      "2023-03-10  오전 11:37            11,421 python_예외처리.ipynb\n",
      "2023-03-09  오전 08:34            47,246 python_정규표현식.ipynb\n",
      "2023-03-09  오후 02:48            68,324 python_클래스.ipynb\n",
      "2023-03-14  오후 02:17            60,075 python_함수_indetail.ipynb\n",
      "2023-03-14  오후 02:20            47,438 python_함수_indetail_guide.ipynb\n",
      "2023-03-09  오후 02:39        23,832,000 python_함수응용.ipynb\n",
      "2023-03-09  오후 04:07                40 test.txt\n",
      "2023-03-09  오후 03:39               261 test2.txt\n",
      "2023-03-09  오후 03:30               261 test_new.txt\n",
      "2023-03-07  오후 04:25           338,933 과제.ipynb\n",
      "2023-03-08  오전 10:55            20,241 과제_정규표현식.ipynb\n",
      "2023-03-08  오전 11:58             5,051 날짜_연습.ipynb\n",
      "2023-03-10  오전 11:58            16,924 예외처리.ipynb\n",
      "2023-03-08  오전 10:55            47,246 정규표현식.ipynb\n",
      "2023-03-08  오전 10:55            68,340 클래스.ipynb\n",
      "2023-03-10  오전 10:14            44,166 함수.ipynb\n",
      "2023-03-08  오후 12:01        23,834,189 함수_응용.ipynb\n",
      "              24개 파일          49,338,584 바이트\n",
      "               4개 디렉터리  54,855,516,160 바이트 남음\n"
     ]
    }
   ],
   "source": [
    "!dir"
   ]
  },
  {
   "cell_type": "markdown",
   "metadata": {},
   "source": [
    "#### 파일 입출력"
   ]
  },
  {
   "cell_type": "code",
   "execution_count": 31,
   "metadata": {},
   "outputs": [],
   "source": [
    "# 폴더 경로 이동\n",
    "import os\n",
    "os.chdir('C:/hmkd1/m1_programming')"
   ]
  },
  {
   "cell_type": "code",
   "execution_count": 32,
   "metadata": {},
   "outputs": [
    {
     "data": {
      "text/plain": [
       "'C:\\\\hmkd1\\\\m1_programming'"
      ]
     },
     "execution_count": 32,
     "metadata": {},
     "output_type": "execute_result"
    }
   ],
   "source": [
    "%pwd"
   ]
  },
  {
   "cell_type": "code",
   "execution_count": 12,
   "metadata": {
    "id": "7cc0d478"
   },
   "outputs": [],
   "source": [
    "# 파일 읽고 쓰기\n",
    "f = open('test1.txt','w')\n",
    "f.close()"
   ]
  },
  {
   "cell_type": "code",
   "execution_count": 33,
   "metadata": {
    "id": "c0a16a3c"
   },
   "outputs": [],
   "source": [
    "f = open('test1.txt','w')\n",
    "for i in range(1,11):\n",
    "    data = '%d번째 줄입니다.\\n' %i\n",
    "    f.write(data)\n",
    "f.close()"
   ]
  },
  {
   "cell_type": "code",
   "execution_count": 34,
   "metadata": {
    "id": "9dd8c8c7",
    "outputId": "dca81f10-643b-4887-ff63-37dc3c258ad8"
   },
   "outputs": [
    {
     "name": "stdout",
     "output_type": "stream",
     "text": [
      "1번째 줄입니다.\n",
      "\n"
     ]
    }
   ],
   "source": [
    "f = open('test1.txt','r')\n",
    "line = f.readline()\n",
    "print(line)\n",
    "f.close()"
   ]
  },
  {
   "cell_type": "code",
   "execution_count": 35,
   "metadata": {
    "id": "fedd8ae7",
    "outputId": "77b28439-8d0d-4728-ec8c-8d92a4fbb40e"
   },
   "outputs": [
    {
     "name": "stdout",
     "output_type": "stream",
     "text": [
      "1번째 줄입니다.\n",
      "\n",
      "2번째 줄입니다.\n",
      "\n",
      "3번째 줄입니다.\n",
      "\n",
      "4번째 줄입니다.\n",
      "\n",
      "5번째 줄입니다.\n",
      "\n",
      "6번째 줄입니다.\n",
      "\n",
      "7번째 줄입니다.\n",
      "\n",
      "8번째 줄입니다.\n",
      "\n",
      "9번째 줄입니다.\n",
      "\n",
      "10번째 줄입니다.\n",
      "\n"
     ]
    }
   ],
   "source": [
    "f = open('test1.txt', 'r')\n",
    "for i in range(10):\n",
    "    line = f.readline()\n",
    "    print(line)\n",
    "f.close()"
   ]
  },
  {
   "cell_type": "code",
   "execution_count": 17,
   "metadata": {
    "id": "d8c7be22",
    "outputId": "6e32ad1b-b156-4bfc-d5fd-7440d3df0ba0"
   },
   "outputs": [
    {
     "name": "stdout",
     "output_type": "stream",
     "text": [
      "1번째 줄입니다.\n",
      "\n",
      "2번째 줄입니다.\n",
      "\n",
      "3번째 줄입니다.\n",
      "\n",
      "4번째 줄입니다.\n",
      "\n",
      "5번째 줄입니다.\n",
      "\n",
      "6번째 줄입니다.\n",
      "\n",
      "7번째 줄입니다.\n",
      "\n",
      "8번째 줄입니다.\n",
      "\n",
      "9번째 줄입니다.\n",
      "\n",
      "10번째 줄입니다.\n",
      "\n"
     ]
    }
   ],
   "source": [
    "f = open('test1.txt','r')\n",
    "while True:\n",
    "    line = f.readline()\n",
    "    if not line: break\n",
    "    print(line)\n",
    "f.close()"
   ]
  },
  {
   "cell_type": "code",
   "execution_count": 18,
   "metadata": {
    "id": "052f8f3c",
    "outputId": "2051a589-e6d3-4d54-9a18-23d5fe277e6c"
   },
   "outputs": [
    {
     "name": "stdout",
     "output_type": "stream",
     "text": [
      "1번째 줄입니다.\n",
      "2번째 줄입니다.\n",
      "3번째 줄입니다.\n",
      "4번째 줄입니다.\n",
      "5번째 줄입니다.\n",
      "6번째 줄입니다.\n",
      "7번째 줄입니다.\n",
      "8번째 줄입니다.\n",
      "9번째 줄입니다.\n",
      "10번째 줄입니다.\n",
      "\n"
     ]
    }
   ],
   "source": [
    "# f.read()는 파일 내용 전체를 문자열로 반환\n",
    "f = open('test1.txt','r')\n",
    "data = f.read()\n",
    "print(data)\n",
    "f.close()"
   ]
  },
  {
   "cell_type": "code",
   "execution_count": 19,
   "metadata": {
    "id": "40a04a77"
   },
   "outputs": [],
   "source": [
    "f = open('test1.txt', 'a')\n",
    "for i in range(11,16):\n",
    "    data = '%d번째 줄입니다.\\n' %i\n",
    "    f.write(data)\n",
    "f.close()"
   ]
  },
  {
   "cell_type": "code",
   "execution_count": 20,
   "metadata": {
    "id": "07047a52",
    "outputId": "8e3cfbd5-d818-4a42-a25d-17e95a910957"
   },
   "outputs": [
    {
     "name": "stdout",
     "output_type": "stream",
     "text": [
      "1번째 줄입니다.\n",
      "2번째 줄입니다.\n",
      "3번째 줄입니다.\n",
      "4번째 줄입니다.\n",
      "5번째 줄입니다.\n",
      "6번째 줄입니다.\n",
      "7번째 줄입니다.\n",
      "8번째 줄입니다.\n",
      "9번째 줄입니다.\n",
      "10번째 줄입니다.\n",
      "11번째 줄입니다.\n",
      "12번째 줄입니다.\n",
      "13번째 줄입니다.\n",
      "14번째 줄입니다.\n",
      "15번째 줄입니다.\n",
      "\n"
     ]
    }
   ],
   "source": [
    "f = open('test1.txt','r')\n",
    "data = f.read()\n",
    "print(data)\n",
    "f.close()"
   ]
  },
  {
   "cell_type": "code",
   "execution_count": 21,
   "metadata": {
    "id": "a9c0ec63"
   },
   "outputs": [],
   "source": [
    "# with문과 같이 사용\n",
    "with open('foo.txt','w') as f:\n",
    "    f.write('파이썬을 배웁시다.')"
   ]
  },
  {
   "cell_type": "code",
   "execution_count": 22,
   "metadata": {
    "id": "70538f5d",
    "outputId": "a5d8bbba-2d72-4c2b-8552-f9e0882d9c4b"
   },
   "outputs": [
    {
     "name": "stdout",
     "output_type": "stream",
     "text": [
      "파이썬을 배웁시다.\n"
     ]
    }
   ],
   "source": [
    "with open('foo.txt','r') as f:\n",
    "    data = f.read()\n",
    "    print(data)"
   ]
  },
  {
   "cell_type": "code",
   "execution_count": 23,
   "metadata": {
    "id": "ce405056"
   },
   "outputs": [],
   "source": [
    "with open('test2.txt','w') as f:\n",
    "      for i in range(1,11):\n",
    "          data = f'{i}번째 줄입니다.\\n'\n",
    "          f.write(data)          "
   ]
  },
  {
   "cell_type": "code",
   "execution_count": 24,
   "metadata": {
    "id": "e665f440"
   },
   "outputs": [],
   "source": [
    "with open('test2.txt','a') as f:\n",
    "      for i in range(11,16):\n",
    "          data = f'{i}번째 줄입니다.\\n'\n",
    "          f.write(data) "
   ]
  },
  {
   "cell_type": "code",
   "execution_count": 25,
   "metadata": {
    "id": "533fc595",
    "outputId": "91fbcfd9-319a-47af-b1ab-e80a5fa79da6"
   },
   "outputs": [
    {
     "name": "stdout",
     "output_type": "stream",
     "text": [
      "1번째 줄입니다.\n",
      "2번째 줄입니다.\n",
      "3번째 줄입니다.\n",
      "4번째 줄입니다.\n",
      "5번째 줄입니다.\n",
      "6번째 줄입니다.\n",
      "7번째 줄입니다.\n",
      "8번째 줄입니다.\n",
      "9번째 줄입니다.\n",
      "10번째 줄입니다.\n",
      "11번째 줄입니다.\n",
      "12번째 줄입니다.\n",
      "13번째 줄입니다.\n",
      "14번째 줄입니다.\n",
      "15번째 줄입니다.\n",
      "\n"
     ]
    }
   ],
   "source": [
    "with open('test2.txt','r') as f:\n",
    "    data = f.read()\n",
    "    print(data)"
   ]
  },
  {
   "cell_type": "markdown",
   "metadata": {},
   "source": [
    "#### 파이썬 패키지,  모듈, 함수, 클래스\n",
    "- 코드 작성 시 이미 만들어져 있는 함수들을 활용하면 보다 효율적이고 빠르게 개발 가능\n",
    "- 이미 만들어져 있고 안정성이 검증된 함수들을 성격에 맞게 하나의 파이썬 파일에 묶어 만들어 놓을 것을 모듈이라 함\n",
    "- 외부 모듈에 있는 함수들을 활용하려면 이 모듈을 먼저 가져와서 사용해야 하는데 이것을 모듈을 임포트한다고 한다.\n",
    "- 파이썬 모듈이 하나의 파이썬 파일이라면 패키지는 디렉토리로 볼 수 있다.\n",
    "\n",
    "패키지\n",
    "1. 라이브러리라고도 부름\n",
    "2. 특정 기능과 관련된 여러 모듈을 한 그룹으로 묶은 것\n",
    "3. 패키지 안에 서브패키지가 있을 수도 있다.\n",
    "4. import 패키지/모듈, from 패키지/모듈 import 서브패키지/모듈 \n",
    "  \n",
    "   \n",
    "모듈\n",
    "1. 여러 기능들이 뭉쳐진 하나의. py파일\n",
    "2. 함수, 클래스, 변수 등 포함\n",
    "3. import 모듈\n",
    "\n",
    "함수\n",
    "1. 하나의 기능을 가진 코드의 집합\n",
    "2. 함수를 사용한다 = 함수를 호출한다\n",
    "3. 함수 사용 형태: 함수( )\n",
    "   - 필요한 경우 () 안에 매개변수 또는 옵션\n",
    "4. 종류\n",
    "   - 내장 함수(built in function)\n",
    "   - 외장 함수: import 해주어야 함\n",
    "   \n",
    "클래스   \n",
    "- 파이썬은 객체 지향 언어로클래스를 기반으로 객체를 만들어 사용한다.\n",
    "- 한 파이썬 파일(. py) 내에서 \"class class명():\"을 통해 클래스 선언\n"
   ]
  },
  {
   "cell_type": "code",
   "execution_count": 38,
   "metadata": {},
   "outputs": [
    {
     "name": "stdout",
     "output_type": "stream",
     "text": [
      "5초간 프로그램을 정지합니다.\n",
      "5초가 지나갔습니다.\n"
     ]
    }
   ],
   "source": [
    "# time 모듈\n",
    "import time\n",
    "\n",
    "print('5초간 프로그램을 정지합니다.')\n",
    "time.sleep(5)\n",
    "print('5초가 지나갔습니다.')"
   ]
  },
  {
   "cell_type": "code",
   "execution_count": 2,
   "metadata": {},
   "outputs": [],
   "source": [
    "# 사용자 작성 모듈\n",
    "with open('mymodule.py','w') as f:\n",
    "    f.write(\n",
    "'''\n",
    "def add_txt(t1,t2):\n",
    "    return t1+':'+t2\n",
    "def reverse(x,y,z):\n",
    "    return z,y,x\n",
    "''')"
   ]
  },
  {
   "cell_type": "code",
   "execution_count": 3,
   "metadata": {},
   "outputs": [
    {
     "name": "stdout",
     "output_type": "stream",
     "text": [
      "\n",
      "def add_txt(t1,t2):\n",
      "    return t1+':'+t2\n",
      "def reverse(x,y,z):\n",
      "    return z,y,x\n",
      "\n"
     ]
    }
   ],
   "source": [
    "with open('mymodule.py','r') as f:\n",
    "    data = f.read()\n",
    "    print(data)"
   ]
  },
  {
   "cell_type": "code",
   "execution_count": 5,
   "metadata": {},
   "outputs": [
    {
     "name": "stdout",
     "output_type": "stream",
     "text": [
      "대한민국:1등\n"
     ]
    }
   ],
   "source": [
    "import mymodule\n",
    "\n",
    "ret1 = mymodule.add_txt('대한민국','1등')\n",
    "print(ret1)"
   ]
  },
  {
   "cell_type": "code",
   "execution_count": 6,
   "metadata": {},
   "outputs": [
    {
     "name": "stdout",
     "output_type": "stream",
     "text": [
      "(3, 2, 1)\n"
     ]
    }
   ],
   "source": [
    "ret2 = mymodule.reverse(1,2,3)\n",
    "print(ret2)"
   ]
  },
  {
   "cell_type": "code",
   "execution_count": 9,
   "metadata": {},
   "outputs": [
    {
     "name": "stdout",
     "output_type": "stream",
     "text": [
      "안녕하세요\n",
      "안녕하세요\n",
      "None\n"
     ]
    }
   ],
   "source": [
    "# 클래스\n",
    "class MyClass:\n",
    "    var = '안녕하세요'\n",
    "    def sayHello(self):\n",
    "        print(self.var)\n",
    "        \n",
    "obj = MyClass() # MyClass 인스턴스 객체 생성\n",
    "print(obj.var)\n",
    "print(obj.sayHello())       "
   ]
  },
  {
   "cell_type": "code",
   "execution_count": null,
   "metadata": {},
   "outputs": [],
   "source": [
    "# !pip list\n",
    "# !pip install pandas\n",
    "\n",
    "# https://pandas.pydata.org/docs/reference/api/pandas.DataFrame.info.html"
   ]
  },
  {
   "cell_type": "code",
   "execution_count": 14,
   "metadata": {},
   "outputs": [
    {
     "data": {
      "text/html": [
       "<div>\n",
       "<style scoped>\n",
       "    .dataframe tbody tr th:only-of-type {\n",
       "        vertical-align: middle;\n",
       "    }\n",
       "\n",
       "    .dataframe tbody tr th {\n",
       "        vertical-align: top;\n",
       "    }\n",
       "\n",
       "    .dataframe thead th {\n",
       "        text-align: right;\n",
       "    }\n",
       "</style>\n",
       "<table border=\"1\" class=\"dataframe\">\n",
       "  <thead>\n",
       "    <tr style=\"text-align: right;\">\n",
       "      <th></th>\n",
       "      <th>a</th>\n",
       "      <th>b</th>\n",
       "      <th>c</th>\n",
       "    </tr>\n",
       "  </thead>\n",
       "  <tbody>\n",
       "    <tr>\n",
       "      <th>0</th>\n",
       "      <td>1</td>\n",
       "      <td>4</td>\n",
       "      <td>7</td>\n",
       "    </tr>\n",
       "    <tr>\n",
       "      <th>1</th>\n",
       "      <td>2</td>\n",
       "      <td>5</td>\n",
       "      <td>8</td>\n",
       "    </tr>\n",
       "    <tr>\n",
       "      <th>2</th>\n",
       "      <td>3</td>\n",
       "      <td>6</td>\n",
       "      <td>9</td>\n",
       "    </tr>\n",
       "  </tbody>\n",
       "</table>\n",
       "</div>"
      ],
      "text/plain": [
       "   a  b  c\n",
       "0  1  4  7\n",
       "1  2  5  8\n",
       "2  3  6  9"
      ]
     },
     "execution_count": 14,
     "metadata": {},
     "output_type": "execute_result"
    }
   ],
   "source": [
    "import pandas as pd\n",
    "\n",
    "df1 = pd.DataFrame({'a': [1, 2, 3], 'b': [4,5,6], 'c': [7, 8,9]})\n",
    "df1"
   ]
  },
  {
   "cell_type": "code",
   "execution_count": 12,
   "metadata": {},
   "outputs": [
    {
     "data": {
      "text/html": [
       "<div>\n",
       "<style scoped>\n",
       "    .dataframe tbody tr th:only-of-type {\n",
       "        vertical-align: middle;\n",
       "    }\n",
       "\n",
       "    .dataframe tbody tr th {\n",
       "        vertical-align: top;\n",
       "    }\n",
       "\n",
       "    .dataframe thead th {\n",
       "        text-align: right;\n",
       "    }\n",
       "</style>\n",
       "<table border=\"1\" class=\"dataframe\">\n",
       "  <thead>\n",
       "    <tr style=\"text-align: right;\">\n",
       "      <th></th>\n",
       "      <th>a</th>\n",
       "      <th>b</th>\n",
       "      <th>c</th>\n",
       "    </tr>\n",
       "  </thead>\n",
       "  <tbody>\n",
       "    <tr>\n",
       "      <th>0</th>\n",
       "      <td>1</td>\n",
       "      <td>2</td>\n",
       "      <td>3</td>\n",
       "    </tr>\n",
       "    <tr>\n",
       "      <th>1</th>\n",
       "      <td>4</td>\n",
       "      <td>5</td>\n",
       "      <td>6</td>\n",
       "    </tr>\n",
       "    <tr>\n",
       "      <th>2</th>\n",
       "      <td>7</td>\n",
       "      <td>8</td>\n",
       "      <td>9</td>\n",
       "    </tr>\n",
       "  </tbody>\n",
       "</table>\n",
       "</div>"
      ],
      "text/plain": [
       "   a  b  c\n",
       "0  1  2  3\n",
       "1  4  5  6\n",
       "2  7  8  9"
      ]
     },
     "execution_count": 12,
     "metadata": {},
     "output_type": "execute_result"
    }
   ],
   "source": [
    "import numpy as np\n",
    "df2 = pd.DataFrame(np.array([[1, 2, 3], [4, 5, 6], [7, 8, 9]]),\n",
    "                   columns=['a', 'b', 'c'])\n",
    "df2"
   ]
  },
  {
   "cell_type": "code",
   "execution_count": 15,
   "metadata": {},
   "outputs": [
    {
     "data": {
      "text/html": [
       "<div>\n",
       "<style scoped>\n",
       "    .dataframe tbody tr th:only-of-type {\n",
       "        vertical-align: middle;\n",
       "    }\n",
       "\n",
       "    .dataframe tbody tr th {\n",
       "        vertical-align: top;\n",
       "    }\n",
       "\n",
       "    .dataframe thead th {\n",
       "        text-align: right;\n",
       "    }\n",
       "</style>\n",
       "<table border=\"1\" class=\"dataframe\">\n",
       "  <thead>\n",
       "    <tr style=\"text-align: right;\">\n",
       "      <th></th>\n",
       "      <th>a</th>\n",
       "      <th>b</th>\n",
       "      <th>c</th>\n",
       "    </tr>\n",
       "  </thead>\n",
       "  <tbody>\n",
       "    <tr>\n",
       "      <th>0</th>\n",
       "      <td>1</td>\n",
       "      <td>2</td>\n",
       "      <td>3</td>\n",
       "    </tr>\n",
       "    <tr>\n",
       "      <th>1</th>\n",
       "      <td>4</td>\n",
       "      <td>5</td>\n",
       "      <td>6</td>\n",
       "    </tr>\n",
       "    <tr>\n",
       "      <th>2</th>\n",
       "      <td>7</td>\n",
       "      <td>8</td>\n",
       "      <td>9</td>\n",
       "    </tr>\n",
       "  </tbody>\n",
       "</table>\n",
       "</div>"
      ],
      "text/plain": [
       "   a  b  c\n",
       "0  1  2  3\n",
       "1  4  5  6\n",
       "2  7  8  9"
      ]
     },
     "execution_count": 15,
     "metadata": {},
     "output_type": "execute_result"
    }
   ],
   "source": [
    "data = np.array([(1, 2, 3), (4, 5, 6), (7, 8, 9)])\n",
    "df3 = pd.DataFrame(data, columns=['a', 'b', 'c'])\n",
    "df3"
   ]
  },
  {
   "cell_type": "markdown",
   "metadata": {
    "id": "tM-yKJ96m0Gq"
   },
   "source": [
    "내장함수, 외장함수\n",
    "\n",
    "https://codedrive.tistory.com/91"
   ]
  },
  {
   "cell_type": "code",
   "execution_count": null,
   "metadata": {
    "id": "ef6f8b16",
    "outputId": "d0fb5645-56d9-415e-d3b4-ad580dc4a1bb"
   },
   "outputs": [
    {
     "name": "stdout",
     "output_type": "stream",
     "text": [
      "3\n",
      "False\n",
      "True\n",
      "A\n"
     ]
    }
   ],
   "source": [
    "# 내장함수\n",
    "print(abs(-3))\n",
    "print(all([1,2,3,0])) # x가 모두 참이면 True, 거짓이 하나라도 있으면 False\n",
    "print(any([1,2,3,0])) # x가 하나라도 참이면 True, 모두 거짓이면 False\n",
    "print(chr(65)) # 아스키코드"
   ]
  },
  {
   "cell_type": "code",
   "execution_count": null,
   "metadata": {
    "id": "41726e4b",
    "outputId": "00f2d743-21cd-4a87-d858-f4db817e6612"
   },
   "outputs": [
    {
     "data": {
      "text/plain": [
       "7"
      ]
     },
     "execution_count": 35,
     "metadata": {},
     "output_type": "execute_result"
    }
   ],
   "source": [
    "sum = lambda a,b:a+b\n",
    "sum(3,4)"
   ]
  },
  {
   "cell_type": "code",
   "execution_count": 1,
   "metadata": {},
   "outputs": [
    {
     "name": "stdout",
     "output_type": "stream",
     "text": [
      "7\n"
     ]
    }
   ],
   "source": [
    "def sum(a,b):\n",
    "    return a+b\n",
    "\n",
    "print(sum(3,4))"
   ]
  },
  {
   "cell_type": "code",
   "execution_count": 2,
   "metadata": {
    "id": "12ccea92",
    "outputId": "3c49ba7b-8c54-448a-ca07-79b580c63fa3"
   },
   "outputs": [
    {
     "name": "stdout",
     "output_type": "stream",
     "text": [
      "7\n",
      "12\n"
     ]
    }
   ],
   "source": [
    "myList = [lambda a,b:a+b, lambda a,b:a*b]\n",
    "print(myList[0](3,4))\n",
    "print(myList[1](3,4))"
   ]
  },
  {
   "cell_type": "code",
   "execution_count": 3,
   "metadata": {},
   "outputs": [
    {
     "name": "stdout",
     "output_type": "stream",
     "text": [
      "7\n",
      "-3\n",
      "10\n",
      "0.4\n"
     ]
    }
   ],
   "source": [
    "fo=[lambda a,b:a+b,lambda a,b:a-b,lambda a,b:a*b,lambda a,b:a/b]\n",
    "for i in range(0,4):\n",
    "    print(fo[i](2,5))"
   ]
  },
  {
   "cell_type": "code",
   "execution_count": null,
   "metadata": {
    "id": "7d159390",
    "outputId": "de360b79-26eb-4dcd-c2ba-ef2797eac39a"
   },
   "outputs": [
    {
     "name": "stdout",
     "output_type": "stream",
     "text": [
      "6\n",
      "3\n",
      "3\n"
     ]
    }
   ],
   "source": [
    "print(len('python'))\n",
    "print(len([1,2,3]))\n",
    "print(len([1,2,'a']))"
   ]
  },
  {
   "cell_type": "code",
   "execution_count": 5,
   "metadata": {
    "id": "0acd79c4",
    "outputId": "baad6199-e35f-40ef-d5ed-2dfdef9219c4"
   },
   "outputs": [
    {
     "data": {
      "text/plain": [
       "[0, -1, -2, -3, -4, -5, -6, -7, -8, -9]"
      ]
     },
     "execution_count": 5,
     "metadata": {},
     "output_type": "execute_result"
    }
   ],
   "source": [
    "list(range(5))\n",
    "list(range(1,6))\n",
    "list(range(1,10, 2))\n",
    "list(range(0, -10, -1))\n",
    "# list(range(0,-10))"
   ]
  },
  {
   "cell_type": "code",
   "execution_count": 6,
   "metadata": {
    "id": "0641e566",
    "outputId": "593cb6ab-fc95-460a-9d64-ce60575e814b"
   },
   "outputs": [
    {
     "name": "stdout",
     "output_type": "stream",
     "text": [
      "(2, 1)\n"
     ]
    }
   ],
   "source": [
    "# 몫과 나머지\n",
    "print(divmod(7,3))"
   ]
  },
  {
   "cell_type": "code",
   "execution_count": null,
   "metadata": {
    "id": "ad2ccdaa",
    "outputId": "64a54a6a-a965-4f0e-9fc4-7997d57a0769"
   },
   "outputs": [
    {
     "name": "stdout",
     "output_type": "stream",
     "text": [
      "0 james\n",
      "1 tom\n",
      "2 susan\n"
     ]
    }
   ],
   "source": [
    "# 순서가 있는 자료형을 입력으로 받아 인덱스 값을 포함한 enumerate 객체를 리턴\n",
    "for i, name in enumerate(['james','tom','susan']):\n",
    "    print(i,name)"
   ]
  },
  {
   "cell_type": "code",
   "execution_count": null,
   "metadata": {
    "id": "95352319",
    "outputId": "5e44945d-023a-4bf8-8387-ce22483675db"
   },
   "outputs": [
    {
     "name": "stdout",
     "output_type": "stream",
     "text": [
      "3\n"
     ]
    }
   ],
   "source": [
    "# 실행 가능한 문자열 입력으로 받아 문자열을 실행한 결과값을 리턴\n",
    "print(eval('1+2'))"
   ]
  },
  {
   "cell_type": "code",
   "execution_count": 9,
   "metadata": {
    "id": "5c52a14d"
   },
   "outputs": [],
   "source": [
    "# 외장함수 : 전 세계 파이썬 사용자들이 만든 유용한 프로그램을 모아 놓은 파이썬 라이브러리. 파이썬을 설치할 때 자동으로 설치\n",
    "# pickle은 객체의 형태를 유지하면서 파일에 저장하고 불러올 수 있게 하는 모듈\n",
    "\n",
    "import pickle\n",
    "f = open('test3.txt', 'wb')\n",
    "data = {1:'python',2:'you need'}\n",
    "pickle.dump(data,f)\n",
    "f.close()"
   ]
  },
  {
   "cell_type": "code",
   "execution_count": 10,
   "metadata": {
    "id": "ac04caa8",
    "outputId": "1ca178fa-a81c-41cd-d621-59bafcfc91a3"
   },
   "outputs": [
    {
     "name": "stdout",
     "output_type": "stream",
     "text": [
      "{1: 'python', 2: 'you need'}\n"
     ]
    }
   ],
   "source": [
    "import pickle\n",
    "f = open('test3.txt','rb')\n",
    "data = pickle.load(f)\n",
    "print(data)\n",
    "f.close()"
   ]
  },
  {
   "cell_type": "code",
   "execution_count": 30,
   "metadata": {
    "id": "6f87e727",
    "outputId": "9f8fa38d-3378-4d79-c9c2-eccde0f55b5b"
   },
   "outputs": [
    {
     "data": {
      "text/plain": [
       "'C:\\\\Users\\\\h\\\\anaconda3;C:\\\\Users\\\\h\\\\anaconda3\\\\Library\\\\mingw-w64\\\\bin;C:\\\\Users\\\\h\\\\anaconda3\\\\Library\\\\usr\\\\bin;C:\\\\Users\\\\h\\\\anaconda3\\\\Library\\\\bin;C:\\\\Users\\\\h\\\\anaconda3\\\\Scripts;C:\\\\WINDOWS\\\\system32;C:\\\\WINDOWS;C:\\\\WINDOWS\\\\System32\\\\Wbem;C:\\\\WINDOWS\\\\System32\\\\WindowsPowerShell\\\\v1.0\\\\;C:\\\\WINDOWS\\\\System32\\\\OpenSSH\\\\;C:\\\\Users\\\\h\\\\anaconda3;C:\\\\Users\\\\h\\\\anaconda3\\\\Library\\\\bin;C:\\\\Users\\\\h\\\\anaconda3\\\\Library\\\\mingw-w64\\\\bin;C:\\\\Users\\\\h\\\\anaconda3\\\\Scripts;C:\\\\Users\\\\h\\\\AppData\\\\Local\\\\Microsoft\\\\WindowsApps;'"
      ]
     },
     "execution_count": 30,
     "metadata": {},
     "output_type": "execute_result"
    }
   ],
   "source": [
    "import os\n",
    "os.environ['PATH']"
   ]
  },
  {
   "cell_type": "code",
   "execution_count": 34,
   "metadata": {
    "id": "12fed91a",
    "outputId": "2bd2e97d-f799-4308-d67f-7f9ba37589c9"
   },
   "outputs": [
    {
     "data": {
      "text/plain": [
       "'C:\\\\hmkd1\\\\m1_programming'"
      ]
     },
     "execution_count": 34,
     "metadata": {},
     "output_type": "execute_result"
    }
   ],
   "source": [
    "%pwd"
   ]
  },
  {
   "cell_type": "code",
   "execution_count": 31,
   "metadata": {
    "id": "0178dcac"
   },
   "outputs": [],
   "source": [
    "# 폴더변경\n",
    "os.chdir('C:\\\\hmkd1')"
   ]
  },
  {
   "cell_type": "code",
   "execution_count": 33,
   "metadata": {
    "id": "64f2b0de"
   },
   "outputs": [],
   "source": [
    "os.chdir('C:\\\\hmkd1\\\\m1_programming')"
   ]
  },
  {
   "cell_type": "code",
   "execution_count": 35,
   "metadata": {
    "id": "9bc31b5d",
    "outputId": "82847fd7-00d2-46b9-f1e2-d6d005ff260c"
   },
   "outputs": [
    {
     "data": {
      "text/plain": [
       "'C:\\\\hmkd1\\\\m1_programming'"
      ]
     },
     "execution_count": 35,
     "metadata": {},
     "output_type": "execute_result"
    }
   ],
   "source": [
    "os.getcwd()"
   ]
  },
  {
   "cell_type": "code",
   "execution_count": null,
   "metadata": {
    "id": "3c1f0757",
    "outputId": "ff1944f4-63bd-49ac-abab-39c18a80d790"
   },
   "outputs": [],
   "source": [
    "!dir"
   ]
  },
  {
   "cell_type": "code",
   "execution_count": 37,
   "metadata": {
    "id": "af4775e7"
   },
   "outputs": [],
   "source": [
    "import os\n",
    "os.rename('test1.txt','test_new.txt')"
   ]
  },
  {
   "cell_type": "code",
   "execution_count": 39,
   "metadata": {
    "id": "8cc2c8df",
    "outputId": "d5ef9fcd-0dc1-48b8-f265-df6add7f464a"
   },
   "outputs": [
    {
     "data": {
      "text/plain": [
       "['C:\\\\hmkd1\\\\m1_programming\\\\foo.txt',\n",
       " 'C:\\\\hmkd1\\\\m1_programming\\\\test.txt',\n",
       " 'C:\\\\hmkd1\\\\m1_programming\\\\test2.txt',\n",
       " 'C:\\\\hmkd1\\\\m1_programming\\\\test_new.txt']"
      ]
     },
     "execution_count": 39,
     "metadata": {},
     "output_type": "execute_result"
    }
   ],
   "source": [
    "# glob() 함수는 인자로 받은 패턴과 이름이 일치하는 모든 파일과 디렉토리의 리스트를 반환\n",
    "import glob\n",
    "glob.glob('C:\\\\hmkd1\\\\m1_programming/*.txt')"
   ]
  },
  {
   "cell_type": "code",
   "execution_count": 11,
   "metadata": {},
   "outputs": [
    {
     "name": "stdout",
     "output_type": "stream",
     "text": [
      "[0, 1, 3, 4, 5, 6]\n"
     ]
    }
   ],
   "source": [
    "#[과제] 내장함수를 이용해서 list = [0,1,2,3,4,5,6]에서 2를 삭제 후 출력하세요.(3가지 방법)\n",
    "list=[0,1,2,3,4,5,6]\n",
    "# del list[2] # 인덱스\n",
    "list.remove(2) # 값\n",
    "# list.pop(2)\n",
    "print(list)"
   ]
  },
  {
   "cell_type": "code",
   "execution_count": 14,
   "metadata": {},
   "outputs": [
    {
     "name": "stdout",
     "output_type": "stream",
     "text": [
      "2\n"
     ]
    },
    {
     "data": {
      "text/plain": [
       "[0, 1, 3, 4, 5, 6]"
      ]
     },
     "execution_count": 14,
     "metadata": {},
     "output_type": "execute_result"
    }
   ],
   "source": [
    "list=[0,1,2,3,4,5,6]\n",
    "print(list.pop(2))\n",
    "list"
   ]
  },
  {
   "cell_type": "code",
   "execution_count": 12,
   "metadata": {},
   "outputs": [
    {
     "name": "stdout",
     "output_type": "stream",
     "text": [
      "[]\n"
     ]
    }
   ],
   "source": [
    "#[과제]  내장함수를 이용해서 list = [0,1,2,3,4,5,6]에서 모든 원소를 삭제 후 출력하세요.\n",
    "list = [0,1,2,3,4,5,6]\n",
    "del list[:]\n",
    "print(list)"
   ]
  },
  {
   "cell_type": "code",
   "execution_count": null,
   "metadata": {},
   "outputs": [],
   "source": [
    "#[과제]  람다함수와 적합한 내장함수를 사용하여 아래와 같이 출력하세요\n",
    "[1,2,3,4,5] -> [1,4,9,16,25]\n",
    "[1,2,3,4,5] -> [1,2]"
   ]
  },
  {
   "cell_type": "code",
   "execution_count": 15,
   "metadata": {},
   "outputs": [
    {
     "name": "stdout",
     "output_type": "stream",
     "text": [
      "[1, 4, 9, 16, 25]\n",
      "[1, 2]\n"
     ]
    }
   ],
   "source": [
    "list=[1,2,3,4,5]\n",
    "list_n=[]\n",
    "x=lambda a:a**2  \n",
    "\n",
    "for i in list:          # [1,2,3,4,5] -> [1,4,9,16,25]\n",
    "    list_n.append(x(i))\n",
    "   \n",
    "del(list[2:])           # [1,2,3,4,5] -> [1,2]\n",
    "\n",
    "print(list_n)         #함수호출\n",
    "print(list)"
   ]
  },
  {
   "cell_type": "code",
   "execution_count": 1,
   "metadata": {},
   "outputs": [
    {
     "name": "stdout",
     "output_type": "stream",
     "text": [
      "[1, 4, 9, 16, 25] \n",
      "\n",
      "[1, 2]\n"
     ]
    }
   ],
   "source": [
    "x=lambda a:a**2\n",
    "lst = [x(i) for i in range(1,6)]\n",
    "print(lst,'\\n')\n",
    "\n",
    "lst2 = [1,2,3,4,5]\n",
    "filtered_list = filter(lambda a: (a<3), lst2)\n",
    "print(list(filtered_list))"
   ]
  },
  {
   "cell_type": "code",
   "execution_count": 3,
   "metadata": {},
   "outputs": [
    {
     "name": "stdout",
     "output_type": "stream",
     "text": [
      "[1, 2, 6]\n"
     ]
    }
   ],
   "source": [
    "#[과제]  [1,-3,2,0,-5,6] 에서 양수만 필터링해서 출력하세요(내장함수, 사용자함수 각각 이용)\n",
    "\n",
    "list1 = [1,-3,2,0,-5,6]   \n",
    "        \n",
    "print(list(filter(lambda x: x > 0, list1)))"
   ]
  },
  {
   "cell_type": "code",
   "execution_count": 5,
   "metadata": {},
   "outputs": [
    {
     "name": "stdout",
     "output_type": "stream",
     "text": [
      "[1, 2, 6]\n"
     ]
    }
   ],
   "source": [
    "def even(arr):\n",
    "    result=[]\n",
    "    for i in arr:\n",
    "        if i>0:\n",
    "            result.append(i)\n",
    "    return result\n",
    "print(even([1,-3,2,0,-5,6]))"
   ]
  },
  {
   "cell_type": "code",
   "execution_count": null,
   "metadata": {},
   "outputs": [],
   "source": [
    "#[과제] 내장함수를 이용하여 동일한 개수로 이루어진 자료형을 화살표 좌측에서 우측으로 변환하세요\n",
    "[1,2,3],[4,5,6] -> [(1,4),(2,5),(3,6)]\n",
    "[1,2,3],[4,5,6] [7,8,9] -> [(1,4,7),(2,5,8),(3,6,9)]\n",
    "('abc','def') -> [('a','d'),('b','e'),('c','f')]"
   ]
  },
  {
   "cell_type": "code",
   "execution_count": 7,
   "metadata": {},
   "outputs": [
    {
     "name": "stdout",
     "output_type": "stream",
     "text": [
      "[(1, 4), (2, 5), (3, 6)]\n",
      "[(1, 4, 7), (2, 5, 8), (3, 6, 9)]\n",
      "[('a', 'd'), ('b', 'e'), ('c', 'f')]\n"
     ]
    }
   ],
   "source": [
    "a = [1, 2, 3]\n",
    "b = [4, 5, 6]\n",
    "c = [7, 8, 9]\n",
    "\n",
    "ab = list(zip([1,2,3],[4,5,6]))\n",
    "print(ab)\n",
    "                        \n",
    "abc = list(zip([1,2,3],[4,5,6], [7,8,9]))\n",
    "print(abc)\n",
    "\n",
    "alp_1 = list(zip('abc', 'def'))\n",
    "print(alp_1)"
   ]
  },
  {
   "cell_type": "code",
   "execution_count": 6,
   "metadata": {},
   "outputs": [
    {
     "name": "stdout",
     "output_type": "stream",
     "text": [
      "[(1, 4, 7), (2, 5, 8), (3, 6, 9)]\n"
     ]
    }
   ],
   "source": [
    "lista=[[1,2,3],[4,5,6],[7,8,9]]\n",
    "listb=sum(lista,[])\n",
    "lista_n=[]\n",
    "\n",
    "for k in range(len(lista[0])):\n",
    "    tup1=tuple(listb[k::3])\n",
    "    lista_n.append(tup1)\n",
    "\n",
    "print(lista_n)"
   ]
  },
  {
   "cell_type": "code",
   "execution_count": 15,
   "metadata": {},
   "outputs": [
    {
     "name": "stdout",
     "output_type": "stream",
     "text": [
      "평균값을 구할 숫자를 모두 입력해주세요(콤마로 구분): 1,2,3\n",
      "합: 6\n",
      "평균: 2.00\n"
     ]
    }
   ],
   "source": [
    "#[과제] 입력으로 들어오는 모든 수의 평균 값을 계산해 주는 함수를 작성한 후 1,2,3을 입력한 결과를 출력하세요.\n",
    "def sum(mun):\n",
    "    print(f\"합: {eval(mun)}\")    #입력된 문자열이 연산이 가능한 형태면 연산해 줌\n",
    "    print(f\"평균: {(eval(mun)/len(mun.split('+'))):0.2f}\")\n",
    "\n",
    "###################################################\n",
    "\n",
    "mun=input(\"평균값을 구할 숫자를 모두 입력해주세요(콤마로 구분): \")\n",
    "mun_n=mun.replace(',','+')    #1,2,3 -> 1+2+3\n",
    "\n",
    "sum(mun_n)"
   ]
  },
  {
   "cell_type": "code",
   "execution_count": 16,
   "metadata": {},
   "outputs": [
    {
     "name": "stdout",
     "output_type": "stream",
     "text": [
      "3.0\n"
     ]
    }
   ],
   "source": [
    "def average(*args):\n",
    "    x=0\n",
    "    for i in args:\n",
    "        x=(x+i)\n",
    "    result=x/len(args) \n",
    "    return result\n",
    "\n",
    "r=average(1,2,3,4,5)    \n",
    "print(r)"
   ]
  },
  {
   "cell_type": "code",
   "execution_count": 17,
   "metadata": {},
   "outputs": [
    {
     "name": "stdout",
     "output_type": "stream",
     "text": [
      "15150\n",
      "25250\n"
     ]
    }
   ],
   "source": [
    "# Q. 동일한 사용자 함수를 만들어서 1~100의 합과 200~300의 합을 구하세요.\n",
    "def sum(first, end):\n",
    "    result=0\n",
    "    for i in range(first,end+1):\n",
    "        result+=i\n",
    "    return result\n",
    "\n",
    "print(sum(100,200))   #n~m 사이의 합 구하기\n",
    "print(sum(200,300))"
   ]
  },
  {
   "cell_type": "code",
   "execution_count": 20,
   "metadata": {},
   "outputs": [
    {
     "data": {
      "text/plain": [
       "array([200, 201, 202, 203, 204, 205, 206, 207, 208, 209, 210, 211, 212,\n",
       "       213, 214, 215, 216, 217, 218, 219, 220, 221, 222, 223, 224, 225,\n",
       "       226, 227, 228, 229, 230, 231, 232, 233, 234, 235, 236, 237, 238,\n",
       "       239, 240, 241, 242, 243, 244, 245, 246, 247, 248, 249, 250, 251,\n",
       "       252, 253, 254, 255, 256, 257, 258, 259, 260, 261, 262, 263, 264,\n",
       "       265, 266, 267, 268, 269, 270, 271, 272, 273, 274, 275, 276, 277,\n",
       "       278, 279, 280, 281, 282, 283, 284, 285, 286, 287, 288, 289, 290,\n",
       "       291, 292, 293, 294, 295, 296, 297, 298, 299, 300])"
      ]
     },
     "execution_count": 20,
     "metadata": {},
     "output_type": "execute_result"
    }
   ],
   "source": [
    "import numpy as np\n",
    "\n",
    "np.arange(200,301)"
   ]
  },
  {
   "cell_type": "code",
   "execution_count": 21,
   "metadata": {},
   "outputs": [
    {
     "data": {
      "text/plain": [
       "25250"
      ]
     },
     "execution_count": 21,
     "metadata": {},
     "output_type": "execute_result"
    }
   ],
   "source": [
    "import numpy as np\n",
    "def sum(*args):\n",
    "    sum=0\n",
    "    for i in args:\n",
    "        sum += i\n",
    "    return sum\n",
    "\n",
    "sum(200, 201, 202, 203, 204, 205, 206, 207, 208, 209, 210, 211, 212,\n",
    "       213, 214, 215, 216, 217, 218, 219, 220, 221, 222, 223, 224, 225,\n",
    "       226, 227, 228, 229, 230, 231, 232, 233, 234, 235, 236, 237, 238,\n",
    "       239, 240, 241, 242, 243, 244, 245, 246, 247, 248, 249, 250, 251,\n",
    "       252, 253, 254, 255, 256, 257, 258, 259, 260, 261, 262, 263, 264,\n",
    "       265, 266, 267, 268, 269, 270, 271, 272, 273, 274, 275, 276, 277,\n",
    "       278, 279, 280, 281, 282, 283, 284, 285, 286, 287, 288, 289, 290,\n",
    "       291, 292, 293, 294, 295, 296, 297, 298, 299, 300)"
   ]
  },
  {
   "cell_type": "markdown",
   "metadata": {},
   "source": [
    "#### sort, sorted 모두 key, reverse 매개변수를 갖고 있다.\n",
    "- reverse : 기본값은 reverse=False(오름차순), reverse=True를 매개변수로 입력하면 내림차순으로 정렬\n",
    "- key : 정렬을 목적으로 하는 함수를 값으로 넣는다. lambda를 이용할 수 있고 key 값을 기준으로 정렬되고 기본값은 오름차순"
   ]
  },
  {
   "cell_type": "code",
   "execution_count": 22,
   "metadata": {},
   "outputs": [
    {
     "data": {
      "text/plain": [
       "['bar', 'ababa', 'ca', 'aaaa', 'a']"
      ]
     },
     "execution_count": 22,
     "metadata": {},
     "output_type": "execute_result"
    }
   ],
   "source": [
    "#[과제] strings를 다양한 문자가 포함된 순서로 정렬하세요.\n",
    "strings = ['a', 'ca', 'bar', 'aaaa', 'ababa']\n",
    "strings.sort(key = lambda x:len(set(x)))\n",
    "strings[::-1]"
   ]
  },
  {
   "cell_type": "code",
   "execution_count": 12,
   "metadata": {},
   "outputs": [
    {
     "name": "stdout",
     "output_type": "stream",
     "text": [
      "['bar', 'ababa', 'ca', 'aaaa', 'a']\n"
     ]
    }
   ],
   "source": [
    "#[과제] 튜플 형태인 strings를 다양한 문자가 포함된 순서로 정렬하세요,\n",
    "strings = ('a', 'ca', 'bar', 'aaaa', 'ababa')\n",
    "s_list=list(strings)\n",
    "s_list.sort(key=lambda x:len(set(x)))     #기본 정렬(오름차순)\n",
    "# 'tuple' object has no attribute 'sort'\n",
    "print(s_list[::-1])     #거꾸로 출력(내림차순으로 나오게)"
   ]
  },
  {
   "cell_type": "code",
   "execution_count": 14,
   "metadata": {},
   "outputs": [
    {
     "data": {
      "text/plain": [
       "'news.naver.com'"
      ]
     },
     "execution_count": 14,
     "metadata": {},
     "output_type": "execute_result"
    }
   ],
   "source": [
    "#[과제]  url에서 호스트 도메인을 추출하여 출력하세요.\n",
    "url = 'http://news.naver.com/main/read.nhn?mode=LSD&mid=shm&sid1=105&oid=028&aid=0002334601'\n",
    "\n",
    "x = url.split('/')\n",
    "x[2]"
   ]
  },
  {
   "cell_type": "code",
   "execution_count": 25,
   "metadata": {},
   "outputs": [
    {
     "name": "stdout",
     "output_type": "stream",
     "text": [
      "35\n",
      "mode=LSD&mid=shm&sid1=105&oid=028&aid=0002334601\n",
      "['mode=LSD', 'mid=shm', 'sid1=105', 'oid=028', 'aid=0002334601']\n"
     ]
    }
   ],
   "source": [
    "#[과제] url에서 쿼리문을 추출하여 출력하세요.\n",
    "# url에서 '?'뒤에 표시되는 문자열을 쿼리 문자열이라고 하며 변수=값 사이 &로 구분되어 나열된다.\n",
    "url = 'http://news.naver.com/main/read.nhn?mode=LSD&mid=shm&sid1=105&oid=028&aid=0002334601'\n",
    "\n",
    "do=url.find('?')\n",
    "print(do)\n",
    "\n",
    "print(url[do+1:])   #쿼리문 전체\n",
    "\n",
    "qr=[]\n",
    "qr=url[do+1:].split('&')   #각 '변수=값' 분리\n",
    "print(qr)"
   ]
  },
  {
   "cell_type": "code",
   "execution_count": 16,
   "metadata": {},
   "outputs": [
    {
     "name": "stdout",
     "output_type": "stream",
     "text": [
      "mode=LSD\n",
      "mid=shm\n",
      "sid1=105\n",
      "oid=028\n",
      "aid=0002334601\n"
     ]
    }
   ],
   "source": [
    "url = 'http://news.naver.com/main/read.nhn?mode=LSD&mid=shm&sid1=105&oid=028&aid=0002334601'\n",
    "tmp = url.split('?')\n",
    "queries = tmp[1].split('&')\n",
    "for query in queries:\n",
    "    print(query)"
   ]
  }
 ],
 "metadata": {
  "colab": {
   "collapsed_sections": [],
   "name": "함수.ipynb",
   "provenance": [
    {
     "file_id": "https://github.com/bnv20/cakd5/blob/main/m1_programming/%ED%95%A8%EC%88%98.ipynb",
     "timestamp": 1641000933597
    }
   ]
  },
  "kernelspec": {
   "display_name": "Python 3",
   "language": "python",
   "name": "python3"
  },
  "language_info": {
   "codemirror_mode": {
    "name": "ipython",
    "version": 3
   },
   "file_extension": ".py",
   "mimetype": "text/x-python",
   "name": "python",
   "nbconvert_exporter": "python",
   "pygments_lexer": "ipython3",
   "version": "3.8.3"
  }
 },
 "nbformat": 4,
 "nbformat_minor": 5
}

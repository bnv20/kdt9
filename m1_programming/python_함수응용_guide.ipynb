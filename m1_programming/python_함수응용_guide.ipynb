{
 "cells": [
  {
   "cell_type": "code",
   "execution_count": 2,
   "metadata": {},
   "outputs": [
    {
     "name": "stdout",
     "output_type": "stream",
     "text": [
      "True\n",
      "True\n",
      "False\n",
      "False\n"
     ]
    }
   ],
   "source": [
    "# 문자열이 문자인지 검사\n",
    "txt1 = 'A'\n",
    "txt2 = '안녕'\n",
    "txt3 = 'Warcraft Three'\n",
    "txt4 = '3PO'\n",
    "ret1 = txt1.isalpha()\n",
    "ret2 = txt2.isalpha()\n",
    "ret3 = txt3.isalpha()\n",
    "ret4 = txt4.isalpha()\n",
    "print(ret1)        # True가 출력됨\n",
    "print(ret2)        # True가 출력됨\n",
    "print(ret3)        # False가 출력됨\n",
    "print(ret4)        # False가 출력됨"
   ]
  },
  {
   "cell_type": "code",
   "execution_count": 4,
   "metadata": {},
   "outputs": [
    {
     "name": "stdout",
     "output_type": "stream",
     "text": [
      "False\n",
      "False\n",
      "True\n"
     ]
    }
   ],
   "source": [
    "# 문자열이 숫자인지 검사\n",
    "\n",
    "txt1 = '010-1234-5678'\n",
    "txt2 = 'R2D2'\n",
    "txt3 = '1212'\n",
    "\n",
    "ret1 = txt1.isdigit()\n",
    "ret2 = txt2.isdigit()\n",
    "ret3 = txt3.isdigit()\n",
    "print(ret1)      # False가 출력됨\n",
    "print(ret2)      # False가 출력됨\n",
    "print(ret3)      # True가 출력됨"
   ]
  },
  {
   "cell_type": "code",
   "execution_count": 8,
   "metadata": {},
   "outputs": [
    {
     "name": "stdout",
     "output_type": "stream",
     "text": [
      "False\n",
      "False\n",
      "True\n"
     ]
    }
   ],
   "source": [
    "# 문자열이 문자 또는 숫자인지 검사 : 문자열이 영어, 한글 혹은 숫자로 되어있으면 참 리턴, 아니면 거짓 리턴\n",
    "txt1 = '안녕하세요?'\n",
    "txt2 = '1. Title-제목을 넣으세요'\n",
    "txt3 = '3피오R2D2'\n",
    "\n",
    "ret1 = txt1.isalnum()\n",
    "ret2 = txt2.isalnum ()\n",
    "ret3 = txt3.isalnum ()\n",
    "print(ret1)      # False가 출력됨\n",
    "print(ret2)      # False가 출력됨\n",
    "print(ret3)      # True가 출력됨"
   ]
  },
  {
   "cell_type": "code",
   "execution_count": 10,
   "metadata": {},
   "outputs": [
    {
     "name": "stdout",
     "output_type": "stream",
     "text": [
      "A LOT OF THINGS OCCUR EACH DAY.\n",
      "a lot of things occur each day.\n"
     ]
    }
   ],
   "source": [
    "txt = 'A lot of Things occur each day.'\n",
    "ret1 = txt.upper()\n",
    "ret2 = txt.lower()\n",
    "print(ret1)\n",
    "print(ret2)"
   ]
  },
  {
   "cell_type": "code",
   "execution_count": 14,
   "metadata": {},
   "outputs": [
    {
     "name": "stdout",
     "output_type": "stream",
     "text": [
      "소문자 abc를 입력하세요> Abc\n",
      "처리가 되지 않았습니다.\n"
     ]
    }
   ],
   "source": [
    "# Q. 입력값으로 Abc, ABC, abc 등으로 입력하는 경우 모두 처리할 수 있도록 코드를 수정하세요.\n",
    "c = input('소문자 abc를 입력하세요> ')\n",
    "if c == 'abc':\n",
    "    print('잘 처리되었습니다.')\n",
    "else: print('처리가 되지 않았습니다.')"
   ]
  },
  {
   "cell_type": "code",
   "execution_count": 16,
   "metadata": {},
   "outputs": [
    {
     "name": "stdout",
     "output_type": "stream",
     "text": [
      "소문자 abc를 입력하세요.ABC\n",
      "잘 처리되었습니다.\n"
     ]
    }
   ],
   "source": [
    "c = input(\"소문자 abc를 입력하세요.\").lower()\n",
    "if c == \"abc\":\n",
    "    print(\"잘 처리되었습니다.\")\n",
    "else:\n",
    "    print(\"처리가 되지 않았습니다.\")"
   ]
  },
  {
   "cell_type": "code",
   "execution_count": 18,
   "metadata": {},
   "outputs": [
    {
     "name": "stdout",
     "output_type": "stream",
     "text": [
      "제목을 입력해주세요: WORD\n",
      "Hello Word!\n"
     ]
    }
   ],
   "source": [
    "# List안의 단어가 있으면 해당 제목을 출력\n",
    "x=input(\"제목을 입력해주세요: \")\n",
    "tlist=['Hello Word!','Nice Day','HappyBin','enDing_Story']\n",
    "n_tlist=[]\n",
    "\n",
    "x=x.lower()\n",
    "for i in range(len(tlist)):\n",
    "    n_tlist.append(tlist[i].lower())\n",
    "    if x in n_tlist[i]:\n",
    "        print(tlist[i])"
   ]
  },
  {
   "cell_type": "code",
   "execution_count": 19,
   "metadata": {},
   "outputs": [
    {
     "name": "stdout",
     "output_type": "stream",
     "text": [
      "이름을 영어로 입력하세요.kevin park\n",
      "당신의 이름을 바꾸면 Kevin Park 입니다.\n"
     ]
    }
   ],
   "source": [
    "# 영어 이름을 적으면 앞에 글자를 대문자로 바꾸어 주는 프로그램\n",
    "# (단 중간에 한칸씩 띄어주어야 함 ex)kim dong wan\n",
    "a = input(\"이름을 영어로 입력하세요.\")\n",
    "\n",
    "b=a.strip().split(\" \")\n",
    "e =\"\"\n",
    "\n",
    "for i in range(len(b)):\n",
    "    c = list(b[i])\n",
    "    \n",
    "    c[0] = c[0].upper()\n",
    "    d = \"\".join(c)\n",
    "    c = []\n",
    "    e = e + d + \" \"\n",
    "print(f\"당신의 이름을 바꾸면 {e}입니다.\")   \n"
   ]
  },
  {
   "cell_type": "code",
   "execution_count": 13,
   "metadata": {},
   "outputs": [
    {
     "name": "stdout",
     "output_type": "stream",
     "text": [
      "<양쪽에 공백이 있는 문자열입니다.   >\n",
      "<   양쪽에 공백이 있는 문자열입니다.>\n",
      "<양쪽에 공백이 있는 문자열입니다.>\n"
     ]
    }
   ],
   "source": [
    "# 문자열에서 좌우 공백 제거\n",
    "txt = '   양쪽에 공백이 있는 문자열입니다.   '\n",
    "ret1 = txt.lstrip()\n",
    "ret2 = txt.rstrip()\n",
    "ret3 = txt.strip()\n",
    "print('<'+ret1+'>')\n",
    "print('<'+ret2+'>')\n",
    "print('<'+ret3+'>')"
   ]
  },
  {
   "cell_type": "code",
   "execution_count": 25,
   "metadata": {},
   "outputs": [
    {
     "name": "stdout",
     "output_type": "stream",
     "text": [
      "3\n",
      "6\n",
      "27\n",
      "38\n"
     ]
    }
   ],
   "source": [
    "# 문자열에서 특정 문자(열) 위치 찾기\n",
    "txt = 'A lot of things occur each day, every day.'\n",
    "offset1 = txt.find('o')\n",
    "offset2 = txt.find('o',4)\n",
    "offset3 = txt.find('day')\n",
    "offset4 = txt.find('day',30)\n",
    "print(offset1)\n",
    "print(offset2)\n",
    "print(offset3)\n",
    "print(offset4)"
   ]
  },
  {
   "cell_type": "code",
   "execution_count": 26,
   "metadata": {},
   "outputs": [
    {
     "name": "stdout",
     "output_type": "stream",
     "text": [
      "2016/08/26 10:12:11;200;OK;이 또한 지나가리라\n"
     ]
    }
   ],
   "source": [
    "# 특정 문자로 결합\n",
    "loglist = ['2016/08/26 10:12:11', '200', 'OK', '이 또한 지나가리라']\n",
    "bond = ';'\n",
    "log = bond.join(loglist)\n",
    "print(log)"
   ]
  },
  {
   "cell_type": "code",
   "execution_count": 29,
   "metadata": {},
   "outputs": [
    {
     "name": "stdout",
     "output_type": "stream",
     "text": [
      "My password is 0234\n",
      "My password is python234\n",
      "매일 아침 일찍 일어납니다.\n"
     ]
    }
   ],
   "source": [
    "# 특정 문자(열)을 다른 문자(열)로 바꾸기(replace)\n",
    "txt = 'My password is 1234'\n",
    "ret1 = txt.replace('1','0')\n",
    "ret2 = txt.replace('1','python')\n",
    "\n",
    "print(ret1)\n",
    "print(ret2)\n",
    "\n",
    "txt = '매일 많은 일들이 일어납니다.'\n",
    "\n",
    "ret3 = txt.replace(\"많은 일들이\",\"아침 일찍\")\n",
    "print(ret3)"
   ]
  },
  {
   "cell_type": "code",
   "execution_count": null,
   "metadata": {},
   "outputs": [],
   "source": [
    "# 코드값에 대응하는 문자 얻기 \n",
    "\n",
    "val = int(input('문자 코드값을 입력하세요: '))\n",
    "ch = chr(val)\n",
    "print('코드값: %d  문자: %s' %(val, ch))\n"
   ]
  },
  {
   "cell_type": "code",
   "execution_count": 36,
   "metadata": {},
   "outputs": [
    {
     "name": "stdout",
     "output_type": "stream",
     "text": [
      "문자 코드값을 입력하세요: ㄱ\n",
      "문자코드값을 입력하세요.\n"
     ]
    }
   ],
   "source": [
    "try:\n",
    "    val = int(input('문자 코드값을 입력하세요: '))\n",
    "    ch = chr(val)\n",
    "    print('코드값: %d, 문자: %s' %(val, ch))\n",
    "except:\n",
    "    print('문자코드값을 입력하세요.')"
   ]
  },
  {
   "cell_type": "code",
   "execution_count": 37,
   "metadata": {},
   "outputs": [
    {
     "name": "stdout",
     "output_type": "stream",
     "text": [
      "문자를 1개 입력하세요: a\n",
      "문자: a, 코드값: 97\n"
     ]
    }
   ],
   "source": [
    "# 문자 코드값 구하기(ord)\n",
    "ch = input('문자를 1개 입력하세요: ')\n",
    "if len(ch) != 0:\n",
    "    ch = ch[0]\n",
    "    chv = ord(ch)\n",
    "    print('문자: %s, 코드값: %d' %(ch, chv))\n",
    "    "
   ]
  },
  {
   "cell_type": "code",
   "execution_count": 44,
   "metadata": {},
   "outputs": [
    {
     "name": "stdout",
     "output_type": "stream",
     "text": [
      "I love python\n",
      "b'I love python'\n",
      "I\n",
      "73\n",
      "True\n",
      "False\n"
     ]
    }
   ],
   "source": [
    "# 문자열을 바이트 객체로 바꾸기(encode)\n",
    "u_txt = 'I love python'\n",
    "b_txt = u_txt.encode()\n",
    "\n",
    "print(u_txt)\n",
    "print(b_txt)\n",
    "\n",
    "ret1 = 'I' == u_txt[0]\n",
    "ret2 = 'I' == b_txt[0]\n",
    "print(u_txt[0])\n",
    "print(b_txt[0])\n",
    "print(ret1)\n",
    "print(ret2)"
   ]
  },
  {
   "cell_type": "code",
   "execution_count": 46,
   "metadata": {},
   "outputs": [
    {
     "name": "stdout",
     "output_type": "stream",
     "text": [
      "A lot of things occur each day.\n"
     ]
    }
   ],
   "source": [
    "# 바이트 객체를 문자열로 바꾸기\n",
    "b_txt = b'A lot of things occur each day.'\n",
    "u_txt = b_txt.decode()\n",
    "print(u_txt)"
   ]
  },
  {
   "cell_type": "code",
   "execution_count": 49,
   "metadata": {},
   "outputs": [
    {
     "name": "stdout",
     "output_type": "stream",
     "text": [
      "[0, 1, 2, 3, 4, 5, 6, 7, 8, 9]\n",
      "[10, 11, 12, 13, 14, 15, 16, 17, 18, 19]\n"
     ]
    }
   ],
   "source": [
    "range1 = range(10)\n",
    "range2 = range(10, 20)\n",
    "print(list(range1))\n",
    "print(list(range2))"
   ]
  },
  {
   "cell_type": "code",
   "execution_count": 54,
   "metadata": {},
   "outputs": [
    {
     "name": "stdout",
     "output_type": "stream",
     "text": [
      "[1, 4, 9, 16, 25]\n"
     ]
    }
   ],
   "source": [
    "# 인자를 바꾸어 함수를 반복 호출하는 결과값 얻기(map)\n",
    "f = lambda x: x*x\n",
    "args = [1, 2, 3, 4, 5]\n",
    "ret = map(f, args)\n",
    "print(list(ret))"
   ]
  },
  {
   "cell_type": "code",
   "execution_count": 56,
   "metadata": {},
   "outputs": [
    {
     "name": "stdout",
     "output_type": "stream",
     "text": [
      "1 4 9 16 25 "
     ]
    }
   ],
   "source": [
    "f = lambda x: x*x\n",
    "args = [1, 2, 3, 4, 5]\n",
    "ret = map(f, args)\n",
    "for i in ret:\n",
    "    print(i,end=' ')"
   ]
  },
  {
   "cell_type": "code",
   "execution_count": 58,
   "metadata": {},
   "outputs": [
    {
     "name": "stdout",
     "output_type": "stream",
     "text": [
      "dcb\n"
     ]
    }
   ],
   "source": [
    "# [3::-1] 과 같이 출력하면 3번 인덱스부터 0번 인덱스까지 역순으로 출력해준다.\n",
    "s = 'abcde'\n",
    "print(s[3:0:-1])  # dcb"
   ]
  },
  {
   "cell_type": "code",
   "execution_count": 9,
   "metadata": {},
   "outputs": [
    {
     "name": "stdout",
     "output_type": "stream",
     "text": [
      "edcba\n",
      "edcba\n"
     ]
    }
   ],
   "source": [
    "print(s[4::-1])  # edcba\n",
    "print(s[::-1])  # edcba"
   ]
  },
  {
   "cell_type": "markdown",
   "metadata": {},
   "source": [
    "#### Python random 모듈 \n",
    "1. random.random() : 0.0에서부터 1.0 사이의 실수(float)를 반환\n",
    "2. random.uniform(a, b) : 인자로 들어온 a~b 사이의 실수(float)를 반환\n",
    "3. randint(a, b) : 인자로 들어온 a, b 사이의 랜덤한 정수(int)를 반환\n",
    "4. randrange(a, b), randrange(b) :  a <= x < b 의 범위 내에서의 랜덤한 정수(int)를 반환,                   randrange(b)는 0 <= x < b 의 범위 내에서의 랜덤한 정수(int)를 반환\n",
    "5. random.choice(seq) : 인자로 받은 리스트, 튜플, 문자열, range 에서 무작위로 하나의 원소 반환\n",
    "6. random.sample(seq or set, N) : 첫번째 인자로 받은 시퀀스데이터 or set에서 N개의 랜덤하고, unique하고, 순서상관없이 인자를 뽑아서 리스트로 만들어서 반환\n",
    "7. random.shuffle(seq) : 데이터의 순서를 무작위로 랜덤하게 바꾸어 주는 함수"
   ]
  },
  {
   "cell_type": "code",
   "execution_count": null,
   "metadata": {},
   "outputs": [],
   "source": [
    "random.random()  # Random float x, 0.0 <= x < 1.0"
   ]
  },
  {
   "cell_type": "code",
   "execution_count": null,
   "metadata": {},
   "outputs": [],
   "source": [
    "random.uniform(1, 10)  # Random float x, 1.0 <= x < 10.0"
   ]
  },
  {
   "cell_type": "code",
   "execution_count": null,
   "metadata": {},
   "outputs": [],
   "source": [
    "random.randint(1, 10)  # Integer from 1 to 10, endpoints included"
   ]
  },
  {
   "cell_type": "code",
   "execution_count": null,
   "metadata": {},
   "outputs": [],
   "source": [
    "random.randrange(0, 101, 2)  # Even integer from 0 to 100"
   ]
  },
  {
   "cell_type": "code",
   "execution_count": null,
   "metadata": {},
   "outputs": [],
   "source": [
    "random.choice('abcdefghij')  # Choose a random element"
   ]
  },
  {
   "cell_type": "code",
   "execution_count": null,
   "metadata": {},
   "outputs": [],
   "source": [
    "random.sample([1, 2, 3, 4, 5],  3)  # Choose 3 elements"
   ]
  },
  {
   "cell_type": "code",
   "execution_count": null,
   "metadata": {},
   "outputs": [],
   "source": [
    "items = [1, 2, 3, 4, 5, 6, 7]\n",
    "random.shuffle(items)"
   ]
  },
  {
   "cell_type": "code",
   "execution_count": null,
   "metadata": {},
   "outputs": [],
   "source": [
    "import random \n",
    "\n",
    "menu = [\"짬뽕\",\"분식집\",\"맥도날드\",\"쉑쉑버거\",\"편의점\",\"닭곰탕\"]\n",
    "#메뉴에 추가하는 코드\n",
    "print(f\"기본으로 제공하는 메뉴 \\n{menu} \\n입니다.\\n\")\n",
    "while 1:\n",
    "    a = input(\"주변 음식점 이름을 적으세요. 없으면(plzstp) \\n\")\n",
    "    b = a.strip().lower()\n",
    "    if b == \"plzstp\":\n",
    "        break\n",
    "    else:\n",
    "        menu.append(a)\n",
    "random.shuffle(menu)\n",
    "print(\"\\n\",menu)\n",
    "# 추천수를 적고 메뉴를 찍어주는 코드 \n",
    "while 1:\n",
    "    try:\n",
    "        num = int(input(\"추천받고 싶은 갯수를 말하세요. \\n\"))\n",
    "        pick = random.sample(menu,num) ; print(f\"\\n추천 메뉴는 {pick} 입니다.\\n \\n\")\n",
    "        break\n",
    "    except:\n",
    "        print(\"숫자를 적어주세요.\")\n",
    "\n",
    "choice = input(\"마음에 들지 않으신가요? (y or n)\").strip().lower()  \n",
    "#마음에 들지 않을때 다시 생각하게 해주는 코드\n",
    "if choice == \"y\":\n",
    "    recmd_num = random.randrange(1,len(menu)+1)\n",
    "    user_choice = input(f\"\\n제가 추천하고 싶은 \\n {menu} \\n에 메뉴 숫자는 {recmd_num}입니다. 이대로 추천할까요? (y,n) \\n\").strip().lower()\n",
    "    if user_choice == \"y\":\n",
    "        re_pick = random.sample(menu,recmd_num) ; print(f\"추천 메뉴는 {re_pick} 입니다.\")\n",
    "    elif user_choice == \"n\":\n",
    "        print(\"\\n식사맛있게하십시오 ^^ \")\n",
    "    else: \n",
    "        print(\"\\n숫자가 아닙니다. 프로그램을 종료합니다.\")\n",
    "elif choice == \"n\":\n",
    "    print(\"\\n식사맛있게하십시오 ^^\")\n",
    "else:\n",
    "    print(\"\\n잘못 입력하셨습니다. 프로그램을 종료합니다.\")"
   ]
  },
  {
   "cell_type": "code",
   "execution_count": 76,
   "metadata": {},
   "outputs": [
    {
     "data": {
      "text/plain": [
       "46.29396077354805"
      ]
     },
     "execution_count": 76,
     "metadata": {},
     "output_type": "execute_result"
    }
   ],
   "source": [
    "# random은 난수를 발생시키는 모듈\n",
    "# Q. random()을 이용해서 0.0에서 100.0 사이의 실수 중에서 난수값을 리턴\n",
    "import random\n",
    "random.random()*100  # 0.0에서 1.0 사이의 실수 중에서 난수값을 리턴"
   ]
  },
  {
   "cell_type": "code",
   "execution_count": 81,
   "metadata": {},
   "outputs": [
    {
     "data": {
      "text/plain": [
       "[4, 5, 2, 1, 3]"
      ]
     },
     "execution_count": 81,
     "metadata": {},
     "output_type": "execute_result"
    }
   ],
   "source": [
    "# Q. 리스트 [1,2,3,4,5]의 항목을 무작위로 섞어서 출력하세요\n",
    "import random\n",
    "data = [1,2,3,4,5]\n",
    "random.shuffle(data)\n",
    "data"
   ]
  },
  {
   "cell_type": "code",
   "execution_count": 106,
   "metadata": {},
   "outputs": [
    {
     "name": "stdout",
     "output_type": "stream",
     "text": [
      "d가 당첨되었습니다\n"
     ]
    }
   ],
   "source": [
    "m=['a','b','c','d','e']\n",
    "t=['당첨','꽝']\n",
    "\n",
    "random.shuffle(m)\n",
    "random.shuffle(t)\n",
    "\n",
    "print(f'{m[0]}가 {t[0]}되었습니다')"
   ]
  },
  {
   "cell_type": "code",
   "execution_count": 111,
   "metadata": {},
   "outputs": [
    {
     "name": "stdout",
     "output_type": "stream",
     "text": [
      "첫번째 값:3\n",
      "두번째 값:3\n",
      "당첨입니다\n"
     ]
    }
   ],
   "source": [
    "import time\n",
    "a=[1,2,3,4,5]\n",
    "b=[1,2,3,4,5]\n",
    "random.shuffle(a)\n",
    "random.shuffle(b)\n",
    "if a[0]==b[0]:\n",
    "    print(\"첫번째 값:%d\"%a[0])\n",
    "    time.sleep(1.5)\n",
    "    print(\"두번째 값:%d\"%b[0])\n",
    "    print(\"당첨입니다\")\n",
    "else:\n",
    "    print(\"첫번째 값:%d\"%a[0])\n",
    "    time.sleep(1.5)\n",
    "    print(\"두번째 값:%d\"%b[0])\n",
    "    print(\"꽝입니다\")"
   ]
  },
  {
   "cell_type": "code",
   "execution_count": 113,
   "metadata": {},
   "outputs": [
    {
     "data": {
      "text/plain": [
       "95"
      ]
     },
     "execution_count": 113,
     "metadata": {},
     "output_type": "execute_result"
    }
   ],
   "source": [
    "# Q. 1부터 100 사이의 임의의 홀수를 출력하세요\n",
    "random.randrange(1, 101, 2) "
   ]
  },
  {
   "cell_type": "code",
   "execution_count": 120,
   "metadata": {},
   "outputs": [
    {
     "data": {
      "text/plain": [
       "58"
      ]
     },
     "execution_count": 120,
     "metadata": {},
     "output_type": "execute_result"
    }
   ],
   "source": [
    "# Q. 1부터 100 사이의 임의의 짝수를 출력하세요\n",
    "random.randrange(0, 101, 2) "
   ]
  },
  {
   "cell_type": "code",
   "execution_count": 17,
   "metadata": {},
   "outputs": [
    {
     "data": {
      "text/plain": [
       "28"
      ]
     },
     "execution_count": 17,
     "metadata": {},
     "output_type": "execute_result"
    }
   ],
   "source": [
    "# Q. 1에서 55사이의 정수 중에서 난수값을 리턴\n",
    "random.randint(1,55)"
   ]
  },
  {
   "cell_type": "code",
   "execution_count": 9,
   "metadata": {},
   "outputs": [
    {
     "data": {
      "text/plain": [
       "[8, 4, 1]"
      ]
     },
     "execution_count": 9,
     "metadata": {},
     "output_type": "execute_result"
    }
   ],
   "source": [
    "# Q. [1,2,3,4,5,6,7,8,9,1,2,3,4,5,6,7,8,9]에서 임의로 3개를 선택하여 출력하세요(중복 불허)\n",
    "import random\n",
    "numlist = [1,2,3,4,5,6,7,8,9,1,2,3,4,5,6,7,8,9]\n",
    "random.sample(numlist, 3)"
   ]
  },
  {
   "cell_type": "code",
   "execution_count": 10,
   "metadata": {},
   "outputs": [
    {
     "name": "stdout",
     "output_type": "stream",
     "text": [
      "{3: 4, 6: 2, 5: 2, 8: 2, 2: 2, 9: 2, 7: 2, 4: 2}\n"
     ]
    }
   ],
   "source": [
    "# Q. numbers 내부에 들어 있는 숫자가 몇 번 등장하는지를 출력하는 코드를 작성하세요.\n",
    "numbers = [3,6,3,5,8,2,9,7,4,3,6,3,5,8,2,9,7,4]\n",
    "counter = {}\n",
    "for number in numbers:\n",
    "    if number in counter:\n",
    "        counter[number] = counter[number] + 1\n",
    "    else:\n",
    "        counter[number] = 1\n",
    "print(counter)"
   ]
  },
  {
   "cell_type": "code",
   "execution_count": 9,
   "metadata": {},
   "outputs": [
    {
     "name": "stdout",
     "output_type": "stream",
     "text": [
      "[6, 5, 4, 3, 2, 1, 0]\n"
     ]
    },
    {
     "data": {
      "text/plain": [
       "[6, 5, 4, 3, 2, 1, 0]"
      ]
     },
     "execution_count": 9,
     "metadata": {},
     "output_type": "execute_result"
    }
   ],
   "source": [
    "# Q. list [0, 1, 2, 3, 4, 5, 6]을 내림차순으로 출력하세요(2가지 방법)\n",
    "list1 = [0, 1, 2, 3, 4, 5, 6]\n",
    "print(list1[::-1])\n",
    "list1.reverse()\n",
    "list1"
   ]
  },
  {
   "cell_type": "code",
   "execution_count": 11,
   "metadata": {},
   "outputs": [
    {
     "name": "stdout",
     "output_type": "stream",
     "text": [
      "1번째는 a입니다.\n",
      "2번째는 b입니다.\n",
      "3번째는 c입니다.\n"
     ]
    }
   ],
   "source": [
    "# Q. list = ['a','b','c']을 for문을 사용해서 아래와 같이 출력하세요.\n",
    "# 1번째는 a입니다.\n",
    "# 2번째는 b입니다.\n",
    "# 3번째는 c입니다.\n",
    "\n",
    "list = ['a','b','c']\n",
    "for i, value in enumerate(list):\n",
    "    print('{}번째는 {}입니다.'.format(i+1,value))"
   ]
  },
  {
   "cell_type": "code",
   "execution_count": 12,
   "metadata": {},
   "outputs": [
    {
     "name": "stdout",
     "output_type": "stream",
     "text": [
      "[0, 4, 16, 36, 64, 100, 144, 196, 256, 324]\n"
     ]
    }
   ],
   "source": [
    "# Q. 코딩을 한줄로 작성해서 동일한 결과를 출력하세요\n",
    "list = []\n",
    "for i in range(0,20,2):\n",
    "    list.append(i*i)\n",
    "print(list)"
   ]
  },
  {
   "cell_type": "code",
   "execution_count": 13,
   "metadata": {},
   "outputs": [
    {
     "name": "stdout",
     "output_type": "stream",
     "text": [
      "[0, 4, 16, 36, 64, 100, 144, 196, 256, 324]\n"
     ]
    }
   ],
   "source": [
    "x=lambda a:a**2\n",
    "list = [x(i)for i in range(0,20,2)]\n",
    "print(list)"
   ]
  },
  {
   "cell_type": "code",
   "execution_count": 14,
   "metadata": {},
   "outputs": [
    {
     "data": {
      "text/plain": [
       "[0, 4, 16, 36, 64, 100, 144, 196, 256, 324]"
      ]
     },
     "execution_count": 14,
     "metadata": {},
     "output_type": "execute_result"
    }
   ],
   "source": [
    "# 리스트안에 for 문 사용하기\n",
    "[i*i for i in range(0,20,2)]"
   ]
  },
  {
   "cell_type": "code",
   "execution_count": 17,
   "metadata": {},
   "outputs": [
    {
     "name": "stdout",
     "output_type": "stream",
     "text": [
      "<map object at 0x0000013E465DF6A0> <class 'map'>\n"
     ]
    }
   ],
   "source": [
    "m = map(lambda i:i*i, range(0,20,2))\n",
    "print(m,type(m))"
   ]
  },
  {
   "cell_type": "code",
   "execution_count": 1,
   "metadata": {},
   "outputs": [
    {
     "name": "stdout",
     "output_type": "stream",
     "text": [
      "[0, 4, 16, 36, 64, 100, 144, 196, 256, 324]\n"
     ]
    }
   ],
   "source": [
    "print(list(map(lambda i:i*i, range(0,20,2))))"
   ]
  },
  {
   "cell_type": "code",
   "execution_count": 18,
   "metadata": {},
   "outputs": [
    {
     "name": "stdout",
     "output_type": "stream",
     "text": [
      "a::b::c\n"
     ]
    }
   ],
   "source": [
    "# Q. join 함수를 이용해서 아래와 같이 출력하세요.\n",
    "# a::b::c\n",
    "print(\"::\".join(['a','b','c']))"
   ]
  },
  {
   "cell_type": "code",
   "execution_count": 2,
   "metadata": {},
   "outputs": [
    {
     "data": {
      "text/plain": [
       "(8, 2, 15, 2)"
      ]
     },
     "execution_count": 2,
     "metadata": {},
     "output_type": "execute_result"
    }
   ],
   "source": [
    "# Q.두개의 숫자를 인자로 적용하면 4칙 연산을 수행하는 사용자 함수를 작성한 후 5,3을 대입한 결과를 튜플로\n",
    "# 출력하세요. 단, 소수점은 없게 처리\n",
    "def cal4(a,b):\n",
    "    return a+b, a-b, a*b, round(a/b)\n",
    "cal4(5,3)"
   ]
  },
  {
   "cell_type": "code",
   "execution_count": 21,
   "metadata": {},
   "outputs": [
    {
     "name": "stdout",
     "output_type": "stream",
     "text": [
      "데이터를 입력해 주세요.1\n",
      "1\n",
      "데이터를 입력해 주세요.2\n",
      "2\n",
      "데이터를 입력해 주세요.\n",
      "프로그램을 종료합니다.\n"
     ]
    }
   ],
   "source": [
    "# Q. 데이터를 입력하지 않으면 종료되는 코딩을 수행하세요. 단 반복적으로 작업을 수행할 수 있음.\n",
    "while True:\n",
    "    data = input('데이터를 입력해 주세요.')\n",
    "    if data == '':\n",
    "        print('프로그램을 종료합니다.')\n",
    "        break\n",
    "    else: print(data)    "
   ]
  },
  {
   "cell_type": "code",
   "execution_count": 20,
   "metadata": {},
   "outputs": [
    {
     "name": "stdout",
     "output_type": "stream",
     "text": [
      "1\n",
      "1\n",
      "\n"
     ]
    }
   ],
   "source": [
    "# Q. 데이터를 입력하지 않으면 종료되는 코딩을 수행하세요. 단 반복적으로 작업을 수행할 수 있음.\n",
    "while 1:\n",
    "    data = input()\n",
    "    if not data: break\n",
    "    print(data)"
   ]
  },
  {
   "cell_type": "code",
   "execution_count": 22,
   "metadata": {},
   "outputs": [
    {
     "name": "stdout",
     "output_type": "stream",
     "text": [
      "120\n",
      "3628800\n"
     ]
    }
   ],
   "source": [
    "# Q. 반복문으로 팩토리얼을 구하는 사용자 함수를 작성하고 5!, 10!를 구하세요.\n",
    "# n! = 1 x 2 x.......x (n-1) x n\n",
    "def factorial(n):\n",
    "    output = 1\n",
    "    for i in range(1,n+1):\n",
    "        output *= i\n",
    "    return output\n",
    "print(factorial(5))\n",
    "print(factorial(10))    "
   ]
  },
  {
   "cell_type": "code",
   "execution_count": 5,
   "metadata": {},
   "outputs": [
    {
     "name": "stdout",
     "output_type": "stream",
     "text": [
      "1\n",
      "120\n",
      "3628800\n"
     ]
    }
   ],
   "source": [
    "# Q. 재귀란 '자기자신을 호출하는 것'을 의미한다. 재귀함수를 이용해서 팩토리얼을 구하는 사용자 함수를 \n",
    "# 작성하고 1!, 5!, 10!를 구하세요.\n",
    "# factorial(n) = n * factorial(n-1) (n >= 1)\n",
    "def factorial(n):\n",
    "    if n == 0:\n",
    "        return 1\n",
    "    else:\n",
    "        return n*factorial(n-1)\n",
    "    \n",
    "print(factorial(1))\n",
    "print(factorial(5))\n",
    "print(factorial(10))"
   ]
  },
  {
   "cell_type": "code",
   "execution_count": 24,
   "metadata": {},
   "outputs": [
    {
     "name": "stdout",
     "output_type": "stream",
     "text": [
      "(78.5, 31.4)\n",
      "(314.0, 62.8)\n"
     ]
    }
   ],
   "source": [
    "# Q. 원의 면적과 둘레의 길이를 구하는 사용자 함수를 작성하여 반지름이 5와 10일때 면적과 둘레를 구하세요\n",
    "\n",
    "def on(n):\n",
    "    return round((n*n)*3.14, 2) , round((n*2)*3.14 ,2)\n",
    "\n",
    "print(on(5))\n",
    "print(on(10))"
   ]
  },
  {
   "cell_type": "code",
   "execution_count": 7,
   "metadata": {},
   "outputs": [
    {
     "data": {
      "text/plain": [
       "[1.0, 2.0, 3.0, 4.0, 5.0]"
      ]
     },
     "execution_count": 7,
     "metadata": {},
     "output_type": "execute_result"
    }
   ],
   "source": [
    "# Q. list a의 모든 원소를 실수형으로 바꾸어 출력하세요\n",
    "a = [1,2,3,4,5]"
   ]
  },
  {
   "cell_type": "code",
   "execution_count": null,
   "metadata": {},
   "outputs": [],
   "source": [
    "# [과제]\n",
    "# input(\"문자 수정을 원하시면 '수정'을 입력하시고, 문자 개수를 찾기 및 삭제를 원하시면 '찾기'를 입력해주세요>\")\n",
    "# 아래 시나리오가 구현될 수 있도록 코드를 작성하세요."
   ]
  },
  {
   "cell_type": "code",
   "execution_count": null,
   "metadata": {},
   "outputs": [],
   "source": [
    "문자 수정을 원하시면 '수정'을 입력하시고, 문자 개수를 찾기 및 삭제를 원하시면 '찾기'를 입력해주세요>수정\n",
    "글을 입력해주세요>그는 빅 브라더를 사랑했다.\n",
    "\n",
    "글에서 수정하고 싶은 문자를 입력해주세요>사랑\n",
    "그는 빅 브라더를 사랑했다.\n",
    "\n",
    "문자를 어떻게 수정하시겠습니까?>존경\n",
    "그는 빅 브라더를 존경했다.\n",
    "\n",
    "문자 수정을 원하시면 '수정'을 입력하시고, 문자 개수를 찾기 및 삭제를 원하시면 '찾기'를 입력해주세요>찾기\n",
    "글을 입력해주세요>호랑이 인형은 귀엽다. 그래서 나는 매일 호랑이 인형을 들고 잔다.호랑이 인형을 갖고 있는 \n",
    "사람은 많다.\n",
    "\n",
    "글에서 찾고싶은 문자를 입력해주세요.>호랑이\n",
    "호랑이 인형은 귀엽다. 그래서 나는 매일 호랑이 인형을 들고 잔다.호랑이 인형을 갖고 있는 사람은 많다.\n",
    "해당 글에 존재하는 입력하신 문자의 개수는 3개 입니다.\n",
    "\n",
    "해당 글에서 입력하신 문자를 모두 삭제하시겠습니까?(Y/N)>Y\n",
    " 인형은 귀엽다. 그래서 나는 매일  인형을 들고 잔다. 인형을 갖고 있는 사람은 많다."
   ]
  },
  {
   "cell_type": "code",
   "execution_count": null,
   "metadata": {},
   "outputs": [],
   "source": [
    "# [과제] 게시물의 총 건수와 한 페이지에 보여 줄 게시물 수를 입력시 총 페이지 수를 출력하는 프로그램\n",
    "# A.\n"
   ]
  },
  {
   "cell_type": "code",
   "execution_count": null,
   "metadata": {},
   "outputs": [],
   "source": [
    "# [도전과제] 문자열 리스트 states를 정형화하여 아래와 같이 출력하세요\n",
    "states = ['   Alabama ', 'Georgia!', 'Georgia', 'georgia', 'FlOrIda',\n",
    "          'south   carolina##', 'West virginia?']\n",
    "[출력]\n",
    "['Alabama',\n",
    " 'Georgia',\n",
    " 'Georgia',\n",
    " 'Georgia',\n",
    " 'Florida',\n",
    " 'South   Carolina',\n",
    " 'West Virginia']"
   ]
  },
  {
   "cell_type": "code",
   "execution_count": null,
   "metadata": {},
   "outputs": [],
   "source": [
    "# Q. 랜덤하게 1000명의 이름, 키와 몸무게 만들기\n",
    "import random\n",
    "hanguls = list('가나다라마바사아자차카타파하')\n",
    "with open('member.txt','w') as file:\n",
    "    for i in range(1000):\n",
    "        name = random.choice(hanguls)+random.choice(hanguls)\n",
    "        height = random.randrange(140,200)\n",
    "        weight = random.randrange(40,100)\n",
    "        file.write(f'{name},{height},{weight}\\n')\n",
    "        \n",
    "with open('member.txt','r') as file:\n",
    "    data = file.read()\n",
    "    print(data)"
   ]
  },
  {
   "cell_type": "code",
   "execution_count": null,
   "metadata": {},
   "outputs": [],
   "source": [
    "# [과제] 1000명에 대하여 아래와 같이 출력하세요(출력 포멧)\n",
    "이름 :라바\n",
    "몸무게: 80\n",
    "키: 146\n"
   ]
  },
  {
   "cell_type": "code",
   "execution_count": null,
   "metadata": {},
   "outputs": [],
   "source": [
    "[과제]\n",
    "# Q. 1000명에 대하여 아래와 같이 출력하세요\n",
    "#  bmi = round(int(weight) / ((int(height) / 100) ** 2),2)\n",
    "이름 :라바\n",
    "몸무게: 80\n",
    "키: 146\n",
    "BMI: 37.53049352598987\n",
    "결과: 과체중"
   ]
  }
 ],
 "metadata": {
  "kernelspec": {
   "display_name": "Python 3",
   "language": "python",
   "name": "python3"
  },
  "language_info": {
   "codemirror_mode": {
    "name": "ipython",
    "version": 3
   },
   "file_extension": ".py",
   "mimetype": "text/x-python",
   "name": "python",
   "nbconvert_exporter": "python",
   "pygments_lexer": "ipython3",
   "version": "3.8.3"
  }
 },
 "nbformat": 4,
 "nbformat_minor": 5
}

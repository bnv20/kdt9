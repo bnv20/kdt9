{
 "cells": [
  {
   "cell_type": "markdown",
   "metadata": {},
   "source": [
    "#### 객체(object) 개념 정리 ( 신원/타입/속성/메소드/클래스/OOP)\n",
    "- 파이썬 프로그램에서 모든 데이터는 객체(object)라는 개념을 사용하여 저장됩니다.\n",
    "- 가장 기본이 되는 데이터 타입인 숫자, 문자열, 리스트, 사전은 다 객체입니다.\n",
    "- 클래스를 사용해서 사용자 정의 객체를 생성할 수도 있습니다.\n",
    "- 또한 프로그램의 구조와 인터프리터의 내부 동작과 관련된 객체들도 있습니다\n",
    "- 객체(object) : 프로그램에서 저장되는 모든 데이터는 객체입니다. 각 객체는 신원(identity), 타입(클래스라고도 함)과 값을 가집니다.\n",
    "  - 객체의 신원(identity) : 객체가 메모리에 저장된 위치를 가리키는 포인터\n",
    "  - 객체의 타입(클래스) : 객체의 내부적인 표현 형태와 객체가 지원하는 메서드 및 연산들을 설명, 특정 타입의 객체가 생성되면 그 객체를 그 타입의 인스턴스(instance)라고 부른다.\n",
    "  - 객체의 속성(attribute)와 메서드(method) : 속성(attribute)은 객체에 연결된 값이고 메서드(method)는 호출될 때 객체에 대해 특정 연산을 수행하는 함수\n",
    "  \n",
    "https://happy-obok.tistory.com/22"
   ]
  },
  {
   "cell_type": "markdown",
   "metadata": {},
   "source": [
    "## 클래스\n",
    "\n",
    "클래스(class)란 똑같은 무엇인가를 계속해서 만들어 낼 수 있는 설계 도면이고(과자 틀), \n",
    "객체(object)란 클래스로 만든 피조물(과자 틀을 사용해 만든 과자)을 뜻한다.  \n",
    "과자 틀 → 클래스 (class)  \n",
    "과자 틀에 의해서 만들어진 과자 → 객체 (object)\n",
    "\n",
    "- class : 함수 + 변수 모아놓은 것\n",
    "- 오브젝트(object) : 클래스를 써서 만든 것\n",
    "- 오브젝트(object) == 인스턴스(instance)\n",
    "- 클래스를 정의한 후, 그 클래스를 사용해서 데이터 객체(인스턴스)를 만들 수 있다.\n",
    "- 동일한 클래스에 의해 만들어진 각 객체들은 유사한 특징을 공유한다.\n",
    "- 모든 인스턴스에서 메소드(=코드)는 동일하지만, 속성(데이터)는 다르다.\n",
    "  * 메소드 : 코드 \n",
    "  * 속성 : 데이터 \n",
    "  * 인스턴스 : 클래스에 의해 만들어진 데이터 객체\n",
    "  * a = 클래스() 이렇게 만든 a는 객체이다. 그리고 a 객체는 클래스의 인스턴스이다. 즉 인스턴스라는 말은 특정 객체(a)가 어떤 클래스의 객체인지를 관계 위주로 설명할 때 사용"
   ]
  },
  {
   "cell_type": "code",
   "execution_count": 3,
   "metadata": {},
   "outputs": [
    {
     "name": "stdout",
     "output_type": "stream",
     "text": [
      "hmkd1 과정입니다.\n",
      "hmkd1\n"
     ]
    }
   ],
   "source": [
    "# 생성자(Constructor)란 객체가 생성될 때 자동으로 호출되는 메서드를 의미\n",
    "# 파이썬 메서드 이름으로 __init__를 사용하면 이 메서드는 생성자가 된다.\n",
    "# 클래스 생성자(인자가 없는 경우)\n",
    "class Hmkd:\n",
    "    def __init__(self):\n",
    "        self.var = \"hmkd1\" # 인스턴스 멤버\n",
    "        print(\"hmkd1 과정입니다.\")\n",
    "obj = Hmkd()\n",
    "print(obj.var)"
   ]
  },
  {
   "cell_type": "code",
   "execution_count": 7,
   "metadata": {},
   "outputs": [
    {
     "name": "stdout",
     "output_type": "stream",
     "text": [
      "홍길동은 25세이며 computer을 전공했습니다\n",
      "홍길순은 27세이며 business을 전공했습니다\n",
      "홍길동\n",
      "business\n"
     ]
    }
   ],
   "source": [
    "# 클래스 생성자(인자가 있는 경우)\n",
    "class Hmkd:\n",
    "    def __init__(self,name,age,major):\n",
    "        self.name = name\n",
    "        self.age = age\n",
    "        self.major = major\n",
    "        print(f'{self.name}은 {self.age}세이며 {self.major}을 전공했습니다')\n",
    "\n",
    "# a = Hmkd()\n",
    "a = Hmkd('홍길동',25,'computer')\n",
    "b = Hmkd('홍길순',27,'business')\n",
    "print(a.name)\n",
    "print(b.major)"
   ]
  },
  {
   "cell_type": "code",
   "execution_count": 8,
   "metadata": {},
   "outputs": [
    {
     "name": "stdout",
     "output_type": "stream",
     "text": [
      "Hmkd 인스턴스 객체가 메모리에서 제거됩니다.\n"
     ]
    }
   ],
   "source": [
    "# 클래스 소멸자\n",
    "# 클래스 인스턴스 객체가 메모리에서 제거될 때 자동으로 호출되는 클래스 메소드\n",
    "\n",
    "class Hmkd:\n",
    "    def __del__(self):\n",
    "        print('Hmkd 인스턴스 객체가 메모리에서 제거됩니다.')\n",
    "obj = Hmkd()\n",
    "del obj"
   ]
  },
  {
   "cell_type": "markdown",
   "metadata": {},
   "source": [
    "## 클래스 멤버, 클래스 메소드\n",
    "- 클래스를 구성하는 주요요소는 클래스 멤버(변수)와 클래스 메소드(함수)로 클래스 공간내에서 정의\n",
    "- 클래스 멤버는 클래스 메소드 내에서 정의되는 지역변수나 인스턴스 멤버와는 다름\n",
    "- 클래스 메소드는 첫번째 인자가 반드시 self로 시작\n",
    "- self는 이 클래스의 인스턴스 객체를 가리키는 참조자\n",
    "- 인스턴스 객체에서 클래스 메소드를 호출 시 첫번째 인자인 self 생략"
   ]
  },
  {
   "cell_type": "code",
   "execution_count": 14,
   "metadata": {},
   "outputs": [
    {
     "name": "stdout",
     "output_type": "stream",
     "text": [
      "hmkd1 과정입니다.\n",
      "안녕하세요\n",
      "안녕하세요\n"
     ]
    }
   ],
   "source": [
    "class MyClass:\n",
    "    var = '안녕하세요' # 클래스 멤버\n",
    "    def __init__(self): # 생성자는 객체 만들 때 자동으로 호출\n",
    "        self.name='hmkd1' # 지역변수, 인스턴스 멤버       \n",
    "        print(f'{self.name} 과정입니다.')\n",
    "    def sayHello(self): # 클래스 메소드        \n",
    "        return self.var\n",
    "obj = MyClass()\n",
    "print(obj.var)\n",
    "print(obj.sayHello())"
   ]
  },
  {
   "cell_type": "code",
   "execution_count": 21,
   "metadata": {},
   "outputs": [
    {
     "name": "stdout",
     "output_type": "stream",
     "text": [
      "안녕\n",
      "안녕하세요\n"
     ]
    }
   ],
   "source": [
    "# 클래스 멤버와 인스턴스 멤버\n",
    "# 클래스 멤버는 클래스 메소드 바깥에서 선언되고 인스턴스 멤버는 클래스 메소드 안에서 self와 함께 선언\n",
    "# \n",
    "class MyClass:\n",
    "    var = '안녕하세요' # 클래스 멤버\n",
    "    def sayHello(self): # 클레스 메소드\n",
    "        param1 = '안녕' # 지역 변수\n",
    "        self.param2 = '하이' # 인스턴스 멤버\n",
    "        print(param1)\n",
    "#         print(var)\n",
    "        print(self.var)\n",
    "        \n",
    "obj = MyClass()\n",
    "# print(obj.var)\n",
    "obj.sayHello()\n",
    "\n",
    "# obj.param1"
   ]
  },
  {
   "cell_type": "code",
   "execution_count": 25,
   "metadata": {},
   "outputs": [
    {
     "name": "stdout",
     "output_type": "stream",
     "text": [
      "안녕하세요\n",
      "kevin! 다음에 보자\n"
     ]
    }
   ],
   "source": [
    "# 클래스 메소드\n",
    "# 클래스 내에서 정의되는 클래스 메소드는 첫 번째 인자가 반드시 self여야 한다.\n",
    "class MyClass:\n",
    "    def sayHello(self):\n",
    "        print('안녕하세요')\n",
    "    def sayBye(self,name):\n",
    "        print(f'{name}! 다음에 보자')\n",
    "        \n",
    "obj=MyClass()\n",
    "obj.sayHello()\n",
    "obj.sayBye('kevin')"
   ]
  },
  {
   "cell_type": "code",
   "execution_count": null,
   "metadata": {},
   "outputs": [],
   "source": [
    "# Q. 생성자를 추가하여 아래와 같이 출력하세요.\n",
    "생성자를 만들었습니다.\n",
    "안녕하세요\n",
    "kevin! 다음에 보자"
   ]
  },
  {
   "cell_type": "code",
   "execution_count": 27,
   "metadata": {},
   "outputs": [
    {
     "name": "stdout",
     "output_type": "stream",
     "text": [
      "생성자를 만들었습니다.\n",
      "안녕하세요\n",
      "kevin! 다음에 보자\n"
     ]
    }
   ],
   "source": [
    "class MyClass:\n",
    "    def __init__(self):\n",
    "        print(\"생성자를 만들었습니다.\")\n",
    "    def sayHello(self):\n",
    "        print(\"안녕하세요\")\n",
    "    def sayBye(self,name):\n",
    "        print(f\"{name}! 다음에 보자\")\n",
    "        \n",
    "obj=MyClass()\n",
    "obj.sayHello()\n",
    "obj.sayBye('kevin')"
   ]
  },
  {
   "cell_type": "code",
   "execution_count": null,
   "metadata": {},
   "outputs": [],
   "source": [
    "# Q. 클래스 MyClass를 작성하고 객체를 생성하여 아래와 같이 출력하세요(생성자 사용)\n",
    "# kevin, 안녕하세요\n",
    "# kevin! 다음에 보자"
   ]
  },
  {
   "cell_type": "code",
   "execution_count": 29,
   "metadata": {},
   "outputs": [
    {
     "name": "stdout",
     "output_type": "stream",
     "text": [
      "kevin, 안녕하세요.\n",
      "kevin. 다음에 보자.\n"
     ]
    }
   ],
   "source": [
    "class MyClass:\n",
    "    def __init__(self):\n",
    "        name = \"kevin\"\n",
    "        print(f\"{name}, 안녕하세요.\")\n",
    "        print(f\"{name}. 다음에 보자.\")        \n",
    "        \n",
    "run = MyClass()"
   ]
  },
  {
   "cell_type": "code",
   "execution_count": 31,
   "metadata": {},
   "outputs": [
    {
     "name": "stdout",
     "output_type": "stream",
     "text": [
      "JAMES, 안녕하세요.\n",
      "JAMES! 다음에 봐요.\n"
     ]
    }
   ],
   "source": [
    "class printf:\n",
    "    def __init__(self,name):\n",
    "        self.name=name\n",
    "        \n",
    "    def sayhello(self):\n",
    "        print(f\"{self.name}, 안녕하세요.\")\n",
    "        \n",
    "    def saybye(self):\n",
    "        print(f\"{self.name}! 다음에 봐요.\")\n",
    "        \n",
    "pf=printf('JAMES')\n",
    "pf.sayhello()\n",
    "pf.saybye()"
   ]
  },
  {
   "cell_type": "markdown",
   "metadata": {},
   "source": [
    "## 객체 지향 프로그래밍 (Object-Oriented Programming)\n",
    "- 클래스 인스턴스는 객체(object)라고도 하며, 이렇게 클래스를 정의하고 객체를 만드는 패턴을 객체 지향 프로그래밍(OOP)이라고 함\n",
    "- 인스턴스를 불러온다는 건 클래스를 가져와 객체로 바꿔준다는 건데, type() 함수를 사용하는 건 그 반대\n",
    "- 객체의 type을 확인해보면 해당 객체가 어떤 클래스의 인스턴스인지를 확인\n",
    "- 파이썬에서 __main__은 “현재 실행 중인 파일”을 의미"
   ]
  },
  {
   "cell_type": "code",
   "execution_count": 32,
   "metadata": {},
   "outputs": [
    {
     "name": "stdout",
     "output_type": "stream",
     "text": [
      "<class '__main__.Test'>\n"
     ]
    }
   ],
   "source": [
    "# Q. 임의의 클래스를 작성한 후 인스턴스를 생성하고 그것의 타입을 확인하세요.\n",
    "class Test:\n",
    "    pass\n",
    "\n",
    "test = Test()\n",
    "print(type(test))"
   ]
  },
  {
   "cell_type": "markdown",
   "metadata": {},
   "source": [
    "## 클래스 상속\n",
    "- 어떤 클래스가 가지고 있는 모든 멤버나 메소드를 상속받는 클래스가 모두 사용할 수 있도록 해주는 것. \n",
    "- 상속을 해주는 클래스가 부모클래스(슈퍼), 상속을 받는 클래스가 자식클래스(서브)라 함: class 자식클래스(부모클래스)\n",
    "- 자식클래스는 여러 부모클래스로 부터 상속받을 수 있으며 다중상속이라 함. class 자식클래스(부모클래스1, 부모클래스2,..)"
   ]
  },
  {
   "cell_type": "code",
   "execution_count": 33,
   "metadata": {},
   "outputs": [
    {
     "name": "stdout",
     "output_type": "stream",
     "text": [
      "3\n",
      "6\n"
     ]
    }
   ],
   "source": [
    "class Sum:\n",
    "    def sum(self,n1,n2):\n",
    "        return n1+n2\n",
    "    \n",
    "class Mul:\n",
    "    def mul(self,n1,n2):\n",
    "        return n1*n2\n",
    "    \n",
    "class Cal(Sum,Mul):\n",
    "    def sub(self,n1,n2):\n",
    "        return n1 - n2\n",
    "    \n",
    "obj = Cal()\n",
    "print(obj.sum(1,2))\n",
    "print(obj.mul(3,2))"
   ]
  },
  {
   "cell_type": "code",
   "execution_count": null,
   "metadata": {},
   "outputs": [],
   "source": [
    "# [과제] 사용자 함수를 작성하여 기본가격 1000에 입력 받은 값을 추가한 가격을 산출하세요. (지역변수, 전역변수 2가지 방법) \n",
    "# return 사용, global 변수 사용 두가지 경우로 수행\n"
   ]
  },
  {
   "cell_type": "code",
   "execution_count": null,
   "metadata": {},
   "outputs": [],
   "source": [
    "# [과제] 기본가격 1000원인 3개의 상품에 대하여 임의의 추가 가격을 인수로 대입시 더한 가격을 산출하세요\n",
    "# (클래스를 이용)\n"
   ]
  },
  {
   "cell_type": "code",
   "execution_count": null,
   "metadata": {},
   "outputs": [],
   "source": [
    "# [과제]  기본가격 1000원인 2개의 상품에 대하여 임의의 추가 가격을 입력시 아래 두개의 방식으로 산출하세요\n",
    "# (class 이용)\n",
    "# - price1 : 기본가격 + 추가가격\n",
    "# - price2 : (기본가격 + 추가가격) * 90% \n"
   ]
  },
  {
   "cell_type": "code",
   "execution_count": null,
   "metadata": {},
   "outputs": [],
   "source": [
    "# [과제]  4칙 연산 기능을 포함한 Cal4 클래스(생성자 이용)를 작성하고 이 클래스를 이용하여 cal 계산기 객체를 \n",
    "# 만든 후 두개의 수  1000, 200에 대한 사칙연산을 수행하세요.\n"
   ]
  }
 ],
 "metadata": {
  "kernelspec": {
   "display_name": "Python 3",
   "language": "python",
   "name": "python3"
  },
  "language_info": {
   "codemirror_mode": {
    "name": "ipython",
    "version": 3
   },
   "file_extension": ".py",
   "mimetype": "text/x-python",
   "name": "python",
   "nbconvert_exporter": "python",
   "pygments_lexer": "ipython3",
   "version": "3.8.3"
  }
 },
 "nbformat": 4,
 "nbformat_minor": 2
}

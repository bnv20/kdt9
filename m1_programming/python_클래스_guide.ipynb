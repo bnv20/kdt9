{
 "cells": [
  {
   "cell_type": "markdown",
   "metadata": {},
   "source": [
    "#### 객체(object) 개념 정리 ( 신원/타입/속성/메소드/클래스/OOP)\n",
    "- 파이썬 프로그램에서 모든 데이터는 객체(object)라는 개념을 사용하여 저장됩니다.\n",
    "- 가장 기본이 되는 데이터 타입인 숫자, 문자열, 리스트, 사전은 다 객체입니다.\n",
    "- 클래스를 사용해서 사용자 정의 객체를 생성할 수도 있습니다.\n",
    "- 또한 프로그램의 구조와 인터프리터의 내부 동작과 관련된 객체들도 있습니다\n",
    "- 객체(object) : 프로그램에서 저장되는 모든 데이터는 객체입니다. 각 객체는 신원(identity), 타입(클래스라고도 함)과 값을 가집니다.\n",
    "  - 객체의 신원(identity) : 객체가 메모리에 저장된 위치를 가리키는 포인터\n",
    "  - 객체의 타입(클래스) : 객체의 내부적인 표현 형태와 객체가 지원하는 메서드 및 연산들을 설명, 특정 타입의 객체가 생성되면 그 객체를 그 타입의 인스턴스(instance)라고 부른다.\n",
    "  - 객체의 속성(attribute)와 메서드(method) : 속성(attribute)은 객체에 연결된 값이고 메서드(method)는 호출될 때 객체에 대해 특정 연산을 수행하는 함수\n",
    "  \n",
    "https://happy-obok.tistory.com/22"
   ]
  },
  {
   "cell_type": "markdown",
   "metadata": {},
   "source": [
    "## 클래스\n",
    "\n",
    "클래스(class)란 똑같은 무엇인가를 계속해서 만들어 낼 수 있는 설계 도면이고(과자 틀), \n",
    "객체(object)란 클래스로 만든 피조물(과자 틀을 사용해 만든 과자)을 뜻한다.  \n",
    "과자 틀 → 클래스 (class)  \n",
    "과자 틀에 의해서 만들어진 과자 → 객체 (object)\n",
    "\n",
    "- class : 함수 + 변수 모아놓은 것\n",
    "- 오브젝트(object) : 클래스를 써서 만든 것\n",
    "- 오브젝트(object) == 인스턴스(instance)\n",
    "- 클래스를 정의한 후, 그 클래스를 사용해서 데이터 객체(인스턴스)를 만들 수 있다.\n",
    "- 동일한 클래스에 의해 만들어진 각 객체들은 유사한 특징을 공유한다.\n",
    "- 모든 인스턴스에서 메소드(=코드)는 동일하지만, 속성(데이터)는 다르다.\n",
    "  * 메소드 : 코드 \n",
    "  * 속성 : 데이터 \n",
    "  * 인스턴스 : 클래스에 의해 만들어진 데이터 객체\n",
    "  * a = 클래스() 이렇게 만든 a는 객체이다. 그리고 a 객체는 클래스의 인스턴스이다. 즉 인스턴스라는 말은 특정 객체(a)가 어떤 클래스의 객체인지를 관계 위주로 설명할 때 사용"
   ]
  },
  {
   "cell_type": "code",
   "execution_count": 3,
   "metadata": {},
   "outputs": [
    {
     "name": "stdout",
     "output_type": "stream",
     "text": [
      "hmkd1 과정입니다.\n",
      "hmkd1\n"
     ]
    }
   ],
   "source": [
    "# 생성자(Constructor)란 객체가 생성될 때 자동으로 호출되는 메서드를 의미\n",
    "# 파이썬 메서드 이름으로 __init__를 사용하면 이 메서드는 생성자가 된다.\n",
    "# 클래스 생성자(인자가 없는 경우)\n",
    "class Hmkd:\n",
    "    def __init__(self):\n",
    "        self.var = \"hmkd1\" # 인스턴스 멤버\n",
    "        print(\"hmkd1 과정입니다.\")\n",
    "obj = Hmkd()\n",
    "print(obj.var)"
   ]
  },
  {
   "cell_type": "code",
   "execution_count": 7,
   "metadata": {},
   "outputs": [
    {
     "name": "stdout",
     "output_type": "stream",
     "text": [
      "홍길동은 25세이며 computer을 전공했습니다\n",
      "홍길순은 27세이며 business을 전공했습니다\n",
      "홍길동\n",
      "business\n"
     ]
    }
   ],
   "source": [
    "# 클래스 생성자(인자가 있는 경우)\n",
    "class Hmkd:\n",
    "    def __init__(self,name,age,major):\n",
    "        self.name = name\n",
    "        self.age = age\n",
    "        self.major = major\n",
    "        print(f'{self.name}은 {self.age}세이며 {self.major}을 전공했습니다')\n",
    "\n",
    "# a = Hmkd()\n",
    "a = Hmkd('홍길동',25,'computer')\n",
    "b = Hmkd('홍길순',27,'business')\n",
    "print(a.name)\n",
    "print(b.major)"
   ]
  },
  {
   "cell_type": "code",
   "execution_count": 8,
   "metadata": {},
   "outputs": [
    {
     "name": "stdout",
     "output_type": "stream",
     "text": [
      "Hmkd 인스턴스 객체가 메모리에서 제거됩니다.\n"
     ]
    }
   ],
   "source": [
    "# 클래스 소멸자\n",
    "# 클래스 인스턴스 객체가 메모리에서 제거될 때 자동으로 호출되는 클래스 메소드\n",
    "\n",
    "class Hmkd:\n",
    "    def __del__(self):\n",
    "        print('Hmkd 인스턴스 객체가 메모리에서 제거됩니다.')\n",
    "obj = Hmkd()\n",
    "del obj"
   ]
  },
  {
   "cell_type": "markdown",
   "metadata": {},
   "source": [
    "## 클래스 멤버, 클래스 메소드\n",
    "- 클래스를 구성하는 주요요소는 클래스 멤버(변수)와 클래스 메소드(함수)로 클래스 공간내에서 정의\n",
    "- 클래스 멤버는 클래스 메소드 내에서 정의되는 지역변수나 인스턴스 멤버와는 다름\n",
    "- 클래스 메소드는 첫번째 인자가 반드시 self로 시작\n",
    "- self는 이 클래스의 인스턴스 객체를 가리키는 참조자\n",
    "- 인스턴스 객체에서 클래스 메소드를 호출 시 첫번째 인자인 self 생략"
   ]
  },
  {
   "cell_type": "code",
   "execution_count": 14,
   "metadata": {},
   "outputs": [
    {
     "name": "stdout",
     "output_type": "stream",
     "text": [
      "hmkd1 과정입니다.\n",
      "안녕하세요\n",
      "안녕하세요\n"
     ]
    }
   ],
   "source": [
    "class MyClass:\n",
    "    var = '안녕하세요' # 클래스 멤버\n",
    "    def __init__(self): # 생성자는 객체 만들 때 자동으로 호출\n",
    "        self.name='hmkd1' # 지역변수, 인스턴스 멤버       \n",
    "        print(f'{self.name} 과정입니다.')\n",
    "    def sayHello(self): # 클래스 메소드        \n",
    "        return self.var\n",
    "obj = MyClass()\n",
    "print(obj.var)\n",
    "print(obj.sayHello())"
   ]
  },
  {
   "cell_type": "code",
   "execution_count": 21,
   "metadata": {},
   "outputs": [
    {
     "name": "stdout",
     "output_type": "stream",
     "text": [
      "안녕\n",
      "안녕하세요\n"
     ]
    }
   ],
   "source": [
    "# 클래스 멤버와 인스턴스 멤버\n",
    "# 클래스 멤버는 클래스 메소드 바깥에서 선언되고 인스턴스 멤버는 클래스 메소드 안에서 self와 함께 선언\n",
    "# \n",
    "class MyClass:\n",
    "    var = '안녕하세요' # 클래스 멤버\n",
    "    def sayHello(self): # 클레스 메소드\n",
    "        param1 = '안녕' # 지역 변수\n",
    "        self.param2 = '하이' # 인스턴스 멤버\n",
    "        print(param1)\n",
    "#         print(var)\n",
    "        print(self.var)\n",
    "        \n",
    "obj = MyClass()\n",
    "# print(obj.var)\n",
    "obj.sayHello()\n",
    "\n",
    "# obj.param1"
   ]
  },
  {
   "cell_type": "code",
   "execution_count": null,
   "metadata": {},
   "outputs": [],
   "source": [
    "# 메소드 작성. 클래스 변수와 인스턴스 변수를 모두 자유롭게 사용\n",
    "# Q. 업무미팅이 2시임을 알려주는 자동 이메일을 클래스 AutoEmail을 작성하여 아래와 같이 출력하세요.\n",
    "# 안녕하세요. kevin님, 업무미팅은 2시입니다."
   ]
  },
  {
   "cell_type": "code",
   "execution_count": 1,
   "metadata": {},
   "outputs": [
    {
     "name": "stdout",
     "output_type": "stream",
     "text": [
      "안녕하세요. kevin님 업무미팅은 2시입니다.\n"
     ]
    }
   ],
   "source": [
    "class AutoEmail:\n",
    "    def __init__(self,name):\n",
    "        self.name=name\n",
    "        time=2\n",
    "        print(\"안녕하세요. %s님 업무미팅은 %d시입니다.\"%(name,time))\n",
    "    \n",
    "obj=AutoEmail('kevin')"
   ]
  },
  {
   "cell_type": "code",
   "execution_count": 2,
   "metadata": {},
   "outputs": [
    {
     "name": "stdout",
     "output_type": "stream",
     "text": [
      "안녕하세요. kevin님, 업무미팅은 2시입니다.\n"
     ]
    }
   ],
   "source": [
    "class meet_time:\n",
    "    def meet(self,name):\n",
    "        self.name = name\n",
    "        print(f'안녕하세요. {self.name}님, 업무미팅은 2시입니다.')\n",
    "        \n",
    "obj = meet_time()\n",
    "\n",
    "obj.meet('kevin')"
   ]
  },
  {
   "cell_type": "code",
   "execution_count": 5,
   "metadata": {},
   "outputs": [
    {
     "name": "stdout",
     "output_type": "stream",
     "text": [
      "안녕하세요 Kevin님, 업무미팅은 2시입니다.\n",
      "안녕하세요 James님, 업무미팅은 5시입니다.\n"
     ]
    }
   ],
   "source": [
    "class AutoEmail:\n",
    "    def __init__(self, name, time):\n",
    "        self.name = name\n",
    "        self.time = time\n",
    "    def send(self):\n",
    "        return f\"안녕하세요 {self.name}님, 업무미팅은 {self.time}시입니다.\"\n",
    "        \n",
    "run1 = AutoEmail(\"Kevin\",2)\n",
    "run2 = AutoEmail(\"James\",5)\n",
    "print(run1.send())\n",
    "print(run2.send())"
   ]
  },
  {
   "cell_type": "code",
   "execution_count": 25,
   "metadata": {},
   "outputs": [
    {
     "name": "stdout",
     "output_type": "stream",
     "text": [
      "안녕하세요\n",
      "kevin! 다음에 보자\n"
     ]
    }
   ],
   "source": [
    "# 클래스 메소드\n",
    "# 클래스 내에서 정의되는 클래스 메소드는 첫 번째 인자가 반드시 self여야 한다.\n",
    "class MyClass:\n",
    "    def sayHello(self):\n",
    "        print('안녕하세요')\n",
    "    def sayBye(self,name):\n",
    "        print(f'{name}! 다음에 보자')\n",
    "        \n",
    "obj=MyClass()\n",
    "obj.sayHello()\n",
    "obj.sayBye('kevin')"
   ]
  },
  {
   "cell_type": "code",
   "execution_count": 27,
   "metadata": {},
   "outputs": [
    {
     "name": "stdout",
     "output_type": "stream",
     "text": [
      "생성자를 만들었습니다.\n",
      "안녕하세요\n",
      "kevin! 다음에 보자\n"
     ]
    }
   ],
   "source": [
    "class MyClass:\n",
    "    def __init__(self):\n",
    "        print(\"생성자를 만들었습니다.\")\n",
    "    def sayHello(self):\n",
    "        print(\"안녕하세요\")\n",
    "    def sayBye(self,name):\n",
    "        print(f\"{name}! 다음에 보자\")\n",
    "        \n",
    "obj=MyClass()\n",
    "obj.sayHello()\n",
    "obj.sayBye('kevin')"
   ]
  },
  {
   "cell_type": "code",
   "execution_count": null,
   "metadata": {},
   "outputs": [],
   "source": [
    "# Q. 클래스 MyClass를 작성하고 객체를 생성하여 아래와 같이 출력하세요(생성자 사용)\n",
    "# kevin, 안녕하세요\n",
    "# kevin! 다음에 보자"
   ]
  },
  {
   "cell_type": "code",
   "execution_count": 29,
   "metadata": {},
   "outputs": [
    {
     "name": "stdout",
     "output_type": "stream",
     "text": [
      "kevin, 안녕하세요.\n",
      "kevin. 다음에 보자.\n"
     ]
    }
   ],
   "source": [
    "class MyClass:\n",
    "    def __init__(self):\n",
    "        name = \"kevin\"\n",
    "        print(f\"{name}, 안녕하세요.\")\n",
    "        print(f\"{name}. 다음에 보자.\")        \n",
    "        \n",
    "run = MyClass()"
   ]
  },
  {
   "cell_type": "code",
   "execution_count": 31,
   "metadata": {},
   "outputs": [
    {
     "name": "stdout",
     "output_type": "stream",
     "text": [
      "JAMES, 안녕하세요.\n",
      "JAMES! 다음에 봐요.\n"
     ]
    }
   ],
   "source": [
    "class printf:\n",
    "    def __init__(self,name):\n",
    "        self.name=name\n",
    "        \n",
    "    def sayhello(self):\n",
    "        print(f\"{self.name}, 안녕하세요.\")\n",
    "        \n",
    "    def saybye(self):\n",
    "        print(f\"{self.name}! 다음에 봐요.\")\n",
    "        \n",
    "pf=printf('JAMES')\n",
    "pf.sayhello()\n",
    "pf.saybye()"
   ]
  },
  {
   "cell_type": "code",
   "execution_count": 58,
   "metadata": {},
   "outputs": [
    {
     "name": "stdout",
     "output_type": "stream",
     "text": [
      "1\n",
      "2\n",
      "3\n"
     ]
    }
   ],
   "source": [
    "# 클래스의 인스턴스를 생성하고 클래스 변수를 표시\n",
    "# 인스턴스를 생성할 때마다 클래스 변수 vlaue 를 +1.\n",
    "# 클래스 변수에 접근할 때는 '인스턴스.클래스변수' 나 'self.클래스변수'와 같이 접근하는 것은 비추천\n",
    "\n",
    "class MyClass: \n",
    "    value = 0 # 클래스 변수를 선언 \n",
    "    def __init__(self): # 초기화 : 인스턴스 생성 \n",
    "        MyClass.value += 1 \n",
    "        \n",
    "if __name__ == \"__main__\": \n",
    "    a = MyClass() # 인스턴스 a를 생성한다.    \n",
    "    print(MyClass.value) # 1   \n",
    "    b = MyClass() # 인스턴스 b를 생성한다. \n",
    "    print(MyClass.value) # 2\n",
    "    c = MyClass() # 인스턴스 c를 생성한다. \n",
    "    print(MyClass.value) # 3 "
   ]
  },
  {
   "cell_type": "code",
   "execution_count": 6,
   "metadata": {},
   "outputs": [
    {
     "name": "stdout",
     "output_type": "stream",
     "text": [
      "0\n",
      "1 1\n",
      "2 2 2\n"
     ]
    }
   ],
   "source": [
    "# 클래스 변수와 인스턴스 변수\n",
    "class User:\n",
    "    num_users = 0               # class 변수\n",
    "    def __init__(self, name):\n",
    "        self.name = name        # instance 변수\n",
    "        User.num_users += 1\n",
    "\n",
    "print(User.num_users)\n",
    "u = User('honux')\n",
    "print(User.num_users, u.num_users)\n",
    "u2 = User('crong')\n",
    "print(User.num_users, u.num_users, u2.num_users)"
   ]
  },
  {
   "cell_type": "code",
   "execution_count": 15,
   "metadata": {},
   "outputs": [
    {
     "name": "stdout",
     "output_type": "stream",
     "text": [
      "['__class__', '__delattr__', '__dict__', '__dir__', '__doc__', '__eq__', '__format__', '__ge__', '__getattribute__', '__gt__', '__hash__', '__init__', '__init_subclass__', '__le__', '__lt__', '__module__', '__ne__', '__new__', '__reduce__', '__reduce_ex__', '__repr__', '__setattr__', '__sizeof__', '__str__', '__subclasshook__', '__weakref__', 'name', 'num_users']\n"
     ]
    }
   ],
   "source": [
    "# 파이썬에서는 모든 게 다 객체(Object)\n",
    "# dir()은 어떤 객체를 인자로 넣어주면 해당 객체가 어떤 메서드를 가지고 있는지 반환\n",
    "print(dir(u2))"
   ]
  },
  {
   "cell_type": "markdown",
   "metadata": {},
   "source": [
    "## 객체 지향 프로그래밍 (Object-Oriented Programming)\n",
    "- 클래스 인스턴스는 객체(object)라고도 하며, 이렇게 클래스를 정의하고 객체를 만드는 패턴을 객체 지향 프로그래밍(OOP)이라고 함\n",
    "- 인스턴스를 불러온다는 건 클래스를 가져와 객체로 바꿔준다는 건데, type() 함수를 사용하는 건 그 반대\n",
    "- 객체의 type을 확인해보면 해당 객체가 어떤 클래스의 인스턴스인지를 확인\n",
    "- 파이썬에서 __main__은 “현재 실행 중인 파일”을 의미"
   ]
  },
  {
   "cell_type": "code",
   "execution_count": 32,
   "metadata": {},
   "outputs": [
    {
     "name": "stdout",
     "output_type": "stream",
     "text": [
      "<class '__main__.Test'>\n"
     ]
    }
   ],
   "source": [
    "# Q. 임의의 클래스를 작성한 후 인스턴스를 생성하고 그것의 타입을 확인하세요.\n",
    "class Test:\n",
    "    pass\n",
    "\n",
    "test = Test()\n",
    "print(type(test))"
   ]
  },
  {
   "cell_type": "markdown",
   "metadata": {},
   "source": [
    "## 클래스 상속\n",
    "- 어떤 클래스가 가지고 있는 모든 멤버나 메소드를 상속받는 클래스가 모두 사용할 수 있도록 해주는 것. \n",
    "- 상속을 해주는 클래스가 부모클래스(슈퍼), 상속을 받는 클래스가 자식클래스(서브)라 함: class 자식클래스(부모클래스)\n",
    "- 자식클래스는 여러 부모클래스로 부터 상속받을 수 있으며 다중상속이라 함. class 자식클래스(부모클래스1, 부모클래스2,..)"
   ]
  },
  {
   "cell_type": "code",
   "execution_count": 16,
   "metadata": {},
   "outputs": [
    {
     "name": "stdout",
     "output_type": "stream",
     "text": [
      "3\n",
      "6\n",
      "1\n"
     ]
    }
   ],
   "source": [
    "class Sum:\n",
    "    def sum(self,n1,n2):\n",
    "        return n1+n2\n",
    "    \n",
    "class Mul:\n",
    "    def mul(self,n1,n2):\n",
    "        return n1*n2\n",
    "    \n",
    "class Cal(Sum,Mul):\n",
    "    def sub(self,n1,n2):\n",
    "        return n1 - n2\n",
    "    \n",
    "obj = Cal()\n",
    "print(obj.sum(1,2))\n",
    "print(obj.mul(3,2))\n",
    "print(obj.sub(3,2))"
   ]
  },
  {
   "cell_type": "code",
   "execution_count": null,
   "metadata": {},
   "outputs": [],
   "source": [
    "# [과제] 사용자 함수를 작성하여 기본가격 1000에 입력 받은 값을 추가한 가격을 산출하세요. \n",
    "# (지역변수, 전역변수 2가지 방법) \n",
    "# return 사용, global 변수 사용 두가지 경우로 수행\n"
   ]
  },
  {
   "cell_type": "code",
   "execution_count": 17,
   "metadata": {},
   "outputs": [
    {
     "name": "stdout",
     "output_type": "stream",
     "text": [
      "추가할 가격을 입력해 주세요.1000\n",
      "2000\n",
      "추가할 가격을 입력해 주세요.1000\n",
      "2000\n"
     ]
    }
   ],
   "source": [
    "def tplusr():\n",
    "    plus = input(\"추가할 가격을 입력해 주세요.\")\n",
    "    if plus.isdigit():\n",
    "        price = 1000 + int(plus)\n",
    "        return price\n",
    "    else:\n",
    "        print(\"숫자를 입력해 주세요.\")\n",
    "        \n",
    "tr = tplusr()\n",
    "print(tr)\n",
    "\n",
    "price = 1000\n",
    "plus = input(\"추가할 가격을 입력해 주세요.\")\n",
    "def tplusg():\n",
    "    global price, plus\n",
    "    if plus.isdigit():\n",
    "        price = price + int(plus)\n",
    "        return(price)\n",
    "    else:\n",
    "        print(\"숫자를 입력해 주세요.\")\n",
    "        \n",
    "tg = tplusg()\n",
    "print(tg)"
   ]
  },
  {
   "cell_type": "code",
   "execution_count": 18,
   "metadata": {},
   "outputs": [
    {
     "name": "stdout",
     "output_type": "stream",
     "text": [
      "추가 가격을 입력해 주세요> 500\n",
      "가격: 1500원\n"
     ]
    }
   ],
   "source": [
    "# 지역변수\n",
    "p = int(input('추가 가격을 입력해 주세요> '))\n",
    "def price(p):\n",
    "    b = 1000\n",
    "    b += p\n",
    "    return b\n",
    "print('가격: {}원'.format(price(p)))"
   ]
  },
  {
   "cell_type": "code",
   "execution_count": 35,
   "metadata": {},
   "outputs": [
    {
     "name": "stdout",
     "output_type": "stream",
     "text": [
      "추가 가격을 입력해 주세요> 500\n",
      "가격: 1500원\n"
     ]
    }
   ],
   "source": [
    "# global 변수 사용\n",
    "b = 1000\n",
    "def price():\n",
    "    global b\n",
    "    p = int(input('추가 가격을 입력해 주세요> '))\n",
    "    b += p\n",
    "    return b\n",
    "print('가격: {}원'.format(price()))"
   ]
  },
  {
   "cell_type": "code",
   "execution_count": null,
   "metadata": {},
   "outputs": [],
   "source": [
    "# [과제] 기본가격 1000원인 3개의 상품에 대하여 임의의 추가 가격을 인수로 대입시 더한 가격을 산출하세요\n",
    "# (클래스를 이용)"
   ]
  },
  {
   "cell_type": "code",
   "execution_count": 19,
   "metadata": {},
   "outputs": [
    {
     "name": "stdout",
     "output_type": "stream",
     "text": [
      "상품 A의 가격을 입력해주세요: 1000\n",
      "상품 B의 가격을 입력해주세요: 1000\n",
      "상품 C의 가격을 입력해주세요: 1000\n",
      "상품 A,B,C의 가격은 각 2000,2000,2000입니다.\n"
     ]
    }
   ],
   "source": [
    "class prod:\n",
    "    def plus(self,x,X):\n",
    "        p=int(input(f\"상품 {X}의 가격을 입력해주세요: \"))\n",
    "        return x+p\n",
    "\n",
    "a,b,c=1000,1000,1000        \n",
    "pd=prod()\n",
    "\n",
    "a=pd.plus(a,'A')\n",
    "b=pd.plus(b,'B')\n",
    "c=pd.plus(c,'C')\n",
    "\n",
    "print(f\"상품 A,B,C의 가격은 각 {a},{b},{c}입니다.\")"
   ]
  },
  {
   "cell_type": "code",
   "execution_count": 25,
   "metadata": {},
   "outputs": [
    {
     "name": "stdout",
     "output_type": "stream",
     "text": [
      "2000\n",
      "2000\n",
      "2000\n"
     ]
    }
   ],
   "source": [
    "# 생성자 - 수정\n",
    "class Sum:\n",
    "    def __init__(self,data):\n",
    "        self.data = data\n",
    "        \n",
    "\n",
    "        \n",
    "a = Sum()\n",
    "\n",
    "print(a.A(500))\n",
    "print(a.B(1000))\n",
    "print(a.C(5000))"
   ]
  },
  {
   "cell_type": "code",
   "execution_count": 28,
   "metadata": {},
   "outputs": [
    {
     "name": "stdout",
     "output_type": "stream",
     "text": [
      "1500\n",
      "2000\n",
      "2500\n"
     ]
    }
   ],
   "source": [
    "# 클래스 메소드\n",
    "class sumi:\n",
    "    def A(self, data):\n",
    "        return data+1000\n",
    "    def B(self, data):\n",
    "        return data+1000\n",
    "    def C(self, data):\n",
    "        return data+1000\n",
    "a=sumi()\n",
    "print(a.A(500))\n",
    "print(a.B(1000))\n",
    "print(a.C(1500))"
   ]
  },
  {
   "cell_type": "code",
   "execution_count": 34,
   "metadata": {},
   "outputs": [
    {
     "name": "stdout",
     "output_type": "stream",
     "text": [
      "2000\n",
      "3000\n",
      "4000\n"
     ]
    }
   ],
   "source": [
    "class Order:\n",
    "    def __init__(self):\n",
    "        self.p = 1000\n",
    "        \n",
    "#     def __init__(self,p=1000):\n",
    "#         self.p = p\n",
    "        \n",
    "    def order(self,price):        \n",
    "     \n",
    "        self.p += price\n",
    "        return self.p\n",
    "    \n",
    "pd1 = Order()\n",
    "pd2 = Order()\n",
    "pd3 = Order()\n",
    "\n",
    "print(pd1.order(1000))\n",
    "print(pd2.order(2000))\n",
    "print(pd3.order(3000))  "
   ]
  },
  {
   "cell_type": "code",
   "execution_count": null,
   "metadata": {},
   "outputs": [],
   "source": [
    "# [과제]  기본가격 1000원인 2개의 상품에 대하여 임의의 추가 가격을 입력시 아래 두개의 방식으로 산출하세요\n",
    "# (class 이용)\n",
    "# - price1 : 기본가격 + 추가가격\n",
    "# - price2 : (기본가격 + 추가가격) * 90%"
   ]
  },
  {
   "cell_type": "code",
   "execution_count": 31,
   "metadata": {},
   "outputs": [
    {
     "name": "stdout",
     "output_type": "stream",
     "text": [
      "추가 가격을 입력\n",
      ">1000\n",
      "- price1 : 2000\n",
      "- price2 : 1800\n"
     ]
    }
   ],
   "source": [
    "# 생성자\n",
    "class PlusPrice2:\n",
    "    def __init__(self, plus):\n",
    "        self.price1 = 1000+plus\n",
    "        self.price2 = (1000+plus)*0.9\n",
    "        \n",
    "a = int(input(\"추가 가격을 입력\\n>\"))\n",
    "\n",
    "result = PlusPrice2(a)\n",
    "print(f\"- price1 : {result.price1}\\n- price2 : {result.price2 :.0f}\")"
   ]
  },
  {
   "cell_type": "code",
   "execution_count": 33,
   "metadata": {},
   "outputs": [
    {
     "name": "stdout",
     "output_type": "stream",
     "text": [
      "추가가격> 1000\n",
      "price1 : 2000\n",
      "price2 : 1800\n"
     ]
    }
   ],
   "source": [
    "# 클래스 메소드\n",
    "class Price:\n",
    "    p = int(input('추가가격> '))\n",
    "    def setprice(self, p):\n",
    "        self.p = p\n",
    "    def sum(self):\n",
    "        b = 1000\n",
    "        b += self.p \n",
    "        return b\n",
    "    def discount(self):\n",
    "        b = 1000\n",
    "        b += self.p\n",
    "        b *= 0.9\n",
    "        return b\n",
    "    \n",
    "price1 = Price()\n",
    "print(f'price1 : {price1.sum()}')\n",
    "price2 = Price()\n",
    "print(f'price2 : {price2.discount() :.0f}')"
   ]
  },
  {
   "cell_type": "code",
   "execution_count": null,
   "metadata": {},
   "outputs": [],
   "source": [
    "# [과제]  4칙 연산 기능을 포함한 Cal4 클래스(생성자 이용)를 작성하고 이 클래스를 이용하여 cal 계산기 객체를 \n",
    "# 만든 후 두개의 수  1000, 200에 대한 사칙연산을 수행하세요."
   ]
  },
  {
   "cell_type": "code",
   "execution_count": 35,
   "metadata": {},
   "outputs": [
    {
     "name": "stdout",
     "output_type": "stream",
     "text": [
      "덧셈: 1200\n",
      "뺄셈: 800\n",
      "곱셈: 200000\n",
      "나눗셈: 5.0\n"
     ]
    }
   ],
   "source": [
    "class Cal4:\n",
    "    def __init__(self, num1, num2):\n",
    "        self.num1 = num1\n",
    "        self.num2 = num2\n",
    "    \n",
    "    def add(self):\n",
    "        return self.num1 + self.num2\n",
    "    def sub(self):\n",
    "        return self.num1 - self.num2\n",
    "    def mul(self):\n",
    "        return self.num1 * self.num2\n",
    "    def div(self):\n",
    "        return self.num1 / self.num2\n",
    "    \n",
    "cal = Cal4(1000, 200)\n",
    "print(f'덧셈: {cal.add()}')\n",
    "print(f'뺄셈: {cal.sub()}')\n",
    "print(f'곱셈: {cal.mul()}')\n",
    "print(f'나눗셈: {cal.div()}')"
   ]
  },
  {
   "cell_type": "code",
   "execution_count": 37,
   "metadata": {},
   "outputs": [
    {
     "data": {
      "text/plain": [
       "'분모가 0입니다.'"
      ]
     },
     "execution_count": 37,
     "metadata": {},
     "output_type": "execute_result"
    }
   ],
   "source": [
    "class cal:\n",
    "    def __init__(self,a,b):\n",
    "        self.plus1 = a+b\n",
    "        self.minus1 = a-b\n",
    "        self.display1 = a*b\n",
    "        if b != 0:\n",
    "            self.division1 =a/b \n",
    "        else:\n",
    "            self.division1 = \"분모가 0입니다.\"\n",
    "    def plus(self):\n",
    "        return self.plus1\n",
    "    def minus(self):\n",
    "        return self.minus1\n",
    "    def display(self):\n",
    "        return self.display1\n",
    "    def division(self):\n",
    "        return self.division1\n",
    "\n",
    "cal(1000,0).division()"
   ]
  },
  {
   "cell_type": "code",
   "execution_count": 38,
   "metadata": {},
   "outputs": [
    {
     "name": "stdout",
     "output_type": "stream",
     "text": [
      "덧셈:1200, 뺄셈:800, 곱셈:200000, 나눗셈:5.0\n"
     ]
    }
   ],
   "source": [
    "class Cal4:\n",
    "  \n",
    "    def __init__(self,first,second):\n",
    "        self.first = first\n",
    "        self.second = second\n",
    "    def sum(self):\n",
    "        result = self.first + self.second\n",
    "        return result\n",
    "    def sub(self):\n",
    "        result = self.first - self.second\n",
    "        return result\n",
    "    def mul(self):\n",
    "        result = self.first * self.second\n",
    "        return result\n",
    "    def div(self):\n",
    "        result = round(self.first / self.second, 2)\n",
    "        return result\n",
    "    \n",
    "cal = Cal4(1000,200)\n",
    "print('덧셈:{}, 뺄셈:{}, 곱셈:{}, 나눗셈:{}'.format(cal.sum(),cal.sub(),cal.mul(),cal.div()))"
   ]
  },
  {
   "cell_type": "code",
   "execution_count": null,
   "metadata": {},
   "outputs": [],
   "source": [
    "# Q. 두개의 수를 입력한 후 두개의 수에 대한 사칙연산을 수행하세요.(0을 입력한 경우 다시 입력하도록 조치)"
   ]
  },
  {
   "cell_type": "code",
   "execution_count": 39,
   "metadata": {},
   "outputs": [
    {
     "name": "stdout",
     "output_type": "stream",
     "text": [
      "입력1> 0\n",
      "입력2> 0\n",
      "0이 아닌 수를 입력하세요!\n",
      "입력1> 1\n",
      "입력2> 0\n",
      "0이 아닌 수를 입력하세요!\n",
      "입력1> 5\n",
      "입력2> 8\n",
      "덧셈: 13, 뺄셈: -3, 곱셈: 40, 나눗셈: 0.62\n"
     ]
    }
   ],
   "source": [
    "class Cal4:\n",
    "  \n",
    "    def __init__(self,first,second):\n",
    "        self.first = first\n",
    "        self.second = second\n",
    "    def sum(self):\n",
    "        result = self.first + self.second\n",
    "        return result\n",
    "    def sub(self):\n",
    "        result = self.first - self.second\n",
    "        return result\n",
    "    def mul(self):\n",
    "        result = self.first * self.second\n",
    "        return result\n",
    "    def div(self):\n",
    "        result = round(self.first / self.second, 2)\n",
    "        return result\n",
    "\n",
    "while 1:\n",
    "    first = int(input('입력1> '))\n",
    "    second = int(input('입력2> '))\n",
    "    if first == 0 or second == 0:\n",
    "        print('0이 아닌 수를 입력하세요!')\n",
    "    else:\n",
    "        cal = Cal4(first,second)\n",
    "        print(f'덧셈: {cal.sum()}, 뺄셈: {cal.sub()}, 곱셈: {cal.mul()}, 나눗셈: {cal.div()}')\n",
    "        break"
   ]
  },
  {
   "cell_type": "markdown",
   "metadata": {},
   "source": [
    "## 연산자 오버로딩\n",
    "\n",
    "파이썬에서는 연산자 오버로딩(Operator Overloading)을 지원합니다. 이는 사용자 정의 객체에 대해 내장 연산자를 사용할 수 있게 해주는 기능입니다.\n",
    "\n",
    "예를 들어, 두 개의 객체를 더하는 경우 + 연산자를 사용합니다. 이때, 더하기 연산자는 내부적으로 __add__() 메소드를 호출합니다. 따라서, 클래스 내에 __add__() 메소드를 정의하여 객체 간 덧셈을 구현할 수 있습니다.\n",
    "\n",
    "- 연산자를 객체끼리 사용할 수 있게 하는 기법\n",
    "- $+$ 연산자를 객체에 사용하면 __add__ 라는 함수가 호출됨(* __mul__)\n",
    "\n",
    "https://planbs.tistory.com/entry/Python-%EC%97%B0%EC%82%B0%EC%9E%90-%EC%98%A4%EB%B2%84%EB%A1%9C%EB%94%A9"
   ]
  },
  {
   "cell_type": "code",
   "execution_count": 40,
   "metadata": {},
   "outputs": [
    {
     "name": "stdout",
     "output_type": "stream",
     "text": [
      "8\n",
      "8\n"
     ]
    }
   ],
   "source": [
    "# 어떤 값에 대해 ‘+’, ‘-‘, ‘*=’, ‘>>’ 등의 연산자를 취하는 것은 내부적으로 \n",
    "# ‘__add__’, ‘__sub__’, ‘__imul__’, ‘__rshift__’ 메소드를 실행하는 것과 동일\n",
    "# 3 + 5  # 내부적으로 (3).__add__(5)를 실행 \n",
    "print(3+5)\n",
    "print((3).__add__(5))"
   ]
  },
  {
   "cell_type": "code",
   "execution_count": null,
   "metadata": {},
   "outputs": [],
   "source": [
    "# 연산자 오버로딩\n",
    "# 연산자를 객체끼리 사용할 수 있게 하는 기법\n",
    "# + 연산자를 객체에 사용하면 __add__ 라는 함수가 호출됨(* __mul__)\n",
    "\n",
    "# Q. 연산자 오버로딩을 이용하여 class HouseLee: 를 만들고 아래와 같이 출력하세요.\n",
    "이몽룡, 성춘향 사랑에 빠졌네\n",
    "이몽룡, 성춘향 결혼했네"
   ]
  },
  {
   "cell_type": "code",
   "execution_count": 43,
   "metadata": {},
   "outputs": [
    {
     "name": "stdout",
     "output_type": "stream",
     "text": [
      "이몽룡, 성춘향 사랑에 빠졌네\n",
      "이몽룡, 성춘향 결혼했네\n"
     ]
    }
   ],
   "source": [
    "# A.\n",
    "class HouseLee:\n",
    "    lastname = '이'\n",
    "    def __init__(self, name):\n",
    "        self.fullname = self.lastname + name\n",
    "    def travel(self, where):\n",
    "        print('%s, %s 여행을 가다.' % (self.fullname, where))\n",
    "    def love(self, other):\n",
    "        print('%s, %s 사랑에 빠졌네' % (self.fullname, other.fullname))\n",
    "    def __add__(self, other):\n",
    "        print('%s, %s 결혼했네' % (self.fullname, other.fullname))\n",
    "        \n",
    "class HouseSung(HouseLee): # HouseLee 클래스 상속\n",
    "    lastname = '성'\n",
    "    def travel(self, where, day):\n",
    "        print('%s, %s 여행 %d일 가네.' % (self.fullname, where, day))\n",
    "    \n",
    "mr = HouseLee('몽룡')\n",
    "ch = HouseSung('춘향')\n",
    "mr.love(ch)\n",
    "mr + ch"
   ]
  },
  {
   "cell_type": "code",
   "execution_count": 44,
   "metadata": {},
   "outputs": [
    {
     "name": "stdout",
     "output_type": "stream",
     "text": [
      "x:5, y:7, z:9\n"
     ]
    }
   ],
   "source": [
    "# 내장된 특수한 함수와 변수를 나타낸다. \n",
    "# init은 클래스의 생성자 함수이며, add 함수는 연산자 오버로드용으로 사용\n",
    "class vector: \n",
    "    def __init__(self, x,y,z): \n",
    "        self.x = x \n",
    "        self.y = y \n",
    "        self.z = z \n",
    "    def __add__(self, other): \n",
    "        x_ = self.x + other.x \n",
    "        y_ = self.y + other.y \n",
    "        z_ = self.z + other.z \n",
    "        return vector(x_,y_,z_) \n",
    "    def show(self): \n",
    "        print(f\"x:{self.x}, y:{self.y}, z:{self.z}\")\n",
    "\n",
    "v1 = vector(1,2,3)\n",
    "v2 = vector(4,5,6)\n",
    "v3 = v1 + v2 \n",
    "v3.show()"
   ]
  },
  {
   "cell_type": "markdown",
   "metadata": {},
   "source": [
    "## 메소드 오버라이딩\n",
    "파이썬에서 메소드 오버라이딩(overriding)은 자식 클래스(subclass)에서 부모 클래스(parent class)의 메소드를 재정의하는 것입니다. 자식 클래스에서 부모 클래스와 같은 이름과 파라미터를 가지는 메소드를 정의하면, 그 메소드는 부모 클래스의 메소드를 오버라이드합니다."
   ]
  },
  {
   "cell_type": "code",
   "execution_count": null,
   "metadata": {},
   "outputs": [],
   "source": [
    "# Q. Order 클래스를 상속받아 extraOrder 클래스에서 메소드 오버라이딩하여 출력가격에 원이 추가되도록 출력"
   ]
  },
  {
   "cell_type": "code",
   "execution_count": 46,
   "metadata": {},
   "outputs": [
    {
     "name": "stdout",
     "output_type": "stream",
     "text": [
      "1000\n",
      "1000원\n"
     ]
    }
   ],
   "source": [
    "class Order:\n",
    "    def __init__(self,name):\n",
    "        self.customer = 0\n",
    "        self.name = name\n",
    "    def order(self, price):\n",
    "        self.customer += price\n",
    "        return str(self.customer)\n",
    "\n",
    "class extraOrder(Order):\n",
    "    def order(self,price):\n",
    "        self.customer += price\n",
    "        return str(self.customer)+'원'\n",
    "    \n",
    "\n",
    "order = Order('kevin')\n",
    "print(order.order(1000))\n",
    "\n",
    "extraCustomer = extraOrder('kevin')\n",
    "print(extraCustomer.order(1000))"
   ]
  },
  {
   "cell_type": "code",
   "execution_count": null,
   "metadata": {},
   "outputs": [],
   "source": [
    "# Q. 부모 클래스인 Animal에서 speak 메소드를 정의하고, \n",
    "# 자식 클래스인 Dog와 Cat에서 이 메소드를 오버라이드하여 각각 다른 메시지를 출력"
   ]
  },
  {
   "cell_type": "code",
   "execution_count": 47,
   "metadata": {},
   "outputs": [],
   "source": [
    "class Animal:\n",
    "    def speak(self):\n",
    "        print('동물이 소리를 냅니다.')\n",
    "        \n",
    "class Dog(Animal):\n",
    "    def speak(self):\n",
    "        print('강아지가 멍멍~ 짖습니다!!')\n",
    "\n",
    "class Cat(Animal):\n",
    "    def speak(self):\n",
    "        print('고양이가 야옹 야옹 ~~ 웁니다!')"
   ]
  },
  {
   "cell_type": "code",
   "execution_count": 48,
   "metadata": {},
   "outputs": [
    {
     "name": "stdout",
     "output_type": "stream",
     "text": [
      "강아지가 멍멍~ 짖습니다!!\n"
     ]
    }
   ],
   "source": [
    "my_dog = Dog()\n",
    "my_dog.speak()"
   ]
  },
  {
   "cell_type": "code",
   "execution_count": 49,
   "metadata": {},
   "outputs": [
    {
     "name": "stdout",
     "output_type": "stream",
     "text": [
      "고양이가 야옹 야옹 ~~ 웁니다!\n"
     ]
    }
   ],
   "source": [
    "my_cat = Cat()\n",
    "my_cat.speak()"
   ]
  },
  {
   "cell_type": "markdown",
   "metadata": {},
   "source": [
    "[과제] Q. HouseLee, HouseSung 두개의 클래스 및 연산자 오버로딩을 사용하여 \"부산발 이몽룡 성춘향 러브 스토리\"를 작성하여 출력하세요.\n",
    "\n",
    "- 이몽룡은 부산 클럽에 놀러 간다. \n",
    "- 성춘향도 우연히 3일 동안 부산 클럽에 놀러 간다. \n",
    "- 둘은 썸을 탄다. \n",
    "- 일정 때문에 각자 서울로 돌아간다. \n",
    "- 1년뒤 강남 클럽에서 둘은 우연히 재회를 한다. \n",
    "- 연인이 된다."
   ]
  },
  {
   "cell_type": "code",
   "execution_count": 1,
   "metadata": {},
   "outputs": [
    {
     "name": "stdout",
     "output_type": "stream",
     "text": [
      "이몽룡은 부산 클럽에 놀러 간다. \n",
      "성춘향도 우연히 3일 동안 부산 클럽에 놀러 간다.\n",
      "이몽룡, 성춘향 둘은 썸을 탄다.\n",
      "일정 때문에 각자 서울로 돌아간다.\n",
      "1년 뒤, 강남 클럽에서 둘은 우연히 재회를 한다.\n",
      "이몽룡, 성춘향 둘은 연인이 된다.\n"
     ]
    }
   ],
   "source": [
    "class HouseLee:\n",
    "    lastname = '이'\n",
    "    def __init__(self, name):\n",
    "        self.fullname = self.lastname + name\n",
    "    def travel(self, where):\n",
    "        print(f\"{self.fullname}은 {where}에 놀러 간다. \")\n",
    "    def love(self, other):\n",
    "        print(f\"{self.fullname}, {other.fullname} 둘은 썸을 탄다.\")\n",
    "    def back(self):\n",
    "        print(\"일정 때문에 각자 서울로 돌아간다.\")\n",
    "    def meet(self,when,where):\n",
    "        print(f\"{when}년 뒤, {where}에서 둘은 우연히 재회를 한다.\")\n",
    "    def __add__(self, other):\n",
    "        print(f\"{self.fullname}, {other.fullname} 둘은 연인이 된다.\")\n",
    "        \n",
    "class HouseSung(HouseLee):\n",
    "    lastname = \"성\"\n",
    "    def travel(self, where, day):\n",
    "        print(f\"{self.fullname}도 우연히 {day}일 동안 {where}에 놀러 간다.\")\n",
    "        \n",
    "mr = HouseLee(\"몽룡\")\n",
    "ch = HouseSung(\"춘향\")\n",
    "\n",
    "\n",
    "mr.travel(\"부산 클럽\")\n",
    "ch.travel(\"부산 클럽\",3)\n",
    "mr.love(ch)\n",
    "mr.back()\n",
    "mr.meet(1,\"강남 클럽\")\n",
    "mr + ch"
   ]
  },
  {
   "cell_type": "code",
   "execution_count": 4,
   "metadata": {},
   "outputs": [
    {
     "name": "stdout",
     "output_type": "stream",
     "text": [
      "공부를 합니다.\n",
      "공부를 합니다.\n",
      "학생을 가르칩니다.\n",
      "공부를 합니다.\n",
      "공부를 합니다.\n"
     ]
    }
   ],
   "source": [
    "class Student:\n",
    "    def study(self):\n",
    "        print('공부를 합니다.')\n",
    "        \n",
    "class Teacher:\n",
    "    def teach(self):\n",
    "        print('학생을 가르칩니다.')\n",
    "        \n",
    "# 객체 리스트\n",
    "classroom = [Student(), Student(), Teacher(), Student(), Student()]\n",
    "\n",
    "# 반복을 적용하여 적절한 함수를 호출\n",
    "for person in classroom:\n",
    "    if isinstance(person, Student):\n",
    "        person.study()\n",
    "    elif isinstance(person, Teacher):\n",
    "        person.teach()"
   ]
  },
  {
   "cell_type": "code",
   "execution_count": null,
   "metadata": {},
   "outputs": [],
   "source": [
    "# Q. mymodule.py라는 4칙연산을 수행하는 모듈을 클래스로 작성한 후 임포트 해서 4칙 연산을 수행하세요."
   ]
  },
  {
   "cell_type": "code",
   "execution_count": 6,
   "metadata": {},
   "outputs": [
    {
     "name": "stdout",
     "output_type": "stream",
     "text": [
      "\n",
      "class Calculator:\n",
      "    def __init__(self):\n",
      "        pass\n",
      "\n",
      "    def add(self, x, y):\n",
      "        return x + y\n",
      "\n",
      "    def subtract(self, x, y):\n",
      "        return x - y\n",
      "\n",
      "    def multiply(self, x, y):\n",
      "        return x * y\n",
      "\n",
      "    def divide(self, x, y):\n",
      "        if y == 0:\n",
      "            raise ValueError(\"Division by zero is not allowed\")\n",
      "        return x / y\n",
      "\n"
     ]
    }
   ],
   "source": [
    "with open('mymodule.py','w') as f:\n",
    "    f.write(\n",
    "'''\n",
    "class Calculator:\n",
    "    def __init__(self):\n",
    "        pass\n",
    "\n",
    "    def add(self, x, y):\n",
    "        return x + y\n",
    "\n",
    "    def subtract(self, x, y):\n",
    "        return x - y\n",
    "\n",
    "    def multiply(self, x, y):\n",
    "        return x * y\n",
    "\n",
    "    def divide(self, x, y):\n",
    "        if y == 0:\n",
    "            raise ValueError(\"Division by zero is not allowed\")\n",
    "        return x / y\n",
    "''')\n",
    "    \n",
    "with open('mymodule.py','r') as f:\n",
    "    data = f.read()\n",
    "    print(data)"
   ]
  },
  {
   "cell_type": "code",
   "execution_count": 8,
   "metadata": {},
   "outputs": [
    {
     "name": "stdout",
     "output_type": "stream",
     "text": [
      "Addition: 15\n",
      "Subtraction: 5\n",
      "Multiplication: 50\n",
      "Division: 2.0\n"
     ]
    }
   ],
   "source": [
    "from mymodule import Calculator\n",
    "\n",
    "calc = Calculator()\n",
    "r1 = calc.add(10,5)\n",
    "r2 = calc.subtract(10,5)\n",
    "r3 = calc.multiply(10,5)\n",
    "r4 = calc.divide(10,5)\n",
    "\n",
    "print(\"Addition:\", r1)\n",
    "print(\"Subtraction:\", r2)\n",
    "print(\"Multiplication:\", r3)\n",
    "print(\"Division:\", r4)"
   ]
  },
  {
   "cell_type": "code",
   "execution_count": null,
   "metadata": {},
   "outputs": [],
   "source": [
    "# 두개의 인자를 받아서 덧셈 기능을 수행하는 모듈을 클래스로 생성한 후 모듈을 임포트하고 객체를 만들어서 \n",
    "# 덧셈을 수행하세요.  "
   ]
  },
  {
   "cell_type": "code",
   "execution_count": 9,
   "metadata": {},
   "outputs": [],
   "source": [
    "with open('my_module.py','w',encoding='utf-8')as f:\n",
    "    f.write(\n",
    "'''\n",
    "class calculator:\n",
    "    def __init__(self):\n",
    "        self.a=int(input())\n",
    "        self.b=int(input())\n",
    "        \n",
    "    def add(self):\n",
    "        return self.a+self.b\n",
    "''')"
   ]
  },
  {
   "cell_type": "code",
   "execution_count": 10,
   "metadata": {},
   "outputs": [
    {
     "name": "stdout",
     "output_type": "stream",
     "text": [
      "5\n",
      "5\n",
      "덧셈 : 10\n"
     ]
    }
   ],
   "source": [
    "from my_module import calculator\n",
    "\n",
    "cal=calculator()\n",
    "print('덧셈 :',cal.add())"
   ]
  },
  {
   "cell_type": "code",
   "execution_count": null,
   "metadata": {},
   "outputs": [],
   "source": [
    "# Q. 학생별 국어, 수학, 영어, 과학 성적을 딕셔너리 형식으로 리턴하는 함수를 생성한 후 출력하세요"
   ]
  },
  {
   "cell_type": "code",
   "execution_count": null,
   "metadata": {},
   "outputs": [],
   "source": [
    "\"강감찬\", 87, 98, 88, 95\n",
    "\"이순신\", 92, 98, 96, 98\n",
    "\"김유신\", 76, 96, 94, 90\n",
    "\"김홍도\", 98, 92, 96, 92\n",
    "\"이태백\", 95, 98, 98, 98\n",
    "\"임꺽정\", 64, 88, 92, 92\n",
    "\n",
    "{'name': '강감찬', 'korean': 87, 'math': 98, 'english': 88, 'science': 95}\n",
    "{'name': '이순신', 'korean': 92, 'math': 98, 'english': 96, 'science': 98}\n",
    "{'name': '김유신', 'korean': 76, 'math': 96, 'english': 94, 'science': 90}\n",
    "{'name': '김홍도', 'korean': 98, 'math': 92, 'english': 96, 'science': 92}\n",
    "{'name': '이태백', 'korean': 95, 'math': 98, 'english': 98, 'science': 98}\n",
    "{'name': '임꺽정', 'korean': 64, 'math': 88, 'english': 92, 'science': 92}"
   ]
  },
  {
   "cell_type": "code",
   "execution_count": null,
   "metadata": {},
   "outputs": [],
   "source": [
    "def create_student(name,korean,math,english,science):\n",
    "    return {\n",
    "        \n",
    "        \n",
    "    }\n",
    "\n",
    "students = [\n",
    "    create_student(\"강감찬\", 87, 98, 88, 95)\n",
    "    \n",
    "]\n",
    "\n",
    "for student in students:\n",
    "    print(student)"
   ]
  },
  {
   "cell_type": "code",
   "execution_count": 13,
   "metadata": {},
   "outputs": [
    {
     "name": "stdout",
     "output_type": "stream",
     "text": [
      "{'name': '강감찬', 'korean': 87, 'math': 98, 'english': 88, 'science': 95}\n",
      "{'name': '이순신', 'korean': 92, 'math': 98, 'english': 96, 'science': 98}\n",
      "{'name': '김유신', 'korean': 76, 'math': 96, 'english': 94, 'science': 90}\n",
      "{'name': '김홍도', 'korean': 98, 'math': 92, 'english': 96, 'science': 92}\n",
      "{'name': '이태백', 'korean': 95, 'math': 98, 'english': 98, 'science': 98}\n",
      "{'name': '임꺽정', 'korean': 64, 'math': 88, 'english': 92, 'science': 92}\n"
     ]
    }
   ],
   "source": [
    "def create_student(name, korean, math, english, science):\n",
    "    return {'name':name, 'korean':korean, 'math':math, 'english':english, 'science':science}\n",
    "\n",
    "students = [\n",
    "    create_student(\"강감찬\", 87, 98, 88, 95),\n",
    "    create_student(\"이순신\", 92, 98, 96, 98),\n",
    "    create_student(\"김유신\", 76, 96, 94, 90),\n",
    "    create_student(\"김홍도\", 98, 92, 96, 92),\n",
    "    create_student(\"이태백\", 95, 98, 98, 98),\n",
    "    create_student(\"임꺽정\", 64, 88, 92, 92)\n",
    "]\n",
    "\n",
    "for student in students:\n",
    "    print(student)"
   ]
  },
  {
   "cell_type": "code",
   "execution_count": null,
   "metadata": {},
   "outputs": [],
   "source": [
    "# Q. student 리스트를 딕셔너리로 처리한 후 다시 함수 처리하여 아래와 같이 출력하세요.\n",
    "이름     총점   평균\n",
    "강감찬   368    92.0\n",
    "이순신   384    96.0\n",
    "김유신   356    89.0\n",
    "김홍도   378    94.5\n",
    "이태백   389    97.25\n",
    "임꺽정   336    84.0"
   ]
  },
  {
   "cell_type": "code",
   "execution_count": 3,
   "metadata": {},
   "outputs": [
    {
     "name": "stdout",
     "output_type": "stream",
     "text": [
      "이름\t총점\t평균\n",
      "강감찬\t368\t92.0\n",
      "이순신\t384\t96.0\n",
      "김유신\t356\t89.0\n",
      "김홍도\t378\t94.5\n",
      "이태백\t389\t97.25\n",
      "임꺽정\t336\t84.0\n"
     ]
    }
   ],
   "source": [
    "def create_student(name, korean, math, english, science):\n",
    "    return {\n",
    "        'name':name, \n",
    "        'korean':korean, \n",
    "        'math':math, \n",
    "        'english':english, \n",
    "        'science':science\n",
    "    }\n",
    "\n",
    "def student_get_sum(student):\n",
    "    return student['korean'] + student['math'] + student['english'] + student['science']\n",
    "\n",
    "def student_get_average(student):\n",
    "    return student_get_sum(student) / 4\n",
    "\n",
    "def student_to_string(student):\n",
    "    return '{}\\t{}\\t{}'.format(\n",
    "        student['name'],\n",
    "        student_get_sum(student),\n",
    "        student_get_average(student))\n",
    "\n",
    "# 학생 리스트\n",
    "students = [\n",
    "    create_student(\"강감찬\", 87, 98, 88, 95),\n",
    "    create_student(\"이순신\", 92, 98, 96, 98),\n",
    "    create_student(\"김유신\", 76, 96, 94, 90),\n",
    "    create_student(\"김홍도\", 98, 92, 96, 92),\n",
    "    create_student(\"이태백\", 95, 98, 98, 98),\n",
    "    create_student(\"임꺽정\", 64, 88, 92, 92)\n",
    "]\n",
    "print('이름','총점','평균',sep='\\t')\n",
    "for student in students:\n",
    "    print(student_to_string(student))"
   ]
  },
  {
   "cell_type": "code",
   "execution_count": null,
   "metadata": {},
   "outputs": [],
   "source": [
    "# Q. Student 클래스를 선언하고 student 리스트를 사용하여 아래와 같이 출력하세요."
   ]
  },
  {
   "cell_type": "code",
   "execution_count": 6,
   "metadata": {},
   "outputs": [
    {
     "name": "stdout",
     "output_type": "stream",
     "text": [
      "이름\t총점\t평균\n",
      "강감찬\t368\t92.0\n",
      "이순신\t384\t96.0\n",
      "김유신\t356\t89.0\n",
      "김홍도\t378\t94.5\n",
      "이태백\t389\t97.25\n",
      "임꺽정\t336\t84.0\n"
     ]
    }
   ],
   "source": [
    "class Student:\n",
    "    def __init__(self,name, korean, math, english, science):\n",
    "        self.name = name\n",
    "        self.korean = korean\n",
    "        self.math = math\n",
    "        self.english = english\n",
    "        self.science = science\n",
    "        \n",
    "    def get_sum(self):\n",
    "        return self.korean + self.math + self.english + self.science\n",
    "    \n",
    "    def get_average(self):\n",
    "        return self.get_sum() / 4\n",
    "    \n",
    "    def to_string(self):\n",
    "        return '{}\\t{}\\t{}'.format(\n",
    "        self.name,\n",
    "        self.get_sum(),\n",
    "        self.get_average())\n",
    "\n",
    "# 학생 객체 리스트\n",
    "students = [\n",
    "    Student(\"강감찬\", 87, 98, 88, 95),\n",
    "    Student(\"이순신\", 92, 98, 96, 98),\n",
    "    Student(\"김유신\", 76, 96, 94, 90),\n",
    "    Student(\"김홍도\", 98, 92, 96, 92),\n",
    "    Student(\"이태백\", 95, 98, 98, 98),\n",
    "    Student(\"임꺽정\", 64, 88, 92, 92)\n",
    "]\n",
    "\n",
    "# 학생을 한 명씩 반복합니다.\n",
    "print(\"이름\", \"총점\", \"평균\", sep=\"\\t\")\n",
    "for student in students:\n",
    "    # 출력합니다.\n",
    "    print(student.to_string())"
   ]
  },
  {
   "cell_type": "code",
   "execution_count": null,
   "metadata": {},
   "outputs": [],
   "source": [
    "\n",
    "\n",
    "students = [\n",
    "    Student(\"강감찬\", 87, 98, 88, 95),\n",
    "    Student(\"이순신\", 92, 98, 96, 98),\n",
    "    Student(\"김유신\", 76, 96, 94, 90),\n",
    "    Student(\"김홍도\", 98, 92, 96, 92),\n",
    "    Student(\"이태백\", 95, 98, 98, 98),\n",
    "    Student(\"임꺽정\", 64, 88, 92, 92)\n",
    "]\n",
    "이름    총점    평균\n",
    "강감찬  368     92.0\n",
    "이순신  384     96.0\n",
    "김유신  356     89.0\n",
    "김홍도  378     94.5\n",
    "이태백  389     97.25\n",
    "임꺽정  336    84.0"
   ]
  },
  {
   "cell_type": "code",
   "execution_count": null,
   "metadata": {},
   "outputs": [],
   "source": [
    "# [과제] 사용자 함수 5개 이상을 사용하는 프로그램 작성 후 이 프로그램을 클래스를 사용하여 개선하세요.\n",
    "# 클래스 작성 시 두가지로 진행(생성자 사용 및 미사용)"
   ]
  }
 ],
 "metadata": {
  "kernelspec": {
   "display_name": "Python 3",
   "language": "python",
   "name": "python3"
  },
  "language_info": {
   "codemirror_mode": {
    "name": "ipython",
    "version": 3
   },
   "file_extension": ".py",
   "mimetype": "text/x-python",
   "name": "python",
   "nbconvert_exporter": "python",
   "pygments_lexer": "ipython3",
   "version": "3.8.3"
  }
 },
 "nbformat": 4,
 "nbformat_minor": 2
}

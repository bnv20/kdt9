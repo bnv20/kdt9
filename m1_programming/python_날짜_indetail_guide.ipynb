{
 "cells": [
  {
   "cell_type": "markdown",
   "metadata": {},
   "source": [
    "#### 날짜 처리\n",
    "- time — 시간 액세스와 변환\n",
    "\n",
    "- 현재 timestamp 얻기 : time 모듈의 time() 함수는 현재 Unix timestamp을 소수로 리턴하는데요. 정수부는 초단위이고, 소수부는 마이크로(micro) 초단위 입니다.\n",
    "\n",
    "https://www.daleseo.com/python-time/\n",
    "\n",
    "https://docs.python.org/ko/3/library/time.html\n",
    "\n",
    "포맷 코드 표<BR>\n",
    "포맷코드\t설명\t예<BR>\n",
    "%a\t요일 줄임말\tSun, Mon, ... Sat<BR>\n",
    "%A\t요일\tSunday, Monday, ..., Saturday<BR>\n",
    "%w\t요일을 숫자로 표시, 월요일일요일, 06\t0, 1, ..., 6<BR>\n",
    "%d\t일\t01, 02, ..., 31<BR>\n",
    "%b\t월 줄임말\tJan, Feb, ..., Dec<BR>\n",
    "%B\t월\tJanuary, February, …, December<BR>\n",
    "%m\t숫자 월\t01, 02, ..., 12<BR>\n",
    "%y\t두 자릿수 연도\t01, 02, ..., 99<BR>\n",
    "%Y\t네 자릿수 연도\t0001, 0002, ..., 2017, 2018, 9999<BR>\n",
    "%H\t시간(24시간)\t00, 01, ..., 23<BR>\n",
    "%I\t시간(12시간)\t01, 02, ..., 12<BR>\n",
    "%p\tAM, PM\tAM, PM<BR>\n",
    "%M\t분\t00, 01, ..., 59<BR>\n",
    "%S\t초\t00, 01, ..., 59<BR>\n",
    "%Z\t시간대\t대한민국 표준시<BR>\n",
    "%j\t1월 1일부터 경과한 일수\t001, 002, ..., 366<BR>\n",
    "%U\t1년중 주차, 월요일이 한 주의 시작으로\t00, 01, ..., 53<BR>\n",
    "%W\t1년중 주차, 월요일이 한 주의 시작으로\t00, 01, ..., 53<BR>\n",
    "%c\t날짜, 요일, 시간을 출력, 현재 시간대 기준\tSat May 19 11:14:27 2018<BR>\n",
    "%x\t날짜를 출력, 현재 시간대 기준\t05/19/18<BR>\n",
    "%X\t시간을 출력, 현재 시간대 기준\t'11:44:22'"
   ]
  },
  {
   "cell_type": "code",
   "execution_count": 2,
   "metadata": {},
   "outputs": [
    {
     "data": {
      "text/plain": [
       "1678846233.4626856"
      ]
     },
     "execution_count": 2,
     "metadata": {},
     "output_type": "execute_result"
    }
   ],
   "source": [
    "from time import time\n",
    "time()"
   ]
  },
  {
   "cell_type": "code",
   "execution_count": 3,
   "metadata": {},
   "outputs": [
    {
     "name": "stdout",
     "output_type": "stream",
     "text": [
      "time.struct_time(tm_year=2020, tm_mon=12, tm_mday=28, tm_hour=22, tm_min=2, tm_sec=17, tm_wday=0, tm_yday=363, tm_isdst=0)\n"
     ]
    },
    {
     "data": {
      "text/plain": [
       "'Mon Dec 28 22:02:17 2020'"
      ]
     },
     "execution_count": 3,
     "metadata": {},
     "output_type": "execute_result"
    }
   ],
   "source": [
    "# Q. 1609160537.371015을 \"Sat Jun 26 08:35:03 2021\" 포멧으로 출력하세요.\n",
    "import time\n",
    "t = time.localtime(1609160537.371015)\n",
    "print(t)\n",
    "time.asctime(t) # 날짜와 시간을 알아보기 쉬운 형태로 출력"
   ]
  },
  {
   "cell_type": "code",
   "execution_count": 4,
   "metadata": {},
   "outputs": [
    {
     "data": {
      "text/plain": [
       "'Wed Mar 15 11:10:33 2023'"
      ]
     },
     "execution_count": 4,
     "metadata": {},
     "output_type": "execute_result"
    }
   ],
   "source": [
    "from time import ctime\n",
    "\n",
    "ctime(1678846233.4626856)"
   ]
  },
  {
   "cell_type": "code",
   "execution_count": 6,
   "metadata": {},
   "outputs": [
    {
     "name": "stdout",
     "output_type": "stream",
     "text": [
      "time.struct_time(tm_year=2023, tm_mon=3, tm_mday=15, tm_hour=11, tm_min=14, tm_sec=23, tm_wday=2, tm_yday=74, tm_isdst=0)\n",
      "time.asctime(t): Wed Mar 15 11:14:23 2023 \n"
     ]
    }
   ],
   "source": [
    "# Q. 현재 날짜와 시간을 \"Sat Jun 26 08:35:03 2021\" 포멧으로 출력하세요.\n",
    "import time\n",
    "t = time.localtime()\n",
    "print(t)\n",
    "print(\"time.asctime(t): %s \" % time.asctime(t))"
   ]
  },
  {
   "cell_type": "code",
   "execution_count": 9,
   "metadata": {},
   "outputs": [
    {
     "name": "stdout",
     "output_type": "stream",
     "text": [
      "1678846585.254787 <class 'float'>\n",
      "1678846585.254787 <class 'str'>\n"
     ]
    }
   ],
   "source": [
    "# timestamp -> str\n",
    "import time\n",
    "\n",
    "t = time.time()\n",
    "\n",
    "print(t, type(t))\n",
    "s = str(t)\n",
    "print(s,type(s))"
   ]
  },
  {
   "cell_type": "markdown",
   "metadata": {},
   "source": [
    "gmtime(), localtime() 함수: timestamp를 struct_time 객체로 변환"
   ]
  },
  {
   "cell_type": "code",
   "execution_count": 12,
   "metadata": {},
   "outputs": [
    {
     "name": "stdout",
     "output_type": "stream",
     "text": [
      "time.struct_time(tm_year=2019, tm_mon=11, tm_mday=30, tm_hour=19, tm_min=35, tm_sec=26, tm_wday=5, tm_yday=334, tm_isdst=0) \n",
      "\n",
      "time.struct_time(tm_year=2019, tm_mon=12, tm_mday=1, tm_hour=4, tm_min=35, tm_sec=26, tm_wday=6, tm_yday=335, tm_isdst=0)\n"
     ]
    }
   ],
   "source": [
    "from time import gmtime, localtime\n",
    "\n",
    "print(gmtime(1575142526.500323),'\\n')\n",
    "print(localtime(1575142526.500323))"
   ]
  },
  {
   "cell_type": "code",
   "execution_count": 14,
   "metadata": {},
   "outputs": [
    {
     "data": {
      "text/plain": [
       "'Mon Dec 28 22:02:17 2020'"
      ]
     },
     "execution_count": 14,
     "metadata": {},
     "output_type": "execute_result"
    }
   ],
   "source": [
    "# Q. 1609160537.371015을 \"Sat Jun 26 08:35:03 2021\" 포멧으로 출력하세요.\n",
    "import time\n",
    "t = time.localtime(1609160537.371015)\n",
    "time.asctime(t)"
   ]
  },
  {
   "cell_type": "code",
   "execution_count": 20,
   "metadata": {},
   "outputs": [
    {
     "name": "stdout",
     "output_type": "stream",
     "text": [
      "time.struct_time(tm_year=2023, tm_mon=3, tm_mday=15, tm_hour=11, tm_min=36, tm_sec=38, tm_wday=2, tm_yday=74, tm_isdst=0)\n",
      "Wed Mar 15 11:36:38 2023\n"
     ]
    }
   ],
   "source": [
    "# Q. 현재 날짜와 시간을 \"Sat Jun 26 08:35:03 2021\" 포멧으로 출력하세요\n",
    "import time\n",
    "# t=time.time()\n",
    "# print(ctime(t))\n",
    "t1=time.localtime()\n",
    "print(t1)\n",
    "print(time.asctime(t1))"
   ]
  },
  {
   "cell_type": "code",
   "execution_count": 24,
   "metadata": {},
   "outputs": [
    {
     "name": "stdout",
     "output_type": "stream",
     "text": [
      "1678849305.247111 <class 'float'>\n",
      "2023-03-15 12:01:45.247111 <class 'datetime.datetime'>\n"
     ]
    }
   ],
   "source": [
    "# timestamp -> datetime\n",
    "t = time.time()\n",
    "print(t,type(t))\n",
    "d = datetime.fromtimestamp(t)\n",
    "print(d,type(d))"
   ]
  },
  {
   "cell_type": "code",
   "execution_count": 16,
   "metadata": {},
   "outputs": [
    {
     "data": {
      "text/plain": [
       "'2023-03-15 11:27:57'"
      ]
     },
     "execution_count": 16,
     "metadata": {},
     "output_type": "execute_result"
    }
   ],
   "source": [
    "# timestamp -> datetime -> str\n",
    "# Q. 현재 시간을 년-월-일 시:분:초로 출력하세요.\n",
    "import time\n",
    "from datetime import datetime\n",
    "t = time.time()\n",
    "d = datetime.fromtimestamp(t) # timestamp -> datetime\n",
    "s = d.strftime('%Y-%m-%d %X') # datetime -> str\n",
    "s        "
   ]
  },
  {
   "cell_type": "code",
   "execution_count": 19,
   "metadata": {},
   "outputs": [
    {
     "name": "stdout",
     "output_type": "stream",
     "text": [
      "2023-03-15 11:30:37.342792 <class 'datetime.datetime'>\n",
      "2023-03-15 11:30:37 <class 'str'>\n"
     ]
    }
   ],
   "source": [
    "# datetime -> str\n",
    "from datetime import datetime\n",
    "\n",
    "s = datetime.now()\n",
    "print(s, type(s))\n",
    "\n",
    "s1 = s.strftime('%Y-%m-%d %H:%M:%S')\n",
    "print(s1,type(s1))"
   ]
  },
  {
   "cell_type": "code",
   "execution_count": 21,
   "metadata": {},
   "outputs": [
    {
     "name": "stdout",
     "output_type": "stream",
     "text": [
      "2021-07-20 11:13:58 <class 'str'>\n",
      "2021-07-20 11:13:58 <class 'datetime.datetime'>\n"
     ]
    }
   ],
   "source": [
    "# str -> datetime\n",
    "from datetime import datetime\n",
    "s = '2021-07-20 11:13:58'\n",
    "print(s,type(s))\n",
    "d = datetime.strptime(s,'%Y-%m-%d %H:%M:%S')\n",
    "print(d,type(d))"
   ]
  },
  {
   "cell_type": "code",
   "execution_count": 22,
   "metadata": {},
   "outputs": [
    {
     "name": "stdout",
     "output_type": "stream",
     "text": [
      "1626747238.0 <class 'float'>\n"
     ]
    }
   ],
   "source": [
    "# str -> datetime -> timestamp\n",
    "s = '2021-07-20 11:13:58'\n",
    "timestamp = time.mktime(datetime.strptime(s,'%Y-%m-%d %H:%M:%S').timetuple())\n",
    "print(timestamp,type(timestamp))"
   ]
  },
  {
   "cell_type": "code",
   "execution_count": 23,
   "metadata": {},
   "outputs": [
    {
     "name": "stdout",
     "output_type": "stream",
     "text": [
      "2023-03-15 11:43:20.910141 <class 'datetime.datetime'>\n",
      "1678848200.0 <class 'float'>\n"
     ]
    }
   ],
   "source": [
    "# datetime -> timestamp\n",
    "d = datetime.today()\n",
    "print(d,type(d))\n",
    "timestamp = time.mktime(d.timetuple())\n",
    "print(timestamp, type(timestamp))"
   ]
  },
  {
   "cell_type": "code",
   "execution_count": 25,
   "metadata": {},
   "outputs": [
    {
     "name": "stdout",
     "output_type": "stream",
     "text": [
      "time.struct_time(tm_year=2023, tm_mon=3, tm_mday=15, tm_hour=12, tm_min=4, tm_sec=9, tm_wday=2, tm_yday=74, tm_isdst=0)\n",
      "오늘은 2023-01-01 이후 74일째 되는 날입니다.\n"
     ]
    }
   ],
   "source": [
    "# Q. 올해 경과된 날짜수 계산하세요\n",
    "import time\n",
    "t = time.localtime()\n",
    "print(t)\n",
    "start_day = '%d-01-01' %t.tm_year\n",
    "elapsed_day = t.tm_yday\n",
    "# print('오늘은 %s 이후 %d일째 되는 날입니다.' %(start_day,elapsed_day))\n",
    "print(f'오늘은 {start_day} 이후 {elapsed_day}일째 되는 날입니다.')\n"
   ]
  },
  {
   "cell_type": "code",
   "execution_count": 26,
   "metadata": {},
   "outputs": [
    {
     "name": "stdout",
     "output_type": "stream",
     "text": [
      "2023-3-15 오늘은 수요일입니다.\n"
     ]
    }
   ],
   "source": [
    "# Q. 현재 요일을 \"2021-6-26 오늘은 토요일입니다.\"와 같은 형식으로 출력하세요.\n",
    "import time\n",
    "\n",
    "weekdays = ['월요일','화요일','수요일','목요일','금요일','토요일','일요일']\n",
    "t = time.localtime()\n",
    "today = '%d-%d-%d' %(t.tm_year,t.tm_mon,t.tm_mday)\n",
    "week = weekdays[t.tm_wday]\n",
    "# print('%s 오늘은 %s입니다' %(today, week))\n",
    "print(f'{today} 오늘은 {week}입니다.')"
   ]
  },
  {
   "cell_type": "markdown",
   "metadata": {},
   "source": [
    "[과제] 1에서 백만까지 더하는데 걸리는 프로그램 실행 시간을 밀리초(ms) 단위로 구하세요."
   ]
  },
  {
   "cell_type": "code",
   "execution_count": 5,
   "metadata": {},
   "outputs": [
    {
     "name": "stdout",
     "output_type": "stream",
     "text": [
      "2022-06-29 17:17:02.788241\n",
      "1에서 백만까지 더합니다.\n",
      "1에서 백만까지 더한 결과: 499999500000\n",
      "총 계산 시간: 0:00:00.131259\n",
      "총 계산 시간: 131ms\n"
     ]
    }
   ],
   "source": [
    "# 1000 밀리초(ms) = 1초\n",
    "\n",
    "from datetime import datetime\n",
    "\n",
    "start = datetime.now()\n",
    "print(start)\n",
    "print('1에서 백만까지 더합니다.')\n",
    "ret = 0\n",
    "for i in range(1000000):\n",
    "   ret += i\n",
    "print('1에서 백만까지 더한 결과: %d' %ret)\n",
    "end = datetime.now()\n",
    "elapsed = end - start\n",
    "print('총 계산 시간: ', end='');print(elapsed)\n",
    "elapsed_ms = int(elapsed.total_seconds()*1000)\n",
    "print('총 계산 시간: %dms' %elapsed_ms)"
   ]
  },
  {
   "cell_type": "code",
   "execution_count": 107,
   "metadata": {},
   "outputs": [
    {
     "data": {
      "text/plain": [
       "8"
      ]
     },
     "execution_count": 107,
     "metadata": {},
     "output_type": "execute_result"
    }
   ],
   "source": [
    "dir([mail_to_park])\n",
    "(3).__add__(5)"
   ]
  }
 ],
 "metadata": {
  "kernelspec": {
   "display_name": "Python 3",
   "language": "python",
   "name": "python3"
  },
  "language_info": {
   "codemirror_mode": {
    "name": "ipython",
    "version": 3
   },
   "file_extension": ".py",
   "mimetype": "text/x-python",
   "name": "python",
   "nbconvert_exporter": "python",
   "pygments_lexer": "ipython3",
   "version": "3.8.3"
  }
 },
 "nbformat": 4,
 "nbformat_minor": 5
}

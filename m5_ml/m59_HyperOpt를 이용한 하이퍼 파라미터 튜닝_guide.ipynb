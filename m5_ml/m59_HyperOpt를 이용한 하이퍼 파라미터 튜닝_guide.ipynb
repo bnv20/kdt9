{
 "cells": [
  {
   "cell_type": "code",
   "execution_count": 2,
   "metadata": {},
   "outputs": [
    {
     "name": "stdout",
     "output_type": "stream",
     "text": [
      "Requirement already satisfied: hyperopt in c:\\users\\h\\anaconda3\\lib\\site-packages (0.2.7)\n",
      "Requirement already satisfied: numpy in c:\\users\\h\\anaconda3\\lib\\site-packages (from hyperopt) (1.18.5)\n",
      "Requirement already satisfied: scipy in c:\\users\\h\\anaconda3\\lib\\site-packages (from hyperopt) (1.5.0)\n",
      "Requirement already satisfied: six in c:\\users\\h\\anaconda3\\lib\\site-packages (from hyperopt) (1.15.0)\n",
      "Requirement already satisfied: networkx>=2.2 in c:\\users\\h\\anaconda3\\lib\\site-packages (from hyperopt) (2.4)\n",
      "Requirement already satisfied: future in c:\\users\\h\\anaconda3\\lib\\site-packages (from hyperopt) (0.18.2)\n",
      "Requirement already satisfied: tqdm in c:\\users\\h\\anaconda3\\lib\\site-packages (from hyperopt) (4.47.0)\n",
      "Requirement already satisfied: cloudpickle in c:\\users\\h\\anaconda3\\lib\\site-packages (from hyperopt) (1.5.0)\n",
      "Requirement already satisfied: py4j in c:\\users\\h\\anaconda3\\lib\\site-packages (from hyperopt) (0.10.9.7)\n",
      "Requirement already satisfied: decorator>=4.3.0 in c:\\users\\h\\anaconda3\\lib\\site-packages (from networkx>=2.2->hyperopt) (4.4.2)\n"
     ]
    }
   ],
   "source": [
    "!pip install hyperopt"
   ]
  },
  {
   "cell_type": "code",
   "execution_count": 1,
   "metadata": {},
   "outputs": [
    {
     "name": "stdout",
     "output_type": "stream",
     "text": [
      "Collecting pip\n",
      "  Downloading pip-23.1.2-py3-none-any.whl (2.1 MB)\n",
      "Installing collected packages: pip\n",
      "  Attempting uninstall: pip\n",
      "    Found existing installation: pip 20.1.1\n",
      "    Uninstalling pip-20.1.1:\n",
      "      Successfully uninstalled pip-20.1.1\n",
      "Successfully installed pip-23.1.2\n"
     ]
    }
   ],
   "source": [
    "!python.exe -m pip install --upgrade pip"
   ]
  },
  {
   "cell_type": "markdown",
   "metadata": {},
   "source": [
    "### HyperOpt 라이브러리의 주요 함수와 개념\n",
    "\n",
    "- fmin: 이 함수는 최적화 과정을 수행하는 주요 함수입니다. 이 함수는 목표 함수(fn), 검색 공간(space), 최적화 알고리즘(algo), 그리고 최대 평가 횟수(max_evals) 등을 인자로 받습니다. 이 함수는 최적의 하이퍼파라미터 설정을 찾기 위해 주어진 알고리즘을 사용하여 검색 공간을 탐색하고, 각 설정에 대해 목표 함수를 평가합니다.\n",
    "\n",
    "- tpe: 이것은 Tree-structured Parzen Estimator(TPE) 알고리즘을 나타내며, HyperOpt에서 사용할 수 있는 최적화 알고리즘 중 하나입니다. TPE는 베이지안 최적화 알고리즘의 한 종류로, 이전의 평가 결과를 기반으로 하여 다음에 테스트할 하이퍼파라미터를 선택합니다. 이렇게 하면 더 좋은 결과를 내는 하이퍼파라미터의 영역을 더 자주 탐색하게 됩니다.\n",
    "\n",
    "- hp: 이것은 HyperOpt의 검색 공간을 정의하는 데 사용되는 함수들을 담고 있는 모듈입니다. 예를 들어, hp.uniform('x', 0, 1)은 0과 1 사이에서 균일하게 분포한 실수 값을 가지는 'x'라는 하이퍼파라미터를 정의합니다. 다른 함수로는 hp.choice (여러 선택 사항 중 하나를 선택), hp.normal (정규 분포에서 값을 선택) 등이 있습니다.\n",
    "\n",
    "- STATUS_OK: 이것은 목표 함수가 성공적으로 완료되었음을 나타내는 상태 코드입니다. 목표 함수는 손실값과 상태 코드를 포함하는 딕셔너리를 반환해야 합니다. 이 상태 코드는 HyperOpt가 평가를 제대로 수행했는지 판단하는 데 사용됩니다. 만약 다른 값을 반환하면, HyperOpt는 해당 평가가 실패했다고 판단하고, 해당 설정을 더 이상 탐색하지 않습니다."
   ]
  },
  {
   "cell_type": "markdown",
   "metadata": {},
   "source": [
    "### Tree-structured Parzen Estimator (TPE)\n",
    "- 하이퍼파라미터 최적화를 위한 알고리즘 중 하나입니다. Bayesian optimization의 한 종류로, 하이퍼파라미터의 새로운 조합을 선택하는 방법으로 주로 사용됩니다.\n",
    "\n",
    "- TPE 알고리즘의 핵심 아이디어는 과거의 평가 결과를 기반으로 하이퍼파라미터의 좋은 값과 나쁜 값에 대한 확률 모델을 구축하고, 이 모델을 사용하여 다음에 시도할 하이퍼파라미터 값을 선택하는 것입니다.\n",
    "\n",
    "- TPE는 이를 위해 두 개의 확률 분포 l(x)와 g(x)를 사용합니다. 여기서 x는 하이퍼파라미터를 의미하며, l(x)는 과거의 좋은 하이퍼파라미터 값들에 대한 분포를 나타내고, g(x)는 모든 과거의 하이퍼파라미터 값들에 대한 분포를 나타냅니다.\n",
    "\n",
    "- 이 두 분포를 이용해 새로운 하이퍼파라미터 값 x를 선택할 때, l(x)/g(x)가 큰 값, 즉 과거의 좋은 하이퍼파라미터 값들에 더 가까운 값을 선택합니다.\n",
    "\n",
    "- 이런 방식으로, TPE는 점점 더 좋은 하이퍼파라미터 값을 찾아가는 탐색 과정을 수행합니다. 이는 전통적인 Grid Search나 Random Search에 비해 효율적이며, 보다 적은 평가로 좋은 하이퍼파라미터 값을 찾을 수 있게 합니다.\n",
    "\n",
    "- TPE 알고리즘 동작 로직\n",
    "\n",
    "    1. 초기화: 먼저 하이퍼파라미터 탐색 공간을 정의하고 초기 조합을 선택합니다. 일반적으로는 랜덤한 하이퍼파라미터 값을 선택하거나, 사전에 정의된 분포를 기반으로 샘플링합니다.\n",
    "\n",
    "    2. 평가 및 기록: 초기 조합으로 모델을 학습하고, 지정된 평가 지표(예: 정확도, 손실 함수 등)를 사용하여 성능을 측정합니다. 이 성능 값은 \"Trials\" 객체에 기록됩니다.\n",
    "\n",
    "    3. 모델 구성: \"Trials\" 객체에 기록된 이전 조합과 성능 값을 사용하여, TPE 알고리즘이 다음에 시도할 하이퍼파라미터 조합을 추정합니다. 이 추정은 베이지안 확률 모델을 사용하여 이루어집니다.\n",
    "\n",
    "    4. 조합 선택: 추정된 하이퍼파라미터 조합 중에서 다음 조합을 선택합니다. 일반적으로는 최대화하려는 평가 지표(성능 지표)에 기반하여 조합을 선택합니다.\n",
    "\n",
    "    5. 반복: 2단계부터 4단계까지의 과정을 반복합니다. 이전 탐색 결과와 현재 선택된 조합을 사용하여 새로운 추정을 수행하고, 최적의 하이퍼파라미터 조합을 찾기 위해 탐색을 진행합니다.\n",
    "    \n",
    "TPE는 확률 모델을 사용하기 때문에 적은 수의 시도로도 상대적으로 빠르게 최적의 조합을 찾을 수 있으며, 탐색 과정에서 불필요한 조합을 배제함으로써 탐색 효율성을 높일 수 있습니다."
   ]
  },
  {
   "cell_type": "markdown",
   "metadata": {},
   "source": [
    "### make_classification 함수 매개변수\n",
    "\n",
    "- n_samples: 생성할 샘플의 개수를 지정합니다. 기본값은 100입니다.\n",
    "- n_features: 독립 변수의 개수를 지정합니다. 기본값은 20입니다.\n",
    "- n_informative: 종속 변수와 관련된 독립 변수의 수를 지정합니다. 기본값은 2입니다.\n",
    "- n_redundant: 다른 독립 변수의 선형 조합으로 생성된 독립 변수의 수를 지정합니다. 기본값은 2입니다.\n",
    "- n_classes: 생성할 클래스(또는 레이블)의 개수를 지정합니다. 기본값은 2입니다.\n",
    "\n",
    "이 함수는 X와 y의 두 개의 배열을 반환합니다. X는 n_samples x n_features 크기의 2차원 배열로, 독립 변수를 포함하고 있습니다. y는 n_samples 크기의 1차원 배열로, 각 샘플의 클래스 레이블을 포함하고 있습니다."
   ]
  },
  {
   "cell_type": "code",
   "execution_count": 1,
   "metadata": {},
   "outputs": [],
   "source": [
    "# 1000개의 샘플, 10개의 독립 변수, 그리고 2개의 클래스로 구성된 가상 데이터셋을 생성\n",
    "from sklearn.datasets import make_classification\n",
    "\n",
    "X, y = make_classification(n_samples=1000, n_features=10, n_classes=2)\n"
   ]
  },
  {
   "cell_type": "code",
   "execution_count": 3,
   "metadata": {},
   "outputs": [
    {
     "name": "stdout",
     "output_type": "stream",
     "text": [
      "100%|████████████████████████████████████████████| 100/100 [00:02<00:00, 45.58trial/s, best loss: 0.050000000000000044]\n",
      "{'C': 0.06854594986236603}\n"
     ]
    }
   ],
   "source": [
    "# make_classification 함수는 sklearn.datasets 모듈의 일부로, 분류 문제에 사용할 수 있는 \n",
    "# 가상 데이터셋을 생성하는 데 사용\n",
    "from hyperopt import fmin, tpe, hp, STATUS_OK\n",
    "from sklearn.datasets import make_classification\n",
    "from sklearn.model_selection import cross_val_score\n",
    "from sklearn.linear_model import LogisticRegression\n",
    "\n",
    "# 데이터 생성\n",
    "X, y = make_classification()\n",
    "\n",
    "# HyperOpt에 의해 최적화될 목표 함수를 정의합니다. \n",
    "# 이 함수는 손실값을 반환하며, 손실값이 최소가 되는 하이퍼파라미터를 찾는 것이 목표입니다.\n",
    "def objective(args):\n",
    "    # 모델 설정\n",
    "    # C는 규제의 역수로, C값이 작을수록 규제가 강하며 C값이 클수록 규제가 약해집니다.\n",
    "    # Logistic Regression 모델을 초기화하고, HyperOpt가 최적화할 하이퍼파라미터 C를 설정합니다.\n",
    "    model = LogisticRegression(C=args['C'])\n",
    "    \n",
    "    # 모델 검증\n",
    "    # 5-fold 교차 검증을 수행하고, 평균 정확도를 계산\n",
    "    score = cross_val_score(model, X, y, cv=5).mean()\n",
    "    \n",
    "    # 손실값 계산 (분류 문제에서는 정확도를 사용하므로 1 - 정확도를 반환)\n",
    "    # 분류 문제에서는 정확도를 사용하므로, 손실값을 1 - 정확도로 계산\n",
    "    loss = 1 - score\n",
    "    # 손실값과 상태 코드를 반환합니다.\n",
    "    return {'loss': loss, 'status': STATUS_OK}\n",
    "\n",
    "# 검색 공간 정의\n",
    "# 최적화할 하이퍼파라미터인 C의 범위를 정의합니다.\n",
    "space = {\n",
    "    'C': hp.loguniform('C', -5, 0)\n",
    "}\n",
    "\n",
    "# 최적화 실행\n",
    "# TPE 알고리즘을 사용하여 목표 함수를 최적화하고, \n",
    "# 최적의 하이퍼파라미터를 찾습니다. 최대 100회의 평가를 수행합니다.\n",
    "best = fmin(fn=objective, space=space, algo=tpe.suggest, max_evals=100)\n",
    "\n",
    "print(best)\n"
   ]
  },
  {
   "cell_type": "code",
   "execution_count": 5,
   "metadata": {},
   "outputs": [
    {
     "name": "stdout",
     "output_type": "stream",
     "text": [
      "0.2.7\n"
     ]
    }
   ],
   "source": [
    "import hyperopt\n",
    "\n",
    "print(hyperopt.__version__)"
   ]
  },
  {
   "cell_type": "markdown",
   "metadata": {},
   "source": [
    "### HyperOpt 사용법\n",
    "- 입력 변수명과 입력값의 검색 공간 설정\n",
    "- 목적 함수의 설정\n",
    "- 목적 함수의 반환 최솟값을 가지는 최적 입력값을 유추"
   ]
  },
  {
   "cell_type": "code",
   "execution_count": 5,
   "metadata": {},
   "outputs": [],
   "source": [
    "from hyperopt import hp\n",
    "\n",
    "# -10 ~ 10까지 1간격을 가지는 입력 변수 x와 -15 ~ 15까지 1간격으로 입력 변수 y 설정.\n",
    "# hp.quniform(label, low, high, q) 함수는 low와 high 사이에서 일정 간격 q\n",
    "search_space = {'x': hp.quniform('x', -10, 10, 1), 'y': hp.quniform('y', -15, 15, 1) }"
   ]
  },
  {
   "cell_type": "code",
   "execution_count": 6,
   "metadata": {},
   "outputs": [],
   "source": [
    "from hyperopt import STATUS_OK\n",
    "\n",
    "# 목적 함수를 생성. 변숫값과 변수 검색 공간을 가지는 딕셔너리를 인자로 받고, 특정 값을 반환\n",
    "# search_space는 하이퍼파라미터의 조합을 나타내는 딕셔너리입니다. 이 딕셔너리는 'x'와 'y'라는 \n",
    "# 두 개의 키를 가지고 있습니다. 이 두 키는 각각 목표 함수에서 사용될 두 개의 변수를 나타냅니다.\n",
    "def objective_func(search_space):\n",
    "    x = search_space['x']\n",
    "    y = search_space['y']\n",
    "    retval = x**2 - 20*y  # retval이라는 변수에 목표 함수의 식을 계산한 결과를 저장\n",
    "    \n",
    "    return retval"
   ]
  },
  {
   "cell_type": "code",
   "execution_count": 7,
   "metadata": {},
   "outputs": [
    {
     "name": "stdout",
     "output_type": "stream",
     "text": [
      "100%|█████████████████████████████████████████████████████████████| 5/5 [00:00<00:00, 625.38trial/s, best loss: -224.0]\n",
      "best: {'x': -4.0, 'y': 12.0}\n"
     ]
    }
   ],
   "source": [
    "from hyperopt import fmin, tpe, Trials\n",
    "import numpy as np\n",
    "\n",
    "# 입력 결괏값을 저장한 Trials 객체값 생성.\n",
    "trial_val = Trials()\n",
    "\n",
    "# 목적 함수의 최솟값을 반환하는 최적 입력 변숫값을 5번의 입력값 시도(max_evals=5)로 찾아냄.\n",
    "best_01 = fmin(fn=objective_func, space=search_space, algo=tpe.suggest, max_evals=5\n",
    "               , trials=trial_val, rstate=np.random.default_rng(seed=0))\n",
    "print('best:', best_01)"
   ]
  },
  {
   "cell_type": "code",
   "execution_count": 11,
   "metadata": {},
   "outputs": [
    {
     "name": "stdout",
     "output_type": "stream",
     "text": [
      "100%|███████████████████████████████████████████████████████████| 20/20 [00:00<00:00, 454.80trial/s, best loss: -296.0]\n",
      "best: {'x': 2.0, 'y': 15.0}\n"
     ]
    }
   ],
   "source": [
    "trial_val = Trials()\n",
    "\n",
    "# max_evals를 20회로 늘려서 재테스트\n",
    "best_02 = fmin(fn=objective_func, space=search_space, algo=tpe.suggest, max_evals=20\n",
    "               , trials=trial_val, rstate=np.random.default_rng(seed=0))\n",
    "print('best:', best_02)"
   ]
  },
  {
   "cell_type": "code",
   "execution_count": 12,
   "metadata": {},
   "outputs": [
    {
     "name": "stdout",
     "output_type": "stream",
     "text": [
      "[{'loss': -64.0, 'status': 'ok'}, {'loss': -184.0, 'status': 'ok'}, {'loss': 56.0, 'status': 'ok'}, {'loss': -224.0, 'status': 'ok'}, {'loss': 61.0, 'status': 'ok'}, {'loss': -296.0, 'status': 'ok'}, {'loss': -40.0, 'status': 'ok'}, {'loss': 281.0, 'status': 'ok'}, {'loss': 64.0, 'status': 'ok'}, {'loss': 100.0, 'status': 'ok'}, {'loss': 60.0, 'status': 'ok'}, {'loss': -39.0, 'status': 'ok'}, {'loss': 1.0, 'status': 'ok'}, {'loss': -164.0, 'status': 'ok'}, {'loss': 21.0, 'status': 'ok'}, {'loss': -56.0, 'status': 'ok'}, {'loss': 284.0, 'status': 'ok'}, {'loss': 176.0, 'status': 'ok'}, {'loss': -171.0, 'status': 'ok'}, {'loss': 0.0, 'status': 'ok'}]\n"
     ]
    }
   ],
   "source": [
    "# fmin( )에 인자로 들어가는 Trials 객체의 result 속성에 파이썬 리스트로 목적 함수 반환값들이 저장됨\n",
    "# 리스트 내부의 개별 원소는 {'loss':함수 반환값, 'status':반환 상태값} 와 같은 딕셔너리임. \n",
    "print(trial_val.results)"
   ]
  },
  {
   "cell_type": "code",
   "execution_count": 14,
   "metadata": {},
   "outputs": [
    {
     "name": "stdout",
     "output_type": "stream",
     "text": [
      "{'x': [-6.0, -4.0, 4.0, -4.0, 9.0, 2.0, 10.0, -9.0, -8.0, -0.0, -0.0, 1.0, 9.0, 6.0, 9.0, 2.0, -2.0, -4.0, 7.0, -0.0], 'y': [5.0, 10.0, -2.0, 12.0, 1.0, 15.0, 7.0, -10.0, 0.0, -5.0, -3.0, 2.0, 4.0, 10.0, 3.0, 3.0, -14.0, -8.0, 11.0, -0.0]}\n"
     ]
    }
   ],
   "source": [
    "# Trials 객체의 vals 속성에 {'입력변수명':개별 수행 시마다 입력된 값 리스트} 형태로 저장됨.\n",
    "print(trial_val.vals)"
   ]
  },
  {
   "cell_type": "code",
   "execution_count": 15,
   "metadata": {},
   "outputs": [
    {
     "data": {
      "text/html": [
       "<div>\n",
       "<style scoped>\n",
       "    .dataframe tbody tr th:only-of-type {\n",
       "        vertical-align: middle;\n",
       "    }\n",
       "\n",
       "    .dataframe tbody tr th {\n",
       "        vertical-align: top;\n",
       "    }\n",
       "\n",
       "    .dataframe thead th {\n",
       "        text-align: right;\n",
       "    }\n",
       "</style>\n",
       "<table border=\"1\" class=\"dataframe\">\n",
       "  <thead>\n",
       "    <tr style=\"text-align: right;\">\n",
       "      <th></th>\n",
       "      <th>x</th>\n",
       "      <th>y</th>\n",
       "      <th>losses</th>\n",
       "    </tr>\n",
       "  </thead>\n",
       "  <tbody>\n",
       "    <tr>\n",
       "      <th>0</th>\n",
       "      <td>-6.0</td>\n",
       "      <td>5.0</td>\n",
       "      <td>-64.0</td>\n",
       "    </tr>\n",
       "    <tr>\n",
       "      <th>1</th>\n",
       "      <td>-4.0</td>\n",
       "      <td>10.0</td>\n",
       "      <td>-184.0</td>\n",
       "    </tr>\n",
       "    <tr>\n",
       "      <th>2</th>\n",
       "      <td>4.0</td>\n",
       "      <td>-2.0</td>\n",
       "      <td>56.0</td>\n",
       "    </tr>\n",
       "    <tr>\n",
       "      <th>3</th>\n",
       "      <td>-4.0</td>\n",
       "      <td>12.0</td>\n",
       "      <td>-224.0</td>\n",
       "    </tr>\n",
       "    <tr>\n",
       "      <th>4</th>\n",
       "      <td>9.0</td>\n",
       "      <td>1.0</td>\n",
       "      <td>61.0</td>\n",
       "    </tr>\n",
       "    <tr>\n",
       "      <th>5</th>\n",
       "      <td>2.0</td>\n",
       "      <td>15.0</td>\n",
       "      <td>-296.0</td>\n",
       "    </tr>\n",
       "    <tr>\n",
       "      <th>6</th>\n",
       "      <td>10.0</td>\n",
       "      <td>7.0</td>\n",
       "      <td>-40.0</td>\n",
       "    </tr>\n",
       "    <tr>\n",
       "      <th>7</th>\n",
       "      <td>-9.0</td>\n",
       "      <td>-10.0</td>\n",
       "      <td>281.0</td>\n",
       "    </tr>\n",
       "    <tr>\n",
       "      <th>8</th>\n",
       "      <td>-8.0</td>\n",
       "      <td>0.0</td>\n",
       "      <td>64.0</td>\n",
       "    </tr>\n",
       "    <tr>\n",
       "      <th>9</th>\n",
       "      <td>-0.0</td>\n",
       "      <td>-5.0</td>\n",
       "      <td>100.0</td>\n",
       "    </tr>\n",
       "    <tr>\n",
       "      <th>10</th>\n",
       "      <td>-0.0</td>\n",
       "      <td>-3.0</td>\n",
       "      <td>60.0</td>\n",
       "    </tr>\n",
       "    <tr>\n",
       "      <th>11</th>\n",
       "      <td>1.0</td>\n",
       "      <td>2.0</td>\n",
       "      <td>-39.0</td>\n",
       "    </tr>\n",
       "    <tr>\n",
       "      <th>12</th>\n",
       "      <td>9.0</td>\n",
       "      <td>4.0</td>\n",
       "      <td>1.0</td>\n",
       "    </tr>\n",
       "    <tr>\n",
       "      <th>13</th>\n",
       "      <td>6.0</td>\n",
       "      <td>10.0</td>\n",
       "      <td>-164.0</td>\n",
       "    </tr>\n",
       "    <tr>\n",
       "      <th>14</th>\n",
       "      <td>9.0</td>\n",
       "      <td>3.0</td>\n",
       "      <td>21.0</td>\n",
       "    </tr>\n",
       "    <tr>\n",
       "      <th>15</th>\n",
       "      <td>2.0</td>\n",
       "      <td>3.0</td>\n",
       "      <td>-56.0</td>\n",
       "    </tr>\n",
       "    <tr>\n",
       "      <th>16</th>\n",
       "      <td>-2.0</td>\n",
       "      <td>-14.0</td>\n",
       "      <td>284.0</td>\n",
       "    </tr>\n",
       "    <tr>\n",
       "      <th>17</th>\n",
       "      <td>-4.0</td>\n",
       "      <td>-8.0</td>\n",
       "      <td>176.0</td>\n",
       "    </tr>\n",
       "    <tr>\n",
       "      <th>18</th>\n",
       "      <td>7.0</td>\n",
       "      <td>11.0</td>\n",
       "      <td>-171.0</td>\n",
       "    </tr>\n",
       "    <tr>\n",
       "      <th>19</th>\n",
       "      <td>-0.0</td>\n",
       "      <td>-0.0</td>\n",
       "      <td>0.0</td>\n",
       "    </tr>\n",
       "  </tbody>\n",
       "</table>\n",
       "</div>"
      ],
      "text/plain": [
       "       x     y  losses\n",
       "0   -6.0   5.0   -64.0\n",
       "1   -4.0  10.0  -184.0\n",
       "2    4.0  -2.0    56.0\n",
       "3   -4.0  12.0  -224.0\n",
       "4    9.0   1.0    61.0\n",
       "5    2.0  15.0  -296.0\n",
       "6   10.0   7.0   -40.0\n",
       "7   -9.0 -10.0   281.0\n",
       "8   -8.0   0.0    64.0\n",
       "9   -0.0  -5.0   100.0\n",
       "10  -0.0  -3.0    60.0\n",
       "11   1.0   2.0   -39.0\n",
       "12   9.0   4.0     1.0\n",
       "13   6.0  10.0  -164.0\n",
       "14   9.0   3.0    21.0\n",
       "15   2.0   3.0   -56.0\n",
       "16  -2.0 -14.0   284.0\n",
       "17  -4.0  -8.0   176.0\n",
       "18   7.0  11.0  -171.0\n",
       "19  -0.0  -0.0     0.0"
      ]
     },
     "execution_count": 15,
     "metadata": {},
     "output_type": "execute_result"
    }
   ],
   "source": [
    "import pandas as pd\n",
    "\n",
    "# results에서 loss 키값에 해당하는 밸류들을 추출하여 list로 생성. \n",
    "losses = [loss_dict['loss'] for loss_dict in trial_val.results]\n",
    "\n",
    "# DataFrame으로 생성.\n",
    "result_df = pd.DataFrame({'x': trial_val.vals['x'], 'y': trial_val.vals['y'], 'losses': losses})\n",
    "result_df"
   ]
  },
  {
   "cell_type": "markdown",
   "metadata": {},
   "source": [
    "### HyperOpt를 이용한 XGBoost 하이퍼 파라미터 최적화"
   ]
  },
  {
   "cell_type": "markdown",
   "metadata": {},
   "source": [
    "과제2_0523.\n",
    "위스콘신 유방암 데이터 세트를 로딩해서 XGBooster 알고리즘으로 모델링 및 평가를 수행하세요. 단 HyperOpt를 이용해서 하이퍼 파라미터를 최적화하세요."
   ]
  },
  {
   "cell_type": "code",
   "execution_count": 1,
   "metadata": {},
   "outputs": [],
   "source": [
    "import pandas as pd\n",
    "import numpy as np\n",
    "from sklearn.datasets import load_breast_cancer\n",
    "from sklearn.model_selection import train_test_split\n",
    "import warnings\n",
    "warnings.filterwarnings('ignore')\n",
    "\n",
    "dataset = load_breast_cancer()\n",
    "\n",
    "cancer_df = pd.DataFrame(data=dataset.data, columns=dataset.feature_names)\n",
    "cancer_df['target']= dataset.target\n",
    "X_features = cancer_df.iloc[:, :-1]\n",
    "y_label = cancer_df.iloc[:, -1]"
   ]
  },
  {
   "cell_type": "code",
   "execution_count": 2,
   "metadata": {},
   "outputs": [],
   "source": [
    "# 전체 데이터 중 80%는 학습용 데이터, 20%는 테스트용 데이터 추출\n",
    "X_train, X_test, y_train, y_test=train_test_split(X_features, y_label, test_size=0.2, random_state=156 )\n",
    "\n",
    "# 앞에서 추출한 학습 데이터를 다시 학습과 검증 데이터로 분리\n",
    "X_tr, X_val, y_tr, y_val= train_test_split(X_train, y_train, test_size=0.1, random_state=156 )"
   ]
  },
  {
   "cell_type": "code",
   "execution_count": 3,
   "metadata": {},
   "outputs": [],
   "source": [
    "from hyperopt import hp\n",
    "\n",
    "# max_depth는 5에서 20까지 1간격으로, min_child_weight는 1에서 2까지 1간격으로\n",
    "# colsample_bytree는 0.5에서 1사이, learning_rate는 0.01에서 0.2 사이 정규 분포된 값으로 검색.\n",
    "xgb_search_space = {'max_depth': hp.quniform('max_depth', 5, 20, 1), \n",
    "                    'min_child_weight': hp.quniform('min_child_weight', 1, 2, 1),\n",
    "                    'learning_rate': hp.uniform('learning_rate', 0.01, 0.2),\n",
    "                    'colsample_bytree': hp.uniform('colsample_bytree', 0.5, 1), # 무작위 선택 피처 비율\n",
    "                   }"
   ]
  },
  {
   "cell_type": "code",
   "execution_count": 4,
   "metadata": {},
   "outputs": [],
   "source": [
    "from sklearn.model_selection import cross_val_score\n",
    "from xgboost import XGBClassifier\n",
    "from hyperopt import STATUS_OK\n",
    "\n",
    "# fmin()에서 입력된 search_space 값으로 입력된 모든 값은 실수형임.\n",
    "# XGBClassifier의 정수형 하이퍼 파라미터는 정수형 변환을 해줘야 함.\n",
    "# 정확도는 높을수록 더 좋은 수치임. -1 * 정확도를 곱해서 큰 정확도 값일수록 최소가 되도록 변환\n",
    "def objective_func(search_space):\n",
    "    # 수행 시간 절약을 위해 nestimators는 100으로 축소\n",
    "    xgb_clf = XGBClassifier(n_estimators=100, max_depth=int(search_space['max_depth']),\n",
    "                            min_child_weight=int(search_space['min_child_weight']),\n",
    "                            learning_rate=search_space['learning_rate'],\n",
    "                            colsample_bytree=search_space['colsample_bytree'], # 개별 트리를 학습할 때마다 무작위로 선택하는 피처의 비율\n",
    "                            eval_metric='logloss')\n",
    "    accuracy = cross_val_score(xgb_clf, X_train, y_train, scoring='accuracy', cv=3)\n",
    "    \n",
    "    # accuracy는 cv=3 개수만큼 roc-auc 결과를 리스트로 가짐. 이를 평균해서 반환하되 -1을 곱함.\n",
    "    return {'loss':-1 * np.mean(accuracy), 'status': STATUS_OK}"
   ]
  },
  {
   "cell_type": "code",
   "execution_count": 5,
   "metadata": {},
   "outputs": [
    {
     "name": "stdout",
     "output_type": "stream",
     "text": [
      "100%|███████████████████████████████████████████████| 50/50 [00:14<00:00,  3.52trial/s, best loss: -0.9670616939700244]\n",
      "best: {'colsample_bytree': 0.5424149213362504, 'learning_rate': 0.12601372924444681, 'max_depth': 17.0, 'min_child_weight': 2.0}\n"
     ]
    }
   ],
   "source": [
    "from hyperopt import fmin, tpe, Trials\n",
    "\n",
    "trial_val = Trials()\n",
    "best = fmin(fn=objective_func,\n",
    "            space=xgb_search_space,\n",
    "            algo=tpe.suggest,\n",
    "            max_evals=50, # 최대 반복 횟수를 지정합니다.\n",
    "            trials=trial_val, rstate=np.random.default_rng(seed=9))\n",
    "print('best:', best)"
   ]
  },
  {
   "cell_type": "code",
   "execution_count": 6,
   "metadata": {},
   "outputs": [
    {
     "name": "stdout",
     "output_type": "stream",
     "text": [
      "colsample_bytree:0.54241, learning_rate:0.12601, max_depth:17, min_child_weight:2\n"
     ]
    }
   ],
   "source": [
    "print('colsample_bytree:{0}, learning_rate:{1}, max_depth:{2}, min_child_weight:{3}'.format(\n",
    "    round(best['colsample_bytree'], 5), round(best['learning_rate'], 5),\n",
    "    int(best['max_depth']), int(best['min_child_weight'])))"
   ]
  },
  {
   "cell_type": "code",
   "execution_count": 7,
   "metadata": {},
   "outputs": [],
   "source": [
    "from sklearn.metrics import confusion_matrix, accuracy_score\n",
    "from sklearn.metrics import precision_score, recall_score\n",
    "from sklearn.metrics import f1_score, roc_auc_score\n",
    "\n",
    "def get_clf_eval(y_test, pred=None, pred_proba=None):\n",
    "    confusion = confusion_matrix( y_test, pred)\n",
    "    accuracy = accuracy_score(y_test , pred)\n",
    "    precision = precision_score(y_test , pred)\n",
    "    recall = recall_score(y_test , pred)\n",
    "    f1 = f1_score(y_test,pred)\n",
    "    # ROC-AUC 추가 \n",
    "    roc_auc = roc_auc_score(y_test, pred_proba)\n",
    "    print('오차 행렬')\n",
    "    print(confusion)\n",
    "    # ROC-AUC print 추가\n",
    "    print('정확도: {0:.4f}, 정밀도: {1:.4f}, 재현율: {2:.4f},\\\n",
    "    F1: {3:.4f}, AUC:{4:.4f}'.format(accuracy, precision, recall, f1, roc_auc))"
   ]
  },
  {
   "cell_type": "code",
   "execution_count": 10,
   "metadata": {},
   "outputs": [
    {
     "name": "stdout",
     "output_type": "stream",
     "text": [
      "[0]\tvalidation_0-logloss:0.58942\tvalidation_1-logloss:0.62048\n",
      "[1]\tvalidation_0-logloss:0.50801\tvalidation_1-logloss:0.55913\n",
      "[2]\tvalidation_0-logloss:0.44160\tvalidation_1-logloss:0.50928\n",
      "[3]\tvalidation_0-logloss:0.38734\tvalidation_1-logloss:0.46815\n",
      "[4]\tvalidation_0-logloss:0.34224\tvalidation_1-logloss:0.43913\n",
      "[5]\tvalidation_0-logloss:0.30425\tvalidation_1-logloss:0.41570\n",
      "[6]\tvalidation_0-logloss:0.27178\tvalidation_1-logloss:0.38953\n",
      "[7]\tvalidation_0-logloss:0.24503\tvalidation_1-logloss:0.37317\n",
      "[8]\tvalidation_0-logloss:0.22050\tvalidation_1-logloss:0.35628\n",
      "[9]\tvalidation_0-logloss:0.19873\tvalidation_1-logloss:0.33798\n",
      "[10]\tvalidation_0-logloss:0.17945\tvalidation_1-logloss:0.32463\n",
      "[11]\tvalidation_0-logloss:0.16354\tvalidation_1-logloss:0.31384\n",
      "[12]\tvalidation_0-logloss:0.15032\tvalidation_1-logloss:0.30607\n",
      "[13]\tvalidation_0-logloss:0.13813\tvalidation_1-logloss:0.30143\n",
      "[14]\tvalidation_0-logloss:0.12798\tvalidation_1-logloss:0.29513\n",
      "[15]\tvalidation_0-logloss:0.11926\tvalidation_1-logloss:0.28891\n",
      "[16]\tvalidation_0-logloss:0.11111\tvalidation_1-logloss:0.28290\n",
      "[17]\tvalidation_0-logloss:0.10351\tvalidation_1-logloss:0.27835\n",
      "[18]\tvalidation_0-logloss:0.09474\tvalidation_1-logloss:0.27295\n",
      "[19]\tvalidation_0-logloss:0.08922\tvalidation_1-logloss:0.27215\n",
      "[20]\tvalidation_0-logloss:0.08406\tvalidation_1-logloss:0.27168\n",
      "[21]\tvalidation_0-logloss:0.07892\tvalidation_1-logloss:0.27093\n",
      "[22]\tvalidation_0-logloss:0.07355\tvalidation_1-logloss:0.26561\n",
      "[23]\tvalidation_0-logloss:0.06977\tvalidation_1-logloss:0.26670\n",
      "[24]\tvalidation_0-logloss:0.06569\tvalidation_1-logloss:0.26871\n",
      "[25]\tvalidation_0-logloss:0.06220\tvalidation_1-logloss:0.26484\n",
      "[26]\tvalidation_0-logloss:0.05946\tvalidation_1-logloss:0.26604\n",
      "[27]\tvalidation_0-logloss:0.05688\tvalidation_1-logloss:0.26836\n",
      "[28]\tvalidation_0-logloss:0.05457\tvalidation_1-logloss:0.26746\n",
      "[29]\tvalidation_0-logloss:0.05161\tvalidation_1-logloss:0.26410\n",
      "[30]\tvalidation_0-logloss:0.04900\tvalidation_1-logloss:0.26314\n",
      "[31]\tvalidation_0-logloss:0.04658\tvalidation_1-logloss:0.26210\n",
      "[32]\tvalidation_0-logloss:0.04442\tvalidation_1-logloss:0.25918\n",
      "[33]\tvalidation_0-logloss:0.04293\tvalidation_1-logloss:0.25575\n",
      "[34]\tvalidation_0-logloss:0.04149\tvalidation_1-logloss:0.25681\n",
      "[35]\tvalidation_0-logloss:0.03991\tvalidation_1-logloss:0.25727\n",
      "[36]\tvalidation_0-logloss:0.03849\tvalidation_1-logloss:0.25710\n",
      "[37]\tvalidation_0-logloss:0.03702\tvalidation_1-logloss:0.25274\n",
      "[38]\tvalidation_0-logloss:0.03552\tvalidation_1-logloss:0.25427\n",
      "[39]\tvalidation_0-logloss:0.03441\tvalidation_1-logloss:0.25366\n",
      "[40]\tvalidation_0-logloss:0.03335\tvalidation_1-logloss:0.25410\n",
      "[41]\tvalidation_0-logloss:0.03259\tvalidation_1-logloss:0.25415\n",
      "[42]\tvalidation_0-logloss:0.03172\tvalidation_1-logloss:0.25421\n",
      "[43]\tvalidation_0-logloss:0.03110\tvalidation_1-logloss:0.25265\n",
      "[44]\tvalidation_0-logloss:0.03025\tvalidation_1-logloss:0.24974\n",
      "[45]\tvalidation_0-logloss:0.02961\tvalidation_1-logloss:0.25032\n",
      "[46]\tvalidation_0-logloss:0.02904\tvalidation_1-logloss:0.24858\n",
      "[47]\tvalidation_0-logloss:0.02849\tvalidation_1-logloss:0.25082\n",
      "[48]\tvalidation_0-logloss:0.02802\tvalidation_1-logloss:0.24968\n",
      "[49]\tvalidation_0-logloss:0.02741\tvalidation_1-logloss:0.24913\n",
      "[50]\tvalidation_0-logloss:0.02689\tvalidation_1-logloss:0.24924\n",
      "[51]\tvalidation_0-logloss:0.02644\tvalidation_1-logloss:0.24483\n",
      "[52]\tvalidation_0-logloss:0.02593\tvalidation_1-logloss:0.24508\n",
      "[53]\tvalidation_0-logloss:0.02534\tvalidation_1-logloss:0.24153\n",
      "[54]\tvalidation_0-logloss:0.02500\tvalidation_1-logloss:0.23781\n",
      "[55]\tvalidation_0-logloss:0.02458\tvalidation_1-logloss:0.23909\n",
      "[56]\tvalidation_0-logloss:0.02422\tvalidation_1-logloss:0.23809\n",
      "[57]\tvalidation_0-logloss:0.02380\tvalidation_1-logloss:0.23843\n",
      "[58]\tvalidation_0-logloss:0.02348\tvalidation_1-logloss:0.23802\n",
      "[59]\tvalidation_0-logloss:0.02310\tvalidation_1-logloss:0.23837\n",
      "[60]\tvalidation_0-logloss:0.02275\tvalidation_1-logloss:0.23923\n",
      "[61]\tvalidation_0-logloss:0.02257\tvalidation_1-logloss:0.23813\n",
      "[62]\tvalidation_0-logloss:0.02242\tvalidation_1-logloss:0.23983\n",
      "[63]\tvalidation_0-logloss:0.02227\tvalidation_1-logloss:0.23883\n",
      "[64]\tvalidation_0-logloss:0.02186\tvalidation_1-logloss:0.23589\n",
      "[65]\tvalidation_0-logloss:0.02162\tvalidation_1-logloss:0.23630\n",
      "[66]\tvalidation_0-logloss:0.02148\tvalidation_1-logloss:0.23795\n",
      "[67]\tvalidation_0-logloss:0.02136\tvalidation_1-logloss:0.23704\n",
      "[68]\tvalidation_0-logloss:0.02123\tvalidation_1-logloss:0.23670\n",
      "[69]\tvalidation_0-logloss:0.02097\tvalidation_1-logloss:0.23745\n",
      "[70]\tvalidation_0-logloss:0.02086\tvalidation_1-logloss:0.23740\n",
      "[71]\tvalidation_0-logloss:0.02073\tvalidation_1-logloss:0.23908\n",
      "[72]\tvalidation_0-logloss:0.02062\tvalidation_1-logloss:0.24064\n",
      "[73]\tvalidation_0-logloss:0.02050\tvalidation_1-logloss:0.23973\n",
      "[74]\tvalidation_0-logloss:0.02039\tvalidation_1-logloss:0.23971\n",
      "[75]\tvalidation_0-logloss:0.02029\tvalidation_1-logloss:0.23927\n",
      "[76]\tvalidation_0-logloss:0.02019\tvalidation_1-logloss:0.24081\n",
      "[77]\tvalidation_0-logloss:0.02008\tvalidation_1-logloss:0.24054\n",
      "[78]\tvalidation_0-logloss:0.01999\tvalidation_1-logloss:0.23844\n",
      "[79]\tvalidation_0-logloss:0.01989\tvalidation_1-logloss:0.23762\n",
      "[80]\tvalidation_0-logloss:0.01979\tvalidation_1-logloss:0.23914\n",
      "[81]\tvalidation_0-logloss:0.01969\tvalidation_1-logloss:0.23907\n",
      "[82]\tvalidation_0-logloss:0.01960\tvalidation_1-logloss:0.23830\n",
      "[83]\tvalidation_0-logloss:0.01951\tvalidation_1-logloss:0.23866\n",
      "[84]\tvalidation_0-logloss:0.01943\tvalidation_1-logloss:0.23841\n",
      "[85]\tvalidation_0-logloss:0.01933\tvalidation_1-logloss:0.23993\n",
      "[86]\tvalidation_0-logloss:0.01925\tvalidation_1-logloss:0.23917\n",
      "[87]\tvalidation_0-logloss:0.01916\tvalidation_1-logloss:0.24061\n",
      "[88]\tvalidation_0-logloss:0.01908\tvalidation_1-logloss:0.23862\n",
      "[89]\tvalidation_0-logloss:0.01900\tvalidation_1-logloss:0.23858\n",
      "[90]\tvalidation_0-logloss:0.01892\tvalidation_1-logloss:0.23843\n",
      "[91]\tvalidation_0-logloss:0.01884\tvalidation_1-logloss:0.23837\n",
      "[92]\tvalidation_0-logloss:0.01876\tvalidation_1-logloss:0.23978\n",
      "[93]\tvalidation_0-logloss:0.01868\tvalidation_1-logloss:0.23787\n",
      "[94]\tvalidation_0-logloss:0.01860\tvalidation_1-logloss:0.23862\n",
      "[95]\tvalidation_0-logloss:0.01853\tvalidation_1-logloss:0.23770\n",
      "[96]\tvalidation_0-logloss:0.01845\tvalidation_1-logloss:0.23767\n",
      "[97]\tvalidation_0-logloss:0.01838\tvalidation_1-logloss:0.23840\n",
      "[98]\tvalidation_0-logloss:0.01831\tvalidation_1-logloss:0.23817\n",
      "[99]\tvalidation_0-logloss:0.01824\tvalidation_1-logloss:0.23950\n",
      "[100]\tvalidation_0-logloss:0.01817\tvalidation_1-logloss:0.23945\n",
      "[101]\tvalidation_0-logloss:0.01809\tvalidation_1-logloss:0.23848\n",
      "[102]\tvalidation_0-logloss:0.01802\tvalidation_1-logloss:0.23668\n",
      "[103]\tvalidation_0-logloss:0.01795\tvalidation_1-logloss:0.23704\n",
      "[104]\tvalidation_0-logloss:0.01789\tvalidation_1-logloss:0.23536\n",
      "[105]\tvalidation_0-logloss:0.01781\tvalidation_1-logloss:0.23465\n",
      "[106]\tvalidation_0-logloss:0.01774\tvalidation_1-logloss:0.23536\n",
      "[107]\tvalidation_0-logloss:0.01768\tvalidation_1-logloss:0.23514\n",
      "[108]\tvalidation_0-logloss:0.01762\tvalidation_1-logloss:0.23447\n",
      "[109]\tvalidation_0-logloss:0.01756\tvalidation_1-logloss:0.23281\n",
      "[110]\tvalidation_0-logloss:0.01749\tvalidation_1-logloss:0.23447\n",
      "[111]\tvalidation_0-logloss:0.01743\tvalidation_1-logloss:0.23443\n",
      "[112]\tvalidation_0-logloss:0.01737\tvalidation_1-logloss:0.23512\n",
      "[113]\tvalidation_0-logloss:0.01731\tvalidation_1-logloss:0.23465\n",
      "[114]\tvalidation_0-logloss:0.01725\tvalidation_1-logloss:0.23379\n",
      "[115]\tvalidation_0-logloss:0.01719\tvalidation_1-logloss:0.23446\n",
      "[116]\tvalidation_0-logloss:0.01714\tvalidation_1-logloss:0.23443\n",
      "[117]\tvalidation_0-logloss:0.01708\tvalidation_1-logloss:0.23360\n",
      "[118]\tvalidation_0-logloss:0.01702\tvalidation_1-logloss:0.23195\n",
      "[119]\tvalidation_0-logloss:0.01696\tvalidation_1-logloss:0.23262\n",
      "[120]\tvalidation_0-logloss:0.01691\tvalidation_1-logloss:0.23104\n",
      "[121]\tvalidation_0-logloss:0.01685\tvalidation_1-logloss:0.23145\n",
      "[122]\tvalidation_0-logloss:0.01680\tvalidation_1-logloss:0.23143\n",
      "[123]\tvalidation_0-logloss:0.01675\tvalidation_1-logloss:0.23131\n",
      "[124]\tvalidation_0-logloss:0.01669\tvalidation_1-logloss:0.23119\n",
      "[125]\tvalidation_0-logloss:0.01664\tvalidation_1-logloss:0.22965\n",
      "[126]\tvalidation_0-logloss:0.01659\tvalidation_1-logloss:0.23120\n",
      "[127]\tvalidation_0-logloss:0.01654\tvalidation_1-logloss:0.23119\n",
      "[128]\tvalidation_0-logloss:0.01649\tvalidation_1-logloss:0.23110\n",
      "[129]\tvalidation_0-logloss:0.01644\tvalidation_1-logloss:0.22957\n"
     ]
    },
    {
     "name": "stdout",
     "output_type": "stream",
     "text": [
      "[130]\tvalidation_0-logloss:0.01639\tvalidation_1-logloss:0.22934\n",
      "[131]\tvalidation_0-logloss:0.01634\tvalidation_1-logloss:0.22987\n",
      "[132]\tvalidation_0-logloss:0.01629\tvalidation_1-logloss:0.22927\n",
      "[133]\tvalidation_0-logloss:0.01624\tvalidation_1-logloss:0.23076\n",
      "[134]\tvalidation_0-logloss:0.01620\tvalidation_1-logloss:0.23030\n",
      "[135]\tvalidation_0-logloss:0.01615\tvalidation_1-logloss:0.22891\n",
      "[136]\tvalidation_0-logloss:0.01610\tvalidation_1-logloss:0.22883\n",
      "[137]\tvalidation_0-logloss:0.01606\tvalidation_1-logloss:0.22882\n",
      "[138]\tvalidation_0-logloss:0.01601\tvalidation_1-logloss:0.22876\n",
      "[139]\tvalidation_0-logloss:0.01597\tvalidation_1-logloss:0.22734\n",
      "[140]\tvalidation_0-logloss:0.01592\tvalidation_1-logloss:0.22882\n",
      "[141]\tvalidation_0-logloss:0.01588\tvalidation_1-logloss:0.22935\n",
      "[142]\tvalidation_0-logloss:0.01583\tvalidation_1-logloss:0.22880\n",
      "[143]\tvalidation_0-logloss:0.01579\tvalidation_1-logloss:0.22856\n",
      "[144]\tvalidation_0-logloss:0.01575\tvalidation_1-logloss:0.22725\n",
      "[145]\tvalidation_0-logloss:0.01571\tvalidation_1-logloss:0.22739\n",
      "[146]\tvalidation_0-logloss:0.01567\tvalidation_1-logloss:0.22724\n",
      "[147]\tvalidation_0-logloss:0.01562\tvalidation_1-logloss:0.22777\n",
      "[148]\tvalidation_0-logloss:0.01558\tvalidation_1-logloss:0.22726\n",
      "[149]\tvalidation_0-logloss:0.01555\tvalidation_1-logloss:0.22721\n",
      "[150]\tvalidation_0-logloss:0.01551\tvalidation_1-logloss:0.22697\n",
      "[151]\tvalidation_0-logloss:0.01546\tvalidation_1-logloss:0.22645\n",
      "[152]\tvalidation_0-logloss:0.01543\tvalidation_1-logloss:0.22782\n",
      "[153]\tvalidation_0-logloss:0.01539\tvalidation_1-logloss:0.22790\n",
      "[154]\tvalidation_0-logloss:0.01535\tvalidation_1-logloss:0.22665\n",
      "[155]\tvalidation_0-logloss:0.01531\tvalidation_1-logloss:0.22680\n",
      "[156]\tvalidation_0-logloss:0.01528\tvalidation_1-logloss:0.22732\n",
      "[157]\tvalidation_0-logloss:0.01524\tvalidation_1-logloss:0.22709\n",
      "[158]\tvalidation_0-logloss:0.01520\tvalidation_1-logloss:0.22659\n",
      "[159]\tvalidation_0-logloss:0.01516\tvalidation_1-logloss:0.22616\n",
      "[160]\tvalidation_0-logloss:0.01513\tvalidation_1-logloss:0.22631\n",
      "[161]\tvalidation_0-logloss:0.01509\tvalidation_1-logloss:0.22510\n",
      "[162]\tvalidation_0-logloss:0.01506\tvalidation_1-logloss:0.22562\n",
      "[163]\tvalidation_0-logloss:0.01502\tvalidation_1-logloss:0.22539\n",
      "[164]\tvalidation_0-logloss:0.01499\tvalidation_1-logloss:0.22671\n",
      "[165]\tvalidation_0-logloss:0.01495\tvalidation_1-logloss:0.22625\n",
      "[166]\tvalidation_0-logloss:0.01492\tvalidation_1-logloss:0.22585\n",
      "[167]\tvalidation_0-logloss:0.01488\tvalidation_1-logloss:0.22583\n",
      "[168]\tvalidation_0-logloss:0.01485\tvalidation_1-logloss:0.22562\n",
      "[169]\tvalidation_0-logloss:0.01482\tvalidation_1-logloss:0.22520\n",
      "[170]\tvalidation_0-logloss:0.01479\tvalidation_1-logloss:0.22570\n",
      "[171]\tvalidation_0-logloss:0.01476\tvalidation_1-logloss:0.22587\n",
      "[172]\tvalidation_0-logloss:0.01472\tvalidation_1-logloss:0.22466\n",
      "[173]\tvalidation_0-logloss:0.01469\tvalidation_1-logloss:0.22592\n",
      "[174]\tvalidation_0-logloss:0.01466\tvalidation_1-logloss:0.22599\n",
      "[175]\tvalidation_0-logloss:0.01463\tvalidation_1-logloss:0.22556\n",
      "[176]\tvalidation_0-logloss:0.01460\tvalidation_1-logloss:0.22535\n",
      "[177]\tvalidation_0-logloss:0.01457\tvalidation_1-logloss:0.22655\n",
      "[178]\tvalidation_0-logloss:0.01454\tvalidation_1-logloss:0.22674\n",
      "[179]\tvalidation_0-logloss:0.01451\tvalidation_1-logloss:0.22565\n",
      "[180]\tvalidation_0-logloss:0.01448\tvalidation_1-logloss:0.22565\n",
      "[181]\tvalidation_0-logloss:0.01445\tvalidation_1-logloss:0.22526\n",
      "[182]\tvalidation_0-logloss:0.01442\tvalidation_1-logloss:0.22545\n",
      "[183]\tvalidation_0-logloss:0.01439\tvalidation_1-logloss:0.22504\n",
      "[184]\tvalidation_0-logloss:0.01436\tvalidation_1-logloss:0.22554\n",
      "[185]\tvalidation_0-logloss:0.01433\tvalidation_1-logloss:0.22533\n",
      "[186]\tvalidation_0-logloss:0.01431\tvalidation_1-logloss:0.22427\n",
      "[187]\tvalidation_0-logloss:0.01428\tvalidation_1-logloss:0.22545\n",
      "[188]\tvalidation_0-logloss:0.01425\tvalidation_1-logloss:0.22563\n",
      "[189]\tvalidation_0-logloss:0.01422\tvalidation_1-logloss:0.22525\n",
      "[190]\tvalidation_0-logloss:0.01419\tvalidation_1-logloss:0.22504\n",
      "[191]\tvalidation_0-logloss:0.01417\tvalidation_1-logloss:0.22523\n",
      "[192]\tvalidation_0-logloss:0.01414\tvalidation_1-logloss:0.22529\n",
      "[193]\tvalidation_0-logloss:0.01411\tvalidation_1-logloss:0.22492\n",
      "[194]\tvalidation_0-logloss:0.01409\tvalidation_1-logloss:0.22472\n",
      "[195]\tvalidation_0-logloss:0.01406\tvalidation_1-logloss:0.22589\n",
      "[196]\tvalidation_0-logloss:0.01403\tvalidation_1-logloss:0.22595\n",
      "[197]\tvalidation_0-logloss:0.01401\tvalidation_1-logloss:0.22646\n",
      "[198]\tvalidation_0-logloss:0.01399\tvalidation_1-logloss:0.22665\n",
      "[199]\tvalidation_0-logloss:0.01396\tvalidation_1-logloss:0.22628\n",
      "[200]\tvalidation_0-logloss:0.01393\tvalidation_1-logloss:0.22609\n",
      "[201]\tvalidation_0-logloss:0.01391\tvalidation_1-logloss:0.22572\n",
      "[202]\tvalidation_0-logloss:0.01389\tvalidation_1-logloss:0.22536\n",
      "[203]\tvalidation_0-logloss:0.01386\tvalidation_1-logloss:0.22586\n",
      "[204]\tvalidation_0-logloss:0.01384\tvalidation_1-logloss:0.22568\n",
      "[205]\tvalidation_0-logloss:0.01382\tvalidation_1-logloss:0.22678\n",
      "[206]\tvalidation_0-logloss:0.01379\tvalidation_1-logloss:0.22642\n",
      "[207]\tvalidation_0-logloss:0.01377\tvalidation_1-logloss:0.22690\n",
      "[208]\tvalidation_0-logloss:0.01375\tvalidation_1-logloss:0.22710\n",
      "[209]\tvalidation_0-logloss:0.01373\tvalidation_1-logloss:0.22676\n",
      "[210]\tvalidation_0-logloss:0.01370\tvalidation_1-logloss:0.22643\n",
      "[211]\tvalidation_0-logloss:0.01368\tvalidation_1-logloss:0.22624\n",
      "[212]\tvalidation_0-logloss:0.01366\tvalidation_1-logloss:0.22727\n",
      "[213]\tvalidation_0-logloss:0.01364\tvalidation_1-logloss:0.22693\n",
      "[214]\tvalidation_0-logloss:0.01362\tvalidation_1-logloss:0.22675\n",
      "[215]\tvalidation_0-logloss:0.01360\tvalidation_1-logloss:0.22644\n",
      "[216]\tvalidation_0-logloss:0.01357\tvalidation_1-logloss:0.22665\n",
      "[217]\tvalidation_0-logloss:0.01355\tvalidation_1-logloss:0.22685\n",
      "[218]\tvalidation_0-logloss:0.01353\tvalidation_1-logloss:0.22653\n",
      "[219]\tvalidation_0-logloss:0.01352\tvalidation_1-logloss:0.22622\n",
      "[220]\tvalidation_0-logloss:0.01350\tvalidation_1-logloss:0.22641\n",
      "[221]\tvalidation_0-logloss:0.01348\tvalidation_1-logloss:0.22613\n",
      "[222]\tvalidation_0-logloss:0.01346\tvalidation_1-logloss:0.22594\n",
      "[223]\tvalidation_0-logloss:0.01344\tvalidation_1-logloss:0.22641\n",
      "[224]\tvalidation_0-logloss:0.01342\tvalidation_1-logloss:0.22624\n",
      "[225]\tvalidation_0-logloss:0.01340\tvalidation_1-logloss:0.22668\n",
      "[226]\tvalidation_0-logloss:0.01338\tvalidation_1-logloss:0.22766\n",
      "[227]\tvalidation_0-logloss:0.01336\tvalidation_1-logloss:0.22736\n",
      "[228]\tvalidation_0-logloss:0.01334\tvalidation_1-logloss:0.22706\n",
      "[229]\tvalidation_0-logloss:0.01333\tvalidation_1-logloss:0.22727\n",
      "[230]\tvalidation_0-logloss:0.01331\tvalidation_1-logloss:0.22709\n",
      "[231]\tvalidation_0-logloss:0.01329\tvalidation_1-logloss:0.22694\n",
      "[232]\tvalidation_0-logloss:0.01327\tvalidation_1-logloss:0.22706\n",
      "[233]\tvalidation_0-logloss:0.01325\tvalidation_1-logloss:0.22676\n",
      "[234]\tvalidation_0-logloss:0.01324\tvalidation_1-logloss:0.22773\n",
      "[235]\tvalidation_0-logloss:0.01322\tvalidation_1-logloss:0.22743\n",
      "[236]\tvalidation_0-logloss:0.01320\tvalidation_1-logloss:0.22713\n",
      "오차 행렬\n",
      "[[35  2]\n",
      " [ 2 75]]\n",
      "정확도: 0.9649, 정밀도: 0.9740, 재현율: 0.9740,    F1: 0.9740, AUC:0.9944\n"
     ]
    }
   ],
   "source": [
    "xgb_wrapper = XGBClassifier(n_estimators=400,\n",
    "                            learning_rate=round(best['learning_rate'], 5),\n",
    "                            max_depth=int(best['max_depth']),\n",
    "                            min_child_weight=int(best['min_child_weight']),\n",
    "                            colsample_bytree=round(best['colsample_bytree'], 5)\n",
    "                           )\n",
    "\n",
    "evals = [(X_tr, y_tr), (X_val, y_val)]\n",
    "xgb_wrapper.fit(X_tr, y_tr, early_stopping_rounds=50, eval_metric='logloss',\n",
    "                eval_set=evals, verbose=True)\n",
    "\n",
    "preds = xgb_wrapper.predict(X_test)\n",
    "pred_proba = xgb_wrapper.predict_proba(X_test)[:, 1]\n",
    "\n",
    "get_clf_eval(y_test, preds, pred_proba)\n"
   ]
  },
  {
   "cell_type": "markdown",
   "metadata": {},
   "source": [
    "과제1_0524.\n",
    "산탄데르 고객 만족 예측 모델을 생성하고 평가를 아래를 참조하여 수행하세요(XGBoost 모델 학습과 하이퍼 파라미터 튜닝)\n",
    "- 데이터 읽어오기 : cust_df = pd.read_csv(\"./dataset/santander/train_santander.csv\", encoding='latin-1')\n",
    "- 데이터 전처리 : var3 피처 값 최빈값 2로 대체 및 ID 피처 드롭\n",
    "- 데이터 분리 : 학습, 검증, 평가용\n",
    "- 검색공간 설정 \n",
    "    - max_depth는 5에서 15까지 1간격으로, \n",
    "    - min_child_weight는 1에서 6까지 1간격으로 \n",
    "    - colsample_bytree는 0.5에서 0.95사이, \n",
    "    - learning_rate는 0.01에서 0.2사이 정규 분포된 값으로 설정\n",
    "- 목적함수 설정\n",
    "- 최적 하이퍼파라미터 산출\n",
    "- 최적 하이퍼파라미터 기반 학습 및 예측\n",
    "- 평가(ROC AUC)\n",
    "- 변수 중요도 시각화"
   ]
  }
 ],
 "metadata": {
  "kernelspec": {
   "display_name": "Python 3",
   "language": "python",
   "name": "python3"
  },
  "language_info": {
   "codemirror_mode": {
    "name": "ipython",
    "version": 3
   },
   "file_extension": ".py",
   "mimetype": "text/x-python",
   "name": "python",
   "nbconvert_exporter": "python",
   "pygments_lexer": "ipython3",
   "version": "3.8.3"
  }
 },
 "nbformat": 4,
 "nbformat_minor": 5
}
